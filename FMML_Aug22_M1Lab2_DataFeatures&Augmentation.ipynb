{
  "nbformat": 4,
  "nbformat_minor": 0,
  "metadata": {
    "colab": {
      "provenance": [],
      "collapsed_sections": [],
      "include_colab_link": true
    },
    "kernelspec": {
      "name": "python3",
      "display_name": "Python 3"
    },
    "language_info": {
      "name": "python"
    }
  },
  "cells": [
    {
      "cell_type": "markdown",
      "metadata": {
        "id": "view-in-github",
        "colab_type": "text"
      },
      "source": [
        "<a href=\"https://colab.research.google.com/github/SATYAKALAPERABOTTULA/FMML_COURSE_ASSIGNMENT-2/blob/main/FMML_Aug22_M1Lab2_DataFeatures%26Augmentation.ipynb\" target=\"_parent\"><img src=\"https://colab.research.google.com/assets/colab-badge.svg\" alt=\"Open In Colab\"/></a>"
      ]
    },
    {
      "cell_type": "markdown",
      "source": [
        "## FMML Module 1, Lab 2<br>\n",
        "Module Coordinator : amit.pandey@research.iiit.ac.in <br>"
      ],
      "metadata": {
        "id": "JN97BfHPX7yo"
      }
    },
    {
      "cell_type": "markdown",
      "source": [
        "### The aim of this lab is to introduce DATA and FEATURES.\n",
        "We will study: Feature extraction and Data Augmentation.\n",
        "Let's get started.\n",
        "\n"
      ],
      "metadata": {
        "id": "Q0DQhRGLo3Tr"
      }
    },
    {
      "cell_type": "markdown",
      "source": [
        "Make a copy before running the cells"
      ],
      "metadata": {
        "id": "o4AtXdwvNRGS"
      }
    },
    {
      "cell_type": "markdown",
      "source": [
        "### Data can be anything like text, image , sound signals, and even a mix of multiple types (multimodal). We need to learn how to handle raw data, and how to use them for our analysis."
      ],
      "metadata": {
        "id": "gkEBupTXa1xo"
      }
    },
    {
      "cell_type": "markdown",
      "metadata": {
        "id": "A6I1yI79fbLD"
      },
      "source": [
        "# Extracting features from data\n",
        "\n",
        "\n",
        " \n",
        "\n"
      ]
    },
    {
      "cell_type": "code",
      "metadata": {
        "id": "OimBnfcpvcNS",
        "colab": {
          "base_uri": "https://localhost:8080/"
        },
        "outputId": "38e0a422-617a-45f2-89ba-0920e5dd4bc4"
      },
      "source": [
        "## Standard Imports.\n",
        "\n",
        "! pip install wikipedia\n",
        "\n",
        "import wikipedia\n",
        "import nltk\n",
        "from nltk.util import ngrams \n",
        "from collections import Counter\n",
        "import matplotlib.pyplot as plt\n",
        "import numpy as np\n",
        "import re\n",
        "import unicodedata\n",
        "import plotly.express as px\n",
        "import pandas as pd\n"
      ],
      "execution_count": 24,
      "outputs": [
        {
          "output_type": "stream",
          "name": "stdout",
          "text": [
            "Looking in indexes: https://pypi.org/simple, https://us-python.pkg.dev/colab-wheels/public/simple/\n",
            "Requirement already satisfied: wikipedia in /usr/local/lib/python3.7/dist-packages (1.4.0)\n",
            "Requirement already satisfied: beautifulsoup4 in /usr/local/lib/python3.7/dist-packages (from wikipedia) (4.6.3)\n",
            "Requirement already satisfied: requests<3.0.0,>=2.0.0 in /usr/local/lib/python3.7/dist-packages (from wikipedia) (2.23.0)\n",
            "Requirement already satisfied: idna<3,>=2.5 in /usr/local/lib/python3.7/dist-packages (from requests<3.0.0,>=2.0.0->wikipedia) (2.10)\n",
            "Requirement already satisfied: urllib3!=1.25.0,!=1.25.1,<1.26,>=1.21.1 in /usr/local/lib/python3.7/dist-packages (from requests<3.0.0,>=2.0.0->wikipedia) (1.24.3)\n",
            "Requirement already satisfied: chardet<4,>=3.0.2 in /usr/local/lib/python3.7/dist-packages (from requests<3.0.0,>=2.0.0->wikipedia) (3.0.4)\n",
            "Requirement already satisfied: certifi>=2017.4.17 in /usr/local/lib/python3.7/dist-packages (from requests<3.0.0,>=2.0.0->wikipedia) (2022.6.15)\n"
          ]
        }
      ]
    },
    {
      "cell_type": "markdown",
      "source": [
        "## What are features? \n",
        "### Features are individual independent variables that act like an input to your system. \n",
        "A very basic example is: In z = x + y, x and y are the features.\n",
        "We can have simple features like above or even more complex features learned by our machine learning models (we will study these later on)."
      ],
      "metadata": {
        "id": "_f74mfnO8Rd_"
      }
    },
    {
      "cell_type": "code",
      "source": [
        "import matplotlib.pyplot as plt\n",
        "from matplotlib import cm\n",
        "import numpy as np\n",
        "\n",
        "from mpl_toolkits.mplot3d.axes3d import get_test_data\n",
        "\n",
        " \n",
        "# set up a figure twice as wide as it is tall\n",
        "fig = plt.figure(figsize=plt.figaspect(1))\n",
        "\n",
        "# =============\n",
        "# First subplot\n",
        "# =============\n",
        "# set up the axes for the first plot\n",
        "ax = fig.add_subplot(1, 1, 1, projection='3d')\n",
        "\n",
        "# plot a 3D surface like in the example mplot3d/surface3d_demo\n",
        "X = np.arange(-5, 5, 0.25) # feature 1\n",
        "Y = np.arange(-5, 5, 0.25) # feature 2\n",
        "X, Y = np.meshgrid(X, Y)\n",
        "R = np.sqrt(X**2 + Y**2)\n",
        "Z = np.sin(R) #output\n",
        "surf = ax.plot_surface(X, Y, Z, rstride=1, cstride=1, cmap=cm.coolwarm,\n",
        "                       linewidth=0.4, antialiased=False)\n",
        "ax.set_zlim(-1.01, 1.01)\n",
        "fig.colorbar(surf, shrink=0.5, aspect=10)"
      ],
      "metadata": {
        "colab": {
          "base_uri": "https://localhost:8080/",
          "height": 265
        },
        "id": "n9KMUJBd8QKx",
        "outputId": "5c36c605-7eaf-45b0-e28d-87becf2f4adf"
      },
      "execution_count": 25,
      "outputs": [
        {
          "output_type": "execute_result",
          "data": {
            "text/plain": [
              "<matplotlib.colorbar.Colorbar at 0x7f88ac17c590>"
            ]
          },
          "metadata": {},
          "execution_count": 25
        },
        {
          "output_type": "display_data",
          "data": {
            "text/plain": [
              "<Figure size 288x288 with 2 Axes>"
            ],
            "image/png": "[encoded data removed]"
          },
          "metadata": {
            "needs_background": "light"
          }
        }
      ]
    },
    {
      "cell_type": "markdown",
      "metadata": {
        "id": "m6hGhIGiy4GP"
      },
      "source": [
        "# Part 2: Features of text\n",
        "How do we apply machine learning on text? We can't directly use the text as input to our algorithms. We need to convert them to features.They are converted into vectors (embeddings) or one hot encoded.  Let us explore a simple way of converting text to features. \n",
        "\n",
        "Let us download a few documents off Wikipedia."
      ]
    },
    {
      "cell_type": "code",
      "metadata": {
        "id": "lpUmCoEr2R3J"
      },
      "source": [
        "## set language and then download the data.\n",
        "\n",
        "topic1 = 'Giraffe'\n",
        "topic2 = 'Elephant'\n",
        "wikipedia.set_lang('en') \n",
        "eng1 = wikipedia.page(topic1).content\n",
        "eng2 = wikipedia.page(topic2).content\n",
        "wikipedia.set_lang('fr')\n",
        "fr1 = wikipedia.page(topic1).content\n",
        "fr2 = wikipedia.page(topic2).content\n",
        "\n"
      ],
      "execution_count": 26,
      "outputs": []
    },
    {
      "cell_type": "markdown",
      "metadata": {
        "id": "Cj7RlhMiO5kd"
      },
      "source": [
        "This is what the text looks like:"
      ]
    },
    {
      "cell_type": "code",
      "metadata": {
        "id": "GW0G-t912UXZ",
        "colab": {
          "base_uri": "https://localhost:8080/",
          "height": 140
        },
        "outputId": "06e43cdf-1cdd-413d-a865-283cd9932c3a"
      },
      "source": [
        "fr2 ## the french textual data describing the second topic."
      ],
      "execution_count": 27,
      "outputs": [
        {
          "output_type": "execute_result",
          "data": {
            "text/plain": [
              "'Les éléphants sont des mammifères proboscidiens de la famille des Éléphantidés. Ils correspondent aujourd\\'hui à trois espèces réparties en deux genres distincts. L\\'éléphant de savane d\\'Afrique et l\\'éléphant de forêt d\\'Afrique, autrefois regroupés sous la même espèce d\\'« éléphant d\\'Afrique », appartiennent au genre Loxodonta, tandis que l\\'éléphant d\\'Asie, anciennement appelé « éléphant indien », appartient au genre Elephas. Ils se différencient par certaines caractéristiques anatomiques, les éléphants d\\'Asie étant en général plus petits avec des oreilles plus petites, ou encore une différence du bout de la trompe. Ces espèces survivantes font localement l\\'objet de programmes ou de projets de réintroduction et de protection.\\nLe mot français « éléphant » vient du mot latin elephantus qui tire son origine du grec ἐλέφας signifiant « ivoire » ou « éléphant ».\\nL\\'éléphant apparait dans de nombreuses cultures. Il est symbole de sagesse dans la culture asiatique, connu pour sa mémoire et son intelligence, qui est comparée à celle des cétacés et hominidés. Aristote avait dit que l\\'éléphant est « la bête qui dépasse toutes les autres par l\\'intelligence et l\\'esprit ».\\n\\n\\n== Description ==\\n\\nL\\'éléphant d\\'Afrique, qui peut atteindre 7 tonnes, est le plus gros animal terrestre actuel, mais il est loin derrière la Baleine bleue (Balaenoptera musculus) qui peut peser jusqu\\'à 200 tonnes et dépasser 30 mètres de long.\\n\\n\\n=== Squelette et muscles ===\\n\\nLe squelette de l\\'éléphant présente des caractéristiques dictées par la masse qu\\'il doit soutenir : il représente environ 16,5 % de la masse totale de l\\'animal, cela signifie que pour un éléphant de 7 tonnes, le squelette pèse 1,155 tonne. Les os de l\\'éléphant sont spongieux. Sa cage thoracique, formée de vingt côtes, est arrimée le long de l\\'épine dorsale.\\nL\\'éléphant possède deux genoux à ses membres postérieurs, qui sont constitués d\\'un fémur, d\\'une rotule et de l\\'association tibia-fibula. Les membres antérieurs, quant à eux, comprennent une scapula, un humérus, et l\\'association radius-ulna.\\nL\\'éléphant marche sur le bout des doigts,. Les orteils sont insérés dans le pied, il y en a entre 2 et 5, on en voit seulement les ongles. Cependant on peut voir entre trois et cinq ongles en fonction des pieds. Les pieds antérieurs ont une forme arrondie, alors que les pieds postérieurs ont une forme ovale. Les pieds sont composés de tissus adipeux qui agissent comme des amortisseurs.\\nContrairement à la plupart des mammifères, il est impossible pour un éléphant de sauter, pour des raisons d\\'ordre biomécanique : il lui faut toujours un pied sur le sol. Cependant il peut courir à une vitesse maximale de 20 km/h (un éléphant ayant été chronométré à 24 km/h dans le cadre d\\'une étude scientifique).\\nMême si on emploie le terme « courir » pour un éléphant, il est à noter que le terme est inapproprié. Il serait plus logique de dire qu’il « marche vite ». En effet, il ne change pas son allure (sa façon de se déplacer) lorsqu’il accélère.\\nUn éléphant d\\'Afrique mâle adulte mesure 3,50 mètres au garrot et pèse 5 à 6 tonnes, une femelle adulte mesure 3 mètres de haut au garrot pour une masse de 4 tonnes environ. À la naissance, l\\'éléphant pèse environ 120 kg. Un éléphant vit en moyenne 60 ans. Le plus grand éléphant connu a été signalé en Angola en 1974 : il s’agissait d’un mâle de 12 tonnes mesurant 4,20 m au garrot, soit un mètre de plus que la moyenne des éléphants africains.\\nDes éléphants nains, de la taille d\\'un grand cochon, ont également peuplé les îles méditerranéennes au cours de la Préhistoire, ; certains sont signalés en Crète jusqu\\'en 5000 av. J.-C., voire jusqu’en 3000 av. J.-C.,.\\n\\n\\n=== Trompe ===\\nLa principale caractéristique des éléphants est leur trompe appelée proboscis. Il s\\'agit d\\'un organe nasal (avec une fonction de respiration et de perception des odeurs) allongé qui découle de la fusion de la lèvre supérieure et du nez. La trompe est un organe souple et préhensile leur servant à porter l\\'eau et la nourriture à leur bouche, à tirer ou transporter des objets et à pousser des cris.\\nLa trompe comporte entre 100 000 et 150 000 muscles ; elle est dépourvue d\\'os et pèse plus de 100 kg.\\n« La trompe se compose de deux longs tuyaux cylindriques, partant de l’ouverture antérieure des fosses nasales. Ces tubes se rétrécissent à la région de l’inter mâchoire, ce qui empêche l’eau pompée par la trompe de pénétrer dans la cavité nasale ; ils offrent ensuite une dilatation, puis se resserrent de nouveau à l’endroit où ils s’ouvrent dans les narines osseuses, et où ils sont couverts par un cartilage nasal ovale. (…) Les tubes sont entourés d’une multitude de faisceaux musculaires, les uns longitudinaux, les autres rayonnant vers la peau et servant à comprimer les premiers. Quelques-uns enfin, mais en moins grand nombre sont circulaires. Cependant il faut distinguer de ces muscles, propres à la trompe, ceux qui servent à mouvoir l’organe en entier. Ces derniers sont comparables aux muscles de la queue. On les distingue en élévateurs et abaisseurs supérieurs et latéraux, qui naissent du front, des os propres du nez et des cartilages, tant de l’os maxillaire supérieur que de l’intermaxillaire ».\\nLe bout de la trompe d\\'un éléphant d\\'Afrique est en forme d\\'amande, alors que celle d\\'un éléphant d\\'Asie est en forme de poire. L\\'excroissance à son extrémité a une fonction analogue à un doigt, leur permettant de décortiquer une cacahuète. Les éléphants ne boivent pas directement par leur trompe. L\\'effort nécessaire pour se pencher jusqu\\'au sol afin de boire l\\'eau par la bouche étant trop important et l\\'opération étant même impossible lorsque l\\'eau se trouve au-dessous du niveau du sol, ils boivent en remplissant leur trompe avec de l\\'eau qu\\'ils aspirent et gardent momentanément avant de la verser ensuite, par gravité, dans leur bouche.\\nL\\'allongement du museau des proboscidiens anciens à l\\'origine de l\\'éléphant serait lié à la croissance continue des incisives (les défenses) et leur augmentation de taille : herbivores concurrencés par les ruminants et les équidés, leur adaptation trophique se traduit alors par un régime de plantes plus fibreuses peu nutritives et une augmentation de taille corrélative, les proboscidiens fourrageant pendant des heures à la recherche aussi bien de végétaux au sol que de feuilles d\\'arbres.\\n\\n\\t\\t\\n\\t\\t\\n\\n\\n=== Denture et défenses ===\\n\\nLe plus souvent les éléphants ont des défenses, des dents très allongées utilisées par ces animaux comme outil, arme de défense et attribut sexuel. Les défenses sont des dents supérieures à croissance continue. L\\'éléphanteau possède des prémolaires de lait qui tombent lorsque les molaires apparaissent, l\\'adulte n\\'en possède pas. Chez les éléphants adultes il n\\'y a que 6 dents, 2 incisives, ce sont les défenses, et 4 molaires. La formule dentaire est i1/0 c0/0 m1/1.\\n\\n\\n==== Dents ====\\nLes dents sont essentiellement composées d’ivoire et d’émail qui forment la couronne des dents par de nombreuses crêtes transversales, qui sont plus ou moins lamellées. Les crêtes sont disjointes puis, au fur et à mesure, un cément se forme et s’intercale entre les dents pour former un tout. Un petit nombre de dents molaires sont présentes à chaque mâchoire, « parfois une paire (…), (…) une paire à l’une des mâchoires et deux à l’autre, (…) encore deux paires à chacune », de plus les dents correspondantes entre elles « n’ont ni la même apparence, ni le même nombre de lamelles ».\\n\\nSelon les études de Corse et de Blainville, « les éléphants (…) ont six paires de dents à chacune des mâchoires. Ces dents augmentent de volume depuis la première jusqu’à la dernière ou sixième, et le nombre de leurs lamelles (…) est aussi de plus en plus considérable. ». « La succession des dents molaires s’opère ainsi par flots d’une manière lente mais réglée, et l’on admet trois flots différents. Les dents se présentent deux par deux de chaque côté de l’une et de l’autre mâchoire. Le degré plus ou moins avancé de l’usure de chacune d’elles détermine les différences que l’on remarque dans le nombre total de lamelles (…) pour chaque flot ».\\nLes éléphants ont généralement 26 dents : les 2 incisives appelées défenses, 12 prémolaires déciduales et 12 molaires. Contrairement à la plupart des mammifères, qui font pousser des dents de lait, puis les remplacent par un seul ensemble permanent de dents adultes, les éléphants sont des polyphyodontes : ils ont des cycles de rotation dentaire tout au long de leur vie. Les molaires sont remplacées six fois au cours de la vie d\\'un éléphant typique. Les dents ne sont pas remplacées par de nouvelles dents émergeant des mâchoires verticalement comme chez la plupart des mammifères. Au lieu de cela, de nouvelles dents poussent à l\\'arrière de la bouche et avancent pour repousser les anciennes. La première molaire de chaque côté de la mâchoire tombe lorsque l\\'éléphant a 2 ou 3 ans. La deuxième série de molaires tombe à l\\'âge de 4 à 6 ans. La troisième série tombe entre 9 et 15 ans et la quatrième série dure jusqu\\'à 18-28 ans. La cinquième série de dents tombe vers la quarantaine. La sixième poussée — et généralement la dernière — doit durer à l\\'éléphant le reste de sa vie. Les dents d\\'éléphant ont des crêtes dentaires en forme de boucle, qui sont plus épaisses et plus en forme de losange chez les éléphants d\\'Afrique.\\n\\n\\n==== Défenses ====\\n\\nLes défenses d\\'un éléphant sont les deuxièmes incisives modifiées de la mâchoire supérieure. Elles remplacent les dents de lait à l\\'âge de 6 à 12 mois et poussent continuellement d\\'environ 17 cm par an. Une défense nouvellement développée a un capuchon en émail lisse qui finit par s\\'estomper. La dentine est connue sous le nom d\\'ivoire ; sa section transversale se compose de motifs de lignes entrecroisées qui créent des zones en forme de losange. Une grande partie des défenses est visible de l\\'extérieur ; le reste est enserré dans un logement du crâne. Au moins un tiers de la défense contient la pulpe et certains nerfs s\\'étendent jusqu\\'à la pointe. Il serait donc difficile de l\\'enlever sans nuire à l\\'animal. Une fois retiré, l\\'ivoire commence à se dessécher et à se fissurer s\\'il n\\'est pas conservé au frais et à l\\'humidité.\\nL\\'éléphant se sert de ses défenses à plusieurs fins. Il les utilise pour creuser dans l\\'eau, le sel ou parmi les racines; écorcer ou marquer les arbres ; déplacer des arbres et des branches pour dégager un chemin. Lors des combats, elles servent pour attaquer, se défendre, protéger le corps.\\n\\nComme les humains, qui sont généralement droitiers ou gauchers, les éléphants ont généralement une différenciation des défenses droite et gauche. La défense dominante, appelée défense principale, est généralement plus usée et plus courte, avec une pointe plus arrondie. Pour les éléphants d\\'Afrique, les défenses sont présentes chez les mâles et les femelles, et ont à peu près la même longueur pour les deux sexes, atteignant jusqu\\'à 3 m, mais celles des mâles ont tendance à être plus épaisses. Autrefois, les défenses d\\'éléphant pesant 100 kg et plus n\\'étaient pas rares, mais on n\\'en voit plus guère aujourd\\'hui dépassant 50 kg.\\nChez les espèces asiatiques, seuls les mâles ont de grandes défenses. Les femelles asiatiques ont de très petites défenses, voire aucune. Il existe des mâles dépourvus de défenses, particulièrement communs au Sri Lanka. Les mâles asiatiques peuvent avoir des défenses aussi longues que celles des africains, mais elles sont généralement plus minces et plus légères : les plus grandes enregistrées mesuraient 3,02 m de long et pesaient 39 kg. La chasse à l\\'ivoire d\\'éléphant en Afrique et en Asie a conduit à une sélection naturelle pour des défenses plus courtes, ou absentes,.\\n\\n\\n=== Peau ===\\nLa peau de l\\'éléphant est d\\'une épaisseur d\\'environ 2 cm. Cette peau est fragile du fait de la présence de plis où viennent se loger des parasites. Il n\\'y a pratiquement pas de poils, et il n\\'y a ni glande sudoripare, ni glande sébacée. De ce fait, leur peau est sèche, c\\'est pour cela qu\\'elle doit être souvent humectée à l\\'aide d\\'eau projetée par la trompe ou couverte de poussière ou de boue également projetée par leur trompe.\\nLa couleur de la peau est grisâtre ; cependant sa couleur apparente est liée au sol sur lequel évolue l\\'éléphant. Elle peut aussi être due aux bains de boues.\\nLa faible densité des poils (quelques centaines par mètre carré, chaque poil mesurant en moyenne 2 centimètres de longueur et 0,5 mm de diamètre) agit non plus comme une fourrure mais participe — à hauteur de 23 % — avec d\\'autres mécanismes de thermorégulation (battement des oreilles, bains, pulvérisation d\\'eau avec leurs trompes, respiration percutanée) à la thermolyse du mammifère, les poils agissant comme des ailettes qui augmentent la surface d\\'échange et donc les transferts thermiques.\\n\\n\\t\\t\\n\\t\\t\\n\\n\\n=== Oreille ===\\nLes oreilles de l\\'éléphant lui permettent de réguler sa température corporelle, grâce à une vascularisation très importante. Lorsqu\\'il mange des fruits fermentés ayant un degré d\\'alcool d\\'environ 7°, l\\'éléphant remue violemment ses oreilles, de même pour sa queue et sa trompe. Elles sont généralement plus petites chez l\\'éléphant d\\'Asie.\\n\\n\\n=== Cerveau ===\\nLe cerveau de l\\'éléphant, situé à l\\'arrière de son crâne, pèse entre 4 et 6 kg, ce qui est déjà considérable. Si l\\'on compare la taille du cerveau de l\\'éléphant à sa masse corporelle, il est alors le mammifère ayant le plus petit cerveau, alors que la souris possède le plus grand.\\n\\n\\n== Biologie et comportement ==\\n\\n\\n=== Reproduction ===\\n\\n\\n==== Maturité sexuelle ====\\nSi les fonctions reproductrices des éléphants mâles se mettent en place vers l\\'âge de 10-15 ans, ils commencent à se reproduire vers l\\'âge de 30 ans quand ils sont suffisamment imposants pour pouvoir se battre avec d\\'autres mâles pour conquérir les femelles.\\nLes fonctions reproductrices de l\\'éléphant femelle apparaissent de 9 ans jusqu\\'à 15 ans.\\nDans l\\'organisation matriarcale des éléphants, les mâles sont connus pour leur tempérament indépendant et ont tendance à vivre en solitaire, forgeant parfois une alliance provisoire avec un autre individu ou intégrant une bande de manière informelle. Tandis que les femelles entretiennent des liens familiaux étroits et solides.\\n\\n\\n==== Comportement sexuel ====\\n\\nLes mâles en rut, dont le taux sanguin de testostérone peut s\\'accroître cinquante fois, agitent les oreilles et secouent la tête, leur pénis devient vert. Il en dégouline une urine fortement odorante. Cela est dû à la libération d\\'un musc d’une phéromone, la frontaline, sécrétée sous deux formes chirales. Ces deux énantiomères (deux formes : (+)-frontaline et (-)-frontaline) ne sont pas sécrétés en mêmes proportions. Chez les jeunes mâles, la forme (+) domine. Au fur et à mesure de la maturité et de la période de rut, les deux isomères forment un racémique, qui attire les femelles en phase folliculaire et en œstrus. La frontaline est libérée par la glande temporale chez l’éléphant en période de rut, la sécrétion débute peu de temps avant la puberté, à l’âge de 15 ans. Cependant le rut ne se produit qu\\'à partir de 25 ans et ne durera que quelques jours. Puis vers 31-35 ans, celui-ci dure plusieurs semaines. Vers 36-40 ans, il dure de 1 à 2 mois. Pour finir, après 40 ans, le rut s’étend sur une période de 2 à 4 mois. La quantité de phéromones émises augmente avec l’âge de l’éléphant ainsi qu’en milieu de rut. La concentration et la proportion d’énantiomères de la frontaline constituent pour les animaux qui seront attentifs au message une source d’information sur l’âge et le stade du musth de l\\'éléphant qui émet. Une concentration de frontaline, en racémique, sera le synonyme d\\'un mâle mature ayant un statut social important.\\n\\n\\n==== Accouplement ====\\n\\nUne fois que la femelle et le mâle sont ensemble, l\\'accouplement peut commencer. L\\'éléphant mâle étant très lourd, la copulation est très rapide. En général, elle dure entre 20 et 30 secondes. La période de copulations dure environ trois jours.\\nLa jeune femelle est effrayée lors de sa première période de chaleur, le mâle peut la poursuivre. Pour avertir la femelle qu\\'il va la saillir, le mâle pose sa trompe sur son dos ; la femelle s\\'immobilise alors.\\nLes mâles passent dans les troupeaux de femelles lors de leur rut pour sentir les vulves des femelles.\\n\\n\\n==== Gestation et mise bas ====\\n\\nLa gestation d\\'une éléphante est la plus longue de tous les mammifères terrestres. Elle dure de 20 à 22 mois. La durée d\\'allaitement est comprise entre 36 et 48 mois. Les mises bas s\\'espacent d\\'environ 2 ans et demi à 5 ans. La gestation est plus longue pour un éléphanteau mâle que pour un éléphanteau femelle.\\nUne éléphante peut être en gestation jusqu\\'à l\\'âge de cinquante ans. Dans la plupart des cas, un seul éléphant est porté ; les cas de gémellité sont très rares.\\n\\n\\n=== Vie sociale ===\\n\\nLes éléphants vivent dans une société matriarcale. Cette structure matriarcale existe depuis plus de sept millions d\\'années, des empreintes d\\'une harde d\\'éléphants de cette époque ayant été découvertes sur une surface de 5 hectares sur le site de Mleisa 1 dans les Émirats arabes unis, faisant de cette piste de mammifères fossile la plus vieille de ce type et probablement la plus longue piste préservée dans le monde. Les troupeaux sont composés d\\'une dizaine d\\'éléphantes et de jeunes éléphanteaux, après la maturité sexuelle les mâles quittent le groupe. Ils errent jusqu\\'à ce qu\\'ils fassent alliance avec d\\'autres jeunes mâles.\\nUne étude, menée dans un zoo, montre que l\\'éléphant aime les fruits fermentés à un degré d\\'alcool de 7°. Lorsque l\\'éléphant est saoul, il perd de sa sociabilité (alors que sobre il est très sociable). Lorsqu\\'il est ivre, il reste à l\\'écart du troupeau. Un chercheur américain défendait l\\'idée que les animaux s\\'enivrent ou se droguent, volontairement, pour oublier les tourments de leur existence. Pour le prouver, il a fait vivre durant un mois des éléphants d\\'une réserve californienne sur un territoire plus restreint qu\\'à leur accoutumée. La surpopulation due au petit espace a angoissé les animaux qui, du coup, ont bu trois fois plus que d\\'habitude. Ils sont devenus si agressifs qu\\'il a été dangereux de les approcher.\\n\\n\\n=== Communication ===\\nLe cri de l\\'éléphant est le barrissement. De récentes études scientifiques ont montré que les éléphants, comme de nombreux animaux, sont sensibles aux infrasons. L\\'utilité de l\\'audition de ces infrasons reste cependant mystérieuse. Il semble qu\\'ils soient capables de communiquer entre eux par les ondes acoustiques de surface transmises par le sol.\\n\\n\\n=== Sommeil ===\\nLes éléphants peuvent dormir debout ou couchés. Le fait de se coucher indique qu\\'ils sont parfaitement détendus.\\n\\n\\n=== Alimentation ===\\n\\nL\\'éléphant est herbivore, il mange une grande variété d\\'éléments végétaux : herbes, plantes, feuilles, fruits, racines et tubercules, écorces et même du bois. Il apprécie par exemple le bois tendre et gorgé de sève du baobab.\\nLes besoins alimentaires de l\\'éléphant sont importants, surtout qualitativement. En fonction de son environnement, il consacre une grande partie de son temps à la recherche de nourriture (16 à 20 heures par jour), se déplaçant sur de longues distances et sélectionnant les aliments les plus riches. Il peut se dresser sur ses pattes arrière pour attraper avec sa trompe les rameaux les plus tendres jusqu\\'à cinq ou six mètres de hauteur.\\nQuotidiennement, il faut à l\\'éléphant entre 150 et 180 kilogrammes de nourriture en saison sèche, et entre 200 et 260 kilogrammes en saison des pluies. Ces quantités varient aussi en fonction des espèces et des milieux fréquentés.\\nUn éléphant adulte boit jusqu\\'à 140 L d\\'eau par jour. Il aspire dans sa trompe jusqu\\'à dix litres à la fois, puis se les verse dans la bouche. Il peut rester trois ou quatre jours sans boire. Il peut se servir de sa trompe pour reprendre de l\\'eau dans son estomac et s\\'en servir pour se rafraîchir la peau. Sa peau très épaisse est l\\'objet de soins constants : outre les aspersions, les baignades et les roulades dans la boue, le poudrage à la poussière est bienvenu pour protéger l\\'épiderme des insectes et du soleil.\\nMalgré la quarantaine de mètres d\\'intestin qu\\'il possède, sa digestion est peu efficace. Elle dure environ 12 heures après les 16 à 20 heures où il a cherché à se nourrir, 40 à 60 % de la nourriture n\\'étant pas digérée. Si son alimentation n\\'est pas suffisamment riche, son tonus, son humeur et sa santé en général sont rapidement affectés.\\nLe comportement alimentaire a en général un impact important sur le milieu. Le bilan de ces conséquences varie en fonction des espèces (Afrique, Asie), de la saison, du biotope et de la densité de la population. Ainsi, l\\'éléphant peut être considéré comme destructeur d\\'arbres en particulier dans la savane, alors qu\\'il participe ailleurs très activement à la régénération en limite des zones forestières. Certaines espèces d\\'arbres sont dépendantes de l\\'éléphant pour leur extension : celui-ci, friand de leurs fruits, en dissémine les graines avec l\\'excellent terreau que constitue son crottin, capable de contenir jusqu\\'à 35 % de graines.\\n\\n\\n=== Intelligence ===\\n\\nEn l’état actuel des connaissances, l’éléphant est, avec l\\'humain, le dauphin, le corbeau et certaines espèces de grands singes, l\\'une des rares espèces animales à réussir le test du miroir de Gallup : lorsqu’on marque d’une tache le front d’un éléphant en un point qu’il ne peut voir directement et qu’on lui présente un miroir, il passe sa trompe sur la tache ; démontrant ainsi qu’il a reconnu son image et donc qu’il a conscience de lui-même,,.\\nLes éléphants peuvent utiliser des outils de défense, telles des pierres saisies avec leur trompe et qu\\'ils lancent sur leurs ennemis. Ils peuvent également se toiletter en se grattant avec des branches ou des baguettes des parties de corps qu\\'ils ne peuvent atteindre avec leur trompe. Ils présentent ainsi un exemple d’utilisation d\\'outil par un animal.\\nLors d\\'une expérimentation de Preston Foerder, un éléphant (d\\'Asie, Elephas maximus) s\\'est montré capable d\\'un éclair de compréhension (insight). Il est allé chercher un cube pour monter dessus et atteindre de la nourriture,.\\n\\n\\n=== Perception ===\\nLes éléphants sont réputés pour leur capacité à anticiper l\\'arrivée des intempéries. il semblerait qu\\'ils soient capables d\\'entendre les sons provoqués par le déplacement des nuages.\\n\\n\\n== Systématique ==\\n\\n\\n=== Taxonomie ===\\n\\nL’éléphant d\\'Asie et l’éléphant d’Afrique ont longtemps été considérés comme les deux seules espèces représentant la famille des Éléphantidés à l’époque moderne. Depuis, de récentes études génétiques ont permis de distinguer deux sous-espèces africaines distinctes : Loxodonta africana africana (« éléphant de la savane ») et Loxodonta africana cyclotis (« éléphant des forêts »).\\nLes espèces d\\'Éléphantidés vivant à l’heure actuelle sont donc :\\n\\n\\n=== Histoire évolutive ===\\n\\nL’extinction Crétacé-Tertiaire est suivie d\\'une diversification très rapide des ongulés africains, notamment l\\'ordre des Proboscidiens dont les plus anciennes espèces découvertes à ce jour sont Eritherium azzouzorum et Phosphatherium escuilliei, datant de la fin du Paléocène il y a 60 millions d\\'années. Sans trompe mais avec une première incisive agrandie (rappelant la naissance d\\'une défense) et des orbites oculaires en position antérieure, ces premiers proboscidiens sont petits et graciles, ont un corps bas sur pattes et un mode de vie semi-aquatique, à l\\'instar de Moeritherium.\\nAprès un déclin à l\\'oligocène, les proboscidiens connaissent une diversification avec l\\'apparition des Deinotheriidae et des Mammutidae. La seconde radiation évolutive voit l\\'émergence au début du Miocène des Gomphotheriidae qui sont à l\\'origine des Elephantidae et des Stegodontidae, familles qui correspondent à la troisième radiation évolutive au miocène supérieur.\\nLes Proboscidiens présents sur le continent américain, tels Mammut americanum ou Haplomastodon, se sont éteints il y a une dizaine de milliers d\\'années.\\n\\n\\n== L\\'éléphant et l\\'homme ==\\n\\n\\n=== Menaces de disparition ===\\n\\n\\n==== Chasse et braconnage ====\\n\\nDurant des millénaires, l\\'homme chassa l\\'éléphant pour sa consommation et pour le commerce de l\\'ivoire tiré des défenses. Durant l\\'Antiquité, les éléphants de Nubie furent utilisés dans les armées des Carthaginois. Au XVe siècle av. J.-C., il y avait encore des éléphants sur les bords de l\\'Euphrate, où le pharaon Thoutmôsis Ier chassait l\\'éléphant.\\nLa population des éléphants africains et asiatiques a été décimée, passant de plusieurs millions d\\'individus au début des années 1970 à quelques centaines de milliers 30 ans plus tard. Si bien qu\\'en 1989, la CITES interdit le commerce de l\\'ivoire. Les éléphants sont désormais considérés comme des espèces protégées et la chasse aux éléphants est très réglementée.\\nLe braconnage s\\'intensifie malheureusement chaque année. En 2011, entre 25 000 et 30 000 éléphants ont été abattus sauvagement afin de récupérer leurs défenses et alimenter les commerces illégaux notamment en provenance d\\'Asie.\\nL\\'éléphant a peu de prédateurs naturels, c\\'est-à-dire d\\'autres espèces que l\\'Homme. De grands fauves tels que le lion ou le tigre du Bengale (dans le cas de l\\'éléphant d\\'Asie) peuvent exercer une prédation sur les individus jeunes ou faibles ; il est cependant peu probable que ces animaux attaquent un adulte, au vu du danger qu\\'il peut représenter.\\nSelon l’Union internationale pour la conservation de la nature (UICN), la population des éléphants d’Afrique a sensiblement diminué au cours des années 2010 : le continent compte en 2019 environ 415 000 spécimens, soit 111 000 de moins que lors de la précédente décennie.\\n\\n\\n==== L\\'éléphant des forêts africaines menacé d\\'extinction d\\'ici 2025 ====\\nAu terme de la conférence organisée à Bangkok du 3 au 14 mars 2013, par la CITES, à laquelle 178 pays ont participé, l\\'état d\\'esprit était au pessimisme concernant la protection des éléphants « victimes dans leurs pays d\\'origine d\\'un braconnage sans précédent et d\\'un commerce effréné en Asie ». Nombre d\\'ONG concernées par cette action pensent que « la communauté internationale a échoué à protéger les éléphants ». Depuis 2007 le trafic d\\'ivoire a doublé et plus que triplé par rapport à 1998. Le nombre d\\'éléphants africains, selon les enquêtes présentées à la conférence, est compris entre 420 000 et 650 000. 25 000 ont été tués en 2011 et probablement 30 000 en 2012. Publiée en mars 2013 dans la revue PLoS One, une autre étude révèle que 62 % des éléphants des forêts ont été abattus durant ces dix dernières années. Si ce rythme perdure, ils pourraient disparaitre d\\'Afrique centrale d\\'ici 2025. Les spécialistes affirment qu\\'à terme, si le braconnage ne cesse pas, tous les éléphants du continent seront menacés d\\'extinction.\\n\\nÀ Gembloux Agro-Bio Tech - Université de Liège en Belgique, plusieurs chercheurs avaient déjà fait le même constat pour la population des éléphants de l\\'Afrique de l\\'Ouest. En 40 ans, leur nombre a diminué de moitié.\\nL\\'ONG Save the Elephants estime que le commerce illégal de l\\'ivoire à Hong Kong menace la survie des éléphants, étant donné que le marché de l\\'ivoire en Chine et en Asie du Sud-Est passe en grande partie par Hong Kong.\\n\\n\\n=== Perte d\\'habitat ===\\n\\nL\\'augmentation des risques de conflits d\\'intérêt pour l\\'habitat avec des populations humaines menace la survie de l\\'éléphant. Ce conflit tue 150 éléphants et un peu plus de 100 personnes par an au Sri Lanka. Contrairement à son cousin d\\'Afrique, l\\'éléphant d\\'Asie, possède de petites défenses. La disparition de celui-ci est principalement attribuée à la perte de son habitat. De grands morceaux de forêt disparaissent, ce qui touche profondément leur écosystème. Les arbres contribuent à l\\'ancrage du sol et l\\'absorption des eaux de ruissellement. La déforestation entraine des inondations et une érosion massive. Lorsque la forêt est réduite, les éléphants deviennent une partie du problème, car ils détruisent rapidement la végétation de la zone où ils vivent et éliminent toutes les ressources en nourriture.\\n\\n\\n=== Parcs nationaux ===\\n\\nLa première réserve officielle, Parc national Kruger, est peut-être la plus connue des réserves et celle ayant obtenu le plus grand succès. Cependant, de nombreux problèmes sont apparus depuis sa création. Les clôtures de la réserve ont coupé de nombreux animaux de leur alimentation en hiver ou de leurs zones de reproduction au printemps. Certains animaux sont morts, alors que d\\'autres comme les éléphants ont démoli les clôtures, entraînant des ravages dans les champs voisins. Lorsque les éléphants sont limités à un petit territoire, les dégâts infligés au paysage peuvent être énormes.\\nDe ce fait, certaines réserves, comme le Parc national Kruger, de l\\'avis de certains gestionnaires de faune sauvage, ont souffert de la surpopulation des éléphants, au détriment d\\'autres espèces de la faune dans la réserve. Le 25 février 2008, l\\'Afrique du Sud a annoncé que l\\'abattage pour contrôler le nombre d\\'éléphants, arrêté depuis 1994, reprendrait. Les défenseurs des droits des animaux ont menacé d\\'un appel au boycott par les touristes et à d\\'autres formes d\\'oppositions.\\n\\n\\n=== Utilisation par l\\'Homme ===\\n\\nLes éléphants en captivité (en) sont utilisés ou exhibés dans les cirques, ménageries (tel Abul-Abbas, l\\'éléphant blanc de Charlemagne et Hanno, celui du pape Léon X) et zoos (tel le célèbre Jumbo). On ne peut pas parler à leur égard de domestication car le cycle de vie de l\\'éléphant est trop long pour que cela soit économiquement rentable par rapport à une capture d\\'individus sauvages, la phase précédant la maturité sexuelle de l\\'animal durant plus de 10 ans.\\n\\nUtilisé comme animal de trait par les humains, ainsi que lors de batailles en tant qu\\'éléphant de guerre, l\\'éléphant a occupé de nombreuses fonctions, notamment celle d\\'exécuteur lors d\\'exécutions par éléphant. En 1914-1918, des éléphants de cirque ont en Europe par exemple servi à débarder le bois en forêt (de Mormal, dans le Nord de la France), ou encore à labourer, ou à tirer des wagons dans les usines de munitions.\\nL\\'éléphant peut également être entrainé par anéantissement.\\nLe conducteur d\\'un éléphant est appelé cornac ou mahout.\\n\\n\\n=== Expression ===\\n“avoir une mémoire d’éléphant” veut dire que l’ont a une très bonne mémoire\\n\\n\\n=== Produits dérivés ===\\n\\nÀ l\\'origine, les éléphants étaient chassés par les hommes pour leur viande.\\nCertaines parties, comme les pieds d\\'éléphants, ou des animaux entiers étaient naturalisés. Les poils et les défenses d\\'ivoire, bien sûr, étaient aussi utilisés. On s\\'en servait pour fabriquer des objets de décoration et en bijouterie, ou bien ils étaient destinés, ainsi que les dents et les ossements, à des cabinets de curiosité ou des museums.\\nL\\'ivoire a longtemps fait l\\'objet d\\'un commerce important qui subsiste encore parfois sous forme de trafic illégal malgré le statut de protection dont bénéficient les éléphants survivants.\\n\\n\\n=== Culture ===\\n\\n\\n==== Symbolique ====\\nDans la symbolique occidentale comme orientale, l\\'éléphant est associé à la mémoire, la sagesse, la longévité, la prospérité, la bienveillance, le père. Pour beaucoup de peuples africains, l\\'éléphant tient le rôle du père, du chef des animaux, du roi.\\n\\n\\n===== Orient =====\\n\\nL\\'éléphant apparaît dans la panthéon hindouiste et bouddhiste à partir du troisième millénaire avant Jésus-Christ, époque de sa domestication.\\nDans la religion hindoue, Ganesh est un dieu à tête d’éléphant ; il est le dieu de la Sagesse et le patron des étudiants. Les rares éléphants blancs sont les plus sacrés en Inde, et les éléphants domestiqués et décorés aux couleurs des dieux bénissent les fidèles de leur trompe dans certains temples.\\nEn Inde, l’éléphant évoque la force, la puissance, l\\'orage (forme ronde et grise des nuages de pluie), et il est sacré. Chaque dieu hindou chevauche un animal : Indra, dieu des Orages et de la Bataille, et Agni, dieu du Feu, se déplacent à dos d’éléphant.\\nAu Laos, passer sous la trompe d\\'un éléphant permet d\\'acquérir ses attributs : force, longévité, fertilité et caractère sacré. Chaque année à l\\'occasion du Nouvel An bouddhique, les cornacs laotiens organisent un baci ou soukhouan, cérémonie de rappel des âmes, pour leur éléphant.\\n\\n\\n===== Islam =====\\nDans le Coran, la 105e sourate (la 19e dans l’ordre chronologique) s\\'intitule Al-Fîl (l’Éléphant). Elle comprend cinq versets révélés à la Mecque et doit son nom à l’expression « ashâb al-fîl » (les gens de l’éléphant) présente dans le tout premier verset. Cette expression désigne les Abyssins, qui occupaient le Yémen voisin, voulaient évangéliser l’Arabie tout entière, notamment en attaquant la Kaaba, à La Mecque. En raison des entraves qu’ils mettaient au pèlerinage, le « ministre du calendrier » dans le gouvernement mecquois se vengea en profanant l’église de Sana\\'a. C’est alors que le gouverneur abyssin fit venir un éléphant de taille gigantesque appelé Mahmoud et dirigea une expédition sur La Mecque.\\n\\n\\n===== Occident =====\\nDans la symbolique chrétienne, l\\'éléphant symbolise le baptême : la femelle met bas dans l\\'eau d\\'un étang à côté duquel le mâle monte la garde pour écarter le dragon, symbole de l\\'esprit du mal.[réf. nécessaire]Dans la symbolique chrétienne, il représente aussi la chasteté (de tempérament frigide, il ne peut engendrer qu\\'après avoir absorbé, en guise d\\'aphrodisiaque, une racine de mandragore), la constance, la maîtrise de soi, la bénignité des princes (il n\\'a pas de fiel), la tempérance, la circonspection et la prudence.[réf. nécessaire]En France, on dit de quelqu\\'un qui a une bonne mémoire qu\\'il a « une mémoire d\\'éléphant » ; effectivement, l\\'éléphant a une excellente mémoire pour se rappeler ses congénères ou retrouver les pistes qu\\'il emprunte chaque année pour chercher sa nourriture. Sa mémoire visuelle lui permet également de se rappeler très longtemps les visages humains[source insuffisante].\\nL\\'éléphant représente les quatre piliers du monde : il porte le monde sur son dos.\\nL\\'éléphant est le symbole de la ville de Catane, en Italie, depuis le Moyen Âge (mais le lien remonte peut-être à l\\'Antiquité). La Fontaine de l\\'éléphant s\\'y dresse sur la place de la cathédrale.\\n\\n\\n===== Afrique =====\\nL\\'éléphant est l\\'emblème de la Côte d\\'Ivoire.\\nL\\'éléphant est symbole de royauté, de puissance et de sagesse et ce en général pour les peuples de tout le continent africain.\\nSon image est utilisée dans les cérémonies et danses, pour la fabrication des masques ou encore de mobiliers, d\\'objets rituels, dans beaucoup de tribus notamment chez les Bamileke de l\\'ouest du Cameroun ou encore chez les Gurusi du Burkina Faso.\\nHors tribus, l\\'éléphant est un symbole important au même titre que le lion et son image est présente au quotidien dans le monde africain.\\n\\n\\n===== Politique =====\\nEn politique, l\\'image de l\\'éléphant a pu être utilisé dans différents pays pour caractériser des courants politiques ou des politiciens : ainsi, l\\'emblème du Parti républicain américain est un éléphant, et certains des membres les plus influents du Parti socialiste français sont surnommés les « éléphants ».\\n\\n\\n===== Art =====\\n\\nDes représentations picturales de l\\'éléphant sont retrouvées en Occident dès le XIIe siècle comme dans le quartier historique de Montferrand sur la « Maison de l\\'Éléphant » (12 rue Kléber).\\nL\\'ivoire des défenses de l\\'éléphant a longtemps servi à la réalisation d\\'œuvres d\\'art. Les œuvres en or et ivoire sont qualifiées de chryséléphantines — chrusos, or en grec. Ce nom a été déformé en olifant, pour désigner une corne (instrument de musique) en ivoire.\\n\\n\\n===== Sport =====\\nEn sport, certaines équipes nationales portent des surnoms à l\\'image de l\\'éléphant :\\n\\nLa Côte d\\'Ivoire : Les éléphants\\nLa Guinée : Le Sily national (L\\'éléphant national)\\nLa Thaïlande : Les éléphants de guerre\\n\\n\\n==== Fiction ====\\n\\nLes éléphants ont inspiré de nombreux artistes. La liste ci-après est loin d\\'être exhaustive.\\n\\nCinéma :\\nLes Racines du ciel (The Roots of Heaven) de John Huston (1958), tiré du roman de Romain Gary.\\nTusk d\\'Alejandro Jodorowsky (1980).\\nChasseur blanc, cœur noir (White Hunter Black Heart) de Clint Eastwood (1990, inspiré par John Huston, chasseur d\\'éléphant sur le tournage de the African Queen en 1950).\\nSunny et l\\'éléphant de Frédéric Lepage, 2008.\\nDe l\\'eau pour les éléphants de Francis Lawrence, 2011, tiré du roman de Sara Gruen.\\nElephant Boy de Robert J. Flaherty en 1937\\nGrimsby : Agent trop spécial de Louis Leterrier (2016), Norman \"Nobby\" Butcher (Sacha Baron Cohen) se cache dans le vagin d\\'une éléphante.\\nDocumentaire\\nL\\'Homme et l’Éléphant de Vijay Singh.\\nDessins animés :\\nDumbo.\\nWinnie l\\'ourson et l\\'Éfélant\\nBabar\\nLittérature :\\nLes Racines du ciel de Romain Gary, Prix Goncourt en 1956.\\nLes Annales du disque-monde de Terry Pratchett (le disque-monde est soutenu par quatre éléphants géants).\\nL\\'Éléphant et le Singe de Jupiter de Jean de La Fontaine.\\nLe Voyage de l\\'éléphant de José Saramago\\nLittérature jeunesse :\\nHistoires comme ça de Rudyard Kipling (L\\'Enfant d\\'éléphant)\\nPoo Lorn l\\'éléphant de Reginald Campbell\\nLe Livre de la jungle de Rudyard Kipling (personnages de Hathi et de Kala Nag).\\nBabar de Laurent de Brunhoff\\nUn éléphant ça compte énormément de Helme Heine\\nLe Mystère de l\\'éléphant bleu de Enid Blyton\\nLa Maison éléphant de Henriette Bichonnier\\n Elmer, l\\'éléphant multicolore de David McKee\\nPomelo, l\\'éléphant rose, texte de Ramona Bádescu, illustrations de Benjamin Chaud : une quinzaine de titres, depuis 2002. Plusieurs de ces titres font partie de la « Bibliothèque jeunesse idéale » du Centre national de la littérature pour la jeunesse (BnF).\\n\\t\\t\\n\\n\\n== Notes et références ==\\n\\n\\n== Annexes ==\\n\\n\\n=== Bibliographie ===\\nElephants: Majestic Creatures of the Wild, Checkmark Books, 2000 (ISBN 978-0-87596-143-9, OCLC 475147472)\\n\\n\\n=== Articles connexes ===\\nBouse d\\'éléphant\\nIntelligence animale\\nÉléphant de guerre\\nHanno\\nListe d\\'éléphants de fiction\\nOrdre de l’Éléphant\\nMammouphant\\nBraconnage\\nÉléphant rose\\n\\n\\n=== Références taxonomiques ===\\n(en) Référence Mammal Species of the World (3e éd., 2005) : Elephas maximus  \\n(fr+en) Référence ITIS : genre Loxodonta Cuvier, 1825\\n(en) Référence Animal Diversity Web : Elephas maximus\\n(en) Référence UICN : espèce Elephas maximus Linnaeus, 1758\\n(en) Référence NCBI : genre Loxodonta (taxons inclus)\\n(en) Référence Fonds documentaire ARKive : Loxodonta africana  \\n(en) Référence Fonds documentaire ARKive : Elephas maximus  \\n\\n\\n=== Liens externes ===\\n\\nAnalyse des instruments internationaux de lutte contre le trafic et le braconnage des espèces menacées en Afrique centrale : le cas de l\\'éléphant et du gorille\\n« Physiologie de l\\'éléphant », sur elephants.free.fr\\nUn dossier sur l\\'éléphant chez Futura-Sciences\\n« Chang Nam : La légende des éléphants nains aquatiques en Thaïlande », sur magiedubouddha.com\\n Portail des mammifères'"
            ],
            "application/vnd.google.colaboratory.intrinsic+json": {
              "type": "string"
            }
          },
          "metadata": {},
          "execution_count": 27
        }
      ]
    },
    {
      "cell_type": "markdown",
      "metadata": {
        "id": "EZkmNJ7XO9xX"
      },
      "source": [
        "We need to clean this up a bit. Let us remove all the special characters and keep only 26 letters and space. Note that this will remove accented characters in French also. We are also removing all the numbers and spaces. So this is not an ideal solution."
      ]
    },
    {
      "cell_type": "code",
      "metadata": {
        "id": "e5yf5P9pPI4t"
      },
      "source": [
        "def cleanup(text):\n",
        "  text = text.lower()  # make it lowercase\n",
        "  text = re.sub('[^a-z]+', '', text) # only keep characters, i.e. if not a-z then replace with space.\n",
        "  return text"
      ],
      "execution_count": 28,
      "outputs": []
    },
    {
      "cell_type": "code",
      "source": [
        "text1 = re.sub('[a-z]', '1', 'espèce d\\'« éléphant d\\?Afrique »,')\n",
        "text1"
      ],
      "metadata": {
        "colab": {
          "base_uri": "https://localhost:8080/",
          "height": 35
        },
        "id": "Iawqez-f4oT5",
        "outputId": "4f5215b2-7dde-428a-cf64-8b12df3ac563"
      },
      "execution_count": 29,
      "outputs": [
        {
          "output_type": "execute_result",
          "data": {
            "text/plain": [
              "\"111è11 1'« é1é11111 1\\\\?A111111 »,\""
            ],
            "application/vnd.google.colaboratory.intrinsic+json": {
              "type": "string"
            }
          },
          "metadata": {},
          "execution_count": 29
        }
      ]
    },
    {
      "cell_type": "code",
      "metadata": {
        "id": "qrOjC32fRuTK"
      },
      "source": [
        "eng1 = cleanup(eng1)\n",
        "eng2 = cleanup(eng2)\n",
        "fr1 = cleanup(fr1)\n",
        "fr2 = cleanup(fr2)"
      ],
      "execution_count": 30,
      "outputs": []
    },
    {
      "cell_type": "code",
      "metadata": {
        "id": "rIdqvL2G-LqL",
        "colab": {
          "base_uri": "https://localhost:8080/"
        },
        "outputId": "e309b0c8-f229-4f09-fc24-6e49bbf23718"
      },
      "source": [
        "print(eng1)"
      ],
      "execution_count": 31,
      "outputs": [
        {
          "output_type": "stream",
          "name": "stdout",
          "text": [
            "thegiraffeisalargeafricanhoofedmammalbelongingtothegenusgiraffaitisthetallestlivingterrestrialanimalandthelargestruminantonearthtraditionallygiraffeswerethoughttobeonespeciesgiraffacamelopardaliswithninesubspeciesmostrecentlyresearchersproposeddividingthemintouptoeightextantspeciesduetonewresearchintotheirmitochondrialandnucleardnaaswellasmorphologicalmeasurementssevenotherextinctspeciesofgiraffaareknownfromthefossilrecordthegiraffeschiefdistinguishingcharacteristicsareitsextremelylongneckandlegsitshornlikeossiconesanditsspottedcoatpatternsitisclassifiedunderthefamilygiraffidaealongwithitsclosestextantrelativetheokapiitsscatteredrangeextendsfromchadinthenorthtosouthafricainthesouthandfromnigerinthewesttosomaliaintheeastgiraffesusuallyinhabitsavannahsandwoodlandstheirfoodsourceisleavesfruitsandflowersofwoodyplantsprimarilyacaciaspecieswhichtheybrowseatheightsmostotherherbivorescannotreachlionsleopardsspottedhyenasandafricanwilddogsmaypreyupongiraffesgiraffesliveinherdsofrelatedfemalesandtheiroffspringorbachelorherdsofunrelatedadultmalesbutaregregariousandmaygatherinlargeaggregationsmalesestablishsocialhierarchiesthroughneckingcombatboutswheretheneckisusedasaweapondominantmalesgainmatingaccesstofemaleswhichbearsoleresponsibilityforraisingtheyoungthegiraffehasintriguedvariousancientandmodernculturesforitspeculiarappearanceandhasoftenbeenfeaturedinpaintingsbooksandcartoonsitisclassifiedbytheinternationalunionforconservationofnatureiucnasvulnerabletoextinctionandhasbeenextirpatedfrommanypartsofitsformerrangegiraffesarestillfoundinnumerousnationalparksandgamereservesbutestimatesasofindicatethereareapproximatelymembersofgiraffainthewildmorethanwerekeptinzoosinetymologythenamegiraffehasitsearliestknownoriginsinthearabicwordzarfahperhapsborrowedfromtheanimalssomalinamegerithearabnameistranslatedasfastwalkerinearlymodernenglishthespellingsjarrafandziraphwereusedprobablydirectlyfromthearabicandinmiddleenglishjarrafandziraphgerfauntztheitalianformgiraffaaroseinthesthemodernenglishformdevelopedaroundfromthefrenchgirafecamelopardisanarchaicenglishnameforthegiraffeitderivesfromtheancientgreekkamloprdalisfromkmloscamelandprdalisleopardreferringtoitscamellikeshapeandleopardlikecolourationtaxonomyevolutionthegiraffeisoneofonlytwolivinggeneraofthefamilygiraffidaeintheorderartiodactylatheotherbeingtheokapithefamilywasoncemuchmoreextensivewithoverfossilgeneradescribedtheelongationoftheneckappearstohavestartedearlyinthegiraffelineagecomparisonsbetweengiraffesandtheirancientrelativessuggestvertebraeclosetotheskulllengthenedearlierfollowedbylengtheningofvertebraefurtherdownoneearlygiraffidancestorwascanthumeryxwhichhasbeendatedvariouslytohavelivedmillionyearsagomyamyaormyaandwhosedepositshavebeenfoundinlibyathisanimalresembledanantelopeandhadamediumsizedlightlybuiltbodygiraffokeryxappearedmyaontheindiansubcontinentandresembledanokapiorasmallgiraffeandhadalongerneckandsimilarossiconesgiraffokeryxmayhavesharedacladewithmoremassivelybuiltgiraffidslikesivatheriumandbramatheriumgiraffidslikepalaeotragusshansitheriumandsamotheriumappearedmyaandlivedthroughoutafricaandeurasiatheseanimalshadbroaderskullwithreducedfrontalcavitiespaleotragusresembledtheokapiandmayhavebeenitsancestorothersfindthattheokapilineagedivergedearlierbeforegiraffokeryxsamotheriumwasaparticularlyimportanttransitionalfossilinthegiraffelineageasthelengthandstructureofitscervicalvertebraewerebetweenthoseofamoderngiraffeandanokapianditsneckposturewaslikelysimilartotheformerbohliniawhichfirstappearedinsoutheasterneuropeandlivedmyawaslikelyadirectancestorofthegiraffebohliniacloselyresembledmoderngiraffeshavingalongneckandlegsandsimilarossiconesanddentitionbohliniacolonisedchinaandnorthernindiaandproducedthegiraffawhicharoundmyareachedafricaclimatechangesleadtotheextinctionoftheasiangiraffeswhiletheafricangiraffessurvivedandradiatedintonewspecieslivinggiraffesappeartohavearisenaroundmyaineasternafricaduringthepleistocenesomebiologistssuggestthemoderngiraffesdescendedfromgjumaeothersfindggracilisamorelikelycandidategjumaewaslargerandmorerobustwhileggraciliswassmallerandmoreslenderthechangesfromextensiveforeststomoreopenhabitatswhichbeganmyaarebelievedtobethemaindriverfortheevolutionofgiraffesduringthistimetropicalplantsdisappearedandwerereplacedbyaridcplantsandadrysavannahemergedacrosseasternandnorthernafricaandwesternindiasomeresearchershavehypothesisedthatthisnewhabitatcoupledwithadifferentdietincludingacaciaspeciesmayhaveexposedgiraffeancestorstotoxinsthatcausedhighermutationratesandahigherrateofevolutionthecoatpatternsofmoderngiraffesmayalsohavecoincidedwiththesehabitatchangesasiangiraffesarehypothesisedtohavehadmoreokapilikecolourationsthegiraffegenomeisaroundbillionbasepairsinlengthcomparedtothebillionbasepairsoftheokapioftheproteinsingiraffeandokapigenesareidenticalthedivergenceofgiraffeandokapilineagesdatestoaroundmyaasmallgroupofregulatorygenesinthegiraffeappeartoberesponsiblefortheanimalsheightandassociatedcirculatoryadaptationsspeciesandsubspeciestheinternationalunionforconservationofnatureiucncurrentlyrecognisesonlyonespeciesofgiraffewithninesubspeciescarllinnaeusoriginallyclassifiedlivinggiraffesasonespeciesinhegaveitthebinomialnamecervuscamelopardalismathurinjacquesbrissoncoinedthegenusgiraffainduringthesvarioustaxonomieswithtwoorthreespecieswereproposedastudyonthegeneticsofgiraffesusingmitochondrialdnasuggestedatleastsixlineagescouldberecognisedasspeciesastudyusingdetailedanalysesofthemorphologyofgiraffesandapplicationofthephylogeneticspeciesconceptdescribedeightspeciesoflivinggiraffesastudyalsoconcludedthatlivinggiraffesconsistofmultiplespeciestheresearcherssuggestedtheexistenceoffourspecieswhichhavenotexchangedgeneticinformationbetweeneachotherfortomillionyearsastudyshowedthatdependingonthemethodchosendifferenttaxonomichypothesesrecognizingfromtwotosixspeciescanbeconsideredforthegenusgiraffathatstudyalsofoundthatmultispeciescoalescentmethodscanleadtotaxonomicoversplittingasthosemethodsdelimitgeographicstructuresratherthanspeciesthethreespecieshypothesiswhichrecognisesgcamelopardalisggiraffaandgtippelskirchiishighlysupportedbyphylogeneticanalysesandalsocorroboratedbymostpopulationgeneticandmultispeciescoalescentanalysesawholegenomesequencingstudysuggeststheexistenceoffourdistinctspeciesandsevensubspeciesthecladogrambelowshowsthephylogeneticrelationshipbetweenthefourproposedspeciesandsevensubspeciesbasedonthegenomeanalysisnotetheeightlineagescorrespondtoeightofthetraditionalsubspeciesintheonespecieshypothesistherothschildgiraffeissubsumedintogcamelopardaliscamelopardalisthefollowingtablecomparesthedifferenthypothesesforgiraffespeciesthedescriptioncolumnshowsthetraditionalninesubspeciesintheonespecieshypothesisthefirstextinctspeciestobedescribedwasgiraffasivalensisfalconerandcautleyareevaluationofavertebrathatwasinitiallydescribedasafossilofthelivinggiraffewhiletaxonomicopinionmaybelackingonsomenamestheextinctspeciesthathavebeenpublishedincludegiraffagracilisgiraffajumaegiraffapriscillagiraffapomeligiraffapunjabiensisgiraffapygmaeagiraffasivalensisgiraffastilleicharacteristicsfullygrowngiraffesstandmfttallwithmalestallerthanfemalestheaverageweightiskglbforanadultmaleandkglbforanadultfemaledespiteitslongneckandlegsitsbodyisrelativelyshorttheskinismostlygrayortanandcanreachathicknessofmminthecentimetresinlongtailendsinalongdarktuftofhairandisusedasadefenseagainstinsectsthecoathasdarkblotchesorpatcheswhichcanbeorangechestnutbrownornearlyblacksurroundedbylighthairusuallywhiteorcreamcolouredmalegiraffesbecomedarkerastheygrowoldthecoatpatternhasbeenclaimedtoserveascamouflageinthelightandshadepatternsofsavannahwoodlandswhenstandingamongtreesandbushestheyarehardtoseeatevenafewmetresdistancehoweveradultgiraffesmoveabouttogainthebestviewofanapproachingpredatorrelyingontheirsizeandabilitytodefendthemselvesratherthanoncamouflagewhichmaybemoreimportantforcalveseachgiraffehasauniquecoatpatterncalvesinheritsomecoatpatterntraitsfromtheirmothersandvariationinsomespottraitsiscorrelatedwithcalfsurvivaltheskinundertheblotchesmayregulatetheanimalsbodytemperaturebeingsitesforcomplexbloodvesselsystemsandlargesweatglandsthefurmaygivetheanimalchemicaldefenseasitsparasiterepellentsgiveitacharacteristicscentatleastmainaromaticchemicalsareinthefuralthoughindoleandmethylindoleareresponsibleformostofthesmellbecausemaleshaveastrongerodourthanfemalesitmayalsohaveasexualfunctionheadbothsexeshaveprominenthornlikestructurescalledossiconeswhichcanreachcmintheyareformedfromossifiedcartilagecoveredinskinandfusedtotheskullattheparietalbonesbeingvascularisedtheossiconesmayhavearoleinthermoregulationandareusedincombatbetweenmalesappearanceisareliableguidetothesexorageofagiraffetheossiconesoffemalesandyoungarethinanddisplaytuftsofhairontopwhereasthoseofadultmalestendtobebaldandknobedontopalumpwhichismoreprominentinmalesemergesinthemiddleoftheskullmalesdevelopcalciumdepositsthatformbumpsontheirskullsastheyagemultiplesinuseslightenagiraffesskullhoweverasmalesagetheirskullsbecomeheavierandmoreclublikehelpingthembecomemoredominantincombattheoccipitalcondylesbonesatthebottomoftheskullallowtheanimaltotipitsheadoverdegreesandgrabfoodonthebranchesdirectlyabovethemwiththetonguelocatedonthesidesoftheheadthegiraffehasabroadvisualfieldfromitsgreatheightcomparedtootherungulatesgiraffevisionismorebinocularandtheeyesarelargerwithagreaterretinalsurfaceareagiraffesmayseeincolourandtheirsensesofhearingandsmellaresharptheearsaremovableandthenostrilsareslitshapedpossiblytowithstandblowingsandthegiraffestongueisaboutcminlongitisblackperhapstoprotectagainstsunburnandcangraspfoliageanddelicatelypickoffleavestheupperlipisflexibleandhairytoprotectagainstsharppricklestheupperjawhasahardpalateinsteadoffrontteeththemolarsandpremolarsarewidewithlowcrownsonthesurfaceneckthegiraffehasanextremelyelongatedneckwhichcanbeuptomftinlengthalongtheneckisamanemadeofshorterecthairsthenecktypicallyrestsatanangleofdegreesthoughjuvenilesareclosertodegreesthelongneckresultsfromadisproportionatelengtheningofthecervicalvertebraenotfromtheadditionofmorevertebraeeachcervicalvertebraisovercminlongtheycomprisepercentofthelengthofthegiraffesvertebralcolumncomparedwiththepercenttypicalofsimilarlargeungulatesincludingthegiraffesclosestlivingrelativetheokapithiselongationlargelytakesplaceafterbirthperhapsbecausegiraffemotherswouldhaveadifficulttimegivingbirthtoyoungwiththesameneckproportionsasadultsthegiraffesheadandneckareheldupbylargemusclesandanuchalligamentwhichareanchoredbylongthoracicvertebraespinesgivingthemahumpthegiraffesneckvertebraehaveballandsocketjointsthepointofarticulationbetweenthecervicalandthoracicvertebraeofgiraffesisshiftedtoliebetweenthefirstandsecondthoracicvertebraetandtunlikemostotherruminantswherethearticulationisbetweentheseventhcervicalvertebracandtthisallowsctocontributedirectlytoincreasednecklengthandhasgivenrisetothesuggestionthattisactuallycandthatgiraffeshaveaddedanextracervicalvertebrahoweverthispropositionisnotgenerallyacceptedasthasothermorphologicalfeaturessuchasanarticulatingribdeemeddiagnosticofthoracicvertebraeandbecauseexceptionstothemammalianlimitofsevencervicalvertebraearegenerallycharacterisedbyincreasedneurologicalanomaliesandmaladiesthereareseveralhypothesesregardingtheevolutionaryoriginandmaintenanceofelongationingiraffeneckscharlesdarwinoriginallysuggestedthecompetingbrowsershypothesiswhichhasbeenchallengedonlyrecentlyitsuggeststhatcompetitivepressurefromsmallerbrowserslikekudusteenbokandimpalaencouragedtheelongationoftheneckasitenabledgiraffestoreachfoodthatcompetitorscouldnotthisadvantageisrealasgiraffescananddofeeduptomfthighwhileevenquitelargecompetitorssuchaskuducanfeeduptoonlyaboutmftinhighthereisalsoresearchsuggestingthatbrowsingcompetitionisintenseatlowerlevelsandgiraffesfeedmoreefficientlygainingmoreleafbiomasswitheachmouthfulhighinthecanopyhoweverscientistsdisagreeaboutjusthowmuchtimegiraffesspendfeedingatlevelsbeyondthereachofotherbrowsersandastudyfoundthatadultgiraffeswithlongernecksactuallysufferedhighermortalityratesunderdroughtconditionsthantheirshorterneckedcounterpartsthisstudysuggeststhatmaintainingalongerneckrequiresmorenutrientswhichputslongerneckedgiraffesatriskduringafoodshortageanothertheorythesexualselectionhypothesisproposesthelongnecksevolvedasasecondarysexualcharacteristicgivingmalesanadvantageinneckingcontestsseebelowtoestablishdominanceandobtainaccesstosexuallyreceptivefemalesinsupportofthistheorynecksarelongerandheavierformalesthanfemalesofthesameageandmalesdonotemployotherformsofcombathoweveroneobjectionisitfailstoexplainwhyfemalegiraffesalsohavelongnecksithasalsobeenproposedthattheneckservestogivetheanimalgreatervigilancelegslocomotionandpostureagiraffesfrontandbacklegsareaboutthesamelengththeradiusandulnaofthefrontlegsarearticulatedbythecarpuswhichwhilestructurallyequivalenttothehumanwristfunctionsasakneeitappearsthatasuspensoryligamentallowsthelankylegstosupporttheanimalsgreatweightthehoovesoflargemalegiraffesreachcmcmininindiameterthefetlockofthelegislowtothegroundallowingthehooftobettersupporttheanimalsweightgiraffeslackdewclawsandinterdigitalglandswhilethepelvisisrelativelyshorttheiliumhasstretchedoutcrestsagiraffehasonlytwogaitswalkingandgallopingwalkingisdonebymovingthelegsononesideofthebodythendoingthesameontheothersidewhengallopingthehindlegsmovearoundthefrontlegsbeforethelattermoveforwardandthetailwillcurlupthemovementsoftheheadandneckprovidebalanceandcontrolmomentumwhilegallopingthegiraffecanreachasprintspeedofuptokmhmphandcansustainkmhmphforseveralkilometresgiraffeswouldprobablynotbecompetentswimmersastheirlonglegswouldbehighlycumbersomeinthewateralthoughtheymightbeabletofloatwhenswimmingthethoraxwouldbeweigheddownbythefrontlegsmakingitdifficultfortheanimaltomoveitsneckandlegsinharmonyorkeepitsheadabovethewaterssurfaceagirafferestsbylyingwithitsbodyontopofitsfoldedlegstoliedowntheanimalkneelsonitsfrontlegsandthenlowerstherestofitsbodytogetbackupitfirstgetsonitsfrontkneesandpositionsitsbacksideontopofitshindlegsitthenpullsupthebacksideupwardsandthefrontlegsstandstraightupagainateachstagetheanimalswingsitsheadforbalanceifthegiraffewantstoreachdowntodrinkiteitherspreadsitsfrontlegsorbendsitskneesstudiesincaptivityfoundthegiraffesleepsintermittentlyaroundhoursperdaymostlyatnightitusuallysleepslyingdownhoweverstandingsleepshavebeenrecordedparticularlyinolderindividualsintermittentshortdeepsleepphaseswhilelyingarecharacterisedbythegiraffebendingitsneckbackwardsandrestingitsheadonthehiporthighapositionbelievedtoindicateparadoxicalsleepinternalsystemsinmammalstheleftrecurrentlaryngealnerveislongerthantherightinthegiraffeitisovercminlongerthesenervesarelongerinthegiraffethaninanyotherlivinganimaltheleftnerveisovermftinlongeachnervecellinthispathbeginsinthebrainstemandpassesdowntheneckalongthevagusnervethenbranchesoffintotherecurrentlaryngealnervewhichpassesbackupthenecktothelarynxthusthesenervecellshavealengthofnearlymftinthelargestgiraffesdespiteitslongneckandlargeskullthebrainofthegiraffeistypicalforanungulateevaporativeheatlossinthenasalpassageskeepthegiraffesbraincooltheshapeoftheskeletongivesthegiraffeasmalllungvolumerelativetoitsmassitslongneckgivesitalargeamountofdeadspaceinspiteofitsnarrowwindpipethegiraffealsohasahightidalvolumesothebalanceofdeadspaceandtidalvolumeismuchthesameasothermammalstheanimalcanstillprovideenoughoxygenforitstissuesanditcanincreaseitsrespiratoryrateandoxygendiffusionwhenrunningthecirculatorysystemofthegiraffehasseveraladaptationsforitsgreatheightitskglbandcmftheartmustgenerateapproximatelydoublethebloodpressurerequiredforahumantomaintainbloodflowtothebrainassuchthewalloftheheartcanbeasthickascmingiraffeshaverelativelyhighheartratesfortheirsizeatbeatsperminutewhentheanimallowersitsheadthebloodrushesdownfairlyunopposedandaretemirabileintheupperneckwithitslargecrosssectionalareapreventsexcessbloodflowtothebrainwhenitraisesagainthebloodvesselsconstrictandpushbloodintothebrainsotheanimaldoesnotfaintthejugularveinscontainseveralmostcommonlysevenvalvestopreventbloodflowingbackintotheheadfromtheinferiorvenacavaandrightatriumwhiletheheadisloweredconverselythebloodvesselsinthelowerlegsareundergreatpressurebecauseoftheweightoffluidpressingdownonthemtosolvethisproblemtheskinofthelowerlegsisthickandtightpreventingtoomuchbloodfrompouringintothemgiraffeshaveoesophagealmusclesthatarestrongenoughtoallowregurgitationoffoodfromthestomachuptheneckandintothemouthforruminationtheyhavefourchamberedstomachswhichareadaptedtotheirspecializeddiettheintestinesofanadultgiraffemeasuremorethanmftinlengthandhavearelativelysmallratioofsmalltolargeintestinethegiraffehasasmallcompactliverfetusesmaybeasmallgallbladderthatvanishesbeforebirthbehaviourandecologyhabitatandfeedinggiraffesusuallyinhabitsavannahsandopenwoodlandstheypreferbyareasdominatedbyacacieaecommiphoracombretumandterminaliatreeoverbrachystegiawhicharemoredenselyspacedtheangolangiraffecanbefoundindesertenvironmentsgiraffesbrowseonthetwigsoftreespreferringthoseofthesubfamilyacacieaeandthegeneracommiphoraandterminaliawhichareimportantsourcesofcalciumandproteintosustainthegiraffesgrowthratetheyalsofeedonshrubsgrassandfruitagiraffeeatsaroundkglbofplantmatterdailywhenstressedgiraffesmaychewonlargebranchesstrippingthemofbarkgiraffesarealsorecordedtochewoldbonesduringthewetseasonfoodisabundantandgiraffesaremorespreadoutwhileduringthedryseasontheygatheraroundtheremainingevergreentreesandbushesmotherstendtofeedinopenareaspresumablytomakeiteasiertodetectpredatorsalthoughthismayreducetheirfeedingefficiencyasaruminantthegiraffefirstchewsitsfoodthenswallowsitforprocessingandthenvisiblypassesthehalfdigestedcuduptheneckandbackintothemouthtochewagainthegirafferequireslessfoodthanmanyotherherbivoresbecausethefoliageiteatshasmoreconcentratednutrientsandithasamoreefficientdigestivesystemtheanimalsfaecescomeintheformofsmallpelletswhenithasaccesstowateragiraffewillgonomorethanthreedayswithoutdrinkinggiraffeshaveagreateffectonthetreesthattheyfeedondelayingthegrowthofyoungtreesforsomeyearsandgivingwaistlinestotootalltreesfeedingisatitshighestduringthefirstandlasthoursofdaytimebetweenthesehoursgiraffesmostlystandandruminateruminationisthedominantactivityduringthenightwhenitismostlydonelyingdownsociallifegiraffesareusuallyfoundingroupsthatvaryinsizeandcompositionaccordingtoecologicalanthropogenictemporalandsocialfactorstraditionallythecompositionofthesegroupshadbeendescribedasopenandeverchangingforresearchpurposesagrouphasbeendefinedasacollectionofindividualsthatarelessthanakilometreapartandmovinginthesamegeneraldirectionmorerecentstudieshavefoundthatgiraffeshavelonglastingsocialgroupsorcliquesbasedonkinshipsexorotherfactorsandthesegroupsregularlyassociatewithothergroupsinlargercommunitiesorsubcommunitieswithinafissionfusionsocietyproximitytohumanscandisruptsocialarrangementsmasaigiraffesintanzaniahavedifferentsubpopulationswithoverlappingrangeseachofwhichdifferinreproductiveratesandcalfmortalitythenumberofgiraffesinagroupcanrangefromoneuptoindividualsgiraffegroupstendtobesexsegregatedalthoughmixedsexgroupsmadeofadultfemalesandyoungmalesalsooccurfemalegroupsmaybematrilineallyrelatedgenerallyfemalesaremoreselectivethanmalesinwhotheyassociatewithregardingindividualsofthesamesexparticularlystablegiraffegroupsarethosemadeofmothersandtheiryoungwhichcanlastweeksormonthsyoungmalesalsoformgroupsandwillengageinplayfightshoweverastheygetoldermalesbecomemoresolitarybutmayalsoassociateinpairsorwithfemalegroupsgiraffesarenotterritorialbuttheyhavehomerangesthatvaryaccordingtorainfallandproximitytohumansettlementsmalegiraffesoccasionallyroamfarfromareasthattheynormallyfrequentearlybiologistssuggestedgiraffesweremuteandunabletocreateenoughairflowtovibratetheirvocalfoldstothecontrarytheyhavebeenrecordedtocommunicateusingsnortssneezescoughssnoreshissesburstsmoansgruntsgrowlsandflutelikesoundsduringcourtshipmalesemitloudcoughsfemalescalltheiryoungbybellowingcalveswillemitbleatsmooingandmewingsoundssnortingandhissingisassociatedwithvigilanceduringnighttimegiraffesappeartohumtoeachotherabovetheinfrasoundrangethepurposeisuncleardominantmalesdisplaytoothermaleswithanerectpostureholdingthechinandheadupwhilewalkingstifflyanddisplayingtheirsidethelessdominantshowsubmissivenessbydroppingtheheadandearsloweringthechinandfleeingreproductionandparentalcarereproductioningiraffesisbroadlypolygamousafewoldermalesmatewiththefertilefemalesfemalescanreproducethroughouttheyearandexperienceoestruscyclingapproximatelyeverydaysfemalegiraffesinoestrousaredispersedoverspaceandtimesoreproductiveadultmalesadoptastrategyofroamingamongfemalegroupstoseekmatingopportunitieswithperiodichormoneinducedruttingbehaviourapproximatelyeverytwoweeksmalespreferyoungadultfemalesoverjuvenilesandolderadultsmalegiraffesassessfemalefertilitybytastingthefemalesurinetodetectoestrusinamultistepprocessknownastheflehmenresponseonceanoestrousfemaleisdetectedthemalewillattempttocourtherwhencourtingdominantmaleswillkeepsubordinateonesatbayacourtingmalemaylickafemalestaillayhisheadandneckonherbodyornudgeherwithhisossiconesduringcopulationthemalestandsonhishindlegswithhisheadheldupandhisfrontlegsrestingonthefemalessidesgiraffegestationlastsdaysafterwhichasinglecalfisnormallybornalthoughtwinsoccuronrareoccasionsthemothergivesbirthstandingupthecalfemergesheadandfrontlegsfirsthavingbrokenthroughthefetalmembranesandfallstothegroundseveringtheumbilicalcordanewborngiraffeismfttallwithinafewhoursofbirththecalfcanrunaroundandisalmostindistinguishablefromaoneweekoldhoweverforthefirstonetothreeweeksitspendsmostofitstimehidingitscoatpatternprovidingcamouflagetheossiconeswhichhavelainflatwhileitwasinthewombraiseupinafewdaysmotherswithcalveswillgatherinnurseryherdsmovingorbrowsingtogethermothersinsuchagroupmaysometimesleavetheircalveswithonefemalewhiletheyforageanddrinkelsewherethisisknownasacalvingpoolcalvesareatriskofpredationandamothergiraffewillstandoverthemandkickatanapproachingpredatorfemaleswatchingcalvingpoolswillonlyalerttheirownyoungiftheydetectadisturbancealthoughtheotherswilltakenoticeandfollowcalvesfirstruminateatfourtosixmonthsandstopnursingatsixtoeightmonthsyoungmaynotreachindependenceuntiltheyaremonthsoldfemalesbecomesexuallymaturewhentheyarefouryearsoldwhilemalesbecomematureatfourorfiveyearsspermatogenesisinmalegiraffesbeginsatthreetofouryearsofagemalesmustwaituntiltheyareatleastsevenyearsoldtogaintheopportunitytomateneckingmalegiraffesusetheirnecksasweaponsincombatabehaviourknownasneckingneckingisusedtoestablishdominanceandmalesthatwinneckingboutshavegreaterreproductivesuccessthisbehaviouroccursatloworhighintensityinlowintensityneckingthecombatantsrubandleanoneachotherthemalethatcankeepitselfmoreuprightwinstheboutinhighintensityneckingthecombatantswillspreadtheirfrontlegsandswingtheirnecksateachotherattemptingtolandblowswiththeirossiconesthecontestantswilltrytododgeeachothersblowsandthenpreparetocounterthepowerofablowdependsontheweightoftheskullandthearcoftheswinganeckingduelcanlastmorethanhalfanhourdependingonhowwellmatchedthecombatantsarealthoughmostfightsdonotleadtoseriousinjurytherehavebeenrecordsofbrokenjawsbrokennecksandevendeathsafteraduelitiscommonfortwomalegiraffestocaressandcourteachothersuchinteractionsbetweenmaleshavebeenfoundtobemorefrequentthanheterosexualcouplinginonestudyuptopercentofobservedmountingincidentstookplacebetweenmalestheproportionofsamesexactivitiesvariedfromtopercentonlyonepercentofsamesexmountingincidentsoccurredbetweenfemalesmortalityandhealthgiraffeshavehighadultsurvivalprobabilityandanunusuallylonglifespancomparedtootherruminantsuptoyearsbecauseoftheirsizeeyesightandpowerfulkicksadultgiraffesareusuallynotsubjecttopredationalthoughlionsmayregularlypreyonindividualsuptokglbgiraffesarethemostcommonfoodsourceforthebigcatsinkrugernationalparkcomprisingnearlyathirdofthemeatconsumedalthoughonlyasmallportionofthegiraffeswereprobablykilledbypredatorsasamajorityoftheconsumedgiraffesappearedtobescavengedadultfemalesurvivalissignificantlycorrelatedwiththenumberofsocialassociationscalvesaremuchmorevulnerablethanadultsandarealsopreyedonbyleopardscheetahsnilecrocodilesspottedhyenasandwilddogsaquartertoahalfofgiraffecalvesreachadulthoodcalfsurvivalvariesaccordingtotheseasonofbirthwithcalvesbornduringthedryseasonhavinghighersurvivalratesthelocalseasonalpresenceoflargeherdsofmigratorywildebeestsandzebrasreducespredationpressureongiraffecalvesandincreasestheirsurvivalprobabilityinturnithasbeensuggestedthatotherungulatesmaybenefitfromassociatingwithgiraffesastheirheightallowsthemtospotpredatorsfromfurtherawayzebraswerefoundtoaccesspredationriskbywatchinggiraffesandspendlesstimelookingaroundwhengiraffesarepresentsomeparasitesfeedongiraffestheyareoftenhostsforticksespeciallyintheareaaroundthegenitalswhichhavethinnerskinthanotherareastickspeciesthatcommonlyfeedongiraffesarethoseofgenerahyalommaamblyommaandrhipicephalusgiraffesmayrelyonredbilledandyellowbilledoxpeckerstocleanthemofticksandalertthemtodangergiraffeshostnumerousspeciesofinternalparasitesandaresusceptibletovariousdiseasestheywerevictimsofthenoweradicatedviralillnessrinderpestgiraffescanalsosufferfromaskindisorderwhichcomesintheformofwrinkleslesionsorrawfissuresasmuchasofgiraffeshavesymptomsofthediseaseinruahanationalparkbutitdidnotcausemortalityintarangireandislessprevalentinareaswithfertilesoilsrelationshipwithhumansculturalsignificancewithitslankybuildandspottedcoatthegiraffehasbeenasourceoffascinationthroughouthumanhistoryanditsimageiswidespreadincultureithasrepresentedflexibilityfarsightednessfemininityfragilitypassivitygracebeautyandthecontinentofafricaitselfgiraffesweredepictedinartthroughouttheafricancontinentincludingthatofthekiffiansegyptiansandkushitesthekiffianswereresponsibleforalifesizerockengravingoftwogiraffesdatedyearsagothathasbeencalledtheworldslargestrockartpetroglyphhowthegiraffegotitsheighthasbeenthesubjectofvariousafricanfolktalesthetugenpeopleofmodernkenyausedthegiraffetodepicttheirgodmdatheegyptiansgavethegiraffeitsownhieroglyphsrinoldegyptianandmmyinlaterperiodsgiraffeshaveapresenceinmodernwesternculturesalvadordaldepictedthemwithburningmanesinsomeofhissurrealistpaintingsdaliconsideredthegiraffetobeamasculinesymbolandaflaminggiraffewasmeanttobeamasculinecosmicapocalypticmonsterseveralchildrensbooksfeaturethegiraffeincludingdavidaufersthegiraffewhowasafraidofheightsgilesandreaesgiraffescantdanceandroalddahlsthegiraffeandthepellyandmegiraffeshaveappearedinanimatedfilmsasminorcharactersindisneysthelionkinganddumboandinmoreprominentrolesinthewildandthemadagascarfilmssophiethegiraffehasbeenapopularteethersinceanotherfamousfictionalgiraffeisthetoysrusmascotgeoffreythegiraffethegiraffehasalsobeenusedforsomescientificexperimentsanddiscoveriesscientistshaveusedthepropertiesofgiraffeskinasamodelforastronautandfighterpilotsuitsbecausethepeopleintheseprofessionsareindangerofpassingoutifbloodrushestotheirlegscomputerscientistshavemodeledthecoatpatternsofseveralsubspeciesusingreactiondiffusionmechanismstheconstellationofcamelopardalisintroducedintheseventeenthcenturydepictsagiraffethetswanapeopleofbotswanatraditionallyseetheconstellationcruxastwogiraffesacruxandmimosaformingamaleandgacruxanddeltacrucisformingthefemalecaptivitytheegyptianswereamongtheearliestpeopletokeepgiraffesincaptivityshippedthemaroundthemediterraneanthegiraffewasamongthemanyanimalscollectedanddisplayedbytheromansthefirstoneinromewasbroughtinbyjuliuscaesarinbcwiththefallofthewesternromanempirethehousingofgiraffesineuropedeclinedduringthemiddleagesgiraffeswereknowntoeuropeansthroughcontactwiththearabswhoreveredthegiraffeforitspeculiarappearanceindividualcaptivegiraffesweregivencelebritystatusthroughouthistoryinagiraffefrommalindiwastakentochinabyexplorerzhengheandplacedinamingdynastyzootheanimalwasasourceoffascinationforthechinesepeoplewhoassociateditwiththemythicalqilinthemedicigiraffewasagiraffepresentedtolorenzodemediciinitcausedagreatstironitsarrivalinflorencezarafaanotherfamousgiraffewasbroughtfromegypttoparisintheearlythcenturyasagiftforcharlesxoffranceasensationthegiraffewasthesubjectofnumerousmemorabiliaorgiraffanaliagiraffeshavebecomepopularattractionsinmodernzoosthoughkeepingthemhealthyisdifficultastheyrequirevastareasandneedtoeatlargeamountsofbrowsecaptivegiraffesinnorthamericaandeuropeappeartohaveahighermortalityratethaninthewildthemostcommoncausesbeingpoorhusbandrynutritionandmanagementgiraffesinzoosdisplaystereotypicalbehavioursparticularlythelickingofinanimateobjectsandpacingzookeepersmayoffervariousactivitiestostimulategiraffesincludingtrainingthemtotakefoodfromvisitorsstablesforgiraffesarebuiltparticularlyhightoaccommodatetheirheightexploitationgiraffeswereprobablycommontargetsforhuntersthroughoutafricadifferentpartsoftheirbodieswereusedfordifferentpurposestheirmeatwasusedforfoodthetailhairsservedasflyswattersbraceletsnecklacesandthreadsshieldssandalsanddrumsweremadeusingtheskinandthestringsofmusicalinstrumentswerefromthetendonsinbugandathesmokeofburninggiraffeskinwastraditionallyusedtotreatnosebleedsthehumrpeopleofkordofanconsumethedrinkummnyolokhwhichispreparedfromtheliverandbonemarrowofgiraffesrichardrudgleyhypothesisedthatummnyolokhmightcontaindmtthedrinkissaidtocausehallucinationsofgiraffesbelievedtobethegiraffesghostsbythehumrconservationstatusingiraffeswereassessedasvulnerablefromaconservationperspectivebytheiucninitwasestimatedthereweregiraffesinthewildthisdeclinedtooverinestimatesasofindicatethereareapproximatelymembersofgiraffainthewildthemasaiandreticulatedsubspeciesareendangeredandtherothschildsubspeciesisnearthreatenedthenubiansubspeciesiscriticallyendangeredtheprimarycausesforgiraffepopulationdeclinesarehabitatlossanddirectkillingforbushmeatmarketsgiraffeshavebeenextirpatedfrommuchoftheirhistoricrangeincludingeritreaguineamauritaniaandsenegaltheymayalsohavedisappearedfromangolamaliandnigeriabuthavebeenintroducedtorwandaandeswatiniasofthereweremorethanincaptivityatspeciesregisteredzooshabitatdestructionhashurtthegiraffeinthesaheltheneedforfirewoodandgrazingroomforlivestockhasledtodeforestationnormallygiraffescancoexistwithlivestocksincetheyavoiddirectcompetitionbyfeedingabovetheminseveredroughtsinnorthernkenyaledtoincreasedtensionsoverlandandthekillingofwildlifebyherderswithgiraffepopulationsbeingparticularlyhitprotectedareaslikenationalparksprovideimportanthabitatandantipoachingprotectiontogiraffepopulationscommunitybasedconservationeffortsoutsidenationalparksarealsoeffectiveatprotectinggiraffesandtheirhabitatsprivategamereserveshavecontributedtothepreservationofgiraffepopulationsineasternandsouthernafricathegiraffeisaprotectedspeciesinmostofitsrangeitisthenationalanimaloftanzaniaandisprotectedbylawandunauthorisedkillingcanresultinimprisonmenttheunbackedconventionofmigratoryspeciesselectedgiraffesforprotectioniningiraffeswerelistedunderappendixiioftheconventiononinternationaltradeinendangeredspeciesciteswhichmeansinternationaltradeincludinginpartsderivativesisregulatedtranslocationsaresometimesusedtoaugmentorreestablishdiminishedorextirpatedpopulationsbuttheseactivitiesareriskyanddifficulttoundertakeusingthebestpracticesofextensivepreandposttranslocationstudiesandensuringaviablefoundingpopulationaerialsurveyisthemostcommonmethodofmonitoringgiraffepopulationtrendsinthevastroadlesstractsofafricanlandscapesbutaerialmethodsareknowntoundercountgiraffesgroundbasedsurveymethodsaremoreaccurateandcanbeusedinconjunctionwithaerialsurveystomakeaccurateestimatesofpopulationsizesandtrendsseealsofaunaofafricagiraffecentregiraffemanorhotelinnairobiwithgiraffesreferencesexternallinksgiraffeconservationfoundation\n"
          ]
        }
      ]
    },
    {
      "cell_type": "markdown",
      "source": [
        "Instead of directly using characters as the features, to understand a text better, we may consider group of tokens i.e. ngrams as features.\n",
        " \n",
        "For this example let us consider that each character is one word, and let us see how n-grams work."
      ],
      "metadata": {
        "id": "XAJNs7PD_cVM"
      }
    },
    {
      "cell_type": "markdown",
      "source": [
        "\n",
        "## nltk library provides many tools for text processing, please explore them."
      ],
      "metadata": {
        "id": "E1pXE4sK_0kl"
      }
    },
    {
      "cell_type": "markdown",
      "metadata": {
        "id": "jXFTWwd0rk63"
      },
      "source": [
        "Now let us calculate the frequency of the character n-grams. N-grams are groups of characters of size n. A unigram is a single character and a bigram is a group of two characters and so on. \n",
        "\n",
        "Let us count the frequency of each character in a text and plot it in a histogram."
      ]
    },
    {
      "cell_type": "code",
      "metadata": {
        "id": "g3Lz3YUjN0L5"
      },
      "source": [
        "## Dont worry if you do not understand these functions right away, you can revisit them and follow step-by-step.\n",
        "\n",
        "# convert a tuple of characters to a string\n",
        "def tuple2string(tup):\n",
        "  st = ''\n",
        "  for ii in tup:\n",
        "    st = st + ii\n",
        "  return st\n",
        "\n",
        "# convert a tuple of tuples to a list of strings\n",
        "def key2string(keys):\n",
        "  return [tuple2string(i) for i in keys]\n",
        "\n",
        "# plot the histogram\n",
        "def plothistogram(ngram):\n",
        "  keys = key2string(ngram.keys()) \n",
        "  values = list(ngram.values())\n",
        "  \n",
        "  # sort the keys in alphabetic order\n",
        "  combined = zip(keys, values) ## keys i.e. characters on x axis and their count in the given doc as values.\n",
        "  zipped_sorted = sorted(combined, key=lambda x: x[0]) ## sorting based on keys, to get a to z order.\n",
        "  keys, values = map(list, zip(*zipped_sorted))\n",
        "  plt.bar(keys, values)"
      ],
      "execution_count": 32,
      "outputs": []
    },
    {
      "cell_type": "markdown",
      "metadata": {
        "id": "zHD62zbZcwAB"
      },
      "source": [
        "Let us compare the histograms of English pages and French pages. Can you spot a difference?"
      ]
    },
    {
      "cell_type": "code",
      "metadata": {
        "id": "LKcGRgH6b0KP",
        "colab": {
          "base_uri": "https://localhost:8080/",
          "height": 545
        },
        "outputId": "224ab589-5738-4f08-b4c8-026e5f73c1da"
      },
      "source": [
        "## we passed ngrams 'n' as 1 to get unigrams. Unigram is nothing but single token (in this case character).\n",
        "## ngrams imported from nltk, it returns ngrams from given string. Counter returns dictionary with keys as elements and counts as values.\n",
        "unigram_eng1 = Counter(ngrams(eng1,1)) ##just to get count of each element. \n",
        "plothistogram(unigram_eng1)\n",
        "plt.title('English 1')\n",
        "plt.show()\n",
        "unigram_eng2 = Counter(ngrams(eng2,1))\n",
        "plothistogram(unigram_eng2)\n",
        "plt.title('English 2')\n",
        "plt.show()"
      ],
      "execution_count": 33,
      "outputs": [
        {
          "output_type": "display_data",
          "data": {
            "text/plain": [
              "<Figure size 432x288 with 1 Axes>"
            ],
            "image/png": "[encoded data removed]"
          },
          "metadata": {
            "needs_background": "light"
          }
        },
        {
          "output_type": "display_data",
          "data": {
            "text/plain": [
              "<Figure size 432x288 with 1 Axes>"
            ],
            "image/png": "[encoded data removed]"
          },
          "metadata": {
            "needs_background": "light"
          }
        }
      ]
    },
    {
      "cell_type": "code",
      "metadata": {
        "id": "fDM_UhCL2QLt",
        "colab": {
          "base_uri": "https://localhost:8080/",
          "height": 545
        },
        "outputId": "f3183b51-6ca3-49d2-b3de-581e76768dd9"
      },
      "source": [
        "unigram_fr1 = Counter(ngrams(fr1,1))\n",
        "plothistogram(unigram_eng1)\n",
        "plt.title('French 1')\n",
        "plt.show()\n",
        "unigram_fr2 = Counter(ngrams(fr2,1))\n",
        "plothistogram(unigram_fr2)\n",
        "plt.title('French 2')\n",
        "plt.show()"
      ],
      "execution_count": 34,
      "outputs": [
        {
          "output_type": "display_data",
          "data": {
            "text/plain": [
              "<Figure size 432x288 with 1 Axes>"
            ],
            "image/png": "[encoded data removed]"
          },
          "metadata": {
            "needs_background": "light"
          }
        },
        {
          "output_type": "display_data",
          "data": {
            "text/plain": [
              "<Figure size 432x288 with 1 Axes>"
            ],
            "image/png": "[encoded data removed]"
          },
          "metadata": {
            "needs_background": "light"
          }
        }
      ]
    },
    {
      "cell_type": "markdown",
      "source": [
        "## A good feature is one that helps in easy prediction and classification. \n",
        "## for ex : if you wish to differentiate between grapes and apples, size can be one of the useful features."
      ],
      "metadata": {
        "id": "VUEys9KoA0L0"
      }
    },
    {
      "cell_type": "markdown",
      "metadata": {
        "id": "kxgrdZLKdkAB"
      },
      "source": [
        "We can see that the unigrams for French and English are very similar. So this is not a good feature if we want to distinguish between English and French. Let us look at bigrams."
      ]
    },
    {
      "cell_type": "code",
      "metadata": {
        "id": "OmRCxItx2T9W",
        "colab": {
          "base_uri": "https://localhost:8080/",
          "height": 1000
        },
        "outputId": "948aefb2-a706-4774-b49a-e9c56e126bf1"
      },
      "source": [
        "## Now instead of unigram, we will use bigrams as features, and see how useful bigrams are as features.\n",
        "\n",
        "bigram_eng1 = Counter(ngrams(eng1,2)) # bigrams\n",
        "plothistogram(bigram_eng1)\n",
        "plt.title('English 1')\n",
        "plt.show()\n",
        "\n",
        "bigram_eng2 = Counter(ngrams(eng2,2))\n",
        "plothistogram(bigram_eng2)\n",
        "plt.title('English 2')\n",
        "plt.show()\n",
        "\n",
        "bigram_fr1 = Counter(ngrams(fr1,2))\n",
        "plothistogram(bigram_eng1)\n",
        "plt.title('French 1')\n",
        "plt.show()\n",
        "\n",
        "bigram_fr2 = Counter(ngrams(fr2,2))\n",
        "plothistogram(bigram_fr2)\n",
        "plt.title('French 2')\n",
        "plt.show()"
      ],
      "execution_count": 35,
      "outputs": [
        {
          "output_type": "display_data",
          "data": {
            "text/plain": [
              "<Figure size 432x288 with 1 Axes>"
            ],
            "image/png": "[encoded data removed]"
          },
          "metadata": {
            "needs_background": "light"
          }
        },
        {
          "output_type": "display_data",
          "data": {
            "text/plain": [
              "<Figure size 432x288 with 1 Axes>"
            ],
            "image/png": "[encoded data removed]"
          },
          "metadata": {
            "needs_background": "light"
          }
        },
        {
          "output_type": "display_data",
          "data": {
            "text/plain": [
              "<Figure size 432x288 with 1 Axes>"
            ],
            "image/png": "[encoded data removed]"
          },
          "metadata": {
            "needs_background": "light"
          }
        },
        {
          "output_type": "display_data",
          "data": {
            "text/plain": [
              "<Figure size 432x288 with 1 Axes>"
            ],
            "image/png": "[encoded data removed]"
          },
          "metadata": {
            "needs_background": "light"
          }
        }
      ]
    },
    {
      "cell_type": "markdown",
      "metadata": {
        "id": "O-egsHMIg5Rp"
      },
      "source": [
        "Another way to visualize bigrams is to use a 2-dimensional graph."
      ]
    },
    {
      "cell_type": "code",
      "source": [
        "## lets have a lot at bigrams.\n",
        "\n",
        "bigram_eng1\n"
      ],
      "metadata": {
        "colab": {
          "base_uri": "https://localhost:8080/"
        },
        "id": "7LYSVe02dG59",
        "outputId": "8edef260-9670-4b23-ce7d-634e00bebbb7"
      },
      "execution_count": 36,
      "outputs": [
        {
          "output_type": "execute_result",
          "data": {
            "text/plain": [
              "Counter({('t', 'h'): 836,\n",
              "         ('h', 'e'): 694,\n",
              "         ('e', 'g'): 164,\n",
              "         ('g', 'i'): 279,\n",
              "         ('i', 'r'): 315,\n",
              "         ('r', 'a'): 441,\n",
              "         ('a', 'f'): 258,\n",
              "         ('f', 'f'): 262,\n",
              "         ('f', 'e'): 286,\n",
              "         ('e', 'i'): 145,\n",
              "         ('i', 's'): 212,\n",
              "         ('s', 'a'): 240,\n",
              "         ('a', 'l'): 398,\n",
              "         ('l', 'a'): 180,\n",
              "         ('a', 'r'): 323,\n",
              "         ('r', 'g'): 39,\n",
              "         ('g', 'e'): 151,\n",
              "         ('e', 'a'): 347,\n",
              "         ('f', 'r'): 77,\n",
              "         ('r', 'i'): 161,\n",
              "         ('i', 'c'): 161,\n",
              "         ('c', 'a'): 168,\n",
              "         ('a', 'n'): 523,\n",
              "         ('n', 'h'): 25,\n",
              "         ('h', 'o'): 110,\n",
              "         ('o', 'o'): 58,\n",
              "         ('o', 'f'): 194,\n",
              "         ('e', 'd'): 280,\n",
              "         ('d', 'm'): 35,\n",
              "         ('m', 'a'): 243,\n",
              "         ('a', 'm'): 77,\n",
              "         ('m', 'm'): 29,\n",
              "         ('l', 'b'): 11,\n",
              "         ('b', 'e'): 121,\n",
              "         ('e', 'l'): 155,\n",
              "         ('l', 'o'): 147,\n",
              "         ('o', 'n'): 368,\n",
              "         ('n', 'g'): 329,\n",
              "         ('i', 'n'): 587,\n",
              "         ('g', 't'): 75,\n",
              "         ('t', 'o'): 246,\n",
              "         ('o', 't'): 138,\n",
              "         ('e', 'n'): 322,\n",
              "         ('n', 'u'): 25,\n",
              "         ('u', 's'): 101,\n",
              "         ('s', 'g'): 42,\n",
              "         ('f', 'a'): 65,\n",
              "         ('a', 'i'): 79,\n",
              "         ('i', 't'): 262,\n",
              "         ('t', 'i'): 317,\n",
              "         ('s', 't'): 365,\n",
              "         ('e', 't'): 175,\n",
              "         ('t', 'a'): 145,\n",
              "         ('l', 'l'): 134,\n",
              "         ('l', 'e'): 266,\n",
              "         ('e', 's'): 659,\n",
              "         ('t', 'l'): 45,\n",
              "         ('l', 'i'): 161,\n",
              "         ('i', 'v'): 92,\n",
              "         ('v', 'i'): 78,\n",
              "         ('t', 'e'): 283,\n",
              "         ('e', 'r'): 467,\n",
              "         ('r', 'r'): 34,\n",
              "         ('r', 'e'): 450,\n",
              "         ('t', 'r'): 91,\n",
              "         ('i', 'a'): 70,\n",
              "         ('n', 'i'): 112,\n",
              "         ('i', 'm'): 70,\n",
              "         ('n', 'd'): 384,\n",
              "         ('d', 't'): 125,\n",
              "         ('r', 'u'): 39,\n",
              "         ('u', 'm'): 58,\n",
              "         ('m', 'i'): 83,\n",
              "         ('n', 'a'): 169,\n",
              "         ('n', 't'): 303,\n",
              "         ('n', 'e'): 193,\n",
              "         ('r', 't'): 139,\n",
              "         ('h', 't'): 74,\n",
              "         ('a', 'd'): 96,\n",
              "         ('d', 'i'): 158,\n",
              "         ('i', 'o'): 162,\n",
              "         ('l', 'y'): 127,\n",
              "         ('y', 'g'): 20,\n",
              "         ('s', 'w'): 81,\n",
              "         ('w', 'e'): 77,\n",
              "         ('o', 'u'): 190,\n",
              "         ('u', 'g'): 47,\n",
              "         ('g', 'h'): 89,\n",
              "         ('t', 't'): 83,\n",
              "         ('o', 'b'): 29,\n",
              "         ('e', 'o'): 86,\n",
              "         ('s', 'p'): 115,\n",
              "         ('p', 'e'): 136,\n",
              "         ('e', 'c'): 238,\n",
              "         ('c', 'i'): 101,\n",
              "         ('i', 'e'): 106,\n",
              "         ('a', 'c'): 127,\n",
              "         ('m', 'e'): 134,\n",
              "         ('o', 'p'): 79,\n",
              "         ('p', 'a'): 80,\n",
              "         ('r', 'd'): 53,\n",
              "         ('d', 'a'): 131,\n",
              "         ('w', 'i'): 92,\n",
              "         ('h', 'n'): 5,\n",
              "         ('s', 'u'): 106,\n",
              "         ('u', 'b'): 27,\n",
              "         ('b', 's'): 15,\n",
              "         ('s', 'm'): 68,\n",
              "         ('m', 'o'): 141,\n",
              "         ('o', 's'): 100,\n",
              "         ('c', 'e'): 108,\n",
              "         ('y', 'r'): 16,\n",
              "         ('s', 'e'): 232,\n",
              "         ('r', 'c'): 38,\n",
              "         ('c', 'h'): 134,\n",
              "         ('r', 's'): 113,\n",
              "         ('p', 'r'): 106,\n",
              "         ('r', 'o'): 236,\n",
              "         ('p', 'o'): 92,\n",
              "         ('d', 'd'): 28,\n",
              "         ('i', 'd'): 47,\n",
              "         ('e', 'm'): 149,\n",
              "         ('u', 'p'): 50,\n",
              "         ('p', 't'): 45,\n",
              "         ('o', 'e'): 19,\n",
              "         ('i', 'g'): 80,\n",
              "         ('e', 'x'): 47,\n",
              "         ('x', 't'): 20,\n",
              "         ('t', 's'): 177,\n",
              "         ('s', 'd'): 33,\n",
              "         ('d', 'u'): 66,\n",
              "         ('u', 'e'): 13,\n",
              "         ('e', 'w'): 70,\n",
              "         ('w', 'r'): 4,\n",
              "         ('h', 'i'): 146,\n",
              "         ('r', 'm'): 44,\n",
              "         ('o', 'c'): 55,\n",
              "         ('d', 'r'): 33,\n",
              "         ('d', 'n'): 17,\n",
              "         ('u', 'c'): 39,\n",
              "         ('c', 'l'): 33,\n",
              "         ('a', 'a'): 22,\n",
              "         ('a', 's'): 231,\n",
              "         ('o', 'r'): 258,\n",
              "         ('r', 'p'): 21,\n",
              "         ('p', 'h'): 20,\n",
              "         ('o', 'l'): 72,\n",
              "         ('o', 'g'): 34,\n",
              "         ('l', 'm'): 11,\n",
              "         ('u', 'r'): 129,\n",
              "         ('s', 's'): 129,\n",
              "         ('e', 'v'): 57,\n",
              "         ('v', 'e'): 228,\n",
              "         ('n', 'o'): 99,\n",
              "         ('n', 'c'): 103,\n",
              "         ('c', 't'): 87,\n",
              "         ('s', 'o'): 168,\n",
              "         ('f', 'g'): 19,\n",
              "         ('e', 'k'): 14,\n",
              "         ('k', 'n'): 13,\n",
              "         ('o', 'w'): 92,\n",
              "         ('w', 'n'): 21,\n",
              "         ('n', 'f'): 27,\n",
              "         ('o', 'm'): 156,\n",
              "         ('m', 't'): 21,\n",
              "         ('e', 'f'): 82,\n",
              "         ('f', 'o'): 118,\n",
              "         ('s', 'i'): 215,\n",
              "         ('i', 'l'): 115,\n",
              "         ('l', 'r'): 4,\n",
              "         ('c', 'o'): 169,\n",
              "         ('s', 'c'): 82,\n",
              "         ('f', 'd'): 6,\n",
              "         ('g', 'u'): 23,\n",
              "         ('u', 'i'): 18,\n",
              "         ('s', 'h'): 98,\n",
              "         ('g', 'c'): 13,\n",
              "         ('h', 'a'): 237,\n",
              "         ('c', 's'): 6,\n",
              "         ('y', 'l'): 18,\n",
              "         ('g', 'n'): 18,\n",
              "         ('c', 'k'): 82,\n",
              "         ('k', 'a'): 30,\n",
              "         ('d', 'l'): 28,\n",
              "         ('g', 's'): 41,\n",
              "         ('r', 'n'): 56,\n",
              "         ('n', 'l'): 35,\n",
              "         ('i', 'k'): 15,\n",
              "         ('k', 'e'): 50,\n",
              "         ('d', 'c'): 25,\n",
              "         ('o', 'a'): 32,\n",
              "         ('a', 't'): 339,\n",
              "         ('t', 'p'): 22,\n",
              "         ('n', 's'): 140,\n",
              "         ('i', 'f'): 32,\n",
              "         ('f', 'i'): 61,\n",
              "         ('u', 'n'): 93,\n",
              "         ('d', 'e'): 137,\n",
              "         ('a', 'e'): 28,\n",
              "         ('g', 'w'): 7,\n",
              "         ('o', 'k'): 29,\n",
              "         ('a', 'p'): 72,\n",
              "         ('p', 'i'): 47,\n",
              "         ('i', 'i'): 4,\n",
              "         ('e', 'e'): 142,\n",
              "         ('d', 's'): 71,\n",
              "         ('s', 'f'): 50,\n",
              "         ('m', 'c'): 3,\n",
              "         ('u', 't'): 55,\n",
              "         ('d', 'f'): 41,\n",
              "         ('m', 'n'): 5,\n",
              "         ('t', 'g'): 20,\n",
              "         ('u', 'a'): 25,\n",
              "         ('y', 'i'): 24,\n",
              "         ('a', 'b'): 58,\n",
              "         ('b', 'i'): 41,\n",
              "         ('a', 'v'): 77,\n",
              "         ('v', 'a'): 49,\n",
              "         ('n', 'n'): 17,\n",
              "         ('a', 'h'): 19,\n",
              "         ('h', 's'): 20,\n",
              "         ('d', 'w'): 15,\n",
              "         ('w', 'o'): 27,\n",
              "         ('o', 'd'): 81,\n",
              "         ('r', 'f'): 29,\n",
              "         ('s', 'l'): 44,\n",
              "         ('f', 'l'): 24,\n",
              "         ('f', 'w'): 4,\n",
              "         ('d', 'y'): 23,\n",
              "         ('y', 'p'): 35,\n",
              "         ('p', 'l'): 32,\n",
              "         ('y', 'a'): 60,\n",
              "         ('w', 'h'): 70,\n",
              "         ('e', 'y'): 44,\n",
              "         ('y', 'b'): 16,\n",
              "         ('b', 'r'): 53,\n",
              "         ('w', 's'): 22,\n",
              "         ('r', 'h'): 15,\n",
              "         ('r', 'b'): 18,\n",
              "         ('v', 'o'): 12,\n",
              "         ('h', 'l'): 11,\n",
              "         ('d', 'h'): 20,\n",
              "         ('h', 'y'): 21,\n",
              "         ('y', 'e'): 24,\n",
              "         ('n', 'w'): 11,\n",
              "         ('l', 'd'): 45,\n",
              "         ('d', 'o'): 69,\n",
              "         ('a', 'y'): 43,\n",
              "         ('y', 'u'): 5,\n",
              "         ('f', 's'): 13,\n",
              "         ('g', 'o'): 22,\n",
              "         ('b', 'a'): 41,\n",
              "         ('f', 'u'): 15,\n",
              "         ('n', 'r'): 22,\n",
              "         ('u', 'l'): 101,\n",
              "         ('l', 't'): 65,\n",
              "         ('t', 'm'): 19,\n",
              "         ('s', 'b'): 65,\n",
              "         ('b', 'u'): 25,\n",
              "         ('g', 'r'): 63,\n",
              "         ('g', 'a'): 67,\n",
              "         ('a', 'g'): 70,\n",
              "         ('g', 'g'): 29,\n",
              "         ('b', 'l'): 60,\n",
              "         ('l', 'h'): 5,\n",
              "         ('h', 'r'): 22,\n",
              "         ('k', 'i'): 45,\n",
              "         ('m', 'b'): 28,\n",
              "         ('t', 'b'): 12,\n",
              "         ('b', 'o'): 42,\n",
              "         ('a', 'w'): 13,\n",
              "         ('n', 'm'): 22,\n",
              "         ('c', 'c'): 20,\n",
              "         ('h', 'b'): 7,\n",
              "         ('i', 'b'): 19,\n",
              "         ('t', 'y'): 37,\n",
              "         ('y', 'f'): 15,\n",
              "         ('y', 'o'): 32,\n",
              "         ('e', 'h'): 54,\n",
              "         ('d', 'v'): 10,\n",
              "         ('c', 'u'): 39,\n",
              "         ('t', 'u'): 52,\n",
              "         ('p', 'p'): 43,\n",
              "         ('f', 't'): 75,\n",
              "         ('n', 'b'): 24,\n",
              "         ('n', 'p'): 12,\n",
              "         ('k', 's'): 26,\n",
              "         ('d', 'b'): 34,\n",
              "         ('b', 'y'): 31,\n",
              "         ('y', 't'): 40,\n",
              "         ('l', 'u'): 29,\n",
              "         ('r', 'v'): 43,\n",
              "         ('f', 'n'): 4,\n",
              "         ('i', 'u'): 15,\n",
              "         ('c', 'n'): 3,\n",
              "         ('s', 'v'): 5,\n",
              "         ('v', 'u'): 4,\n",
              "         ('l', 'n'): 9,\n",
              "         ('n', 'y'): 13,\n",
              "         ('l', 'f'): 20,\n",
              "         ('s', 'n'): 21,\n",
              "         ('l', 'p'): 15,\n",
              "         ('r', 'k'): 12,\n",
              "         ('d', 'g'): 23,\n",
              "         ('o', 'x'): 12,\n",
              "         ('x', 'i'): 15,\n",
              "         ('y', 'm'): 14,\n",
              "         ('e', 'p'): 84,\n",
              "         ('n', 'z'): 6,\n",
              "         ('z', 'o'): 7,\n",
              "         ('g', 'y'): 9,\n",
              "         ('r', 'l'): 37,\n",
              "         ('t', 'k'): 3,\n",
              "         ('c', 'w'): 2,\n",
              "         ('d', 'z'): 5,\n",
              "         ('z', 'a'): 4,\n",
              "         ('h', 'p'): 6,\n",
              "         ('p', 's'): 22,\n",
              "         ('l', 's'): 70,\n",
              "         ('b', 'n'): 1,\n",
              "         ('t', 'w'): 41,\n",
              "         ('w', 'a'): 47,\n",
              "         ('l', 'k'): 9,\n",
              "         ('g', 'l'): 19,\n",
              "         ('s', 'j'): 1,\n",
              "         ('j', 'a'): 6,\n",
              "         ('z', 'i'): 4,\n",
              "         ('h', 'w'): 6,\n",
              "         ('e', 'u'): 30,\n",
              "         ('d', 'p'): 23,\n",
              "         ('y', 'd'): 9,\n",
              "         ('h', 'j'): 2,\n",
              "         ('h', 'g'): 7,\n",
              "         ('a', 'u'): 24,\n",
              "         ('t', 'z'): 1,\n",
              "         ('z', 't'): 1,\n",
              "         ('m', 'g'): 5,\n",
              "         ('h', 'f'): 8,\n",
              "         ('m', 'd'): 3,\n",
              "         ('t', 'd'): 12,\n",
              "         ('k', 'k'): 1,\n",
              "         ('m', 'l'): 2,\n",
              "         ('m', 'k'): 1,\n",
              "         ('k', 'm'): 4,\n",
              "         ('o', 'i'): 15,\n",
              "         ('a', 'x'): 6,\n",
              "         ('x', 'o'): 8,\n",
              "         ('m', 'y'): 13,\n",
              "         ('a', 'o'): 7,\n",
              "         ('y', 'w'): 6,\n",
              "         ('m', 'u'): 24,\n",
              "         ('h', 'm'): 14,\n",
              "         ('o', 'v'): 35,\n",
              "         ('l', 'g'): 10,\n",
              "         ('c', 'r'): 25,\n",
              "         ('o', 'h'): 16,\n",
              "         ('m', 'p'): 39,\n",
              "         ('t', 'v'): 5,\n",
              "         ('e', 'b'): 74,\n",
              "         ('s', 'k'): 32,\n",
              "         ('k', 'u'): 16,\n",
              "         ('f', 'v'): 2,\n",
              "         ('r', 'w'): 10,\n",
              "         ('h', 'u'): 17,\n",
              "         ('r', 'y'): 42,\n",
              "         ('y', 'x'): 4,\n",
              "         ('x', 'w'): 2,\n",
              "         ('h', 'h'): 10,\n",
              "         ('m', 's'): 12,\n",
              "         ('i', 'z'): 9,\n",
              "         ('z', 'e'): 11,\n",
              "         ('x', 'a'): 5,\n",
              "         ('b', 'c'): 3,\n",
              "         ('x', 'm'): 3,\n",
              "         ('y', 'h'): 16,\n",
              "         ('l', 'w'): 5,\n",
              "         ('l', 'c'): 18,\n",
              "         ('s', 'r'): 26,\n",
              "         ('x', 's'): 3,\n",
              "         ('m', 'w'): 5,\n",
              "         ('l', 'v'): 28,\n",
              "         ('k', 'p'): 5,\n",
              "         ('y', 's'): 44,\n",
              "         ('g', 'j'): 2,\n",
              "         ('j', 'u'): 10,\n",
              "         ('y', 'c'): 11,\n",
              "         ('c', 'p'): 1,\n",
              "         ('t', 'c'): 30,\n",
              "         ('u', 'd'): 27,\n",
              "         ('x', 'p'): 8,\n",
              "         ('f', 'm'): 12,\n",
              "         ('h', 'c'): 16,\n",
              "         ('n', 'j'): 5,\n",
              "         ('c', 'q'): 1,\n",
              "         ('q', 'u'): 13,\n",
              "         ('g', 'm'): 11,\n",
              "         ('i', 'x'): 6,\n",
              "         ('x', 'l'): 1,\n",
              "         ('g', 'd'): 9,\n",
              "         ('i', 'p'): 19,\n",
              "         ('x', 'c'): 3,\n",
              "         ('g', 'f'): 4,\n",
              "         ('p', 'u'): 23,\n",
              "         ('e', 'q'): 8,\n",
              "         ('p', 'b'): 2,\n",
              "         ('a', 'j'): 2,\n",
              "         ('p', 'y'): 2,\n",
              "         ('m', 'f'): 12,\n",
              "         ('k', 'g'): 7,\n",
              "         ('b', 'f'): 4,\n",
              "         ('d', 'k'): 6,\n",
              "         ('t', 'f'): 19,\n",
              "         ('k', 't'): 5,\n",
              "         ('u', 'f'): 8,\n",
              "         ('f', 'h'): 5,\n",
              "         ('k', 'b'): 4,\n",
              "         ('t', 'n'): 5,\n",
              "         ('w', 'm'): 2,\n",
              "         ('g', 'p'): 8,\n",
              "         ('i', 'q'): 2,\n",
              "         ('x', 'b'): 1,\n",
              "         ('s', 'y'): 8,\n",
              "         ('x', 'u'): 6,\n",
              "         ('x', 'e'): 2,\n",
              "         ('c', 'm'): 9,\n",
              "         ('g', 'v'): 2,\n",
              "         ('p', 'w'): 5,\n",
              "         ('p', 'c'): 2,\n",
              "         ('w', 't'): 9,\n",
              "         ('p', 'f'): 1,\n",
              "         ('k', 'o'): 6,\n",
              "         ('k', 'l'): 5,\n",
              "         ('r', 'j'): 2,\n",
              "         ('w', 'c'): 3,\n",
              "         ('k', 'w'): 3,\n",
              "         ('u', 'v'): 2,\n",
              "         ('k', 'r'): 3,\n",
              "         ('a', 'k'): 10,\n",
              "         ('g', 'b'): 7,\n",
              "         ('o', 'y'): 4,\n",
              "         ('c', 'v'): 4,\n",
              "         ('k', 'v'): 1,\n",
              "         ('t', 'j'): 2,\n",
              "         ('j', 'o'): 2,\n",
              "         ('b', 'd'): 1,\n",
              "         ('n', 'q'): 1,\n",
              "         ('f', 'b'): 9,\n",
              "         ('k', 'd'): 2,\n",
              "         ('c', 'g'): 1,\n",
              "         ('h', 'd'): 5,\n",
              "         ('b', 't'): 1,\n",
              "         ('y', 'n'): 12,\n",
              "         ('f', 'c'): 4,\n",
              "         ('b', 'j'): 5,\n",
              "         ('j', 'e'): 5,\n",
              "         ('n', 'k'): 16,\n",
              "         ('k', 'y'): 3,\n",
              "         ('m', 'h'): 4,\n",
              "         ('n', 'x'): 1,\n",
              "         ('w', 'w'): 2,\n",
              "         ('x', 'y'): 2,\n",
              "         ('e', 'j'): 1,\n",
              "         ('n', 'v'): 6,\n",
              "         ('f', 'p'): 4,\n",
              "         ('c', 'y'): 2,\n",
              "         ('f', 'y'): 1,\n",
              "         ('b', 'p'): 1,\n",
              "         ('x', 'g'): 1,\n",
              "         ('e', 'z'): 2,\n",
              "         ('w', 'l'): 1,\n",
              "         ('p', 'm'): 2,\n",
              "         ('h', 'v'): 1,\n",
              "         ('b', 'm'): 1,\n",
              "         ('w', 'b'): 2,\n",
              "         ('w', 'd'): 2,\n",
              "         ('p', 'n'): 1,\n",
              "         ('b', 'g'): 1,\n",
              "         ('k', 'c'): 1,\n",
              "         ('y', 'k'): 1,\n",
              "         ('a', 'q'): 1,\n",
              "         ('y', 'z'): 2,\n",
              "         ('w', 'f'): 1,\n",
              "         ('u', 'x'): 3,\n",
              "         ('p', 'g'): 1,\n",
              "         ('y', 'j'): 1,\n",
              "         ('i', 'w'): 2,\n",
              "         ('r', 'z'): 1,\n",
              "         ('z', 'h'): 1,\n",
              "         ('l', 'q'): 1,\n",
              "         ('q', 'i'): 1,\n",
              "         ('s', 'x'): 1,\n",
              "         ('h', 'k'): 1,\n",
              "         ('g', 'z'): 1,\n",
              "         ('m', 'v'): 1,\n",
              "         ('m', 'r'): 2,\n",
              "         ('f', 'k'): 1,\n",
              "         ('k', 'h'): 3,\n",
              "         ('a', 'z'): 1})"
            ]
          },
          "metadata": {},
          "execution_count": 36
        }
      ]
    },
    {
      "cell_type": "code",
      "metadata": {
        "id": "3EaPJgtaVxZM"
      },
      "source": [
        "## a function to plot 2-D histogram. The values are color mapped. \n",
        "\n",
        "def plotbihistogram(ngram):\n",
        "  freq = np.zeros((26,26))\n",
        "  for ii in range(26):\n",
        "    for jj in range(26):\n",
        "      freq[ii,jj] = ngram[(chr(ord('a')+ii), chr(ord('a')+jj))] #ord converts char to code\n",
        "  plt.imshow(freq, cmap = 'jet')\n",
        "  plt.colorbar()\n",
        "  return freq"
      ],
      "execution_count": 37,
      "outputs": []
    },
    {
      "cell_type": "code",
      "source": [
        "ord"
      ],
      "metadata": {
        "colab": {
          "base_uri": "https://localhost:8080/"
        },
        "id": "4IFVtO8q8TJB",
        "outputId": "1346c871-9660-406a-9c8e-5f8d0e62cc38"
      },
      "execution_count": 38,
      "outputs": [
        {
          "output_type": "execute_result",
          "data": {
            "text/plain": [
              "<function ord(c, /)>"
            ]
          },
          "metadata": {},
          "execution_count": 38
        }
      ]
    },
    {
      "cell_type": "code",
      "metadata": {
        "id": "M7jq3AwnVzQT",
        "colab": {
          "base_uri": "https://localhost:8080/",
          "height": 513
        },
        "outputId": "4ef10dbc-02cb-4463-8cce-7c4cace05330"
      },
      "source": [
        "bieng1 = plotbihistogram(bigram_eng1)\n",
        "plt.show()\n",
        "bieng2 = plotbihistogram(bigram_eng2)"
      ],
      "execution_count": 39,
      "outputs": [
        {
          "output_type": "display_data",
          "data": {
            "text/plain": [
              "<Figure size 432x288 with 2 Axes>"
            ],
            "image/png": "[encoded data removed]"
          },
          "metadata": {
            "needs_background": "light"
          }
        },
        {
          "output_type": "display_data",
          "data": {
            "text/plain": [
              "<Figure size 432x288 with 2 Axes>"
            ],
            "image/png": "[encoded data removed]"
          },
          "metadata": {
            "needs_background": "light"
          }
        }
      ]
    },
    {
      "cell_type": "code",
      "metadata": {
        "id": "UXPTOj67WsPT",
        "colab": {
          "base_uri": "https://localhost:8080/",
          "height": 513
        },
        "outputId": "35f000ea-3ce5-4020-d303-006f882d7feb"
      },
      "source": [
        "bifr1 = plotbihistogram(bigram_fr1)\n",
        "plt.show()\n",
        "bifr2 = plotbihistogram(bigram_fr2)"
      ],
      "execution_count": 40,
      "outputs": [
        {
          "output_type": "display_data",
          "data": {
            "text/plain": [
              "<Figure size 432x288 with 2 Axes>"
            ],
            "image/png": "[encoded data removed]"
          },
          "metadata": {
            "needs_background": "light"
          }
        },
        {
          "output_type": "display_data",
          "data": {
            "text/plain": [
              "<Figure size 432x288 with 2 Axes>"
            ],
            "image/png": "[encoded data removed]"
          },
          "metadata": {
            "needs_background": "light"
          }
        }
      ]
    },
    {
      "cell_type": "markdown",
      "metadata": {
        "id": "rGOEHcyGokD0"
      },
      "source": [
        "Let us look at the top 10 ngrams for each text. "
      ]
    },
    {
      "cell_type": "code",
      "metadata": {
        "id": "dk2TkzTno8vb"
      },
      "source": [
        "from IPython.core.debugger import set_trace\n",
        "\n",
        "def ind2tup(ind):\n",
        "  ind = int(ind)\n",
        "  i = int(ind/26)\n",
        "  j = int(ind%26)\n",
        "  return (chr(ord('a')+i), chr(ord('a')+j))\n",
        "\n",
        "def ShowTopN(bifreq, n=10):\n",
        "  f = bifreq.flatten()\n",
        "  arg = np.argsort(-f)\n",
        "  for ii in range(n):\n",
        "    print(f'{ind2tup(arg[ii])} : {f[arg[ii]]}')\n"
      ],
      "execution_count": 41,
      "outputs": []
    },
    {
      "cell_type": "code",
      "metadata": {
        "id": "_HeWNh_q0QZ1",
        "colab": {
          "base_uri": "https://localhost:8080/"
        },
        "outputId": "b9abad58-9e95-450a-e358-abeb4ec40582"
      },
      "source": [
        "print('\\nEnglish 1:')\n",
        "ShowTopN(bieng1)\n",
        "print('\\nEnglish 2:')\n",
        "ShowTopN(bieng2)\n",
        "print('\\nFrench 1:')\n",
        "ShowTopN(bifr1)\n",
        "print('\\nFrench 2:')\n",
        "ShowTopN(bifr2)"
      ],
      "execution_count": 42,
      "outputs": [
        {
          "output_type": "stream",
          "name": "stdout",
          "text": [
            "\n",
            "English 1:\n",
            "('t', 'h') : 836.0\n",
            "('h', 'e') : 694.0\n",
            "('e', 's') : 659.0\n",
            "('i', 'n') : 587.0\n",
            "('a', 'n') : 523.0\n",
            "('e', 'r') : 467.0\n",
            "('r', 'e') : 450.0\n",
            "('r', 'a') : 441.0\n",
            "('a', 'l') : 398.0\n",
            "('n', 'd') : 384.0\n",
            "\n",
            "English 2:\n",
            "('t', 'h') : 1482.0\n",
            "('a', 'n') : 1366.0\n",
            "('h', 'e') : 1194.0\n",
            "('i', 'n') : 1013.0\n",
            "('n', 't') : 828.0\n",
            "('e', 'r') : 803.0\n",
            "('e', 's') : 759.0\n",
            "('r', 'e') : 755.0\n",
            "('l', 'e') : 720.0\n",
            "('h', 'a') : 715.0\n",
            "\n",
            "French 1:\n",
            "('e', 's') : 735.0\n",
            "('l', 'e') : 437.0\n",
            "('e', 'n') : 410.0\n",
            "('d', 'e') : 388.0\n",
            "('o', 'n') : 349.0\n",
            "('n', 't') : 328.0\n",
            "('r', 'e') : 314.0\n",
            "('e', 'l') : 302.0\n",
            "('s', 'e') : 254.0\n",
            "('l', 'a') : 244.0\n",
            "\n",
            "French 2:\n",
            "('e', 's') : 1036.0\n",
            "('n', 't') : 795.0\n",
            "('d', 'e') : 657.0\n",
            "('e', 'n') : 650.0\n",
            "('l', 'e') : 625.0\n",
            "('a', 'n') : 557.0\n",
            "('r', 'e') : 485.0\n",
            "('o', 'n') : 484.0\n",
            "('e', 'l') : 442.0\n",
            "('s', 'e') : 390.0\n"
          ]
        }
      ]
    },
    {
      "cell_type": "markdown",
      "source": [
        "## At times, we need to reduce the number of features. We will discuss this more in the upcoming sessions, but a small example has been discussed here. Instead of using each unique token (a word) as a feature, we reduced the number of features by using 1-gram and 2-gram of characters as features."
      ],
      "metadata": {
        "id": "RfwwQj_4CyBA"
      }
    },
    {
      "cell_type": "markdown",
      "metadata": {
        "id": "6kDovOP4l98z"
      },
      "source": [
        "We observe that the bigrams are similar across different topics but different across languages. Thus, the bigram frequency is a good feature for distinguishing languages, but not for distinguishing topics. \n",
        "\n",
        "Thus, we were able to convert a many-dimensional input (the text) to 26 dimesions (unigrams) or 26*26 dimensions (bigrams).\n",
        "\n",
        "\n",
        "A few ways to explore:\n",
        "1. Try with different languages.\n",
        "2. The topics we used are quite similar, wikipedia articles of 'elephant' and 'giraffe'. What happens if we use very different topics? What if we use text from another source than Wikipedia?\n",
        "3. How can we use and visualize trigrams and higher n-grams?"
      ]
    },
    {
      "cell_type": "markdown",
      "source": [
        "# 1.Question"
      ],
      "metadata": {
        "id": "WDt4N7aRIG03"
      }
    },
    {
      "cell_type": "code",
      "source": [
        "! pip install wikipedia\n",
        "\n",
        "import wikipedia"
      ],
      "metadata": {
        "id": "V1kdw8ZDIMlm",
        "outputId": "90f8d4f8-6b37-4896-80e8-6f91e5419bb2",
        "colab": {
          "base_uri": "https://localhost:8080/"
        }
      },
      "execution_count": 78,
      "outputs": [
        {
          "output_type": "stream",
          "name": "stdout",
          "text": [
            "Looking in indexes: https://pypi.org/simple, https://us-python.pkg.dev/colab-wheels/public/simple/\n",
            "Requirement already satisfied: wikipedia in /usr/local/lib/python3.7/dist-packages (1.4.0)\n",
            "Requirement already satisfied: beautifulsoup4 in /usr/local/lib/python3.7/dist-packages (from wikipedia) (4.6.3)\n",
            "Requirement already satisfied: requests<3.0.0,>=2.0.0 in /usr/local/lib/python3.7/dist-packages (from wikipedia) (2.23.0)\n",
            "Requirement already satisfied: urllib3!=1.25.0,!=1.25.1,<1.26,>=1.21.1 in /usr/local/lib/python3.7/dist-packages (from requests<3.0.0,>=2.0.0->wikipedia) (1.24.3)\n",
            "Requirement already satisfied: idna<3,>=2.5 in /usr/local/lib/python3.7/dist-packages (from requests<3.0.0,>=2.0.0->wikipedia) (2.10)\n",
            "Requirement already satisfied: chardet<4,>=3.0.2 in /usr/local/lib/python3.7/dist-packages (from requests<3.0.0,>=2.0.0->wikipedia) (3.0.4)\n",
            "Requirement already satisfied: certifi>=2017.4.17 in /usr/local/lib/python3.7/dist-packages (from requests<3.0.0,>=2.0.0->wikipedia) (2022.6.15)\n"
          ]
        }
      ]
    },
    {
      "cell_type": "code",
      "source": [
        "#trying with different languages\n",
        "\n",
        "topic1 = 'Giraffe'\n",
        "topic2 = 'Elephant'\n",
        "wikipedia.set_lang('en') \n",
        "eng1 = wikipedia.page(topic1).content\n",
        "eng2 = wikipedia.page(topic2).content\n",
        "wikipedia.set_lang('hi')\n",
        "hi1 = wikipedia.page(topic1).content\n",
        "hi2 = wikipedia.page(topic2).content"
      ],
      "metadata": {
        "id": "Oy9wJXdYIW3v"
      },
      "execution_count": 79,
      "outputs": []
    },
    {
      "cell_type": "code",
      "source": [
        "print(hi1)"
      ],
      "metadata": {
        "id": "uBn27zE9JFVA",
        "outputId": "1604371d-fbf2-45ef-e4bd-44b6f64dc4f3",
        "colab": {
          "base_uri": "https://localhost:8080/"
        }
      },
      "execution_count": 80,
      "outputs": [
        {
          "output_type": "stream",
          "name": "stdout",
          "text": [
            "खुरदार या अंग्युलेट (ungulate) ऐसे स्तनधारी जानवरों को कहा जाता है जो चलते समय अपना भार अपने पाऊँ की उँगलियों के अंतिम भागों पर उठाते हैं। यह भार सहन करने के लिए ऐसे पशुओं के पाऊँ अक्सर खुरों के रूप में होते हैं। स्तनधारियों के बहुत से गण खुरदार होते हैं। बहुत से जाने-पहचाने प्राणी इस श्रेणी में आते हैं, जिसमें घोड़ा, गधा, ज़ेब्रा, गाय, गेंडा, ऊँट, दरियाई घोड़ा, सूअर, बकरी, तापीर, हिरन, जिराफ़, ओकापी, साइगा और रेनडियर शामिल हैं।\n",
            "किसी ज़माने में 'खुरदार' टैक्सोन (जीव जातियों का समूह) एक क्लेड माना जाता था, यानि यह समझा जाता था कि खुर किसी एक जाति में क्रम-विकास (एवोल्यूशन) से उत्पन्न हुए और उस जाति से आगे उत्पन्न हर वंशज जाति खुरदार है। वर्तमानकाल में इस विचार को लेकर जीववैज्ञानिकों में मतभेद है और बहुत से विद्वानों के अनुसार भिन्न खुरदार जातियाँ एक-दूसरे से उतनी अनुवांशिक (जेनेटिक) गहराई से सम्बंधित नहीं हैं जितना पहले समझा जाता था। अधिकतर खुरदारी शाकाहारी होते हैं। ध्यान दें कि शरीरों और अनुवांशिकी की जाँच से कुछ पानी में विचारने वाले जानवरों को भी खुरदार की श्रेणी में डाला जाता है हालाँकि कड़ी नज़र से देखा जाए तो इनके खुर नहीं होते।\n",
            "\n",
            "\n",
            "== उपश्रेणियाँ ==\n",
            "शुरू में वैज्ञानिक सभी खुरदारों को एक ही जीववैज्ञानिक गण का हिस्सा मानते थे, लेकिन अब इन्हें कई अलग श्रेणियों में विभाजित किया जाता है:\n",
            "\n",
            "पेरिसोडैकटिला या विषम-ऊँगली खुरदार (Perissodactyla या odd-toed ungulates) - इनके खुरों में उँगलियों की संख्या विषम अंक (even) होती है\n",
            "आर्टियोडैकटिला या सम-ऊँगली खुरदार (Artiodactyla या even-toed ungulates) - इनके खुरों में उँगलियों की संख्या सम अंक (even) होती है\n",
            "ट्युबुलिडेंटाटा या आर्डवार्क (Tubulidentata या aardvarks) - इसकी कई नस्लें हुआ करती थीं लेकिन आर्डवार्क के सिवा सभी विलुप्त हो चुकी हैं\n",
            "हायराकोइडीया या हायरैक्स (Hyracoidea या hyraxes) - यह छोटे आकार की जातियाँ अफ़्रीका और मध्य पूर्व में ही मिलती हैं\n",
            "सायरीनिया या डूगोंग व मैनाटी (Sirenia या dugongs and manatees) - यह बड़े आकार के नदियों और तटीय समुद्री इलाकों में रहने वाले जानवर हैं\n",
            "प्रोबोसिडीया या हाथी (Proboscidea या elephants) - आधुनिक हाथियों के अलावा इस श्रेणी में विलुप्त हुई मैमथ और मैस्टोडॉन जातियाँ भी शामिल थीं\n",
            "\n",
            "\n",
            "== वर्गीकरण ==\n",
            "खुरीय (Ungulata) नालोत्पन्न स्तनपोषियों का एक बड़ा वर्ग है, जिसके अंतर्गत खुरवाले शाकाहारी चौपाए आते है। नवयुग के पश्चात् ई. वॉटन् (E. Wotton) (१५५२) ने जरायुज चौपायों को बहुपादांगुलीय, खुरीय एवं सुमवालों में विभाजित किया। १६९३ में जॉन रे ने इन चौपायों को दो बड़े वर्गों, खुरीय (Ungulata) और नखरिण (Unguiculata) में विभक्त किया। रे के पश्चात् कुछ लुप्त एवं कुछ बाद में पता लगे हुए वर्ग भी खुरीय के अंतर्गत समाविष्ट कर लिए गए। ऑस्बार्न के स्तनपोषियों का युग नामक ग्रंथ में खुरीयों के गणों का उल्लेख मिलता है। अधिकांश खुरीयों के पैर पतले एवं दौड़ने में समर्थ होते हैं तथा उनका शरीर पृथ्वी से पर्याप्त ऊँचा रहता है। वे खुरों के बल चलते हैं। इनके अगले, पिछले पैरों के ऊपरी भाग धड़ से इतने सटे रहते हैं कि दिखलाई नहीं पड़ते।\n",
            "सामान्यता खुरीय पशु खुले भूभाग में रहने के अभ्यस्त होते हैं। जहाँ वे घास-पात पर जीते हैं। इनके बहुत से गण विलुप्त हो चुके हैं। जीवित गणों का वितरण निम्नलिखित है:\n",
            "\n",
            "\n",
            "=== विषमांगुल गण (Perissodactyla) ===\n",
            "इस वर्ग के पशुओं में अगले और पिछले पैरों के मध्यांगुल मुख्य हैं जिनपर शरीर का अधिकांश भार रहता है। तीसरा अंगुल ही अवयव का केंद्रवर्ती भाग है। इनके दाँत सामान्यता कूटदंत होते हैं। वर्तमान विषमांगुल तीन वंशों में विभक्त किए गए हैं।\n",
            "\n",
            "(क) अश्व वंश (घोड़ा, गधा तथा चित्रगर्दभ)- इस वंश के पशुओं की मुख्य विशेषता यह है कि इनके प्रत्येक पैर में केवल एक ही अंगुल (अर्थात् तीसरा अंगुल) कार्यशील होता है। दूसरे और चौथे अंगुल के अवशेषमात्र ही रह गए हैं, जिन्हें भग्नास्थिबंध (Splint bones) कहते हैं। इनके पश्चहानव्यो (molars) की रचना बड़ी जटिल होती है। वे उनके जीवनकाल में बराबर घिसते रहते हैं तथा उनके विघर्षण की मात्रा से पशुओं की आयु का पता लगाया जा सकता हैं।(ख) लुलापवंश (जलतुरग, Tapir) - इनकी मुख्य विशेषताएँ हैं मझोला आकार एवं नाक तथा उत्तरोष्ठ के आगे बढ़ जाने से बनी हुई सूँड की सी आकृति। इनके अगले पैरों में चार चार तथा पिछले में तीन तीन अंगुल होते हैं। जलतुरग केवल दक्षिणी एवं मध्य अमरीका तथा मलाया प्रायद्वीप में पाए जाते हैं।(ग) गंडक वंश (गैंडा)- इस वर्ग में कुछ विशालकाय पशुजातियाँ समाविष्ट हैं। इनका वैशिष्ट्य नाक के मध्य में स्थित एक या दो सींगों से सूचित होता है; किंतु वे वास्तव में सींग नहीं हैं, क्योंकि वे नासिका की ऊपरी अस्थियों से जुड़े हुए बाल जैसे रेशों के समूह हैं। इनके अगले पैरों में सामान्यता तीन, या कभी कभी चार तक, अंगुल होते हैं, किंतु तीसरा अंगुल ही सर्वाधिक महत्वपूर्ण होता है। पिछले पैरों में सर्वदा तीन ही अंगुल होते हैं। उत्तरोष्ठ लंबा होने के साथ साथ परिग्राही भी होता हैं, किंतु जलतुरगों के समान सूँड का आकार धारण नहीं करता। त्वचा बहुत मोटी होती है और उसपर बाल बहुत छिदरे होते हैं। गैंडे बहुत भयंकर और दुर्दम्य होते हैं तथा शत्रु पर बड़े क्रोध एवं अप्रतिहत वेग से आक्रमण करते हैं। वे भारत तथा अफ्रीका में पाए जाते हैं।\n",
            "\n",
            "\n",
            "=== समांगुल गण (Artiodactyla) ===\n",
            "इस गण में सूअर, जलहस्ती, पोत्री (Peccaries), ऊँट, मृग, मूस, (Moose, उत्तरी अमरीका का हिरन), ऋष्य (Elk), महाग्रीव (जिराफ, Giraffe), शूलशृंग (Prong horn), चौपाए, भैंस और भैंसे, वृषहरिण (Gnus), हरिण, कुरंग (Gazelle), चमरी (Yak), भेंड़, रंकु (Ibex), बकरे और बकरियाँ तथा अन्य बहुत से अख्यात प्रकार के पशु आते हैं। ये साधारणतया केवल स्थलचर प्राणी हैं, यद्यपि इनमें से कुछ अर्धजलचर भी होते हैं। ये अर्धजलचर प्राणी अधिकांश शीघ्रगामी होते हैं, परंतु इतने भारी शरीर के होते हैं कि इनके पैर अधिक शीघ्रता से नहीं उठते। इनके दो या चार अंगुलों में खुर होते हैं। शुद्ध शकाहारी होने के कारण इनके उदर में कई विभाग मिलते हैं।\n",
            "\n",
            "\n",
            "==== वर्ग १० शूकर (सूअर) ====\n",
            "इस वर्ग में तीन वंश उपलब्ध हैं। वे क्रमश: इस प्रकार हैं : जलहस्ती (Hippopotamus), सूअर तथा पोत्री। जलहस्ती विशाल एवं भारी शरीरवाले होते हैं। इनके हरेक अगले पैरों की तुलना में पिछले पैर बड़े होने के कारण इसकी पीठ आगे की ओर झुकी होती है। यह रोमंथी दक्षिणी अमरीका का निवासी है।\n",
            "पैर में चार चार खुर होते हैं। ये अफ्रीका में पाए जाते हैं। छोटे आकार के जलहस्ती साइबीरिया में मिलते हैं। शूकर वंश में यूरोप के जंगली सूअर, कीलयुक्त चर्मवाले तथा अन्य कई प्रकार के सूअर हैं। पोत्री सूअर जैसे द्रुतगामी प्राणी है, जो सदैव बड़े बड़े समूहों में रहते हैं। इस कारण ये इतने भयंकर होते हैं कि उनका सामना नहीं किया जा सकता।\n",
            "\n",
            "\n",
            "==== वर्ग २० रोमंथिन (Ruminantia) ====\n",
            "ये खुरीय पशु जुगाली करनेवाले कहे जाते हैं, क्योंकि ये अपने भोज्य पदार्थ को पहले तो बिना चबाए ही निगल जाते हैं, फिर उसमें से थोड़ा थोड़ा मुँह में लाकर चबाते हैं। ये पशु तीन महागणों से विभाजित हैं। \n",
            "\n",
            "मुंडि महागण, यथा मातृका मृग\n",
            "उष्ट्र महागण, यथा ऊँट एवं विकूट (Llama)\n",
            "प्ररोमंथि महागण, जैसे मृग, हरिण, वृषभ, महाग्रीव, अज तथा अवि।मातृका मृग रोमंथियों में सबसें आद्य है। ऊँट रोमंथियों का एक छोटा समूह है। यह एशिया और अफ्रीका के मरुस्थल मात्र में सीमित है। इसकी दो विशेषताएँ प्रसिद्ध हैं-यह जल के बिना लंबे समय तक रह सकता है एवं भोजन के अभाव में अपने कूबड़ के चर्बीयुक्त अंश से निर्वाह कर लेता है। इन्हीं दोनों विशेषताओं से यह अपना जीवन मरुभूमि में सुचारु रूप से व्यतीत कर सकता है। अतएव यह एशिया तथा अफ्रीका के लंबे मरुमार्गों के लिए नितांत उपयुक्त भारवाहक सिद्ध हुआ है। इसलिये इसे मरुस्थल का जहाज भी कहा गया है। विकूटों में भी ऊँटों जैसे गुण हैं। ये दक्षिण अमरीका के प्राणी हैं।\n",
            "प्ररोमंथि महागण में -\n",
            "\n",
            "(१) मृग वंश अति विशाल है। इसमें ऋष्यहरिण इत्यादि पूर्ण परिचित जीव हैं। सींगों की शाखाओं का नरों में होना इनकी विशेषता है, परंतु वाहमृग (Reindeer) में यह नर और मादा दोनों में पाई जाती है। ये शृंगशाखाएँ विभिन्न प्रकार की होती हैं। किसी में छोटे तथा बिना शाखाओं के शृंग होते हैं, जैसे क्षुद्र मृग में, तथा कुछ में बहुशाखोपशाखायुक्त विशाल शृंग होते हैं, जैसे ऋष्य में। परंतु ये सभी शृंग ठोस अस्थियों से निर्मित होते हैं। अमरीका के ऋष्य मृगवंश के राजा कहे जाते हैं, क्योंकि ये विशालकाय होते हैं। वाह मृग उत्तर के परध्रुिवीय प्रदेशों में मिलते हैं। कस्तुरी मृग अपवाद-स्वरूप है। इनके सींग नहीं होते, किंतु हाथी के दाँत सरीखे दो लंबे, नुकीले उद्दंत होते हैं, जो आहार के लिये कंद मूलों को उखाड़ने में प्रयुक्त होते हैं।(२) महाग्रीव वंश रोमंथियों का एक लघु परंतु विशिष्ट समूह है। अधिक ऊँचाई, लंबी गर्दन और पतले पैर इनकी विशेषताएँ हैं। इनके सींग विशेष प्रकार के होते हैं। ये ललाटास्थि से निकलते हैं तथा बालों और चमड़ी से परिपूर्ण होते हैं। यह जीव अफ्रीकावासी हैं। यहाँ पर इसी वंश का एक छोटे आकार का पशु प्रग्रीव (Okapi) मिलता है, जो कुछ कुछ हरिण सा प्रतीत होता है।(३) ढोर वंश रोमंथियों का विशाल वंश है। इसमें बैल, भैंसा, भेड़ एवं बकरी इत्यादि सम्मिलित हैं। इनके सींगों की अपनी विशेषता है। ये खोखले, बिना हड्डी के एवं शृंगि (Keratine) के निर्मित होते हैं तथा नर एवं मादा दोनों में ही पाए जाते हैं। इस वंश के अधिकांश पशु पालतू हैं।\n",
            "\n",
            "\n",
            "=== प्रशश गण ===\n",
            "इस गण में आद्य खुरीयों की एक ही जीवित प्रजाति है जिसे प्रशश (Cony) कहते हैं। यह कृतंक जैसे प्रतीत होते हैं, क्योंकि इनके बंटाखु सरीखे छोटे कान तथा छोटी पूँछ होती है और इनके कर्तनदंत स्थायी मज्जा (Pulp) से निकलते रहते हैं। अपनी कुछ विशेषताओं के कारण ये आद्य खुरीयों में सम्मिलित हैं। इनमें कुछ तो चट्टानों पर रहते हैं और कुछ अंशत: वृक्षवासी भी होते हैं। इनके अगले पैरों में चार और पिछले पैरों में तीन खुर होते हैं।\n",
            "\n",
            "\n",
            "=== शुंडि गण (हाथी) ===\n",
            "इस गण में विशाल आकृति के अत्यंत विशिष्ट स्थलचर स्तनपोषी हैं। इनकी विशेषताएँ ये हैं : नासिका एवं उत्तरोष्ठ से निकली हुई लंबी सूँड, उत्तर हनु के दो कर्तनदंत बाहर की ओर हाथी दाँत के रूप में निकले हुए और पश्चहानव्य नितांत कूटदंत होते हैं। इनकी करोटि की अस्थियों में बड़े बड़े वायुकूप होते हैं और ये बहुत मोटी होती है। हाथी की दो जीवित प्रजातियाँ हैं, प्रथम भारतीय (Elephas indicus) तथा द्वितीय, कालद्वीपीय (E. africanus)। कालद्वीपीय हस्ती विशालतरकाय तथा बड़े कानोंवाला होता हैं। भारतीय हाथी भारवाहन में अतिप्रयुक्त है। इसकी आयु २०० वर्ष तक की होती है।\n",
            "\n",
            "\n",
            "=== समुद्र गो (Sea cow) गण (हस्ती, मकर एवं कटिमकर) ===\n",
            "यह प्रारंभिक खुरीय संजाति की एक जलीय शाखा मानी जाती है, जो शुंडिगण से दूरतया संबद्ध है। यह बड़े, लगभग बिना बालों के, स्तनपोषी हैं। इनके पश्चपाद नहीं होते तथा इनकी पूँछ चपटी पुच्छपक्ष के रूप में होती हैं। इनका उदर अन्य खुरीयों के समान होती है। ये सामुद्रिक वनस्पतियों पर ही निर्वाह करते हैं।\n",
            "\n",
            "\n",
            "== इन्हें भी देखें ==\n",
            "खुर\n",
            "विषम-ऊँगली खुरदार\n",
            "सम-ऊँगली खुरदार\n",
            "स्तनधारी\n",
            "\n",
            "\n",
            "== सन्दर्भ ==\n"
          ]
        }
      ]
    },
    {
      "cell_type": "markdown",
      "source": [
        "# 2nd Answer"
      ],
      "metadata": {
        "id": "n759yS-MJMnv"
      }
    },
    {
      "cell_type": "code",
      "source": [
        "#different topic\n",
        "\n",
        "# importing the module\n",
        "\n",
        "import wikipedia\n",
        " \n",
        "# wikipedia page object is created\n",
        "wikipedia.set_lang(\"en\")\n",
        "\n",
        "page_object = wikipedia.page(\"india country\").content\n",
        " \n",
        "\n",
        "\n",
        "print(page_object)\n",
        " "
      ],
      "metadata": {
        "id": "-seEUR_0JQhI",
        "outputId": "a19e7879-37ed-440c-d7f8-775ee7737f83",
        "colab": {
          "base_uri": "https://localhost:8080/"
        }
      },
      "execution_count": 81,
      "outputs": [
        {
          "output_type": "stream",
          "name": "stdout",
          "text": [
            "India, officially the Republic of India (Hindi: Bhārat Gaṇarājya), is a country in South Asia. It is the seventh-largest country by area, the second-most populous country, and the most populous democracy in the world. Bounded by the Indian Ocean on the south, the Arabian Sea on the southwest, and the Bay of Bengal on the southeast, it shares land borders with Pakistan to the west; China, Nepal, and Bhutan to the north; and Bangladesh and Myanmar to the east. In the Indian Ocean, India is in the vicinity of Sri Lanka and the Maldives; its Andaman and Nicobar Islands share a maritime border with Thailand, Myanmar, and Indonesia. The nation's capital city is New Delhi.\n",
            "Modern humans arrived on the Indian subcontinent from Africa no later than 55,000 years ago.\n",
            "Their long occupation, initially in varying forms of isolation as hunter-gatherers, has made the region highly diverse, second only to Africa in human genetic diversity. Settled life emerged on the subcontinent in the western margins of the Indus river basin 9,000 years ago, evolving gradually into the Indus Valley Civilisation of the third millennium BCE.\n",
            "By 1200 BCE, an archaic form of Sanskrit, an Indo-European language, had diffused into India from the northwest. Its evidence today is found in the hymns of the Rigveda. Preserved by a resolutely vigilant oral tradition, the Rigveda records the dawning of Hinduism in India. The Dravidian languages of India were supplanted in the northern and western regions.\n",
            "By 400 BCE, stratification and exclusion by caste had emerged within Hinduism,\n",
            "and Buddhism and Jainism had arisen, proclaiming social orders unlinked to heredity.\n",
            "Early political consolidations gave rise to the loose-knit Maurya and Gupta Empires based in the Ganges Basin.\n",
            "Their collective era was suffused with wide-ranging creativity, but also marked by the declining status of women, and the incorporation of untouchability into an organised system of belief. In South India, the Middle kingdoms exported Dravidian-languages scripts and religious cultures to the kingdoms of Southeast Asia.In the early medieval era, Christianity, Islam, Judaism, and Zoroastrianism became established on India's southern and western coasts.\n",
            "Muslim armies from Central Asia intermittently overran India's northern plains,\n",
            "eventually founding the Delhi Sultanate, and drawing northern India into the cosmopolitan networks of medieval Islam.\n",
            "In the 15th century, the Vijayanagara Empire created a long-lasting composite Hindu culture in south India.\n",
            "In the Punjab, Sikhism emerged, rejecting institutionalised religion.\n",
            "The Mughal Empire, in 1526, ushered in two centuries of relative peace,\n",
            "leaving a legacy of luminous architecture.\n",
            "Gradually expanding rule of the British East India Company followed, turning India into a colonial economy, but also consolidating its sovereignty. British Crown rule began in 1858. The rights promised to Indians were granted slowly, but technological changes were introduced, and modern ideas of education and the public life took root. A pioneering and influential nationalist movement emerged, which was noted for nonviolent resistance and became the major factor in ending British rule. In 1947 the British Indian Empire was partitioned into two independent dominions, a Hindu-majority Dominion of India and a Muslim-majority Dominion of Pakistan, amid large-scale loss of life and an unprecedented migration.India has been a federal republic since 1950, governed through a democratic parliamentary system. It is a pluralistic, multilingual and multi-ethnic society. India's population grew from 361 million in 1951 to 1.211 billion in 2011.\n",
            "During the same time, its nominal per capita income increased from US$64 annually to US$1,498, and its literacy rate from 16.6% to 74%. From being a comparatively destitute country in 1951,\n",
            "India has become a fast-growing major economy and a hub for information technology services, with an expanding middle class. It has a space programme which includes several planned or completed extraterrestrial missions. Indian movies, music, and spiritual teachings play an increasing role in global culture.\n",
            "India has substantially reduced its rate of poverty, though at the cost of increasing economic inequality.\n",
            "India is a nuclear-weapon state, which ranks high in military expenditure. It has disputes over Kashmir with its neighbours, Pakistan and China, unresolved since the mid-20th century.\n",
            "Among the socio-economic challenges India faces are corruption, gender inequality, child malnutrition,, low attainment and quality of education, primitive water supply and sanitation, and high levels of air and water pollution. India's land is megadiverse, with four biodiversity hotspots. Its forest cover comprises 21.7% of its area. India's wildlife, which has traditionally been viewed with tolerance in India's culture, is supported among these forests, and elsewhere, in protected habitats.\n",
            "\n",
            "\n",
            "== Etymology ==\n",
            "According to the Oxford English Dictionary (third edition 2009), the name \"India\" is derived from the Classical Latin India, a reference to South Asia and an uncertain region to its east; and in turn derived successively from: Hellenistic Greek India ( Ἰνδία); ancient Greek Indos ( Ἰνδός); Old Persian Hindush, an eastern province of the Achaemenid Empire; and ultimately its cognate, the Sanskrit Sindhu, or \"river,\" specifically the Indus River and, by implication, its well-settled southern basin. The ancient Greeks referred to the Indians as Indoi (Ἰνδοί), which translates as \"The people of the Indus\".The term Bharat (Bhārat; pronounced [ˈbʱaːɾət] (listen)), mentioned in both Indian epic poetry and the Constitution of India, is used in its variations by many Indian languages. A modern rendering of the historical name Bharatavarsha, which applied originally to North India, Bharat gained increased currency from the mid-19th century as a native name for India.Hindustan ([ɦɪndʊˈstaːn] (listen)) is a Middle Persian name for India, introduced during the Mughal Empire and used widely since. Its meaning has varied, referring to a region encompassing present-day northern India and Pakistan or to India in its near entirety.\n",
            "\n",
            "\n",
            "== History ==\n",
            "\n",
            "\n",
            "=== Ancient India ===\n",
            "\n",
            "By 55,000 years ago, the first modern humans, or Homo sapiens, had arrived on the Indian subcontinent from Africa, where they had earlier evolved. The earliest known modern human remains in South Asia date to about 30,000 years ago. After 6500 BCE, evidence for domestication of food crops and animals, construction of permanent structures, and storage of agricultural surplus appeared in Mehrgarh and other sites in what is now Balochistan, Pakistan. These gradually developed into the Indus Valley Civilisation, the first urban culture in South Asia, which flourished during 2500–1900 BCE in what is now Pakistan and western India. Centred around cities such as Mohenjo-daro, Harappa, Dholavira, and Kalibangan, and relying on varied forms of subsistence, the civilisation engaged robustly in crafts production and wide-ranging trade.During the period 2000–500 BCE, many regions of the subcontinent transitioned from the Chalcolithic cultures to the Iron Age ones. The Vedas, the oldest scriptures associated with Hinduism, were composed during this period, and historians have analysed these to posit a Vedic culture in the Punjab region and the upper Gangetic Plain. Most historians also consider this period to have encompassed several waves of Indo-Aryan migration into the subcontinent from the north-west. The caste system, which created a hierarchy of priests, warriors, and free peasants, but which excluded indigenous peoples by labelling their occupations impure, arose during this period. On the Deccan Plateau, archaeological evidence from this period suggests the existence of a chiefdom stage of political organisation. In South India, a progression to sedentary life is indicated by the large number of megalithic monuments dating from this period, as well as by nearby traces of agriculture, irrigation tanks, and craft traditions.\n",
            "\n",
            "In the late Vedic period, around the 6th century BCE, the small states and chiefdoms of the Ganges Plain and the north-western regions had consolidated into 16 major oligarchies and monarchies that were known as the mahajanapadas. The emerging urbanisation gave rise to non-Vedic religious movements, two of which became independent religions. Jainism came into prominence during the life of its exemplar, Mahavira. Buddhism, based on the teachings of Gautama Buddha, attracted followers from all social classes excepting the middle class; chronicling the life of the Buddha was central to the beginnings of recorded history in India. In an age of increasing urban wealth, both religions held up renunciation as an ideal, and both established long-lasting monastic traditions. Politically, by the 3rd century BCE, the kingdom of Magadha had annexed or reduced other states to emerge as the Mauryan Empire. The empire was once thought to have controlled most of the subcontinent except the far south, but its core regions are now thought to have been separated by large autonomous areas. The Mauryan kings are known as much for their empire-building and determined management of public life as for Ashoka's renunciation of militarism and far-flung advocacy of the Buddhist dhamma.The Sangam literature of the Tamil language reveals that, between 200 BCE and 200 CE, the southern peninsula was ruled by the Cheras, the Cholas, and the Pandyas, dynasties that traded extensively with the Roman Empire and with West and Southeast Asia. In North India, Hinduism asserted patriarchal control within the family, leading to increased subordination of women. By the 4th and 5th centuries, the Gupta Empire had created a complex system of administration and taxation in the greater Ganges Plain; this system became a model for later Indian kingdoms. Under the Guptas, a renewed Hinduism based on devotion, rather than the management of ritual, began to assert itself. This renewal was reflected in a flowering of sculpture and architecture, which found patrons among an urban elite. Classical Sanskrit literature flowered as well, and Indian science, astronomy, medicine, and mathematics made significant advances.\n",
            "\n",
            "\n",
            "=== Medieval India ===\n",
            "\n",
            "The Indian early medieval age, from 600 to 1200 CE, is defined by regional kingdoms and cultural diversity. When Harsha of Kannauj, who ruled much of the Indo-Gangetic Plain from 606 to 647 CE, attempted to expand southwards, he was defeated by the Chalukya ruler of the Deccan. When his successor attempted to expand eastwards, he was defeated by the Pala king of Bengal. When the Chalukyas attempted to expand southwards, they were defeated by the Pallavas from farther south, who in turn were opposed by the Pandyas and the Cholas from still farther south. No ruler of this period was able to create an empire and consistently control lands much beyond their core region. During this time, pastoral peoples, whose land had been cleared to make way for the growing agricultural economy, were accommodated within caste society, as were new non-traditional ruling classes. The caste system consequently began to show regional differences.In the 6th and 7th centuries, the first devotional hymns were created in the Tamil language. They were imitated all over India and led to both the resurgence of Hinduism and the development of all modern languages of the subcontinent. Indian royalty, big and small, and the temples they patronised drew citizens in great numbers to the capital cities, which became economic hubs as well. Temple towns of various sizes began to appear everywhere as India underwent another urbanisation. By the 8th and 9th centuries, the effects were felt in South-East Asia, as South Indian culture and political systems were exported to lands that became part of modern-day Myanmar, Thailand, Laos, Brunei, Cambodia, Vietnam, Philippines, Malaysia, and Indonesia. Indian merchants, scholars, and sometimes armies were involved in this transmission; South-East Asians took the initiative as well, with many sojourning in Indian seminaries and translating Buddhist and Hindu texts into their languages.After the 10th century, Muslim Central Asian nomadic clans, using swift-horse cavalry and raising vast armies united by ethnicity and religion, repeatedly overran South Asia's north-western plains, leading eventually to the establishment of the Islamic Delhi Sultanate in 1206. The sultanate was to control much of North India and to make many forays into South India. Although at first disruptive for the Indian elites, the sultanate largely left its vast non-Muslim subject population to its own laws and customs. By repeatedly repulsing Mongol raiders in the 13th century, the sultanate saved India from the devastation visited on West and Central Asia, setting the scene for centuries of migration of fleeing soldiers, learned men, mystics, traders, artists, and artisans from that region into the subcontinent, thereby creating a syncretic Indo-Islamic culture in the north. The sultanate's raiding and weakening of the regional kingdoms of South India paved the way for the indigenous Vijayanagara Empire. Embracing a strong Shaivite tradition and building upon the military technology of the sultanate, the empire came to control much of peninsular India, and was to influence South Indian society for long afterwards.\n",
            "\n",
            "\n",
            "=== Early modern India ===\n",
            "In the early 16th century, northern India, then under mainly Muslim rulers, fell again to the superior mobility and firepower of a new generation of Central Asian warriors. The resulting Mughal Empire did not stamp out the local societies it came to rule. Instead, it balanced and pacified them through new administrative practices and diverse and inclusive ruling elites, leading to more systematic, centralised, and uniform rule. Eschewing tribal bonds and Islamic identity, especially under Akbar, the Mughals united their far-flung realms through loyalty, expressed through a Persianised culture, to an emperor who had near-divine status. The Mughal state's economic policies, deriving most revenues from agriculture and mandating that taxes be paid in the well-regulated silver currency, caused peasants and artisans to enter larger markets. The relative peace maintained by the empire during much of the 17th century was a factor in India's economic expansion, resulting in greater patronage of painting, literary forms, textiles, and architecture. Newly coherent social groups in northern and western India, such as the Marathas, the Rajputs, and the Sikhs, gained military and governing ambitions during Mughal rule, which, through collaboration or adversity, gave them both recognition and military experience. Expanding commerce during Mughal rule gave rise to new Indian commercial and political elites along the coasts of southern and eastern India. As the empire disintegrated, many among these elites were able to seek and control their own affairs.\n",
            "\n",
            "By the early 18th century, with the lines between commercial and political dominance being increasingly blurred, a number of European trading companies, including the English East India Company, had established coastal outposts. The East India Company's control of the seas, greater resources, and more advanced military training and technology led it to increasingly assert its military strength and caused it to become attractive to a portion of the Indian elite; these factors were crucial in allowing the company to gain control over the Bengal region by 1765 and sideline the other European companies. Its further access to the riches of Bengal and the subsequent increased strength and size of its army enabled it to annexe or subdue most of India by the 1820s. India was then no longer exporting manufactured goods as it long had, but was instead supplying the British Empire with raw materials. Many historians consider this to be the onset of India's colonial period. By this time, with its economic power severely curtailed by the British parliament and having effectively been made an arm of British administration, the East India Company began more consciously to enter non-economic arenas, including education, social reform and culture.\n",
            "\n",
            "\n",
            "=== Modern India ===\n",
            "\n",
            "Historians consider India's modern age to have begun sometime between 1848 and 1885. The appointment in 1848 of Lord Dalhousie as Governor General of the East India Company set the stage for changes essential to a modern state. These included the consolidation and demarcation of sovereignty, the surveillance of the population, and the education of citizens. Technological changes—among them, railways, canals, and the telegraph—were introduced not long after their introduction in Europe. However, disaffection with the company also grew during this time and set off the Indian Rebellion of 1857. Fed by diverse resentments and perceptions, including invasive British-style social reforms, harsh land taxes, and summary treatment of some rich landowners and princes, the rebellion rocked many regions of northern and central India and shook the foundations of Company rule. Although the rebellion was suppressed by 1858, it led to the dissolution of the East India Company and the direct administration of India by the British government. Proclaiming a unitary state and a gradual but limited British-style parliamentary system, the new rulers also protected princes and landed gentry as a feudal safeguard against future unrest. In the decades following, public life gradually emerged all over India, leading eventually to the founding of the Indian National Congress in 1885.The rush of technology and the commercialisation of agriculture in the second half of the 19th century was marked by economic setbacks and many small farmers became dependent on the whims of far-away markets. There was an increase in the number of large-scale famines, and, despite the risks of infrastructure development borne by Indian taxpayers, little industrial employment was generated for Indians. There were also salutary effects: commercial cropping, especially in the newly canalled Punjab, led to increased food production for internal consumption. The railway network provided critical famine relief, notably reduced the cost of moving goods, and helped nascent Indian-owned industry.\n",
            "\n",
            "After World War I, in which approximately one million Indians served, a new period began. It was marked by British reforms but also repressive legislation, by more strident Indian calls for self-rule, and by the beginnings of a nonviolent movement of non-co-operation, of which Mohandas Karamchand Gandhi would become the leader and enduring symbol. During the 1930s, slow legislative reform was enacted by the British; the Indian National Congress won victories in the resulting elections. The next decade was beset with crises: Indian participation in World War II, the Congress's final push for non-co-operation, and an upsurge of Muslim nationalism. All were capped by the advent of independence in 1947, but tempered by the partition of India into two states: India and Pakistan.Vital to India's self-image as an independent nation was its constitution, completed in 1950, which put in place a secular and democratic republic. Economic liberalisation, which began in the 1990s, has created a large urban middle class, transformed India into one of the world's fastest-growing economies, and increased its geopolitical clout. Indian films, music, and spiritual teachings play an increasing role in global culture. Yet, India is also shaped by seemingly unyielding poverty, both rural and urban; by religious and caste-related violence; by Maoist-inspired Naxalite insurgencies; and by separatism in Jammu and Kashmir and in Northeast India. It has unresolved territorial disputes with China and with Pakistan. India's sustained democratic freedoms are unique among the world's newer nations; however, in spite of its recent economic successes, freedom from want for its disadvantaged population remains a goal yet to be achieved.\n",
            "\n",
            "\n",
            "== Geography ==\n",
            "\n",
            "India accounts for the bulk of the Indian subcontinent, lying atop the Indian tectonic plate, a part of the Indo-Australian Plate. India's defining geological processes began 75 million years ago when the Indian Plate, then part of the southern supercontinent Gondwana, began a north-eastward drift caused by seafloor spreading to its south-west, and later, south and south-east. Simultaneously, the vast Tethyan oceanic crust, to its northeast, began to subduct under the Eurasian Plate. These dual processes, driven by convection in the Earth's mantle, both created the Indian Ocean and caused the Indian continental crust eventually to under-thrust Eurasia and to uplift the Himalayas. Immediately south of the emerging Himalayas, plate movement created a vast crescent-shaped trough that rapidly filled with river-borne sediment and now constitutes the Indo-Gangetic Plain.   The original Indian plate makes its first appearance above the sediment in the ancient Aravalli range, which extends from the Delhi Ridge in a southwesterly direction. To the west lies the Thar Desert, the eastern spread of which is checked by the Aravallis.\n",
            "\n",
            "The remaining Indian Plate survives as peninsular India, the oldest and geologically most stable part of India. It extends as far north as the Satpura and Vindhya ranges in central India. These parallel chains run from the Arabian Sea coast in Gujarat in the west to the coal-rich Chota Nagpur Plateau in Jharkhand in the east. To the south, the remaining peninsular landmass, the Deccan Plateau, is flanked on the west and east by coastal ranges known as the Western and Eastern Ghats; the plateau contains the country's oldest rock formations, some over one billion years old. Constituted in such fashion, India lies to the north of the equator between 6° 44′ and 35° 30′ north latitude and 68° 7′ and 97° 25′ east longitude.India's coastline measures 7,517 kilometres (4,700 mi) in length; of this distance, 5,423 kilometres (3,400 mi) belong to peninsular India and 2,094 kilometres (1,300 mi) to the Andaman, Nicobar, and Lakshadweep island chains. According to the Indian naval hydrographic charts, the mainland coastline consists of the following: 43% sandy beaches; 11% rocky shores, including cliffs; and 46% mudflats or marshy shores.Major Himalayan-origin rivers that substantially flow through India include the Ganges and the Brahmaputra, both of which drain into the Bay of Bengal. Important tributaries of the Ganges include the Yamuna and the Kosi; the latter's extremely low gradient, caused by long-term silt deposition, leads to severe floods and course changes. Major peninsular rivers, whose steeper gradients prevent their waters from flooding, include the Godavari, the Mahanadi, the Kaveri, and the Krishna, which also drain into the Bay of Bengal; and the Narmada and the Tapti, which drain into the Arabian Sea. Coastal features include the marshy Rann of Kutch of western India and the alluvial Sundarbans delta of eastern India; the latter is shared with Bangladesh. India has two archipelagos: the Lakshadweep, coral atolls off India's south-western coast; and the Andaman and Nicobar Islands, a volcanic chain in the Andaman Sea.Indian climate is strongly influenced by the Himalayas and the Thar Desert, both of which drive the economically and culturally pivotal summer and winter monsoons. The Himalayas prevent cold Central Asian katabatic winds from blowing in, keeping the bulk of the Indian subcontinent warmer than most locations at similar latitudes. The Thar Desert plays a crucial role in attracting the moisture-laden south-west summer monsoon winds that, between June and October, provide the majority of India's rainfall. Four major climatic groupings predominate in India: tropical wet, tropical dry, subtropical humid, and montane.Temperatures in India have risen by 0.7 °C (1.3 °F) between 1901 and 2018. Climate change in India is often thought to be the cause. The retreat of Himalayan glaciers has adversely affected the flow rate of the major Himalayan rivers, including the Ganges and the Brahmaputra. According to some current projections, the number and severity of droughts in India will have markedly increased by the end of the present century.\n",
            "\n",
            "\n",
            "== Biodiversity ==\n",
            "\n",
            "India is a megadiverse country, a term employed for 17 countries which display high biological diversity and contain many species exclusively indigenous, or endemic, to them. India is a habitat for 8.6% of all mammal species, 13.7% of bird species, 7.9% of reptile species, 6% of amphibian species, 12.2% of fish species, and 6.0% of all flowering plant species. Fully a third of Indian plant species are endemic. India also contains four of the world's 34 biodiversity hotspots, or regions that display significant habitat loss in the presence of high endemism.According to official statistics, India's forest cover is 713,789 km2 (275,595 sq mi), which is 21.71% of the country's total land area. It can be subdivided further into broad categories of canopy density, or the proportion of the area of a forest covered by its tree canopy. Very dense forest, whose canopy density is greater than 70%, occupies 3.02% of India's land area. It predominates in the tropical moist forest of the Andaman Islands, the Western Ghats, and Northeast India. Moderately dense forest, whose canopy density is between 40% and 70%, occupies 9.39% of India's land area. It predominates in the temperate coniferous forest of the Himalayas, the moist deciduous sal forest of eastern India, and the dry deciduous teak forest of central and southern India. Open forest, whose canopy density is between 10% and 40%, occupies 9.26% of India's land area. India has two natural zones of thorn forest, one in the Deccan Plateau, immediately east of the Western Ghats, and the other in the western part of the Indo-Gangetic plain, now turned into rich agricultural land by irrigation, its features no longer visible.Among the Indian subcontinent's notable indigenous trees are the astringent Azadirachta indica, or neem, which is widely used in rural Indian herbal medicine, and the luxuriant Ficus religiosa, or peepul, which is displayed on the ancient seals of Mohenjo-daro, and under which the Buddha is recorded in the Pali canon to have sought enlightenment.Many Indian species have descended from those of Gondwana, the southern supercontinent from which India separated more than 100 million years ago. India's subsequent collision with Eurasia set off a mass exchange of species. However, volcanism and climatic changes later caused the extinction of many endemic Indian forms. Still later, mammals entered India from Asia through two zoogeographical passes flanking the Himalayas. This had the effect of lowering endemism among India's mammals, which stands at 12.6%, contrasting with 45.8% among reptiles and 55.8% among amphibians. Among endemics are the vulnerable hooded leaf monkey and the threatened Beddome's toad of the Western Ghats.\n",
            "\n",
            "India contains 172 IUCN-designated threatened animal species, or 2.9% of endangered forms. These include the endangered Bengal tiger and the Ganges river dolphin. Critically endangered species include: the gharial, a crocodilian; the great Indian bustard; and the Indian white-rumped vulture, which has become nearly extinct by having ingested the carrion of diclofenac-treated cattle. Before they were extensively utilized for agriculture and cleared for human settlement, the thorn forests of Punjab were mingled at intervals with open grasslands that were grazed by large herds of blackbuck preyed on by the Asiatic cheetah; the blackbuck, no longer extant in Punjab, is now severely endangered in India, and the cheetah is extinct. The pervasive and ecologically devastating human encroachment of recent decades has critically endangered Indian wildlife. In response, the system of national parks and protected areas, first established in 1935, was expanded substantially. In 1972, India enacted the Wildlife Protection Act and Project Tiger to safeguard crucial wilderness; the Forest Conservation Act was enacted in 1980 and amendments added in 1988. India hosts more than five hundred wildlife sanctuaries and thirteen biosphere reserves, four of which are part of the World Network of Biosphere Reserves; twenty-five wetlands are registered under the Ramsar Convention.\n",
            "\n",
            "\n",
            "== Politics and government ==\n",
            "\n",
            "\n",
            "=== Politics ===\n",
            "\n",
            "India is the world's most populous democracy. A parliamentary republic with a multi-party system, it has eight recognised national parties, including the Indian National Congress and the Bharatiya Janata Party (BJP), and more than 40 regional parties. The Congress is considered centre-left in Indian political culture, and the BJP right-wing. For most of the period between 1950—when India first became a republic—and the late 1980s, the Congress held a majority in the parliament. Since then, however, it has increasingly shared the political stage with the BJP, as well as with powerful regional parties which have often forced the creation of multi-party coalition governments at the centre.In the Republic of India's first three general elections, in 1951, 1957, and 1962, the Jawaharlal Nehru-led Congress won easy victories. On Nehru's death in 1964, Lal Bahadur Shastri briefly became prime minister; he was succeeded, after his own unexpected death in 1966, by Nehru's daughter Indira Gandhi, who went on to lead the Congress to election victories in 1967 and 1971. Following public discontent with the state of emergency she declared in 1975, the Congress was voted out of power in 1977; the then-new Janata Party, which had opposed the emergency, was voted in. Its government lasted just over two years. Voted back into power in 1980, the Congress saw a change in leadership in 1984, when Indira Gandhi was assassinated; she was succeeded by her son Rajiv Gandhi, who won an easy victory in the general elections later that year. The Congress was voted out again in 1989 when a National Front coalition, led by the newly formed Janata Dal in alliance with the Left Front, won the elections; that government too proved relatively short-lived, lasting just under two years. Elections were held again in 1991; no party won an absolute majority. The Congress, as the largest single party, was able to form a minority government led by P. V. Narasimha Rao.\n",
            "\n",
            "A two-year period of political turmoil followed the general election of 1996. Several short-lived alliances shared power at the centre. The BJP formed a government briefly in 1996; it was followed by two comparatively long-lasting United Front coalitions, which depended on external support. In 1998, the BJP was able to form a successful coalition, the National Democratic Alliance (NDA). Led by Atal Bihari Vajpayee, the NDA became the first non-Congress, coalition government to complete a five-year term. Again in the 2004 Indian general elections, no party won an absolute majority, but the Congress emerged as the largest single party, forming another successful coalition: the United Progressive Alliance (UPA). It had the support of left-leaning parties and MPs who opposed the BJP. The UPA returned to power in the 2009 general election with increased numbers, and it no longer required external support from India's communist parties. That year, Manmohan Singh became the first prime minister since Jawaharlal Nehru in 1957 and 1962 to be re-elected to a consecutive five-year term. In the 2014 general election, the BJP became the first political party since 1984 to win a majority and govern without the support of other parties. The incumbent prime minister is Narendra Modi, a former chief minister of Gujarat. On 22 July 2022, Droupadi Murmu was elected India's 15th president and took the oath of office on 25 July 2022.\n",
            "\n",
            "\n",
            "=== Government ===\n",
            "\n",
            "India is a federation with a parliamentary system governed under the Constitution of India—the country's supreme legal document. It is a constitutional republic and representative democracy, in which \"majority rule is tempered by minority rights protected by law\". Federalism in India defines the power distribution between the union and the states. The Constitution of India, which came into effect on 26 January 1950, originally stated India to be a \"sovereign, democratic republic;\" this characterisation was amended in 1971 to \"a sovereign, socialist, secular, democratic republic\". India's form of government, traditionally described as \"quasi-federal\" with a strong centre and weak states, has grown increasingly federal since the late 1990s as a result of political, economic, and social changes.\n",
            "The Government of India comprises three branches:\n",
            "Executive: The President of India is the ceremonial head of state, who is elected indirectly for a five-year term by an electoral college comprising members of national and state legislatures. The Prime Minister of India is the head of government and exercises most executive power. Appointed by the president, the prime minister is by convention supported by the party or political alliance having a majority of seats in the lower house of parliament. The executive of the Indian government consists of the president, the vice president, and the Union Council of Ministers—with the cabinet being its executive committee—headed by the prime minister. Any minister holding a portfolio must be a member of one of the houses of parliament. In the Indian parliamentary system, the executive is subordinate to the legislature; the prime minister and their council are directly responsible to the lower house of the parliament. Civil servants act as permanent executives and all decisions of the executive are implemented by them.\n",
            "Legislature: The legislature of India is the bicameral parliament. Operating under a Westminster-style parliamentary system, it comprises an upper house called the Rajya Sabha (Council of States) and a lower house called the Lok Sabha (House of the People). The Rajya Sabha is a permanent body of 245 members who serve staggered six-year terms. Most are elected indirectly by the state and union territorial legislatures in numbers proportional to their state's share of the national population. All but two of the Lok Sabha's 545 members are elected directly by popular vote; they represent single-member constituencies for five-year terms. Two seats of parliament, reserved for Anglo-Indian in the article 331, have been scrapped.\n",
            "Judiciary: India has a three-tier unitary independent judiciary comprising the supreme court, headed by the Chief Justice of India, 25 high courts, and a large number of trial courts. The supreme court has original jurisdiction over cases involving fundamental rights and over disputes between states and the centre and has appellate jurisdiction over the high courts. It has the power to both strike down union or state laws which contravene the constitution, and invalidate any government action it deems unconstitutional.\n",
            "\n",
            "\n",
            "=== Administrative divisions ===\n",
            "\n",
            "India is a federal union comprising 28 states and 8 union territories. All states, as well as the union territories of Jammu and Kashmir, Puducherry and the National Capital Territory of Delhi, have elected legislatures and governments following the Westminster system of governance. The remaining five union territories are directly ruled by the central government through appointed administrators. In 1956, under the States Reorganisation Act, states were reorganised on a linguistic basis. There are over a quarter of a million local government bodies at city, town, block, district and village levels.\n",
            "\n",
            "\n",
            "==== States ====\n",
            "\n",
            "\n",
            "==== Union territories ====\n",
            "\n",
            "\n",
            "== Foreign, economic and strategic relations ==\n",
            "\n",
            "In the 1950s, India strongly supported decolonisation in Africa and Asia and played a leading role in the Non-Aligned Movement. After initially cordial relations with neighbouring China, India went to war with China in 1962, and was widely thought to have been humiliated. India has had tense relations with neighbouring Pakistan; the two nations have gone to war four times: in 1947, 1965, 1971, and 1999. Three of these wars were fought over the disputed territory of Kashmir, while the fourth, the 1971 war, followed from India's support for the independence of Bangladesh. In the late 1980s, the Indian military twice intervened abroad at the invitation of the host country: a peace-keeping operation in Sri Lanka between 1987 and 1990; and an armed intervention to prevent a 1988 coup d'état attempt in the Maldives. After the 1965 war with Pakistan, India began to pursue close military and economic ties with the Soviet Union; by the late 1960s, the Soviet Union was its largest arms supplier.Aside from ongoing its special relationship with Russia, India has wide-ranging defence relations with Israel and France. In recent years, it has played key roles in the South Asian Association for Regional Cooperation and the World Trade Organization. The nation has provided 100,000 military and police personnel to serve in 35 UN peacekeeping operations across four continents. It participates in the East Asia Summit, the G8+5, and other multilateral forums. India has close economic ties with countries in South America, Asia, and Africa; it pursues a \"Look East\" policy that seeks to strengthen partnerships with the ASEAN nations, Japan, and South Korea that revolve around many issues, but especially those involving economic investment and regional security.\n",
            "\n",
            "China's nuclear test of 1964, as well as its repeated threats to intervene in support of Pakistan in the 1965 war, convinced India to develop nuclear weapons. India conducted its first nuclear weapons test in 1974 and carried out additional underground testing in 1998. Despite criticism and military sanctions, India has signed neither the Comprehensive Nuclear-Test-Ban Treaty nor the Nuclear Non-Proliferation Treaty, considering both to be flawed and discriminatory. India maintains a \"no first use\" nuclear policy and is developing a nuclear triad capability as a part of its \"Minimum Credible Deterrence\" doctrine. It is developing a ballistic missile defence shield and, a fifth-generation fighter jet. Other indigenous military projects involve the design and implementation of Vikrant-class aircraft carriers and Arihant-class nuclear submarines.Since the end of the Cold War, India has increased its economic, strategic, and military co-operation with the United States and the European Union. In 2008, a civilian nuclear agreement was signed between India and the United States. Although India possessed nuclear weapons at the time and was not a party to the Nuclear Non-Proliferation Treaty, it received waivers from the International Atomic Energy Agency and the Nuclear Suppliers Group, ending earlier restrictions on India's nuclear technology and commerce. As a consequence, India became the sixth de facto nuclear weapons state. India subsequently signed co-operation agreements involving civilian nuclear energy with Russia, France, the United Kingdom, and Canada.\n",
            "\n",
            "The President of India is the supreme commander of the nation's armed forces; with 1.45 million active troops, they compose the world's second-largest military. It comprises the Indian Army, the Indian Navy, the Indian Air Force, and the Indian Coast Guard. The official Indian defence budget for 2011 was US$36.03 billion, or 1.83% of GDP. Defence expenditure was pegged at US$70.12 billion for fiscal year 2022–23 and, increased 9.8% than previous fiscal year. India is the world's second largest arms importer; between 2016 and 2020, it accounted for 9.5% of the total global arms imports. Much of the military expenditure was focused on defence against Pakistan and countering growing Chinese influence in the Indian Ocean. In May 2017, the Indian Space Research Organisation launched the South Asia Satellite, a gift from India to its neighbouring SAARC countries. In October 2018, India signed a US$5.43 billion (over ₹400 billion) agreement with Russia to procure four S-400 Triumf surface-to-air missile defence systems, Russia's most advanced long-range missile defence system.\n",
            "\n",
            "\n",
            "== Economy ==\n",
            "\n",
            "According to the International Monetary Fund (IMF), the Indian economy in 2021 was nominally worth $3.04 trillion; it is the fifth-largest economy by market exchange rates, and is around $10.219 trillion, the third-largest by purchasing power parity (PPP). With its average annual GDP growth rate of 5.8% over the past two decades, and reaching 6.1% during 2011–2012, India is one of the world's fastest-growing economies. However, the country ranks 139th in the world in nominal GDP per capita and 118th in GDP per capita at PPP. Until 1991, all Indian governments followed protectionist policies that were influenced by socialist economics. Widespread state intervention and regulation largely walled the economy off from the outside world. An acute balance of payments crisis in 1991 forced the nation to liberalise its economy; since then it has moved slowly towards a free-market system by emphasising both foreign trade and direct investment inflows. India has been a member of World Trade Organization since 1 January 1995.The 522-million-worker Indian labour force is the world's second-largest, as of 2017. The service sector makes up 55.6% of GDP, the industrial sector 26.3% and the agricultural sector 18.1%. India's foreign exchange remittances of US$87 billion in 2021, highest in the world, were contributed to its economy by 32 million Indians working in foreign countries. Major agricultural products include: rice, wheat, oilseed, cotton, jute, tea, sugarcane, and potatoes. Major industries include: textiles, telecommunications, chemicals, pharmaceuticals, biotechnology, food processing, steel, transport equipment, cement, mining, petroleum, machinery, and software. In 2006, the share of external trade in India's GDP stood at 24%, up from 6% in 1985. In 2008, India's share of world trade was 1.68%; In 2021, India was the world's ninth-largest importer and the sixteenth-largest exporter. Major exports include: petroleum products, textile goods, jewellery, software, engineering goods, chemicals, and manufactured leather goods. Major imports include: crude oil, machinery, gems, fertiliser, and chemicals. Between 2001 and 2011, the contribution of petrochemical and engineering goods to total exports grew from 14% to 42%. India was the world's second largest textile exporter after China in the 2013 calendar year.Averaging an economic growth rate of 7.5% for several years prior to 2007, India has more than doubled its hourly wage rates during the first decade of the 21st century. Some 431 million Indians have left poverty since 1985; India's middle classes are projected to number around 580 million by 2030. Though ranking 51st in global competitiveness, as of 2010, India ranks 17th in financial market sophistication, 24th in the banking sector, 44th in business sophistication, and 39th in innovation, ahead of several advanced economies. With seven of the world's top 15 information technology outsourcing companies based in India, as of 2009, the country is viewed as the second-most favourable outsourcing destination after the United States. India is ranked 40th in the Global Innovation Index in 2022. India's consumer market, the world's eleventh-largest, is expected to become fifth-largest by 2030.Driven by growth, India's nominal GDP per capita increased steadily from US$308 in 1991, when economic liberalisation began, to US$1,380 in 2010, to an estimated US$1,730 in 2016. It is expected to grow to US$2,313 by 2022. However, it has remained lower than those of other Asian developing countries such as Indonesia, Malaysia, Philippines, Sri Lanka, and Thailand, and is expected to remain so in the near future.\n",
            "\n",
            "According to a 2011 PricewaterhouseCoopers (PwC) report, India's GDP at purchasing power parity could overtake that of the United States by 2045. During the next four decades, Indian GDP is expected to grow at an annualised average of 8%, making it potentially the world's fastest-growing major economy until 2050. The report highlights key growth factors: a young and rapidly growing working-age population; growth in the manufacturing sector because of rising education and engineering skill levels; and sustained growth of the consumer market driven by a rapidly growing middle-class. The World Bank cautions that, for India to achieve its economic potential, it must continue to focus on public sector reform, transport infrastructure, agricultural and rural development, removal of labour regulations, education, energy security, and public health and nutrition.According to the Worldwide Cost of Living Report 2017 released by the Economist Intelligence Unit (EIU) which was created by comparing more than 400 individual prices across 160 products and services, four of the cheapest cities were in India: Bangalore (3rd), Mumbai (5th), Chennai (5th) and New Delhi (8th).\n",
            "\n",
            "\n",
            "=== Industries ===\n",
            "\n",
            "India's telecommunication industry is the second-largest in the world with over 1.2 billion subscribers. It contributes 6.5% to India's GDP. After the third quarter of 2017, India surpassed the US to become the second largest smartphone market in the world after China.The Indian automotive industry, the world's second-fastest growing, increased domestic sales by 26% during 2009–2010, and exports by 36% during 2008–2009. At the end of 2011, the Indian IT industry employed 2.8 million professionals, generated revenues close to US$100 billion equalling 7.5% of Indian GDP, and contributed 26% of India's merchandise exports.The pharmaceutical industry in India emerged as a global player. As of 2021, with 3000 pharmaceutical companies and 10,500 manufacturing units India is the world's third-largest pharmaceutical producer, largest producer of generic medicines and supply up to 50%—60% of global vaccines demand, these all contribute up to US$24.44 billions in exports and India's local pharmacutical market is estimated up to US$42 billion. India is among the top 12 biotech destinations in the world. The Indian biotech industry grew by 15.1% in 2012–2013, increasing its revenues from ₹204.4 billion (Indian rupees) to ₹235.24 billion (US$3.94 billion at June 2013 exchange rates).\n",
            "\n",
            "\n",
            "=== Energy ===\n",
            "\n",
            "India's capacity to generate electrical power is 300 gigawatts, of which 42 gigawatts is renewable. The country's usage of coal is a major cause of greenhouse gas emissions by India but its renewable energy is competing strongly. India emits about 7% of global greenhouse gas emissions. This equates to about 2.5 tons of carbon dioxide per person per year, which is half the world average. Increasing access to electricity and clean cooking with liquefied petroleum gas have been priorities for energy in India.\n",
            "\n",
            "\n",
            "=== Socio-economic challenges ===\n",
            "\n",
            "Despite economic growth during recent decades, India continues to face socio-economic challenges. In 2006, India contained the largest number of people living below the World Bank's international poverty line of US$1.25 per day. The proportion decreased from 60% in 1981 to 42% in 2005. Under the World Bank's later revised poverty line, it was 21% in 2011. 30.7% of India's children under the age of five are underweight. According to a Food and Agriculture Organization report in 2015, 15% of the population is undernourished. The Mid-Day Meal Scheme attempts to lower these rates.A 2018 Walk Free Foundation report estimated that nearly 8 million people in India were living in different forms of modern slavery, such as bonded labour, child labour, human trafficking, and forced begging, among others. According to the 2011 census, there were 10.1 million child labourers in the country, a decline of 2.6 million from 12.6 million in 2001.Since 1991, economic inequality between India's states has consistently grown: the per-capita net state domestic product of the richest states in 2007 was 3.2 times that of the poorest. Corruption in India is perceived to have decreased. According to the Corruption Perceptions Index, India ranked 78th out of 180 countries in 2018 with a score of 41 out of 100, an improvement from 85th in 2014.\n",
            "\n",
            "\n",
            "== Demographics, languages, and religion ==\n",
            "\n",
            "With 1,210,193,422 residents reported in the 2011 provisional census report, India is the world's second-most populous country. Its population grew by 17.64% from 2001 to 2011, compared to 21.54% growth in the previous decade (1991–2001). The human sex ratio, according to the 2011 census, is 940 females per 1,000 males. The median age was 28.7 as of 2020. The first post-colonial census, conducted in 1951, counted 361 million people. Medical advances made in the last 50 years as well as increased agricultural productivity brought about by the \"Green Revolution\" have caused India's population to grow rapidly.The average life expectancy in India is at 70 years—71.5 years for women, 68.7 years for men. There are around 93 physicians per 100,000 people. Migration from rural to urban areas has been an important dynamic in India's recent history. The number of people living in urban areas grew by 31.2% between 1991 and 2001. Yet, in 2001, over 70% still lived in rural areas. The level of urbanisation increased further from 27.81% in the 2001 Census to 31.16% in the 2011 Census. The slowing down of the overall population growth rate was due to the sharp decline in the growth rate in rural areas since 1991. According to the 2011 census, there are 53 million-plus urban agglomerations in India; among them Mumbai, Delhi, Kolkata, Chennai, Bangalore, Hyderabad and Ahmedabad, in decreasing order by population. The literacy rate in 2011 was 74.04%: 65.46% among females and 82.14% among males. The rural-urban literacy gap, which was 21.2 percentage points in 2001, dropped to 16.1 percentage points in 2011. The improvement in the rural literacy rate is twice that of urban areas. Kerala is the most literate state with 93.91% literacy; while Bihar the least with 63.82%.\n",
            "\n",
            "India is home to two major language families: Indo-Aryan (spoken by about 74% of the population) and Dravidian (spoken by 24% of the population). Other languages spoken in India come from the Austroasiatic and Sino-Tibetan language families. India has no national language. Hindi, with the largest number of speakers, is the official language of the government. English is used extensively in business and administration and has the status of a \"subsidiary official language\"; it is important in education, especially as a medium of higher education. Each state and union territory has one or more official languages, and the constitution recognises in particular 22 \"scheduled languages\".\n",
            "The 2011 census reported the religion in India with the largest number of followers was Hinduism (79.80% of the population), followed by Islam (14.23%); the remaining were Christianity (2.30%), Sikhism (1.72%), Buddhism (0.70%), Jainism (0.36%) and others (0.9%). India has the third-largest Muslim population—the largest for a non-Muslim majority country.\n",
            "\n",
            "\n",
            "== Culture ==\n",
            "\n",
            "Indian cultural history spans more than 4,500 years. During the Vedic period (c. 1700 BCE – c. 500 BCE), the foundations of Hindu philosophy, mythology, theology and literature were laid, and many beliefs and practices which still exist today, such as dhárma, kárma, yóga, and mokṣa, were established. India is notable for its religious diversity, with Hinduism, Buddhism, Sikhism, Islam, Christianity, and Jainism among the nation's major religions. The predominant religion, Hinduism, has been shaped by various historical schools of thought, including those of the Upanishads, the Yoga Sutras, the Bhakti movement, and by Buddhist philosophy.\n",
            "\n",
            "\n",
            "=== Visual art ===\n",
            "\n",
            "India has a very ancient tradition of art, which has exchanged many influences with the rest of Eurasia, especially in the first millennium, when Buddhist art spread with Indian religions to Central, East and South-East Asia, the last also greatly influenced by Hindu art.  Thousands of seals from the Indus Valley Civilization of the third millennium BCE have been found, usually carved with animals, but a few with human figures. The \"Pashupati\" seal, excavated in Mohenjo-daro, Pakistan, in 1928–29, is the best known.  After this there is a long period with virtually nothing surviving. Almost all surviving ancient Indian art thereafter is in various forms of religious sculpture in durable materials, or coins. There was probably originally far more in wood, which is lost. In north India Mauryan art is the first imperial movement. In the first millennium CE, Buddhist art spread with Indian religions to Central, East and South-East Asia, the last also greatly influenced by Hindu art. Over the following centuries a distinctly Indian style of sculpting the human figure developed, with less interest in articulating precise anatomy than ancient Greek sculpture but showing smoothly-flowing forms expressing prana (\"breath\" or life-force). This is often complicated by the need to give figures multiple arms or heads, or represent different genders on the left and right of figures, as with the Ardhanarishvara form of Shiva and Parvati.Most of the earliest large sculpture is Buddhist, either excavated from Buddhist stupas such as Sanchi, Sarnath and Amaravati, or is rock-cut reliefs at sites such as Ajanta, Karla and Ellora. Hindu and Jain sites appear rather later. In spite of this complex mixture of religious traditions, generally, the prevailing artistic style at any time and place has been shared by the major religious groups, and sculptors probably usually served all communities. Gupta art, at its peak c. 300 CE – c. 500 CE, is often regarded as a classical period whose influence lingered for many centuries after; it saw a new dominance of Hindu sculpture, as at the Elephanta Caves. Across the north, this became rather stiff and formulaic after c. 800 CE, though rich with finely carved detail in the surrounds of statues. But in the South, under the Pallava and Chola dynasties, sculpture in both stone and bronze had a sustained period of great achievement; the large bronzes with Shiva as Nataraja have become an iconic symbol of India.Ancient painting has only survived at a few sites, of which the crowded scenes of court life in the Ajanta Caves are by far the most important, but it was evidently highly developed, and is mentioned as a courtly accomplishment in Gupta times. Painted manuscripts of religious texts survive from Eastern India about the 10th century onwards, most of the earliest being Buddhist and later Jain. No doubt the style of these was used in larger paintings. The Persian-derived Deccan painting, starting just before the Mughal miniature, between them give the first large body of secular painting, with an emphasis on portraits, and the recording of princely pleasures and wars. The style spread to Hindu courts, especially among the Rajputs, and developed a variety of styles, with the smaller courts often the most innovative, with figures such as Nihâl Chand and Nainsukh. As a market developed among European residents, it was supplied by Company painting by Indian artists with considerable Western influence. In the 19th century, cheap Kalighat paintings of gods and everyday life, done on paper, were urban folk art from Calcutta, which later saw the Bengal School of Art, reflecting the art colleges founded by the British, the first movement in modern Indian painting.\n",
            "\n",
            "\t\t\n",
            "\t\t\n",
            "\t\t\n",
            "\t\t\n",
            "\t\t\n",
            "\n",
            "\n",
            "=== Architecture ===\n",
            "\n",
            "Much of Indian architecture, including the Taj Mahal, other works of Indo-Islamic Mughal architecture,  and South Indian architecture, blends ancient local traditions with imported styles. Vernacular architecture is also regional in its flavours. Vastu shastra, literally \"science of construction\" or \"architecture\" and ascribed to Mamuni Mayan, explores how the laws of nature affect human dwellings; it employs precise geometry and directional alignments to reflect perceived cosmic constructs. As applied in Hindu temple architecture, it is influenced by the Shilpa Shastras, a series of foundational texts whose basic mythological form is the Vastu-Purusha mandala, a square that embodied the \"absolute\". The Taj Mahal, built in Agra between 1631 and 1648 by orders of Mughal emperor Shah Jahan in memory of his wife, has been described in the UNESCO World Heritage List as \"the jewel of Muslim art in India and one of the universally admired masterpieces of the world's heritage\". Indo-Saracenic Revival architecture, developed by the British in the late 19th century, drew on Indo-Islamic architecture.\n",
            "\n",
            "\n",
            "=== Literature ===\n",
            "\n",
            "The earliest literature in India, composed between 1500 BCE and 1200 CE, was in the Sanskrit language. Major works of Sanskrit literature include the Rigveda (c. 1500 BCE – c. 1200 BCE), the epics: Mahābhārata ( c. 400 BCE – c. 400 CE) and the Ramayana ( c. 300 BCE and later); Abhijñānaśākuntalam (The Recognition of Śakuntalā, and other dramas of Kālidāsa ( c. 5th century CE) and Mahākāvya poetry. In Tamil literature, the Sangam literature (c. 600 BCE – c. 300 BCE) consisting of 2,381 poems, composed by 473 poets, is the earliest work. From the 14th to the 18th centuries, India's literary traditions went through a period of drastic change because of the emergence of devotional poets like Kabīr, Tulsīdās, and Guru Nānak. This period was characterised by a varied and wide spectrum of thought and expression; as a consequence, medieval Indian literary works differed significantly from classical traditions. In the 19th century, Indian writers took a new interest in social questions and psychological descriptions. In the 20th century, Indian literature was influenced by the works of the Bengali poet, author and philosopher Rabindranath Tagore, who was a recipient of the Nobel Prize in Literature.\n",
            "\n",
            "\n",
            "=== Performing arts and media ===\n",
            "\n",
            "Indian music ranges over various traditions and regional styles. Classical music encompasses two genres and their various folk offshoots: the northern Hindustani and southern Carnatic schools. Regionalised popular forms include filmi and folk music; the syncretic tradition of the bauls is a well-known form of the latter. Indian dance also features diverse folk and classical forms. Among the better-known folk dances are: the bhangra of Punjab, the bihu of Assam, the Jhumair and chhau of Jharkhand, Odisha and West Bengal, garba and dandiya of Gujarat, ghoomar of Rajasthan, and the lavani of Maharashtra. Eight dance forms, many with narrative forms and mythological elements, have been accorded classical dance status by India's National Academy of Music, Dance, and Drama. These are: bharatanatyam of the state of Tamil Nadu, kathak of Uttar Pradesh, kathakali and mohiniyattam of Kerala, kuchipudi of Andhra Pradesh, manipuri of Manipur, odissi of Odisha, and the sattriya of Assam.Theatre in India melds music, dance, and improvised or written dialogue. Often based on Hindu mythology, but also borrowing from medieval romances or social and political events, Indian theatre includes: the bhavai of Gujarat, the jatra of West Bengal, the nautanki and ramlila of North India, tamasha of Maharashtra, burrakatha of Andhra Pradesh and Telangana, terukkuttu of Tamil Nadu, and the yakshagana of Karnataka. India has a theatre training institute the National School of Drama (NSD) that is situated at New Delhi It is an autonomous organisation under the Ministry of culture, Government of India.\n",
            "The Indian film industry produces the world's most-watched cinema. Established regional cinematic traditions exist in the Assamese, Bengali, Bhojpuri, Hindi, Kannada, Malayalam, Punjabi, Gujarati, Marathi, Odia, Tamil, and Telugu languages. The Hindi language film industry (Bollywood) is the largest sector representing 43% of box office revenue, followed by the South Indian Telugu and Tamil film industries which represent 36% combined.Television broadcasting began in India in 1959 as a state-run medium of communication and expanded slowly for more than two decades. The state monopoly on television broadcast ended in the 1990s. Since then, satellite channels have increasingly shaped the popular culture of Indian society. Today, television is the most penetrative media in India; industry estimates indicate that as of 2012 there are over 554 million TV consumers, 462 million with satellite or cable connections compared to other forms of mass media such as the press (350 million), radio (156 million) or internet (37 million).\n",
            "\n",
            "\n",
            "=== Society ===\n",
            "\n",
            "Traditional Indian society is sometimes defined by social hierarchy. The Indian caste system embodies much of the social stratification and many of the social restrictions found on the Indian subcontinent. Social classes are defined by thousands of endogamous hereditary groups, often termed as jātis, or \"castes\". India abolished untouchability in 1950 with the adoption of the constitution and has since enacted other anti-discriminatory laws and social welfare initiatives.\n",
            "Family values are important in the Indian tradition, and multi-generational patrilineal joint families have been the norm in India, though nuclear families are becoming common in urban areas. An overwhelming majority of Indians, with their consent, have their marriages arranged by their parents or other family elders. Marriage is thought to be for life, and the divorce rate is extremely low, with less than one in a thousand marriages ending in divorce. Child marriages are common, especially in rural areas; many women wed before reaching 18, which is their legal marriageable age. Female infanticide in India, and lately female foeticide, have created skewed gender ratios; the number of missing women in the country quadrupled from 15 million to 63 million in the 50-year period ending in 2014, faster than the population growth during the same period, and constituting 20 percent of India's female electorate. Accord to an Indian government study, an additional 21 million girls are unwanted and do not receive adequate care. Despite a government ban on sex-selective foeticide, the practice remains commonplace in India, the result of a preference for boys in a patriarchal society. The payment of dowry, although illegal, remains widespread across class lines. Deaths resulting from dowry, mostly from bride burning, are on the rise, despite stringent anti-dowry laws.Many Indian festivals are religious in origin. The best known include: Diwali, Ganesh Chaturthi, Thai Pongal, Holi, Durga Puja, Eid ul-Fitr, Bakr-Id, Christmas, and Vaisakhi.\n",
            "\n",
            "\n",
            "=== Education ===\n",
            "\n",
            "In the 2011 census, about 73% of the population was literate, with 81% for men and 65% for women. This compares to 1981 when the respective rates were 41%, 53% and 29%. In 1951 the rates were 18%, 27% and 9%. In 1921 the rates 7%, 12% and 2%. In 1891 they were 5%, 9% and 1%, According to Latika Chaudhary, in 1911 there were under three primary schools for every ten villages. Statistically, more caste and religious diversity reduced private spending. Primary schools taught literacy, so local diversity limited its growth.The education system of India is the world's second-largest. India has over 900 universities, 40,000 colleges and 1.5 million schools. In India's higher education system, a significant number of seats are reserved under affirmative action policies for the historically disadvantaged. In recent decades India's improved education system is often cited as one of the main contributors to its economic development.\n",
            "\n",
            "\n",
            "=== Clothing ===\n",
            "\n",
            "From ancient times until the advent of the modern, the most widely worn traditional dress in India was draped. For women it took the form of a sari, a single piece of cloth many yards long. The sari was traditionally wrapped around the lower body and the shoulder. In its modern form, it is combined with an underskirt, or Indian petticoat, and tucked in the waist band for more secure fastening. It is also commonly worn with an Indian blouse, or choli, which serves as the primary upper-body garment, the sari's end—passing over the shoulder—serving to cover the midriff and obscure the upper body's contours. For men, a similar but shorter length of cloth, the dhoti, has served as a lower-body garment.\n",
            "\n",
            "The use of stitched clothes became widespread after Muslim rule was established at first by the Delhi sultanate (ca 1300 CE) and then continued by the Mughal Empire (ca 1525 CE). Among the garments introduced during this time and still commonly worn are: the shalwars and pyjamas, both styles of trousers, and the tunics kurta and kameez. In southern India, the traditional draped garments were to see much longer continuous use.Shalwars are atypically wide at the waist but narrow to a cuffed bottom. They are held up by a drawstring, which causes them to become pleated around the waist. The pants can be wide and baggy, or they can be cut quite narrow, on the bias, in which case they are called churidars. When they are ordinarily wide at the waist and their bottoms are hemmed but not cuffed, they are called pyjamas. The kameez is a long shirt or tunic, its side seams left open below the waist-line.  The kurta is traditionally collarless and made of cotton or silk; it is worn plain or with embroidered decoration, such as chikan; and typically falls to either just above or just below the wearer's knees.In the last 50 years, fashions have changed a great deal in India. Increasingly, in urban northern India, the sari is no longer the apparel of everyday wear, though they remain popular on formal occasions. The traditional shalwar kameez is rarely worn by younger urban women, who favour churidars or jeans.  In white-collar office settings, ubiquitous air conditioning allows men to wear sports jackets year-round. For weddings and formal occasions, men in the middle- and upper classes often wear bandgala, or short Nehru jackets, with pants, with the groom and his groomsmen sporting sherwanis and churidars. The dhoti, once the universal garment of Hindu males, the wearing of which in the homespun and handwoven khadi allowed Gandhi to bring Indian nationalism to the millions,\n",
            "is seldom seen in the cities.\n",
            "\n",
            "\n",
            "=== Cuisine ===\n",
            "\n",
            "The foundation of a typical Indian meal is a cereal cooked in a plain fashion and complemented with flavourful savoury dishes. The cooked cereal could be steamed rice; chapati, a thin unleavened bread made from wheat flour, or occasionally cornmeal, and griddle-cooked dry; the idli, a steamed breakfast cake, or dosa, a griddled pancake, both leavened and made from a batter of rice- and gram meal.  The savoury dishes might include lentils, pulses and vegetables commonly spiced with ginger and garlic, but also with a combination of spices that may include coriander, cumin, turmeric, cinnamon, cardamon and others as informed by culinary conventions. They might also include poultry, fish, or meat dishes. In some instances, the ingredients might be mixed during the process of cooking.A platter, or thali, used for eating usually has a central place reserved for the cooked cereal, and peripheral ones for the flavourful accompaniments, which are often served in small bowls. The cereal and its accompaniments are eaten simultaneously rather than a piecemeal manner.  This is accomplished by mixing—for example of rice and lentils—or folding, wrapping, scooping or dipping—such as chapati and cooked vegetables or lentils.\n",
            "\n",
            "India has distinctive vegetarian cuisines, each a feature of the geographical and cultural histories of its adherents. The appearance of ahimsa, or the avoidance of violence toward all forms of life in many religious orders early in Indian history, especially Upanishadic Hinduism, Buddhism and Jainism, is thought to have contributed to the predominance of vegetarianism among a large segment of India's Hindu population, especially in southern India, Gujarat, the Hindi-speaking belt of north-central India, as well as among Jains.  Although meat is eaten widely in India,  the proportional consumption of meat in the overall diet is low. Unlike China, which has increased its per capita meat consumption substantially in its years of increased economic growth, in India the strong dietary traditions have contributed to dairy, rather than meat, becoming the preferred form of animal protein consumption.The most significant import of cooking techniques into India during the last millennium occurred during the Mughal Empire. Dishes such as the pilaf, developed in the Abbasid caliphate, and cooking techniques such as the marinating of meat in yogurt, spread into northern India from regions to its northwest.  To the simple yogurt marinade of Persia, onions, garlic, almonds, and spices began to be added in India. Rice was partially cooked and layered alternately with the sauteed meat, the pot sealed tightly, and slow cooked according to another Persian cooking technique, to produce what has today become the Indian biryani, a feature of festive dining in many parts of India. In the food served in Indian restaurants worldwide the diversity of Indian food has been partially concealed by the dominance of Punjabi cuisine. The popularity of tandoori chicken—cooked in the tandoor oven, which had traditionally been used for baking bread in the rural Punjab and the Delhi region, especially among Muslims, but which is originally from Central Asia—dates to the 1950s, and was caused in large part by an entrepreneurial response among people from the Punjab who had been displaced by the 1947 partition of India.\n",
            "\n",
            "\n",
            "=== Sports and recreation ===\n",
            "\n",
            "Several traditional indigenous sports such as kabaddi, kho kho, pehlwani and gilli-danda, and also martial arts, such as Kalarippayattu and marma adi remain popular. Chess is commonly held to have originated in India as chaturaṅga; There has been a rise in the number of Indian grandmasters. Viswanathan Anand became the Chess World Champion in 2007 and held the status until 2013. Parcheesi is derived from Pachisi another traditional Indian pastime, which in early modern times was played on a giant marble court by Mughal emperor Akbar the Great.Cricket is the most popular sport in India. Major domestic competitions include the Indian Premier League, which is the most-watched cricket league in the world and ranks sixth among all sports leagues. Other professional leagues include the Indian Super League (football) and the pro Kabaddi league.\n",
            "\n",
            "India has won two ODI Cricket world cups, the 1983 edition and the 2011 edition and has eight field hockey gold medals in the summer olympics\n",
            "The improved results garnered by the Indian Davis Cup team and other Indian tennis players in the early 2010s have made tennis increasingly popular in the country. India has a comparatively strong presence in shooting sports, and has won several medals at the Olympics, the World Shooting Championships, and the Commonwealth Games. Other sports in which Indians have succeeded internationally include badminton (Saina Nehwal and P. V. Sindhu are two of the top-ranked female badminton players in the world), boxing, and wrestling. Football is popular in West Bengal, Goa, Tamil Nadu, Kerala, and the north-eastern states.\n",
            "India has hosted or co-hosted several international sporting events: the 1951 and 1982 Asian Games; the 1987, 1996, and 2011 Cricket World Cup tournaments; the 2003 Afro-Asian Games; the 2006 ICC Champions Trophy; the 2009 World Badminton Championships; the 2010 Hockey World Cup; the 2010 Commonwealth Games; and the 2017 FIFA U-17 World Cup. Major international sporting events held annually in India include the Maharashtra Open, the Mumbai Marathon, the Delhi Half Marathon, and the Indian Masters. The first Formula 1 Indian Grand Prix featured in late 2011 but has been discontinued from the F1 season calendar since 2014. India has traditionally been the dominant country at the South Asian Games. An example of this dominance is the basketball competition where the Indian team won three out of four tournaments to date.\n",
            "\n",
            "\n",
            "== See also ==\n",
            "\n",
            "Outline of India\n",
            "\n",
            "\n",
            "== Notes ==\n",
            "\n",
            "\n",
            "== References ==\n",
            "\n",
            "\n",
            "== Bibliography ==\n",
            "Overview\n",
            "\n",
            "Etymology\n",
            "\n",
            "History\n",
            "\n",
            "Geography\n",
            "\n",
            "Biodiversity\n",
            "\n",
            "Politics\n",
            "\n",
            "Foreign relations and military\n",
            "\n",
            "Economy\n",
            "\n",
            "Demographics\n",
            "\n",
            "Art\n",
            "\n",
            "Culture\n",
            "\n",
            "\n",
            "== External links ==\n",
            "\n",
            "Government\n",
            "\n",
            "Official website of Government of India\n",
            "Government of India Web DirectoryGeneral information\n",
            "\n",
            "India. The World Factbook. Central Intelligence Agency.\n",
            "India at Curlie\n",
            "India web resources provided by GovPubs at the University of Colorado Boulder Libraries\n",
            "India from the BBC News\n",
            " Wikimedia Atlas of India\n",
            " Geographic data related to India at OpenStreetMap\n",
            "Key Development Forecasts for India from International Futures\n"
          ]
        }
      ]
    },
    {
      "cell_type": "code",
      "source": [
        "def cleanup(text):\n",
        "  text = text.lower()  # make it lowercase\n",
        "  text = re.sub('[^a-z]+', '', text) # only keep characters, i.e. if not a-z then replace with space.\n",
        "  return text\n"
      ],
      "metadata": {
        "id": "mKy3wtXzJZ_C"
      },
      "execution_count": 82,
      "outputs": []
    },
    {
      "cell_type": "code",
      "source": [
        "text1 = re.sub('[a-z]', '1', 'espèce d\\'« éléphant d\\?Afrique »,')\n",
        "text1"
      ],
      "metadata": {
        "id": "Zdl4VynSJbMR",
        "outputId": "0a86725f-9c3a-4fd7-9390-1c845644d745",
        "colab": {
          "base_uri": "https://localhost:8080/",
          "height": 35
        }
      },
      "execution_count": 83,
      "outputs": [
        {
          "output_type": "execute_result",
          "data": {
            "text/plain": [
              "\"111è11 1'« é1é11111 1\\\\?A111111 »,\""
            ],
            "application/vnd.google.colaboratory.intrinsic+json": {
              "type": "string"
            }
          },
          "metadata": {},
          "execution_count": 83
        }
      ]
    },
    {
      "cell_type": "code",
      "source": [
        "page_object=cleanup(page_object)"
      ],
      "metadata": {
        "id": "X0RtG24lJgdn"
      },
      "execution_count": 84,
      "outputs": []
    },
    {
      "cell_type": "code",
      "source": [
        "print(page_object)"
      ],
      "metadata": {
        "id": "Ar-ToaDFJlXh",
        "outputId": "3f231746-92c3-414c-c696-8ae3fbb4dca9",
        "colab": {
          "base_uri": "https://localhost:8080/"
        }
      },
      "execution_count": 85,
      "outputs": [
        {
          "output_type": "stream",
          "name": "stdout",
          "text": [
            "indiaofficiallytherepublicofindiahindibhratgaarjyaisacountryinsouthasiaitistheseventhlargestcountrybyareathesecondmostpopulouscountryandthemostpopulousdemocracyintheworldboundedbytheindianoceanonthesouththearabianseaonthesouthwestandthebayofbengalonthesoutheastitshareslandborderswithpakistantothewestchinanepalandbhutantothenorthandbangladeshandmyanmartotheeastintheindianoceanindiaisinthevicinityofsrilankaandthemaldivesitsandamanandnicobarislandsshareamaritimeborderwiththailandmyanmarandindonesiathenationscapitalcityisnewdelhimodernhumansarrivedontheindiansubcontinentfromafricanolaterthanyearsagotheirlongoccupationinitiallyinvaryingformsofisolationashuntergatherershasmadetheregionhighlydiversesecondonlytoafricainhumangeneticdiversitysettledlifeemergedonthesubcontinentinthewesternmarginsoftheindusriverbasinyearsagoevolvinggraduallyintotheindusvalleycivilisationofthethirdmillenniumbcebybceanarchaicformofsanskritanindoeuropeanlanguagehaddiffusedintoindiafromthenorthwestitsevidencetodayisfoundinthehymnsoftherigvedapreservedbyaresolutelyvigilantoraltraditiontherigvedarecordsthedawningofhinduisminindiathedravidianlanguagesofindiaweresupplantedinthenorthernandwesternregionsbybcestratificationandexclusionbycastehademergedwithinhinduismandbuddhismandjainismhadarisenproclaimingsocialordersunlinkedtoheredityearlypoliticalconsolidationsgaverisetothelooseknitmauryaandguptaempiresbasedinthegangesbasintheircollectiveerawassuffusedwithwiderangingcreativitybutalsomarkedbythedecliningstatusofwomenandtheincorporationofuntouchabilityintoanorganisedsystemofbeliefinsouthindiathemiddlekingdomsexporteddravidianlanguagesscriptsandreligiousculturestothekingdomsofsoutheastasiaintheearlymedievalerachristianityislamjudaismandzoroastrianismbecameestablishedonindiassouthernandwesterncoastsmuslimarmiesfromcentralasiaintermittentlyoverranindiasnorthernplainseventuallyfoundingthedelhisultanateanddrawingnorthernindiaintothecosmopolitannetworksofmedievalislaminthethcenturythevijayanagaraempirecreatedalonglastingcompositehinducultureinsouthindiainthepunjabsikhismemergedrejectinginstitutionalisedreligionthemughalempireinusheredintwocenturiesofrelativepeaceleavingalegacyofluminousarchitecturegraduallyexpandingruleofthebritisheastindiacompanyfollowedturningindiaintoacolonialeconomybutalsoconsolidatingitssovereigntybritishcrownrulebeganintherightspromisedtoindiansweregrantedslowlybuttechnologicalchangeswereintroducedandmodernideasofeducationandthepubliclifetookrootapioneeringandinfluentialnationalistmovementemergedwhichwasnotedfornonviolentresistanceandbecamethemajorfactorinendingbritishruleinthebritishindianempirewaspartitionedintotwoindependentdominionsahindumajoritydominionofindiaandamuslimmajoritydominionofpakistanamidlargescalelossoflifeandanunprecedentedmigrationindiahasbeenafederalrepublicsincegovernedthroughademocraticparliamentarysystemitisapluralisticmultilingualandmultiethnicsocietyindiaspopulationgrewfrommillionintobillioninduringthesametimeitsnominalpercapitaincomeincreasedfromusannuallytousanditsliteracyratefromtofrombeingacomparativelydestitutecountryinindiahasbecomeafastgrowingmajoreconomyandahubforinformationtechnologyserviceswithanexpandingmiddleclassithasaspaceprogrammewhichincludesseveralplannedorcompletedextraterrestrialmissionsindianmoviesmusicandspiritualteachingsplayanincreasingroleinglobalcultureindiahassubstantiallyreduceditsrateofpovertythoughatthecostofincreasingeconomicinequalityindiaisanuclearweaponstatewhichrankshighinmilitaryexpenditureithasdisputesoverkashmirwithitsneighbourspakistanandchinaunresolvedsincethemidthcenturyamongthesocioeconomicchallengesindiafacesarecorruptiongenderinequalitychildmalnutritionlowattainmentandqualityofeducationprimitivewatersupplyandsanitationandhighlevelsofairandwaterpollutionindiaslandismegadiversewithfourbiodiversityhotspotsitsforestcovercomprisesofitsareaindiaswildlifewhichhastraditionallybeenviewedwithtoleranceinindiascultureissupportedamongtheseforestsandelsewhereinprotectedhabitatsetymologyaccordingtotheoxfordenglishdictionarythirdeditionthenameindiaisderivedfromtheclassicallatinindiaareferencetosouthasiaandanuncertainregiontoitseastandinturnderivedsuccessivelyfromhellenisticgreekindiaancientgreekindosoldpersianhindushaneasternprovinceoftheachaemenidempireandultimatelyitscognatethesanskritsindhuorriverspecificallytheindusriverandbyimplicationitswellsettledsouthernbasintheancientgreeksreferredtotheindiansasindoiwhichtranslatesasthepeopleoftheindusthetermbharatbhratpronouncedbatlistenmentionedinbothindianepicpoetryandtheconstitutionofindiaisusedinitsvariationsbymanyindianlanguagesamodernrenderingofthehistoricalnamebharatavarshawhichappliedoriginallytonorthindiabharatgainedincreasedcurrencyfromthemidthcenturyasanativenameforindiahindustanndstanlistenisamiddlepersiannameforindiaintroducedduringthemughalempireandusedwidelysinceitsmeaninghasvariedreferringtoaregionencompassingpresentdaynorthernindiaandpakistanortoindiainitsnearentiretyhistoryancientindiabyyearsagothefirstmodernhumansorhomosapienshadarrivedontheindiansubcontinentfromafricawheretheyhadearlierevolvedtheearliestknownmodernhumanremainsinsouthasiadatetoaboutyearsagoafterbceevidencefordomesticationoffoodcropsandanimalsconstructionofpermanentstructuresandstorageofagriculturalsurplusappearedinmehrgarhandothersitesinwhatisnowbalochistanpakistanthesegraduallydevelopedintotheindusvalleycivilisationthefirsturbancultureinsouthasiawhichflourishedduringbceinwhatisnowpakistanandwesternindiacentredaroundcitiessuchasmohenjodaroharappadholaviraandkalibanganandrelyingonvariedformsofsubsistencethecivilisationengagedrobustlyincraftsproductionandwiderangingtradeduringtheperiodbcemanyregionsofthesubcontinenttransitionedfromthechalcolithicculturestotheironageonesthevedastheoldestscripturesassociatedwithhinduismwerecomposedduringthisperiodandhistorianshaveanalysedthesetopositavediccultureinthepunjabregionandtheuppergangeticplainmosthistoriansalsoconsiderthisperiodtohaveencompassedseveralwavesofindoaryanmigrationintothesubcontinentfromthenorthwestthecastesystemwhichcreatedahierarchyofpriestswarriorsandfreepeasantsbutwhichexcludedindigenouspeoplesbylabellingtheiroccupationsimpurearoseduringthisperiodonthedeccanplateauarchaeologicalevidencefromthisperiodsuggeststheexistenceofachiefdomstageofpoliticalorganisationinsouthindiaaprogressiontosedentarylifeisindicatedbythelargenumberofmegalithicmonumentsdatingfromthisperiodaswellasbynearbytracesofagricultureirrigationtanksandcrafttraditionsinthelatevedicperiodaroundthethcenturybcethesmallstatesandchiefdomsofthegangesplainandthenorthwesternregionshadconsolidatedintomajoroligarchiesandmonarchiesthatwereknownasthemahajanapadastheemergingurbanisationgaverisetononvedicreligiousmovementstwoofwhichbecameindependentreligionsjainismcameintoprominenceduringthelifeofitsexemplarmahavirabuddhismbasedontheteachingsofgautamabuddhaattractedfollowersfromallsocialclassesexceptingthemiddleclasschroniclingthelifeofthebuddhawascentraltothebeginningsofrecordedhistoryinindiainanageofincreasingurbanwealthbothreligionshelduprenunciationasanidealandbothestablishedlonglastingmonastictraditionspoliticallybytherdcenturybcethekingdomofmagadhahadannexedorreducedotherstatestoemergeasthemauryanempiretheempirewasoncethoughttohavecontrolledmostofthesubcontinentexceptthefarsouthbutitscoreregionsarenowthoughttohavebeenseparatedbylargeautonomousareasthemauryankingsareknownasmuchfortheirempirebuildinganddeterminedmanagementofpubliclifeasforashokasrenunciationofmilitarismandfarflungadvocacyofthebuddhistdhammathesangamliteratureofthetamillanguagerevealsthatbetweenbceandcethesouthernpeninsulawasruledbythecherasthecholasandthepandyasdynastiesthattradedextensivelywiththeromanempireandwithwestandsoutheastasiainnorthindiahinduismassertedpatriarchalcontrolwithinthefamilyleadingtoincreasedsubordinationofwomenbythethandthcenturiestheguptaempirehadcreatedacomplexsystemofadministrationandtaxationinthegreatergangesplainthissystembecameamodelforlaterindiankingdomsundertheguptasarenewedhinduismbasedondevotionratherthanthemanagementofritualbegantoassertitselfthisrenewalwasreflectedinafloweringofsculptureandarchitecturewhichfoundpatronsamonganurbaneliteclassicalsanskritliteraturefloweredaswellandindianscienceastronomymedicineandmathematicsmadesignificantadvancesmedievalindiatheindianearlymedievalagefromtoceisdefinedbyregionalkingdomsandculturaldiversitywhenharshaofkannaujwhoruledmuchoftheindogangeticplainfromtoceattemptedtoexpandsouthwardshewasdefeatedbythechalukyarulerofthedeccanwhenhissuccessorattemptedtoexpandeastwardshewasdefeatedbythepalakingofbengalwhenthechalukyasattemptedtoexpandsouthwardstheyweredefeatedbythepallavasfromfarthersouthwhointurnwereopposedbythepandyasandthecholasfromstillfarthersouthnorulerofthisperiodwasabletocreateanempireandconsistentlycontrollandsmuchbeyondtheircoreregionduringthistimepastoralpeopleswhoselandhadbeenclearedtomakewayforthegrowingagriculturaleconomywereaccommodatedwithincastesocietyaswerenewnontraditionalrulingclassesthecastesystemconsequentlybegantoshowregionaldifferencesinthethandthcenturiesthefirstdevotionalhymnswerecreatedinthetamillanguagetheywereimitatedalloverindiaandledtoboththeresurgenceofhinduismandthedevelopmentofallmodernlanguagesofthesubcontinentindianroyaltybigandsmallandthetemplestheypatroniseddrewcitizensingreatnumberstothecapitalcitieswhichbecameeconomichubsaswelltempletownsofvarioussizesbegantoappeareverywhereasindiaunderwentanotherurbanisationbythethandthcenturiestheeffectswerefeltinsoutheastasiaassouthindiancultureandpoliticalsystemswereexportedtolandsthatbecamepartofmoderndaymyanmarthailandlaosbruneicambodiavietnamphilippinesmalaysiaandindonesiaindianmerchantsscholarsandsometimesarmieswereinvolvedinthistransmissionsoutheastasianstooktheinitiativeaswellwithmanysojourninginindianseminariesandtranslatingbuddhistandhindutextsintotheirlanguagesafterthethcenturymuslimcentralasiannomadicclansusingswifthorsecavalryandraisingvastarmiesunitedbyethnicityandreligionrepeatedlyoverransouthasiasnorthwesternplainsleadingeventuallytotheestablishmentoftheislamicdelhisultanateinthesultanatewastocontrolmuchofnorthindiaandtomakemanyforaysintosouthindiaalthoughatfirstdisruptivefortheindianelitesthesultanatelargelyleftitsvastnonmuslimsubjectpopulationtoitsownlawsandcustomsbyrepeatedlyrepulsingmongolraidersinthethcenturythesultanatesavedindiafromthedevastationvisitedonwestandcentralasiasettingthesceneforcenturiesofmigrationoffleeingsoldierslearnedmenmysticstradersartistsandartisansfromthatregionintothesubcontinenttherebycreatingasyncreticindoislamiccultureinthenorththesultanatesraidingandweakeningoftheregionalkingdomsofsouthindiapavedthewayfortheindigenousvijayanagaraempireembracingastrongshaivitetraditionandbuildinguponthemilitarytechnologyofthesultanatetheempirecametocontrolmuchofpeninsularindiaandwastoinfluencesouthindiansocietyforlongafterwardsearlymodernindiaintheearlythcenturynorthernindiathenundermainlymuslimrulersfellagaintothesuperiormobilityandfirepowerofanewgenerationofcentralasianwarriorstheresultingmughalempiredidnotstampoutthelocalsocietiesitcametoruleinsteaditbalancedandpacifiedthemthroughnewadministrativepracticesanddiverseandinclusiverulingelitesleadingtomoresystematiccentralisedanduniformruleeschewingtribalbondsandislamicidentityespeciallyunderakbarthemughalsunitedtheirfarflungrealmsthroughloyaltyexpressedthroughapersianisedculturetoanemperorwhohadneardivinestatusthemughalstateseconomicpoliciesderivingmostrevenuesfromagricultureandmandatingthattaxesbepaidinthewellregulatedsilvercurrencycausedpeasantsandartisanstoenterlargermarketstherelativepeacemaintainedbytheempireduringmuchofthethcenturywasafactorinindiaseconomicexpansionresultingingreaterpatronageofpaintingliteraryformstextilesandarchitecturenewlycoherentsocialgroupsinnorthernandwesternindiasuchasthemarathastherajputsandthesikhsgainedmilitaryandgoverningambitionsduringmughalrulewhichthroughcollaborationoradversitygavethembothrecognitionandmilitaryexperienceexpandingcommerceduringmughalrulegaverisetonewindiancommercialandpoliticalelitesalongthecoastsofsouthernandeasternindiaastheempiredisintegratedmanyamongtheseeliteswereabletoseekandcontroltheirownaffairsbytheearlythcenturywiththelinesbetweencommercialandpoliticaldominancebeingincreasinglyblurredanumberofeuropeantradingcompaniesincludingtheenglisheastindiacompanyhadestablishedcoastaloutpoststheeastindiacompanyscontroloftheseasgreaterresourcesandmoreadvancedmilitarytrainingandtechnologyledittoincreasinglyassertitsmilitarystrengthandcausedittobecomeattractivetoaportionoftheindianelitethesefactorswerecrucialinallowingthecompanytogaincontroloverthebengalregionbyandsidelinetheothereuropeancompaniesitsfurtheraccesstotherichesofbengalandthesubsequentincreasedstrengthandsizeofitsarmyenabledittoannexeorsubduemostofindiabythesindiawasthennolongerexportingmanufacturedgoodsasitlonghadbutwasinsteadsupplyingthebritishempirewithrawmaterialsmanyhistoriansconsiderthistobetheonsetofindiascolonialperiodbythistimewithitseconomicpowerseverelycurtailedbythebritishparliamentandhavingeffectivelybeenmadeanarmofbritishadministrationtheeastindiacompanybeganmoreconsciouslytoenternoneconomicarenasincludingeducationsocialreformandculturemodernindiahistoriansconsiderindiasmodernagetohavebegunsometimebetweenandtheappointmentinoflorddalhousieasgovernorgeneraloftheeastindiacompanysetthestageforchangesessentialtoamodernstatetheseincludedtheconsolidationanddemarcationofsovereigntythesurveillanceofthepopulationandtheeducationofcitizenstechnologicalchangesamongthemrailwayscanalsandthetelegraphwereintroducednotlongaftertheirintroductionineuropehoweverdisaffectionwiththecompanyalsogrewduringthistimeandsetofftheindianrebellionoffedbydiverseresentmentsandperceptionsincludinginvasivebritishstylesocialreformsharshlandtaxesandsummarytreatmentofsomerichlandownersandprincestherebellionrockedmanyregionsofnorthernandcentralindiaandshookthefoundationsofcompanyrulealthoughtherebellionwassuppressedbyitledtothedissolutionoftheeastindiacompanyandthedirectadministrationofindiabythebritishgovernmentproclaimingaunitarystateandagradualbutlimitedbritishstyleparliamentarysystemthenewrulersalsoprotectedprincesandlandedgentryasafeudalsafeguardagainstfutureunrestinthedecadesfollowingpubliclifegraduallyemergedalloverindialeadingeventuallytothefoundingoftheindiannationalcongressintherushoftechnologyandthecommercialisationofagricultureinthesecondhalfofthethcenturywasmarkedbyeconomicsetbacksandmanysmallfarmersbecamedependentonthewhimsoffarawaymarketstherewasanincreaseinthenumberoflargescalefaminesanddespitetherisksofinfrastructuredevelopmentbornebyindiantaxpayerslittleindustrialemploymentwasgeneratedforindianstherewerealsosalutaryeffectscommercialcroppingespeciallyinthenewlycanalledpunjabledtoincreasedfoodproductionforinternalconsumptiontherailwaynetworkprovidedcriticalfaminereliefnotablyreducedthecostofmovinggoodsandhelpednascentindianownedindustryafterworldwariinwhichapproximatelyonemillionindiansservedanewperiodbeganitwasmarkedbybritishreformsbutalsorepressivelegislationbymorestridentindiancallsforselfruleandbythebeginningsofanonviolentmovementofnoncooperationofwhichmohandaskaramchandgandhiwouldbecometheleaderandenduringsymbolduringthesslowlegislativereformwasenactedbythebritishtheindiannationalcongresswonvictoriesintheresultingelectionsthenextdecadewasbesetwithcrisesindianparticipationinworldwariithecongresssfinalpushfornoncooperationandanupsurgeofmuslimnationalismallwerecappedbytheadventofindependenceinbuttemperedbythepartitionofindiaintotwostatesindiaandpakistanvitaltoindiasselfimageasanindependentnationwasitsconstitutioncompletedinwhichputinplaceasecularanddemocraticrepubliceconomicliberalisationwhichbeganintheshascreatedalargeurbanmiddleclasstransformedindiaintooneoftheworldsfastestgrowingeconomiesandincreaseditsgeopoliticalcloutindianfilmsmusicandspiritualteachingsplayanincreasingroleinglobalcultureyetindiaisalsoshapedbyseeminglyunyieldingpovertybothruralandurbanbyreligiousandcasterelatedviolencebymaoistinspirednaxaliteinsurgenciesandbyseparatisminjammuandkashmirandinnortheastindiaithasunresolvedterritorialdisputeswithchinaandwithpakistanindiassustaineddemocraticfreedomsareuniqueamongtheworldsnewernationshoweverinspiteofitsrecenteconomicsuccessesfreedomfromwantforitsdisadvantagedpopulationremainsagoalyettobeachievedgeographyindiaaccountsforthebulkoftheindiansubcontinentlyingatoptheindiantectonicplateapartoftheindoaustralianplateindiasdefininggeologicalprocessesbeganmillionyearsagowhentheindianplatethenpartofthesouthernsupercontinentgondwanabegananortheastwarddriftcausedbyseafloorspreadingtoitssouthwestandlatersouthandsoutheastsimultaneouslythevasttethyanoceaniccrusttoitsnortheastbegantosubductundertheeurasianplatethesedualprocessesdrivenbyconvectionintheearthsmantlebothcreatedtheindianoceanandcausedtheindiancontinentalcrusteventuallytounderthrusteurasiaandtoupliftthehimalayasimmediatelysouthoftheemerginghimalayasplatemovementcreatedavastcrescentshapedtroughthatrapidlyfilledwithriverbornesedimentandnowconstitutestheindogangeticplaintheoriginalindianplatemakesitsfirstappearanceabovethesedimentintheancientaravallirangewhichextendsfromthedelhiridgeinasouthwesterlydirectiontothewestliesthethardeserttheeasternspreadofwhichischeckedbythearavallistheremainingindianplatesurvivesaspeninsularindiatheoldestandgeologicallymoststablepartofindiaitextendsasfarnorthasthesatpuraandvindhyarangesincentralindiatheseparallelchainsrunfromthearabianseacoastingujaratinthewesttothecoalrichchotanagpurplateauinjharkhandintheeasttothesouththeremainingpeninsularlandmassthedeccanplateauisflankedonthewestandeastbycoastalrangesknownasthewesternandeasternghatstheplateaucontainsthecountrysoldestrockformationssomeoveronebillionyearsoldconstitutedinsuchfashionindialiestothenorthoftheequatorbetweenandnorthlatitudeandandeastlongitudeindiascoastlinemeasureskilometresmiinlengthofthisdistancekilometresmibelongtopeninsularindiaandkilometresmitotheandamannicobarandlakshadweepislandchainsaccordingtotheindiannavalhydrographicchartsthemainlandcoastlineconsistsofthefollowingsandybeachesrockyshoresincludingcliffsandmudflatsormarshyshoresmajorhimalayanoriginriversthatsubstantiallyflowthroughindiaincludethegangesandthebrahmaputrabothofwhichdrainintothebayofbengalimportanttributariesofthegangesincludetheyamunaandthekosithelattersextremelylowgradientcausedbylongtermsiltdepositionleadstoseverefloodsandcoursechangesmajorpeninsularriverswhosesteepergradientspreventtheirwatersfromfloodingincludethegodavarithemahanadithekaveriandthekrishnawhichalsodrainintothebayofbengalandthenarmadaandthetaptiwhichdrainintothearabianseacoastalfeaturesincludethemarshyrannofkutchofwesternindiaandthealluvialsundarbansdeltaofeasternindiathelatterissharedwithbangladeshindiahastwoarchipelagosthelakshadweepcoralatollsoffindiassouthwesterncoastandtheandamanandnicobarislandsavolcanicchainintheandamanseaindianclimateisstronglyinfluencedbythehimalayasandthethardesertbothofwhichdrivetheeconomicallyandculturallypivotalsummerandwintermonsoonsthehimalayaspreventcoldcentralasiankatabaticwindsfromblowinginkeepingthebulkoftheindiansubcontinentwarmerthanmostlocationsatsimilarlatitudesthethardesertplaysacrucialroleinattractingthemoistureladensouthwestsummermonsoonwindsthatbetweenjuneandoctoberprovidethemajorityofindiasrainfallfourmajorclimaticgroupingspredominateinindiatropicalwettropicaldrysubtropicalhumidandmontanetemperaturesinindiahaverisenbycfbetweenandclimatechangeinindiaisoftenthoughttobethecausetheretreatofhimalayanglaciershasadverselyaffectedtheflowrateofthemajorhimalayanriversincludingthegangesandthebrahmaputraaccordingtosomecurrentprojectionsthenumberandseverityofdroughtsinindiawillhavemarkedlyincreasedbytheendofthepresentcenturybiodiversityindiaisamegadiversecountryatermemployedforcountrieswhichdisplayhighbiologicaldiversityandcontainmanyspeciesexclusivelyindigenousorendemictothemindiaisahabitatforofallmammalspeciesofbirdspeciesofreptilespeciesofamphibianspeciesoffishspeciesandofallfloweringplantspeciesfullyathirdofindianplantspeciesareendemicindiaalsocontainsfouroftheworldsbiodiversityhotspotsorregionsthatdisplaysignificanthabitatlossinthepresenceofhighendemismaccordingtoofficialstatisticsindiasforestcoveriskmsqmiwhichisofthecountrystotallandareaitcanbesubdividedfurtherintobroadcategoriesofcanopydensityortheproportionoftheareaofaforestcoveredbyitstreecanopyverydenseforestwhosecanopydensityisgreaterthanoccupiesofindiaslandareaitpredominatesinthetropicalmoistforestoftheandamanislandsthewesternghatsandnortheastindiamoderatelydenseforestwhosecanopydensityisbetweenandoccupiesofindiaslandareaitpredominatesinthetemperateconiferousforestofthehimalayasthemoistdeciduoussalforestofeasternindiaandthedrydeciduousteakforestofcentralandsouthernindiaopenforestwhosecanopydensityisbetweenandoccupiesofindiaslandareaindiahastwonaturalzonesofthornforestoneinthedeccanplateauimmediatelyeastofthewesternghatsandtheotherinthewesternpartoftheindogangeticplainnowturnedintorichagriculturallandbyirrigationitsfeaturesnolongervisibleamongtheindiansubcontinentsnotableindigenoustreesaretheastringentazadirachtaindicaorneemwhichiswidelyusedinruralindianherbalmedicineandtheluxuriantficusreligiosaorpeepulwhichisdisplayedontheancientsealsofmohenjodaroandunderwhichthebuddhaisrecordedinthepalicanontohavesoughtenlightenmentmanyindianspecieshavedescendedfromthoseofgondwanathesouthernsupercontinentfromwhichindiaseparatedmorethanmillionyearsagoindiassubsequentcollisionwitheurasiasetoffamassexchangeofspecieshowevervolcanismandclimaticchangeslatercausedtheextinctionofmanyendemicindianformsstilllatermammalsenteredindiafromasiathroughtwozoogeographicalpassesflankingthehimalayasthishadtheeffectofloweringendemismamongindiasmammalswhichstandsatcontrastingwithamongreptilesandamongamphibiansamongendemicsarethevulnerablehoodedleafmonkeyandthethreatenedbeddomestoadofthewesternghatsindiacontainsiucndesignatedthreatenedanimalspeciesorofendangeredformstheseincludetheendangeredbengaltigerandthegangesriverdolphincriticallyendangeredspeciesincludethegharialacrocodilianthegreatindianbustardandtheindianwhiterumpedvulturewhichhasbecomenearlyextinctbyhavingingestedthecarrionofdiclofenactreatedcattlebeforetheywereextensivelyutilizedforagricultureandclearedforhumansettlementthethornforestsofpunjabweremingledatintervalswithopengrasslandsthatweregrazedbylargeherdsofblackbuckpreyedonbytheasiaticcheetahtheblackbucknolongerextantinpunjabisnowseverelyendangeredinindiaandthecheetahisextinctthepervasiveandecologicallydevastatinghumanencroachmentofrecentdecadeshascriticallyendangeredindianwildlifeinresponsethesystemofnationalparksandprotectedareasfirstestablishedinwasexpandedsubstantiallyinindiaenactedthewildlifeprotectionactandprojecttigertosafeguardcrucialwildernesstheforestconservationactwasenactedinandamendmentsaddedinindiahostsmorethanfivehundredwildlifesanctuariesandthirteenbiospherereservesfourofwhicharepartoftheworldnetworkofbiospherereservestwentyfivewetlandsareregisteredundertheramsarconventionpoliticsandgovernmentpoliticsindiaistheworldsmostpopulousdemocracyaparliamentaryrepublicwithamultipartysystemithaseightrecognisednationalpartiesincludingtheindiannationalcongressandthebharatiyajanatapartybjpandmorethanregionalpartiesthecongressisconsideredcentreleftinindianpoliticalcultureandthebjprightwingformostoftheperiodbetweenwhenindiafirstbecamearepublicandthelatesthecongressheldamajorityintheparliamentsincethenhoweverithasincreasinglysharedthepoliticalstagewiththebjpaswellaswithpowerfulregionalpartieswhichhaveoftenforcedthecreationofmultipartycoalitiongovernmentsatthecentreintherepublicofindiasfirstthreegeneralelectionsinandthejawaharlalnehruledcongresswoneasyvictoriesonnehrusdeathinlalbahadurshastribrieflybecameprimeministerhewassucceededafterhisownunexpecteddeathinbynehrusdaughterindiragandhiwhowentontoleadthecongresstoelectionvictoriesinandfollowingpublicdiscontentwiththestateofemergencyshedeclaredinthecongresswasvotedoutofpowerinthethennewjanatapartywhichhadopposedtheemergencywasvotedinitsgovernmentlastedjustovertwoyearsvotedbackintopowerinthecongresssawachangeinleadershipinwhenindiragandhiwasassassinatedshewassucceededbyhersonrajivgandhiwhowonaneasyvictoryinthegeneralelectionslaterthatyearthecongresswasvotedoutagaininwhenanationalfrontcoalitionledbythenewlyformedjanatadalinalliancewiththeleftfrontwontheelectionsthatgovernmenttooprovedrelativelyshortlivedlastingjustundertwoyearselectionswereheldagaininnopartywonanabsolutemajoritythecongressasthelargestsinglepartywasabletoformaminoritygovernmentledbypvnarasimharaoatwoyearperiodofpoliticalturmoilfollowedthegeneralelectionofseveralshortlivedalliancessharedpoweratthecentrethebjpformedagovernmentbrieflyinitwasfollowedbytwocomparativelylonglastingunitedfrontcoalitionswhichdependedonexternalsupportinthebjpwasabletoformasuccessfulcoalitionthenationaldemocraticalliancendaledbyatalbiharivajpayeethendabecamethefirstnoncongresscoalitiongovernmenttocompleteafiveyeartermagainintheindiangeneralelectionsnopartywonanabsolutemajoritybutthecongressemergedasthelargestsinglepartyforminganothersuccessfulcoalitiontheunitedprogressiveallianceupaithadthesupportofleftleaningpartiesandmpswhoopposedthebjptheupareturnedtopowerinthegeneralelectionwithincreasednumbersanditnolongerrequiredexternalsupportfromindiascommunistpartiesthatyearmanmohansinghbecamethefirstprimeministersincejawaharlalnehruinandtobereelectedtoaconsecutivefiveyearterminthegeneralelectionthebjpbecamethefirstpoliticalpartysincetowinamajorityandgovernwithoutthesupportofotherpartiestheincumbentprimeministerisnarendramodiaformerchiefministerofgujaratonjulydroupadimurmuwaselectedindiasthpresidentandtooktheoathofofficeonjulygovernmentindiaisafederationwithaparliamentarysystemgovernedundertheconstitutionofindiathecountryssupremelegaldocumentitisaconstitutionalrepublicandrepresentativedemocracyinwhichmajorityruleistemperedbyminorityrightsprotectedbylawfederalisminindiadefinesthepowerdistributionbetweentheunionandthestatestheconstitutionofindiawhichcameintoeffectonjanuaryoriginallystatedindiatobeasovereigndemocraticrepublicthischaracterisationwasamendedintoasovereignsocialistseculardemocraticrepublicindiasformofgovernmenttraditionallydescribedasquasifederalwithastrongcentreandweakstateshasgrownincreasinglyfederalsincethelatesasaresultofpoliticaleconomicandsocialchangesthegovernmentofindiacomprisesthreebranchesexecutivethepresidentofindiaistheceremonialheadofstatewhoiselectedindirectlyforafiveyeartermbyanelectoralcollegecomprisingmembersofnationalandstatelegislaturestheprimeministerofindiaistheheadofgovernmentandexercisesmostexecutivepowerappointedbythepresidenttheprimeministerisbyconventionsupportedbythepartyorpoliticalalliancehavingamajorityofseatsinthelowerhouseofparliamenttheexecutiveoftheindiangovernmentconsistsofthepresidentthevicepresidentandtheunioncouncilofministerswiththecabinetbeingitsexecutivecommitteeheadedbytheprimeministeranyministerholdingaportfoliomustbeamemberofoneofthehousesofparliamentintheindianparliamentarysystemtheexecutiveissubordinatetothelegislaturetheprimeministerandtheircouncilaredirectlyresponsibletothelowerhouseoftheparliamentcivilservantsactaspermanentexecutivesandalldecisionsoftheexecutiveareimplementedbythemlegislaturethelegislatureofindiaisthebicameralparliamentoperatingunderawestminsterstyleparliamentarysystemitcomprisesanupperhousecalledtherajyasabhacouncilofstatesandalowerhousecalledtheloksabhahouseofthepeopletherajyasabhaisapermanentbodyofmemberswhoservestaggeredsixyeartermsmostareelectedindirectlybythestateandunionterritoriallegislaturesinnumbersproportionaltotheirstatesshareofthenationalpopulationallbuttwooftheloksabhasmembersareelecteddirectlybypopularvotetheyrepresentsinglememberconstituenciesforfiveyeartermstwoseatsofparliamentreservedforangloindianinthearticlehavebeenscrappedjudiciaryindiahasathreetierunitaryindependentjudiciarycomprisingthesupremecourtheadedbythechiefjusticeofindiahighcourtsandalargenumberoftrialcourtsthesupremecourthasoriginaljurisdictionovercasesinvolvingfundamentalrightsandoverdisputesbetweenstatesandthecentreandhasappellatejurisdictionoverthehighcourtsithasthepowertobothstrikedownunionorstatelawswhichcontravenetheconstitutionandinvalidateanygovernmentactionitdeemsunconstitutionaladministrativedivisionsindiaisafederalunioncomprisingstatesandunionterritoriesallstatesaswellastheunionterritoriesofjammuandkashmirpuducherryandthenationalcapitalterritoryofdelhihaveelectedlegislaturesandgovernmentsfollowingthewestminstersystemofgovernancetheremainingfiveunionterritoriesaredirectlyruledbythecentralgovernmentthroughappointedadministratorsinunderthestatesreorganisationactstateswerereorganisedonalinguisticbasisthereareoveraquarterofamillionlocalgovernmentbodiesatcitytownblockdistrictandvillagelevelsstatesunionterritoriesforeigneconomicandstrategicrelationsinthesindiastronglysupporteddecolonisationinafricaandasiaandplayedaleadingroleinthenonalignedmovementafterinitiallycordialrelationswithneighbouringchinaindiawenttowarwithchinainandwaswidelythoughttohavebeenhumiliatedindiahashadtenserelationswithneighbouringpakistanthetwonationshavegonetowarfourtimesinandthreeofthesewarswerefoughtoverthedisputedterritoryofkashmirwhilethefourththewarfollowedfromindiassupportfortheindependenceofbangladeshinthelatestheindianmilitarytwiceintervenedabroadattheinvitationofthehostcountryapeacekeepingoperationinsrilankabetweenandandanarmedinterventiontopreventacoupdtatattemptinthemaldivesafterthewarwithpakistanindiabegantopursueclosemilitaryandeconomictieswiththesovietunionbythelatesthesovietunionwasitslargestarmssupplierasidefromongoingitsspecialrelationshipwithrussiaindiahaswiderangingdefencerelationswithisraelandfranceinrecentyearsithasplayedkeyrolesinthesouthasianassociationforregionalcooperationandtheworldtradeorganizationthenationhasprovidedmilitaryandpolicepersonneltoserveinunpeacekeepingoperationsacrossfourcontinentsitparticipatesintheeastasiasummitthegandothermultilateralforumsindiahascloseeconomictieswithcountriesinsouthamericaasiaandafricaitpursuesalookeastpolicythatseekstostrengthenpartnershipswiththeaseannationsjapanandsouthkoreathatrevolvearoundmanyissuesbutespeciallythoseinvolvingeconomicinvestmentandregionalsecuritychinasnucleartestofaswellasitsrepeatedthreatstointerveneinsupportofpakistaninthewarconvincedindiatodevelopnuclearweaponsindiaconducteditsfirstnuclearweaponstestinandcarriedoutadditionalundergroundtestingindespitecriticismandmilitarysanctionsindiahassignedneitherthecomprehensivenucleartestbantreatynorthenuclearnonproliferationtreatyconsideringbothtobeflawedanddiscriminatoryindiamaintainsanofirstusenuclearpolicyandisdevelopinganucleartriadcapabilityasapartofitsminimumcredibledeterrencedoctrineitisdevelopingaballisticmissiledefenceshieldandafifthgenerationfighterjetotherindigenousmilitaryprojectsinvolvethedesignandimplementationofvikrantclassaircraftcarriersandarihantclassnuclearsubmarinessincetheendofthecoldwarindiahasincreaseditseconomicstrategicandmilitarycooperationwiththeunitedstatesandtheeuropeanunioninaciviliannuclearagreementwassignedbetweenindiaandtheunitedstatesalthoughindiapossessednuclearweaponsatthetimeandwasnotapartytothenuclearnonproliferationtreatyitreceivedwaiversfromtheinternationalatomicenergyagencyandthenuclearsuppliersgroupendingearlierrestrictionsonindiasnucleartechnologyandcommerceasaconsequenceindiabecamethesixthdefactonuclearweaponsstateindiasubsequentlysignedcooperationagreementsinvolvingciviliannuclearenergywithrussiafrancetheunitedkingdomandcanadathepresidentofindiaisthesupremecommanderofthenationsarmedforceswithmillionactivetroopstheycomposetheworldssecondlargestmilitaryitcomprisestheindianarmytheindiannavytheindianairforceandtheindiancoastguardtheofficialindiandefencebudgetforwasusbillionorofgdpdefenceexpenditurewaspeggedatusbillionforfiscalyearandincreasedthanpreviousfiscalyearindiaistheworldssecondlargestarmsimporterbetweenanditaccountedforofthetotalglobalarmsimportsmuchofthemilitaryexpenditurewasfocusedondefenceagainstpakistanandcounteringgrowingchineseinfluenceintheindianoceaninmaytheindianspaceresearchorganisationlaunchedthesouthasiasatelliteagiftfromindiatoitsneighbouringsaarccountriesinoctoberindiasignedausbillionoverbillionagreementwithrussiatoprocurefourstriumfsurfacetoairmissiledefencesystemsrussiasmostadvancedlongrangemissiledefencesystemeconomyaccordingtotheinternationalmonetaryfundimftheindianeconomyinwasnominallyworthtrillionitisthefifthlargesteconomybymarketexchangeratesandisaroundtrillionthethirdlargestbypurchasingpowerparitypppwithitsaverageannualgdpgrowthrateofoverthepasttwodecadesandreachingduringindiaisoneoftheworldsfastestgrowingeconomieshoweverthecountryranksthintheworldinnominalgdppercapitaandthingdppercapitaatpppuntilallindiangovernmentsfollowedprotectionistpoliciesthatwereinfluencedbysocialisteconomicswidespreadstateinterventionandregulationlargelywalledtheeconomyofffromtheoutsideworldanacutebalanceofpaymentscrisisinforcedthenationtoliberaliseitseconomysincethenithasmovedslowlytowardsafreemarketsystembyemphasisingbothforeigntradeanddirectinvestmentinflowsindiahasbeenamemberofworldtradeorganizationsincejanuarythemillionworkerindianlabourforceistheworldssecondlargestasoftheservicesectormakesupofgdptheindustrialsectorandtheagriculturalsectorindiasforeignexchangeremittancesofusbillioninhighestintheworldwerecontributedtoitseconomybymillionindiansworkinginforeigncountriesmajoragriculturalproductsincludericewheatoilseedcottonjuteteasugarcaneandpotatoesmajorindustriesincludetextilestelecommunicationschemicalspharmaceuticalsbiotechnologyfoodprocessingsteeltransportequipmentcementminingpetroleummachineryandsoftwareintheshareofexternaltradeinindiasgdpstoodatupfromininindiasshareofworldtradewasinindiawastheworldsninthlargestimporterandthesixteenthlargestexportermajorexportsincludepetroleumproductstextilegoodsjewellerysoftwareengineeringgoodschemicalsandmanufacturedleathergoodsmajorimportsincludecrudeoilmachinerygemsfertiliserandchemicalsbetweenandthecontributionofpetrochemicalandengineeringgoodstototalexportsgrewfromtoindiawastheworldssecondlargesttextileexporterafterchinainthecalendaryearaveraginganeconomicgrowthrateofforseveralyearspriortoindiahasmorethandoubleditshourlywageratesduringthefirstdecadeofthestcenturysomemillionindianshaveleftpovertysinceindiasmiddleclassesareprojectedtonumberaroundmillionbythoughrankingstinglobalcompetitivenessasofindiaranksthinfinancialmarketsophisticationthinthebankingsectorthinbusinesssophisticationandthininnovationaheadofseveraladvancedeconomieswithsevenoftheworldstopinformationtechnologyoutsourcingcompaniesbasedinindiaasofthecountryisviewedasthesecondmostfavourableoutsourcingdestinationaftertheunitedstatesindiaisrankedthintheglobalinnovationindexinindiasconsumermarkettheworldseleventhlargestisexpectedtobecomefifthlargestbydrivenbygrowthindiasnominalgdppercapitaincreasedsteadilyfromusinwheneconomicliberalisationbegantousintoanestimatedusinitisexpectedtogrowtousbyhoweverithasremainedlowerthanthoseofotherasiandevelopingcountriessuchasindonesiamalaysiaphilippinessrilankaandthailandandisexpectedtoremainsointhenearfutureaccordingtoapricewaterhousecooperspwcreportindiasgdpatpurchasingpowerparitycouldovertakethatoftheunitedstatesbyduringthenextfourdecadesindiangdpisexpectedtogrowatanannualisedaverageofmakingitpotentiallytheworldsfastestgrowingmajoreconomyuntilthereporthighlightskeygrowthfactorsayoungandrapidlygrowingworkingagepopulationgrowthinthemanufacturingsectorbecauseofrisingeducationandengineeringskilllevelsandsustainedgrowthoftheconsumermarketdrivenbyarapidlygrowingmiddleclasstheworldbankcautionsthatforindiatoachieveitseconomicpotentialitmustcontinuetofocusonpublicsectorreformtransportinfrastructureagriculturalandruraldevelopmentremovaloflabourregulationseducationenergysecurityandpublichealthandnutritionaccordingtotheworldwidecostoflivingreportreleasedbytheeconomistintelligenceuniteiuwhichwascreatedbycomparingmorethanindividualpricesacrossproductsandservicesfourofthecheapestcitieswereinindiabangalorerdmumbaithchennaithandnewdelhithindustriesindiastelecommunicationindustryisthesecondlargestintheworldwithoverbillionsubscribersitcontributestoindiasgdpafterthethirdquarterofindiasurpassedtheustobecomethesecondlargestsmartphonemarketintheworldafterchinatheindianautomotiveindustrytheworldssecondfastestgrowingincreaseddomesticsalesbyduringandexportsbyduringattheendoftheindianitindustryemployedmillionprofessionalsgeneratedrevenuesclosetousbillionequallingofindiangdpandcontributedofindiasmerchandiseexportsthepharmaceuticalindustryinindiaemergedasaglobalplayerasofwithpharmaceuticalcompaniesandmanufacturingunitsindiaistheworldsthirdlargestpharmaceuticalproducerlargestproducerofgenericmedicinesandsupplyuptoofglobalvaccinesdemandtheseallcontributeuptousbillionsinexportsandindiaslocalpharmacuticalmarketisestimateduptousbillionindiaisamongthetopbiotechdestinationsintheworldtheindianbiotechindustrygrewbyinincreasingitsrevenuesfrombillionindianrupeestobillionusbillionatjuneexchangeratesenergyindiascapacitytogenerateelectricalpowerisgigawattsofwhichgigawattsisrenewablethecountrysusageofcoalisamajorcauseofgreenhousegasemissionsbyindiabutitsrenewableenergyiscompetingstronglyindiaemitsaboutofglobalgreenhousegasemissionsthisequatestoabouttonsofcarbondioxideperpersonperyearwhichishalftheworldaverageincreasingaccesstoelectricityandcleancookingwithliquefiedpetroleumgashavebeenprioritiesforenergyinindiasocioeconomicchallengesdespiteeconomicgrowthduringrecentdecadesindiacontinuestofacesocioeconomicchallengesinindiacontainedthelargestnumberofpeoplelivingbelowtheworldbanksinternationalpovertylineofusperdaytheproportiondecreasedfromintoinundertheworldbankslaterrevisedpovertylineitwasinofindiaschildrenundertheageoffiveareunderweightaccordingtoafoodandagricultureorganizationreportinofthepopulationisundernourishedthemiddaymealschemeattemptstolowertheseratesawalkfreefoundationreportestimatedthatnearlymillionpeopleinindiawerelivingindifferentformsofmodernslaverysuchasbondedlabourchildlabourhumantraffickingandforcedbeggingamongothersaccordingtothecensusthereweremillionchildlabourersinthecountryadeclineofmillionfrommillioninsinceeconomicinequalitybetweenindiasstateshasconsistentlygrownthepercapitanetstatedomesticproductofthericheststatesinwastimesthatofthepoorestcorruptioninindiaisperceivedtohavedecreasedaccordingtothecorruptionperceptionsindexindiarankedthoutofcountriesinwithascoreofoutofanimprovementfromthindemographicslanguagesandreligionwithresidentsreportedintheprovisionalcensusreportindiaistheworldssecondmostpopulouscountryitspopulationgrewbyfromtocomparedtogrowthinthepreviousdecadethehumansexratioaccordingtothecensusisfemalespermalesthemedianagewasasofthefirstpostcolonialcensusconductedincountedmillionpeoplemedicaladvancesmadeinthelastyearsaswellasincreasedagriculturalproductivitybroughtaboutbythegreenrevolutionhavecausedindiaspopulationtogrowrapidlytheaveragelifeexpectancyinindiaisatyearsyearsforwomenyearsformentherearearoundphysiciansperpeoplemigrationfromruraltourbanareashasbeenanimportantdynamicinindiasrecenthistorythenumberofpeoplelivinginurbanareasgrewbybetweenandyetinoverstilllivedinruralareasthelevelofurbanisationincreasedfurtherfrominthecensustointhecensustheslowingdownoftheoverallpopulationgrowthratewasduetothesharpdeclineinthegrowthrateinruralareassinceaccordingtothecensustherearemillionplusurbanagglomerationsinindiaamongthemmumbaidelhikolkatachennaibangalorehyderabadandahmedabadindecreasingorderbypopulationtheliteracyrateinwasamongfemalesandamongmalestheruralurbanliteracygapwhichwaspercentagepointsindroppedtopercentagepointsintheimprovementintheruralliteracyrateistwicethatofurbanareaskeralaisthemostliteratestatewithliteracywhilebihartheleastwithindiaishometotwomajorlanguagefamiliesindoaryanspokenbyaboutofthepopulationanddravidianspokenbyofthepopulationotherlanguagesspokeninindiacomefromtheaustroasiaticandsinotibetanlanguagefamiliesindiahasnonationallanguagehindiwiththelargestnumberofspeakersistheofficiallanguageofthegovernmentenglishisusedextensivelyinbusinessandadministrationandhasthestatusofasubsidiaryofficiallanguageitisimportantineducationespeciallyasamediumofhighereducationeachstateandunionterritoryhasoneormoreofficiallanguagesandtheconstitutionrecognisesinparticularscheduledlanguagesthecensusreportedthereligioninindiawiththelargestnumberoffollowerswashinduismofthepopulationfollowedbyislamtheremainingwerechristianitysikhismbuddhismjainismandothersindiahasthethirdlargestmuslimpopulationthelargestforanonmuslimmajoritycountrycultureindianculturalhistoryspansmorethanyearsduringthevedicperiodcbcecbcethefoundationsofhinduphilosophymythologytheologyandliteraturewerelaidandmanybeliefsandpracticeswhichstillexisttodaysuchasdhrmakrmaygaandmokawereestablishedindiaisnotableforitsreligiousdiversitywithhinduismbuddhismsikhismislamchristianityandjainismamongthenationsmajorreligionsthepredominantreligionhinduismhasbeenshapedbyvarioushistoricalschoolsofthoughtincludingthoseoftheupanishadstheyogasutrasthebhaktimovementandbybuddhistphilosophyvisualartindiahasaveryancienttraditionofartwhichhasexchangedmanyinfluenceswiththerestofeurasiaespeciallyinthefirstmillenniumwhenbuddhistartspreadwithindianreligionstocentraleastandsoutheastasiathelastalsogreatlyinfluencedbyhinduartthousandsofsealsfromtheindusvalleycivilizationofthethirdmillenniumbcehavebeenfoundusuallycarvedwithanimalsbutafewwithhumanfiguresthepashupatisealexcavatedinmohenjodaropakistaninisthebestknownafterthisthereisalongperiodwithvirtuallynothingsurvivingalmostallsurvivingancientindianartthereafterisinvariousformsofreligioussculptureindurablematerialsorcoinstherewasprobablyoriginallyfarmoreinwoodwhichislostinnorthindiamauryanartisthefirstimperialmovementinthefirstmillenniumcebuddhistartspreadwithindianreligionstocentraleastandsoutheastasiathelastalsogreatlyinfluencedbyhinduartoverthefollowingcenturiesadistinctlyindianstyleofsculptingthehumanfiguredevelopedwithlessinterestinarticulatingpreciseanatomythanancientgreeksculpturebutshowingsmoothlyflowingformsexpressingpranabreathorlifeforcethisisoftencomplicatedbytheneedtogivefiguresmultiplearmsorheadsorrepresentdifferentgendersontheleftandrightoffiguresaswiththeardhanarishvaraformofshivaandparvatimostoftheearliestlargesculptureisbuddhisteitherexcavatedfrombuddhiststupassuchassanchisarnathandamaravatiorisrockcutreliefsatsitessuchasajantakarlaandellorahinduandjainsitesappearratherlaterinspiteofthiscomplexmixtureofreligioustraditionsgenerallytheprevailingartisticstyleatanytimeandplacehasbeensharedbythemajorreligiousgroupsandsculptorsprobablyusuallyservedallcommunitiesguptaartatitspeakccecceisoftenregardedasaclassicalperiodwhoseinfluencelingeredformanycenturiesafteritsawanewdominanceofhindusculptureasattheelephantacavesacrossthenorththisbecameratherstiffandformulaicafterccethoughrichwithfinelycarveddetailinthesurroundsofstatuesbutinthesouthunderthepallavaandcholadynastiessculptureinbothstoneandbronzehadasustainedperiodofgreatachievementthelargebronzeswithshivaasnatarajahavebecomeaniconicsymbolofindiaancientpaintinghasonlysurvivedatafewsitesofwhichthecrowdedscenesofcourtlifeintheajantacavesarebyfarthemostimportantbutitwasevidentlyhighlydevelopedandismentionedasacourtlyaccomplishmentinguptatimespaintedmanuscriptsofreligioustextssurvivefromeasternindiaaboutthethcenturyonwardsmostoftheearliestbeingbuddhistandlaterjainnodoubtthestyleofthesewasusedinlargerpaintingsthepersianderiveddeccanpaintingstartingjustbeforethemughalminiaturebetweenthemgivethefirstlargebodyofsecularpaintingwithanemphasisonportraitsandtherecordingofprincelypleasuresandwarsthestylespreadtohinducourtsespeciallyamongtherajputsanddevelopedavarietyofstyleswiththesmallercourtsoftenthemostinnovativewithfiguressuchasnihlchandandnainsukhasamarketdevelopedamongeuropeanresidentsitwassuppliedbycompanypaintingbyindianartistswithconsiderablewesterninfluenceinthethcenturycheapkalighatpaintingsofgodsandeverydaylifedoneonpaperwereurbanfolkartfromcalcuttawhichlatersawthebengalschoolofartreflectingtheartcollegesfoundedbythebritishthefirstmovementinmodernindianpaintingarchitecturemuchofindianarchitectureincludingthetajmahalotherworksofindoislamicmughalarchitectureandsouthindianarchitectureblendsancientlocaltraditionswithimportedstylesvernaculararchitectureisalsoregionalinitsflavoursvastushastraliterallyscienceofconstructionorarchitectureandascribedtomamunimayanexploreshowthelawsofnatureaffecthumandwellingsitemploysprecisegeometryanddirectionalalignmentstoreflectperceivedcosmicconstructsasappliedinhindutemplearchitectureitisinfluencedbytheshilpashastrasaseriesoffoundationaltextswhosebasicmythologicalformisthevastupurushamandalaasquarethatembodiedtheabsolutethetajmahalbuiltinagrabetweenandbyordersofmughalemperorshahjahaninmemoryofhiswifehasbeendescribedintheunescoworldheritagelistasthejewelofmuslimartinindiaandoneoftheuniversallyadmiredmasterpiecesoftheworldsheritageindosaracenicrevivalarchitecturedevelopedbythebritishinthelatethcenturydrewonindoislamicarchitectureliteraturetheearliestliteratureinindiacomposedbetweenbceandcewasinthesanskritlanguagemajorworksofsanskritliteratureincludetherigvedacbcecbcetheepicsmahbhratacbcecceandtheramayanacbceandlaterabhijnakuntalamtherecognitionofakuntalandotherdramasofklidsacthcenturyceandmahkvyapoetryintamilliteraturethesangamliteraturecbcecbceconsistingofpoemscomposedbypoetsistheearliestworkfromthethtothethcenturiesindiasliterarytraditionswentthroughaperiodofdrasticchangebecauseoftheemergenceofdevotionalpoetslikekabrtulsdsandgurunnakthisperiodwascharacterisedbyavariedandwidespectrumofthoughtandexpressionasaconsequencemedievalindianliteraryworksdifferedsignificantlyfromclassicaltraditionsinthethcenturyindianwriterstookanewinterestinsocialquestionsandpsychologicaldescriptionsinthethcenturyindianliteraturewasinfluencedbytheworksofthebengalipoetauthorandphilosopherrabindranathtagorewhowasarecipientofthenobelprizeinliteratureperformingartsandmediaindianmusicrangesovervarioustraditionsandregionalstylesclassicalmusicencompassestwogenresandtheirvariousfolkoffshootsthenorthernhindustaniandsoutherncarnaticschoolsregionalisedpopularformsincludefilmiandfolkmusicthesyncretictraditionofthebaulsisawellknownformofthelatterindiandancealsofeaturesdiversefolkandclassicalformsamongthebetterknownfolkdancesarethebhangraofpunjabthebihuofassamthejhumairandchhauofjharkhandodishaandwestbengalgarbaanddandiyaofgujaratghoomarofrajasthanandthelavaniofmaharashtraeightdanceformsmanywithnarrativeformsandmythologicalelementshavebeenaccordedclassicaldancestatusbyindiasnationalacademyofmusicdanceanddramathesearebharatanatyamofthestateoftamilnadukathakofuttarpradeshkathakaliandmohiniyattamofkeralakuchipudiofandhrapradeshmanipuriofmanipurodissiofodishaandthesattriyaofassamtheatreinindiameldsmusicdanceandimprovisedorwrittendialogueoftenbasedonhindumythologybutalsoborrowingfrommedievalromancesorsocialandpoliticaleventsindiantheatreincludesthebhavaiofgujaratthejatraofwestbengalthenautankiandramlilaofnorthindiatamashaofmaharashtraburrakathaofandhrapradeshandtelanganaterukkuttuoftamilnaduandtheyakshaganaofkarnatakaindiahasatheatretraininginstitutethenationalschoolofdramansdthatissituatedatnewdelhiitisanautonomousorganisationundertheministryofculturegovernmentofindiatheindianfilmindustryproducestheworldsmostwatchedcinemaestablishedregionalcinematictraditionsexistintheassamesebengalibhojpurihindikannadamalayalampunjabigujaratimarathiodiatamilandtelugulanguagesthehindilanguagefilmindustrybollywoodisthelargestsectorrepresentingofboxofficerevenuefollowedbythesouthindianteluguandtamilfilmindustrieswhichrepresentcombinedtelevisionbroadcastingbeganinindiainasastaterunmediumofcommunicationandexpandedslowlyformorethantwodecadesthestatemonopolyontelevisionbroadcastendedinthessincethensatellitechannelshaveincreasinglyshapedthepopularcultureofindiansocietytodaytelevisionisthemostpenetrativemediainindiaindustryestimatesindicatethatasofthereareovermilliontvconsumersmillionwithsatelliteorcableconnectionscomparedtootherformsofmassmediasuchasthepressmillionradiomillionorinternetmillionsocietytraditionalindiansocietyissometimesdefinedbysocialhierarchytheindiancastesystemembodiesmuchofthesocialstratificationandmanyofthesocialrestrictionsfoundontheindiansubcontinentsocialclassesaredefinedbythousandsofendogamoushereditarygroupsoftentermedasjtisorcastesindiaabolisheduntouchabilityinwiththeadoptionoftheconstitutionandhassinceenactedotherantidiscriminatorylawsandsocialwelfareinitiativesfamilyvaluesareimportantintheindiantraditionandmultigenerationalpatrilinealjointfamilieshavebeenthenorminindiathoughnuclearfamiliesarebecomingcommoninurbanareasanoverwhelmingmajorityofindianswiththeirconsenthavetheirmarriagesarrangedbytheirparentsorotherfamilyeldersmarriageisthoughttobeforlifeandthedivorcerateisextremelylowwithlessthanoneinathousandmarriagesendingindivorcechildmarriagesarecommonespeciallyinruralareasmanywomenwedbeforereachingwhichistheirlegalmarriageableagefemaleinfanticideinindiaandlatelyfemalefoeticidehavecreatedskewedgenderratiosthenumberofmissingwomeninthecountryquadrupledfrommilliontomillionintheyearperiodendinginfasterthanthepopulationgrowthduringthesameperiodandconstitutingpercentofindiasfemaleelectorateaccordtoanindiangovernmentstudyanadditionalmilliongirlsareunwantedanddonotreceiveadequatecaredespiteagovernmentbanonsexselectivefoeticidethepracticeremainscommonplaceinindiatheresultofapreferenceforboysinapatriarchalsocietythepaymentofdowryalthoughillegalremainswidespreadacrossclasslinesdeathsresultingfromdowrymostlyfrombrideburningareontherisedespitestringentantidowrylawsmanyindianfestivalsarereligiousinoriginthebestknownincludediwaliganeshchaturthithaipongalholidurgapujaeidulfitrbakridchristmasandvaisakhieducationinthecensusaboutofthepopulationwasliteratewithformenandforwomenthiscomparestowhentherespectiverateswereandintherateswereandintheratesandintheywereandaccordingtolatikachaudharyintherewereunderthreeprimaryschoolsforeverytenvillagesstatisticallymorecasteandreligiousdiversityreducedprivatespendingprimaryschoolstaughtliteracysolocaldiversitylimiteditsgrowththeeducationsystemofindiaistheworldssecondlargestindiahasoveruniversitiescollegesandmillionschoolsinindiashighereducationsystemasignificantnumberofseatsarereservedunderaffirmativeactionpoliciesforthehistoricallydisadvantagedinrecentdecadesindiasimprovededucationsystemisoftencitedasoneofthemaincontributorstoitseconomicdevelopmentclothingfromancienttimesuntiltheadventofthemodernthemostwidelyworntraditionaldressinindiawasdrapedforwomenittooktheformofasariasinglepieceofclothmanyyardslongthesariwastraditionallywrappedaroundthelowerbodyandtheshoulderinitsmodernformitiscombinedwithanunderskirtorindianpetticoatandtuckedinthewaistbandformoresecurefasteningitisalsocommonlywornwithanindianblouseorcholiwhichservesastheprimaryupperbodygarmentthesarisendpassingovertheshoulderservingtocoverthemidriffandobscuretheupperbodyscontoursformenasimilarbutshorterlengthofcloththedhotihasservedasalowerbodygarmenttheuseofstitchedclothesbecamewidespreadaftermuslimrulewasestablishedatfirstbythedelhisultanatecaceandthencontinuedbythemughalempirecaceamongthegarmentsintroducedduringthistimeandstillcommonlywornaretheshalwarsandpyjamasbothstylesoftrousersandthetunicskurtaandkameezinsouthernindiathetraditionaldrapedgarmentsweretoseemuchlongercontinuoususeshalwarsareatypicallywideatthewaistbutnarrowtoacuffedbottomtheyareheldupbyadrawstringwhichcausesthemtobecomepleatedaroundthewaistthepantscanbewideandbaggyortheycanbecutquitenarrowonthebiasinwhichcasetheyarecalledchuridarswhentheyareordinarilywideatthewaistandtheirbottomsarehemmedbutnotcuffedtheyarecalledpyjamasthekameezisalongshirtortunicitssideseamsleftopenbelowthewaistlinethekurtaistraditionallycollarlessandmadeofcottonorsilkitiswornplainorwithembroidereddecorationsuchaschikanandtypicallyfallstoeitherjustaboveorjustbelowthewearerskneesinthelastyearsfashionshavechangedagreatdealinindiaincreasinglyinurbannorthernindiathesariisnolongertheapparelofeverydaywearthoughtheyremainpopularonformaloccasionsthetraditionalshalwarkameezisrarelywornbyyoungerurbanwomenwhofavourchuridarsorjeansinwhitecollarofficesettingsubiquitousairconditioningallowsmentowearsportsjacketsyearroundforweddingsandformaloccasionsmeninthemiddleandupperclassesoftenwearbandgalaorshortnehrujacketswithpantswiththegroomandhisgroomsmensportingsherwanisandchuridarsthedhotioncetheuniversalgarmentofhindumalesthewearingofwhichinthehomespunandhandwovenkhadiallowedgandhitobringindiannationalismtothemillionsisseldomseeninthecitiescuisinethefoundationofatypicalindianmealisacerealcookedinaplainfashionandcomplementedwithflavourfulsavourydishesthecookedcerealcouldbesteamedricechapatiathinunleavenedbreadmadefromwheatflouroroccasionallycornmealandgriddlecookeddrytheidliasteamedbreakfastcakeordosaagriddledpancakebothleavenedandmadefromabatterofriceandgrammealthesavourydishesmightincludelentilspulsesandvegetablescommonlyspicedwithgingerandgarlicbutalsowithacombinationofspicesthatmayincludecoriandercuminturmericcinnamoncardamonandothersasinformedbyculinaryconventionstheymightalsoincludepoultryfishormeatdishesinsomeinstancestheingredientsmightbemixedduringtheprocessofcookingaplatterorthaliusedforeatingusuallyhasacentralplacereservedforthecookedcerealandperipheralonesfortheflavourfulaccompanimentswhichareoftenservedinsmallbowlsthecerealanditsaccompanimentsareeatensimultaneouslyratherthanapiecemealmannerthisisaccomplishedbymixingforexampleofriceandlentilsorfoldingwrappingscoopingordippingsuchaschapatiandcookedvegetablesorlentilsindiahasdistinctivevegetariancuisineseachafeatureofthegeographicalandculturalhistoriesofitsadherentstheappearanceofahimsaortheavoidanceofviolencetowardallformsoflifeinmanyreligiousordersearlyinindianhistoryespeciallyupanishadichinduismbuddhismandjainismisthoughttohavecontributedtothepredominanceofvegetarianismamongalargesegmentofindiashindupopulationespeciallyinsouthernindiagujaratthehindispeakingbeltofnorthcentralindiaaswellasamongjainsalthoughmeatiseatenwidelyinindiatheproportionalconsumptionofmeatintheoveralldietislowunlikechinawhichhasincreaseditspercapitameatconsumptionsubstantiallyinitsyearsofincreasedeconomicgrowthinindiathestrongdietarytraditionshavecontributedtodairyratherthanmeatbecomingthepreferredformofanimalproteinconsumptionthemostsignificantimportofcookingtechniquesintoindiaduringthelastmillenniumoccurredduringthemughalempiredishessuchasthepilafdevelopedintheabbasidcaliphateandcookingtechniquessuchasthemarinatingofmeatinyogurtspreadintonorthernindiafromregionstoitsnorthwesttothesimpleyogurtmarinadeofpersiaonionsgarlicalmondsandspicesbegantobeaddedinindiaricewaspartiallycookedandlayeredalternatelywiththesauteedmeatthepotsealedtightlyandslowcookedaccordingtoanotherpersiancookingtechniquetoproducewhathastodaybecometheindianbiryaniafeatureoffestivedininginmanypartsofindiainthefoodservedinindianrestaurantsworldwidethediversityofindianfoodhasbeenpartiallyconcealedbythedominanceofpunjabicuisinethepopularityoftandoorichickencookedinthetandoorovenwhichhadtraditionallybeenusedforbakingbreadintheruralpunjabandthedelhiregionespeciallyamongmuslimsbutwhichisoriginallyfromcentralasiadatestothesandwascausedinlargepartbyanentrepreneurialresponseamongpeoplefromthepunjabwhohadbeendisplacedbythepartitionofindiasportsandrecreationseveraltraditionalindigenoussportssuchaskabaddikhokhopehlwaniandgillidandaandalsomartialartssuchaskalarippayattuandmarmaadiremainpopularchessiscommonlyheldtohaveoriginatedinindiaaschaturagatherehasbeenariseinthenumberofindiangrandmastersviswanathananandbecamethechessworldchampioninandheldthestatusuntilparcheesiisderivedfrompachisianothertraditionalindianpastimewhichinearlymoderntimeswasplayedonagiantmarblecourtbymughalemperorakbarthegreatcricketisthemostpopularsportinindiamajordomesticcompetitionsincludetheindianpremierleaguewhichisthemostwatchedcricketleagueintheworldandrankssixthamongallsportsleaguesotherprofessionalleaguesincludetheindiansuperleaguefootballandtheprokabaddileagueindiahaswontwoodicricketworldcupstheeditionandtheeditionandhaseightfieldhockeygoldmedalsinthesummerolympicstheimprovedresultsgarneredbytheindiandaviscupteamandotherindiantennisplayersintheearlyshavemadetennisincreasinglypopularinthecountryindiahasacomparativelystrongpresenceinshootingsportsandhaswonseveralmedalsattheolympicstheworldshootingchampionshipsandthecommonwealthgamesothersportsinwhichindianshavesucceededinternationallyincludebadmintonsainanehwalandpvsindhuaretwoofthetoprankedfemalebadmintonplayersintheworldboxingandwrestlingfootballispopularinwestbengalgoatamilnadukeralaandthenortheasternstatesindiahashostedorcohostedseveralinternationalsportingeventstheandasiangamestheandcricketworldcuptournamentstheafroasiangamestheiccchampionstrophytheworldbadmintonchampionshipsthehockeyworldcupthecommonwealthgamesandthefifauworldcupmajorinternationalsportingeventsheldannuallyinindiaincludethemaharashtraopenthemumbaimarathonthedelhihalfmarathonandtheindianmastersthefirstformulaindiangrandprixfeaturedinlatebuthasbeendiscontinuedfromthefseasoncalendarsinceindiahastraditionallybeenthedominantcountryatthesouthasiangamesanexampleofthisdominanceisthebasketballcompetitionwheretheindianteamwonthreeoutoffourtournamentstodateseealsooutlineofindianotesreferencesbibliographyoverviewetymologyhistorygeographybiodiversitypoliticsforeignrelationsandmilitaryeconomydemographicsartcultureexternallinksgovernmentofficialwebsiteofgovernmentofindiagovernmentofindiawebdirectorygeneralinformationindiatheworldfactbookcentralintelligenceagencyindiaatcurlieindiawebresourcesprovidedbygovpubsattheuniversityofcoloradoboulderlibrariesindiafromthebbcnewswikimediaatlasofindiageographicdatarelatedtoindiaatopenstreetmapkeydevelopmentforecastsforindiafrominternationalfutures\n"
          ]
        }
      ]
    },
    {
      "cell_type": "markdown",
      "source": [
        "# 3rd Answer"
      ],
      "metadata": {
        "id": "P2NAaGqmJp0S"
      }
    },
    {
      "cell_type": "code",
      "source": [
        "unigram_india=Counter(ngrams(page_object,1))\n",
        "plothistogram(unigram_india)\n",
        "plt.title(\"Unigram India country\")\n",
        "plt.show()"
      ],
      "metadata": {
        "id": "6T__5i-dJshs",
        "outputId": "4a28c712-1fe9-49b0-c35b-fed32d3a055b",
        "colab": {
          "base_uri": "https://localhost:8080/",
          "height": 284
        }
      },
      "execution_count": 86,
      "outputs": [
        {
          "output_type": "display_data",
          "data": {
            "text/plain": [
              "<Figure size 432x288 with 1 Axes>"
            ],
            "image/png": "[encoded data removed]"
          },
          "metadata": {}
        }
      ]
    },
    {
      "cell_type": "code",
      "source": [
        "bigram_india = Counter(ngrams(page_object,2)) # bigrams\n",
        "plothistogram(bigram_india)\n",
        "plt.title('Bigrams india country')\n",
        "plt.show()"
      ],
      "metadata": {
        "id": "-OT1MOiiJymR",
        "outputId": "160f8978-d327-4767-bcb2-b2f913944fdd",
        "colab": {
          "base_uri": "https://localhost:8080/",
          "height": 284
        }
      },
      "execution_count": 87,
      "outputs": [
        {
          "output_type": "display_data",
          "data": {
            "text/plain": [
              "<Figure size 432x288 with 1 Axes>"
            ],
            "image/png": "[encoded data removed]"
          },
          "metadata": {}
        }
      ]
    },
    {
      "cell_type": "code",
      "source": [
        "bigram_india"
      ],
      "metadata": {
        "id": "oPkSHQQXJ32O",
        "outputId": "c856461d-3668-4f5b-c2d6-7d349961f52f",
        "colab": {
          "base_uri": "https://localhost:8080/"
        }
      },
      "execution_count": 88,
      "outputs": [
        {
          "output_type": "execute_result",
          "data": {
            "text/plain": [
              "Counter({('i', 'n'): 1573,\n",
              "         ('n', 'd'): 1124,\n",
              "         ('d', 'i'): 719,\n",
              "         ('i', 'a'): 573,\n",
              "         ('a', 'o'): 23,\n",
              "         ('o', 'f'): 473,\n",
              "         ('f', 'f'): 50,\n",
              "         ('f', 'i'): 145,\n",
              "         ('i', 'c'): 377,\n",
              "         ('c', 'i'): 149,\n",
              "         ('a', 'l'): 620,\n",
              "         ('l', 'l'): 252,\n",
              "         ('l', 'y'): 191,\n",
              "         ('y', 't'): 110,\n",
              "         ('t', 'h'): 1462,\n",
              "         ('h', 'e'): 1161,\n",
              "         ('e', 'r'): 913,\n",
              "         ('r', 'e'): 798,\n",
              "         ('e', 'p'): 159,\n",
              "         ('p', 'u'): 86,\n",
              "         ('u', 'b'): 51,\n",
              "         ('b', 'l'): 58,\n",
              "         ('l', 'i'): 404,\n",
              "         ('c', 'o'): 422,\n",
              "         ('a', 'h'): 60,\n",
              "         ('h', 'i'): 361,\n",
              "         ('i', 'b'): 32,\n",
              "         ('b', 'h'): 18,\n",
              "         ('h', 'r'): 55,\n",
              "         ('r', 'a'): 477,\n",
              "         ('a', 't'): 679,\n",
              "         ('t', 'g'): 15,\n",
              "         ('g', 'a'): 163,\n",
              "         ('a', 'a'): 68,\n",
              "         ('a', 'r'): 629,\n",
              "         ('r', 'j'): 6,\n",
              "         ('j', 'y'): 3,\n",
              "         ('y', 'a'): 117,\n",
              "         ('a', 'i'): 191,\n",
              "         ('i', 's'): 482,\n",
              "         ('s', 'a'): 352,\n",
              "         ('a', 'c'): 171,\n",
              "         ('o', 'u'): 295,\n",
              "         ('u', 'n'): 171,\n",
              "         ('n', 't'): 721,\n",
              "         ('t', 'r'): 261,\n",
              "         ('r', 'y'): 140,\n",
              "         ('y', 'i'): 85,\n",
              "         ('n', 's'): 318,\n",
              "         ('s', 'o'): 283,\n",
              "         ('u', 't'): 178,\n",
              "         ('h', 'a'): 406,\n",
              "         ('a', 's'): 609,\n",
              "         ('s', 'i'): 420,\n",
              "         ('i', 't'): 549,\n",
              "         ('t', 'i'): 745,\n",
              "         ('s', 't'): 830,\n",
              "         ('e', 's'): 770,\n",
              "         ('s', 'e'): 360,\n",
              "         ('e', 'v'): 100,\n",
              "         ('v', 'e'): 365,\n",
              "         ('e', 'n'): 684,\n",
              "         ('h', 'l'): 24,\n",
              "         ('l', 'a'): 409,\n",
              "         ('r', 'g'): 82,\n",
              "         ('g', 'e'): 237,\n",
              "         ('t', 'c'): 48,\n",
              "         ('y', 'b'): 38,\n",
              "         ('b', 'y'): 137,\n",
              "         ('e', 'a'): 539,\n",
              "         ('e', 'c'): 424,\n",
              "         ('o', 'n'): 812,\n",
              "         ('d', 'm'): 76,\n",
              "         ('m', 'o'): 178,\n",
              "         ('o', 's'): 104,\n",
              "         ('t', 'p'): 37,\n",
              "         ('p', 'o'): 180,\n",
              "         ('o', 'p'): 128,\n",
              "         ('u', 'l'): 163,\n",
              "         ('l', 'o'): 193,\n",
              "         ('u', 's'): 198,\n",
              "         ('s', 'c'): 105,\n",
              "         ('a', 'n'): 1205,\n",
              "         ('d', 't'): 190,\n",
              "         ('e', 'm'): 276,\n",
              "         ('s', 'd'): 42,\n",
              "         ('d', 'e'): 394,\n",
              "         ('o', 'c'): 97,\n",
              "         ('c', 'r'): 108,\n",
              "         ('c', 'y'): 20,\n",
              "         ('e', 'w'): 156,\n",
              "         ('w', 'o'): 109,\n",
              "         ('o', 'r'): 547,\n",
              "         ('r', 'l'): 109,\n",
              "         ('l', 'd'): 110,\n",
              "         ('d', 'b'): 113,\n",
              "         ('b', 'o'): 67,\n",
              "         ('e', 'd'): 643,\n",
              "         ('e', 'i'): 242,\n",
              "         ('n', 'o'): 244,\n",
              "         ('c', 'e'): 320,\n",
              "         ('h', 't'): 78,\n",
              "         ('a', 'b'): 102,\n",
              "         ('b', 'i'): 55,\n",
              "         ('h', 'w'): 21,\n",
              "         ('w', 'e'): 185,\n",
              "         ('t', 'a'): 335,\n",
              "         ('e', 'b'): 94,\n",
              "         ('b', 'a'): 93,\n",
              "         ('a', 'y'): 57,\n",
              "         ('y', 'o'): 47,\n",
              "         ('f', 'b'): 13,\n",
              "         ('b', 'e'): 176,\n",
              "         ('n', 'g'): 535,\n",
              "         ('t', 's'): 226,\n",
              "         ('s', 'h'): 169,\n",
              "         ('s', 'l'): 70,\n",
              "         ('r', 'd'): 76,\n",
              "         ('r', 's'): 187,\n",
              "         ('s', 'w'): 88,\n",
              "         ('w', 'i'): 148,\n",
              "         ('h', 'p'): 9,\n",
              "         ('p', 'a'): 176,\n",
              "         ('a', 'k'): 48,\n",
              "         ('k', 'i'): 47,\n",
              "         ('t', 'o'): 404,\n",
              "         ('o', 't'): 153,\n",
              "         ('c', 'h'): 265,\n",
              "         ('n', 'a'): 384,\n",
              "         ('n', 'e'): 263,\n",
              "         ('h', 'u'): 27,\n",
              "         ('r', 't'): 282,\n",
              "         ('g', 'l'): 37,\n",
              "         ('a', 'd'): 193,\n",
              "         ('m', 'y'): 24,\n",
              "         ('n', 'm'): 64,\n",
              "         ('m', 'a'): 311,\n",
              "         ('e', 'e'): 190,\n",
              "         ('n', 'i'): 357,\n",
              "         ('v', 'i'): 96,\n",
              "         ('t', 'y'): 114,\n",
              "         ('f', 's'): 32,\n",
              "         ('s', 'r'): 39,\n",
              "         ('r', 'i'): 461,\n",
              "         ('i', 'l'): 184,\n",
              "         ('n', 'k'): 27,\n",
              "         ('k', 'a'): 37,\n",
              "         ('i', 'v'): 141,\n",
              "         ('d', 'a'): 202,\n",
              "         ('a', 'm'): 193,\n",
              "         ('d', 'n'): 18,\n",
              "         ('o', 'b'): 39,\n",
              "         ('d', 's'): 127,\n",
              "         ('s', 's'): 187,\n",
              "         ('i', 'm'): 115,\n",
              "         ('m', 'e'): 310,\n",
              "         ('r', 'w'): 30,\n",
              "         ('d', 'o'): 122,\n",
              "         ('i', 'o'): 491,\n",
              "         ('c', 'a'): 247,\n",
              "         ('a', 'p'): 97,\n",
              "         ('p', 'i'): 89,\n",
              "         ('l', 'c'): 43,\n",
              "         ('s', 'n'): 31,\n",
              "         ('w', 'd'): 6,\n",
              "         ('e', 'l'): 273,\n",
              "         ('l', 'h'): 21,\n",
              "         ('o', 'd'): 110,\n",
              "         ('r', 'n'): 139,\n",
              "         ('n', 'h'): 22,\n",
              "         ('u', 'm'): 68,\n",
              "         ('r', 'r'): 65,\n",
              "         ('s', 'u'): 172,\n",
              "         ('b', 'c'): 32,\n",
              "         ('t', 'f'): 29,\n",
              "         ('f', 'r'): 99,\n",
              "         ('r', 'o'): 322,\n",
              "         ('o', 'm'): 287,\n",
              "         ('a', 'f'): 65,\n",
              "         ('o', 'l'): 176,\n",
              "         ('t', 'e'): 635,\n",
              "         ('n', 'y'): 44,\n",
              "         ('y', 'e'): 72,\n",
              "         ('a', 'g'): 118,\n",
              "         ('g', 'o'): 77,\n",
              "         ('i', 'r'): 117,\n",
              "         ('c', 'c'): 72,\n",
              "         ('c', 'u'): 94,\n",
              "         ('u', 'p'): 77,\n",
              "         ('n', 'v'): 27,\n",
              "         ('v', 'a'): 70,\n",
              "         ('g', 'f'): 12,\n",
              "         ('f', 'o'): 201,\n",
              "         ('r', 'm'): 122,\n",
              "         ('m', 's'): 52,\n",
              "         ('s', 'm'): 109,\n",
              "         ('e', 't'): 318,\n",
              "         ('e', 'g'): 121,\n",
              "         ('g', 'i'): 130,\n",
              "         ('i', 'g'): 118,\n",
              "         ('g', 'h'): 92,\n",
              "         ('y', 'd'): 32,\n",
              "         ('n', 'l'): 37,\n",
              "         ('o', 'a'): 61,\n",
              "         ('c', 'd'): 7,\n",
              "         ('y', 's'): 90,\n",
              "         ('t', 't'): 118,\n",
              "         ('t', 'l'): 58,\n",
              "         ('l', 'e'): 316,\n",
              "         ('d', 'l'): 56,\n",
              "         ('i', 'f'): 49,\n",
              "         ('f', 'e'): 95,\n",
              "         ('f', 't'): 165,\n",
              "         ('d', 'u'): 145,\n",
              "         ('r', 'b'): 43,\n",
              "         ('o', 'e'): 24,\n",
              "         ('v', 'o'): 31,\n",
              "         ('l', 'v'): 12,\n",
              "         ('g', 'g'): 12,\n",
              "         ('g', 'r'): 133,\n",
              "         ('u', 'a'): 74,\n",
              "         ('s', 'v'): 15,\n",
              "         ('e', 'y'): 36,\n",
              "         ('y', 'c'): 40,\n",
              "         ('m', 'i'): 259,\n",
              "         ('n', 'n'): 57,\n",
              "         ('i', 'u'): 11,\n",
              "         ('m', 'b'): 55,\n",
              "         ('r', 'c'): 102,\n",
              "         ('c', 'f'): 3,\n",
              "         ('s', 'k'): 20,\n",
              "         ('k', 'r'): 10,\n",
              "         ('e', 'u'): 49,\n",
              "         ('u', 'r'): 313,\n",
              "         ('p', 'e'): 206,\n",
              "         ('g', 'u'): 64,\n",
              "         ('e', 'h'): 49,\n",
              "         ('d', 'd'): 69,\n",
              "         ('f', 'u'): 22,\n",
              "         ('o', 'i'): 52,\n",
              "         ('m', 't'): 37,\n",
              "         ('i', 'd'): 107,\n",
              "         ('n', 'c'): 256,\n",
              "         ('s', 'f'): 71,\n",
              "         ('h', 'y'): 17,\n",
              "         ('y', 'm'): 36,\n",
              "         ('m', 'n'): 3,\n",
              "         ('g', 'v'): 4,\n",
              "         ('p', 'r'): 153,\n",
              "         ('r', 'v'): 41,\n",
              "         ('l', 'u'): 72,\n",
              "         ('y', 'v'): 7,\n",
              "         ('l', 't'): 101,\n",
              "         ('a', 'w'): 44,\n",
              "         ('w', 'n'): 22,\n",
              "         ('f', 'h'): 9,\n",
              "         ('u', 'i'): 25,\n",
              "         ('d', 'r'): 61,\n",
              "         ('a', 'v'): 89,\n",
              "         ('p', 'p'): 56,\n",
              "         ('p', 'l'): 94,\n",
              "         ('d', 'w'): 55,\n",
              "         ('n', 'r'): 40,\n",
              "         ('s', 'b'): 61,\n",
              "         ('e', 'x'): 92,\n",
              "         ('x', 'c'): 12,\n",
              "         ('c', 'l'): 102,\n",
              "         ('n', 'b'): 41,\n",
              "         ('b', 'u'): 64,\n",
              "         ('u', 'd'): 62,\n",
              "         ('d', 'h'): 56,\n",
              "         ('d', 'j'): 7,\n",
              "         ('j', 'a'): 48,\n",
              "         ('m', 'h'): 4,\n",
              "         ('n', 'p'): 54,\n",
              "         ('g', 's'): 35,\n",
              "         ('k', 'e'): 68,\n",
              "         ('o', 'h'): 22,\n",
              "         ('y', 'p'): 19,\n",
              "         ('s', 'g'): 25,\n",
              "         ('o', 'o'): 83,\n",
              "         ('e', 'k'): 21,\n",
              "         ('k', 'n'): 11,\n",
              "         ('t', 'm'): 26,\n",
              "         ('a', 'u'): 45,\n",
              "         ('d', 'g'): 22,\n",
              "         ('p', 't'): 47,\n",
              "         ('a', 'e'): 14,\n",
              "         ('m', 'p'): 138,\n",
              "         ('c', 't'): 161,\n",
              "         ('w', 'a'): 138,\n",
              "         ('u', 'f'): 7,\n",
              "         ('g', 'c'): 15,\n",
              "         ('l', 's'): 100,\n",
              "         ('r', 'k'): 31,\n",
              "         ('t', 'u'): 183,\n",
              "         ('f', 'w'): 16,\n",
              "         ('r', 'p'): 27,\n",
              "         ('u', 'c'): 106,\n",
              "         ('s', 'y'): 32,\n",
              "         ('i', 'e'): 182,\n",
              "         ('e', 'f'): 134,\n",
              "         ('g', 'd'): 23,\n",
              "         ('x', 'p'): 34,\n",
              "         ('i', 'p'): 28,\n",
              "         ('m', 'j'): 2,\n",
              "         ('j', 'u'): 16,\n",
              "         ('d', 'z'): 1,\n",
              "         ('z', 'o'): 3,\n",
              "         ('m', 'u'): 72,\n",
              "         ('m', 'c'): 11,\n",
              "         ('o', 'v'): 105,\n",
              "         ('y', 'f'): 30,\n",
              "         ('g', 't'): 83,\n",
              "         ('g', 'n'): 28,\n",
              "         ('t', 'w'): 81,\n",
              "         ('k', 's'): 25,\n",
              "         ('f', 'm'): 29,\n",
              "         ('h', 'c'): 39,\n",
              "         ('i', 'j'): 3,\n",
              "         ('n', 'j'): 20,\n",
              "         ('b', 's'): 18,\n",
              "         ('i', 'k'): 14,\n",
              "         ('k', 'h'): 11,\n",
              "         ('e', 'j'): 8,\n",
              "         ('j', 'e'): 10,\n",
              "         ('u', 'g'): 51,\n",
              "         ('n', 'u'): 80,\n",
              "         ('f', 'l'): 48,\n",
              "         ('r', 'u'): 72,\n",
              "         ('e', 'o'): 142,\n",
              "         ('b', 'r'): 39,\n",
              "         ('o', 'w'): 140,\n",
              "         ('s', 'p'): 137,\n",
              "         ('w', 'l'): 8,\n",
              "         ('h', 'n'): 21,\n",
              "         ('o', 'g'): 59,\n",
              "         ('o', 'k'): 30,\n",
              "         ('n', 'f'): 53,\n",
              "         ('u', 'e'): 47,\n",
              "         ('l', 'n'): 9,\n",
              "         ('w', 'h'): 104,\n",
              "         ('d', 'f'): 47,\n",
              "         ('a', 'j'): 44,\n",
              "         ('j', 'o'): 35,\n",
              "         ('r', 'f'): 22,\n",
              "         ('f', 'a'): 83,\n",
              "         ('g', 'b'): 11,\n",
              "         ('t', 'd'): 21,\n",
              "         ('m', 'm'): 47,\n",
              "         ('f', 'p'): 25,\n",
              "         ('l', 'r'): 22,\n",
              "         ('c', 's'): 24,\n",
              "         ('c', 'p'): 13,\n",
              "         ('c', 'm'): 6,\n",
              "         ('w', 'f'): 3,\n",
              "         ('l', 'p'): 43,\n",
              "         ('y', 'r'): 26,\n",
              "         ('g', 'm'): 18,\n",
              "         ('b', 'f'): 1,\n",
              "         ('g', 'y'): 19,\n",
              "         ('x', 't'): 29,\n",
              "         ('l', 'm'): 27,\n",
              "         ('h', 'o'): 146,\n",
              "         ('e', 'q'): 15,\n",
              "         ('q', 'u'): 29,\n",
              "         ('h', 'm'): 17,\n",
              "         ('h', 'b'): 14,\n",
              "         ('d', 'c'): 77,\n",
              "         ('d', 'q'): 2,\n",
              "         ('h', 'f'): 12,\n",
              "         ('y', 'h'): 17,\n",
              "         ('h', 'h'): 11,\n",
              "         ('o', 'x'): 5,\n",
              "         ('x', 'f'): 2,\n",
              "         ('h', 'd'): 10,\n",
              "         ('c', 'g'): 5,\n",
              "         ('d', 'p'): 56,\n",
              "         ('u', 'o'): 7,\n",
              "         ('i', 'w'): 11,\n",
              "         ('t', 'b'): 40,\n",
              "         ('g', 'p'): 19,\n",
              "         ('y', 'n'): 12,\n",
              "         ('y', 'y'): 3,\n",
              "         ('r', 'h'): 15,\n",
              "         ('t', 'k'): 3,\n",
              "         ('p', 's'): 13,\n",
              "         ('n', 'w'): 57,\n",
              "         ('w', 'b'): 4,\n",
              "         ('w', 'p'): 2,\n",
              "         ('d', 'k'): 7,\n",
              "         ('m', 'w'): 9,\n",
              "         ('l', 'w'): 18,\n",
              "         ('y', 'l'): 29,\n",
              "         ('x', 'i'): 9,\n",
              "         ('f', 'd'): 10,\n",
              "         ('s', 'j'): 5,\n",
              "         ('x', 'e'): 14,\n",
              "         ('f', 'g'): 17,\n",
              "         ('w', 't'): 23,\n",
              "         ('d', 'v'): 19,\n",
              "         ('m', 'l'): 4,\n",
              "         ('d', 'y'): 14,\n",
              "         ('y', 'w'): 36,\n",
              "         ('x', 's'): 2,\n",
              "         ('a', 'x'): 5,\n",
              "         ('x', 'a'): 4,\n",
              "         ('l', 'f'): 24,\n",
              "         ('l', 'b'): 8,\n",
              "         ('l', 'k'): 13,\n",
              "         ('f', 'k'): 6,\n",
              "         ('u', 'j'): 9,\n",
              "         ('j', 'w'): 1,\n",
              "         ('u', 'k'): 6,\n",
              "         ('k', 'y'): 3,\n",
              "         ('m', 'f'): 5,\n",
              "         ('w', 'r'): 12,\n",
              "         ('p', 'm'): 7,\n",
              "         ('o', 'y'): 10,\n",
              "         ('w', 'c'): 4,\n",
              "         ('i', 'z'): 10,\n",
              "         ('z', 'e'): 9,\n",
              "         ('t', 'n'): 17,\n",
              "         ('f', 'v'): 4,\n",
              "         ('p', 'h'): 38,\n",
              "         ('k', 't'): 6,\n",
              "         ('o', 'j'): 6,\n",
              "         ('f', 'n'): 9,\n",
              "         ('b', 'j'): 8,\n",
              "         ('w', 's'): 11,\n",
              "         ('m', 'r'): 6,\n",
              "         ('w', 'g'): 2,\n",
              "         ('f', 'c'): 18,\n",
              "         ('y', 'u'): 9,\n",
              "         ('k', 'b'): 4,\n",
              "         ('l', 'g'): 11,\n",
              "         ('j', 'p'): 11,\n",
              "         ('h', 's'): 16,\n",
              "         ('y', 'g'): 20,\n",
              "         ('b', 'd'): 4,\n",
              "         ('w', 'm'): 1,\n",
              "         ('c', 'k'): 23,\n",
              "         ('h', 'g'): 6,\n",
              "         ('k', 'p'): 2,\n",
              "         ('i', 'i'): 6,\n",
              "         ('i', 'q'): 6,\n",
              "         ('k', 'o'): 8,\n",
              "         ('j', 'h'): 3,\n",
              "         ('k', 'f'): 5,\n",
              "         ('k', 'u'): 7,\n",
              "         ('u', 'v'): 1,\n",
              "         ('p', 'c'): 1,\n",
              "         ('c', 'w'): 2,\n",
              "         ('b', 't'): 3,\n",
              "         ('k', 'm'): 2,\n",
              "         ('s', 'q'): 3,\n",
              "         ('q', 'm'): 1,\n",
              "         ('p', 'y'): 7,\n",
              "         ('l', 'z'): 1,\n",
              "         ('a', 'z'): 2,\n",
              "         ('z', 'a'): 5,\n",
              "         ('u', 'x'): 1,\n",
              "         ('x', 'u'): 1,\n",
              "         ('o', 'z'): 1,\n",
              "         ('g', 'w'): 9,\n",
              "         ('v', 'u'): 2,\n",
              "         ('c', 'n'): 2,\n",
              "         ('b', 'w'): 2,\n",
              "         ('i', 'y'): 4,\n",
              "         ('w', 'j'): 1,\n",
              "         ('j', 'i'): 1,\n",
              "         ('v', 'g'): 1,\n",
              "         ('g', 'j'): 3,\n",
              "         ('p', 'v'): 2,\n",
              "         ('v', 'n'): 1,\n",
              "         ('p', 'f'): 2,\n",
              "         ('p', 'w'): 5,\n",
              "         ('i', 'h'): 9,\n",
              "         ('p', 'b'): 3,\n",
              "         ('u', 'w'): 3,\n",
              "         ('m', 'g'): 3,\n",
              "         ('i', 'x'): 8,\n",
              "         ('x', 'y'): 1,\n",
              "         ('t', 'j'): 2,\n",
              "         ('f', 'j'): 3,\n",
              "         ('l', 'j'): 2,\n",
              "         ('c', 'b'): 10,\n",
              "         ('a', 'q'): 1,\n",
              "         ('k', 'd'): 2,\n",
              "         ('p', 'd'): 3,\n",
              "         ('h', 'k'): 3,\n",
              "         ('p', 'n'): 1,\n",
              "         ('b', 'm'): 1,\n",
              "         ('v', 'y'): 2,\n",
              "         ('p', 'g'): 1,\n",
              "         ('k', 'c'): 4,\n",
              "         ('x', 'r'): 1,\n",
              "         ('w', 'w'): 2,\n",
              "         ('h', 'v'): 2,\n",
              "         ('x', 'm'): 1,\n",
              "         ('n', 'z'): 2,\n",
              "         ('p', 'k'): 2,\n",
              "         ('j', 'm'): 2,\n",
              "         ('h', 'j'): 1,\n",
              "         ('j', 'n'): 1,\n",
              "         ('k', 'l'): 1,\n",
              "         ('k', 'v'): 1,\n",
              "         ('l', 'q'): 1,\n",
              "         ('k', 'k'): 1,\n",
              "         ('x', 'o'): 1,\n",
              "         ('t', 'v'): 1,\n",
              "         ('v', 'c'): 1,\n",
              "         ('j', 't'): 1,\n",
              "         ('y', 'q'): 1,\n",
              "         ('m', 'd'): 1,\n",
              "         ('y', 'j'): 2,\n",
              "         ('e', 'z'): 3,\n",
              "         ('z', 'i'): 3,\n",
              "         ('t', 'q'): 1,\n",
              "         ('w', 'u'): 1,\n",
              "         ('b', 'b'): 2,\n",
              "         ('v', 's'): 1,\n",
              "         ('v', 'p'): 1})"
            ]
          },
          "metadata": {},
          "execution_count": 88
        }
      ]
    },
    {
      "cell_type": "code",
      "source": [
        "graph1=plotbihistogram(bigram_india)\n",
        "plt.show()"
      ],
      "metadata": {
        "id": "WPsReLCoJ5RB",
        "outputId": "4f2e6adb-5c97-45db-8887-f58df9409fea",
        "colab": {
          "base_uri": "https://localhost:8080/",
          "height": 268
        }
      },
      "execution_count": 89,
      "outputs": [
        {
          "output_type": "display_data",
          "data": {
            "text/plain": [
              "<Figure size 432x288 with 2 Axes>"
            ],
            "image/png": "[encoded data removed]"
          },
          "metadata": {}
        }
      ]
    },
    {
      "cell_type": "code",
      "source": [
        "trigram_india=Counter(ngrams(page_object,3))\n",
        "plothistogram(trigram_india)\n",
        "plt.title(\"Trigrams india\")\n",
        "plt.show()"
      ],
      "metadata": {
        "id": "clg2xeAWJ_Cz",
        "outputId": "0206f6f4-d07a-4666-95e5-d36cbf5a21ce",
        "colab": {
          "base_uri": "https://localhost:8080/",
          "height": 284
        }
      },
      "execution_count": 90,
      "outputs": [
        {
          "output_type": "display_data",
          "data": {
            "text/plain": [
              "<Figure size 432x288 with 1 Axes>"
            ],
            "image/png": "[encoded data removed]"
          },
          "metadata": {}
        }
      ]
    },
    {
      "cell_type": "code",
      "source": [
        "trigram_india"
      ],
      "metadata": {
        "id": "DluybV8jKG2a",
        "outputId": "292e4a03-2c2f-4ff2-d72f-f167369ddebd",
        "colab": {
          "base_uri": "https://localhost:8080/"
        }
      },
      "execution_count": 91,
      "outputs": [
        {
          "output_type": "execute_result",
          "data": {
            "text/plain": [
              "Counter({('i', 'n', 'd'): 468,\n",
              "         ('n', 'd', 'i'): 435,\n",
              "         ('d', 'i', 'a'): 382,\n",
              "         ('i', 'a', 'o'): 3,\n",
              "         ('a', 'o', 'f'): 12,\n",
              "         ('o', 'f', 'f'): 27,\n",
              "         ('f', 'f', 'i'): 16,\n",
              "         ('f', 'i', 'c'): 20,\n",
              "         ('i', 'c', 'i'): 35,\n",
              "         ('c', 'i', 'a'): 48,\n",
              "         ('i', 'a', 'l'): 75,\n",
              "         ('a', 'l', 'l'): 130,\n",
              "         ('l', 'l', 'y'): 64,\n",
              "         ('l', 'y', 't'): 18,\n",
              "         ('y', 't', 'h'): 85,\n",
              "         ('t', 'h', 'e'): 1052,\n",
              "         ('h', 'e', 'r'): 140,\n",
              "         ('e', 'r', 'e'): 153,\n",
              "         ('r', 'e', 'p'): 34,\n",
              "         ('e', 'p', 'u'): 15,\n",
              "         ('p', 'u', 'b'): 16,\n",
              "         ('u', 'b', 'l'): 16,\n",
              "         ('b', 'l', 'i'): 24,\n",
              "         ('l', 'i', 'c'): 26,\n",
              "         ('i', 'c', 'o'): 7,\n",
              "         ('c', 'o', 'f'): 2,\n",
              "         ('o', 'f', 'i'): 59,\n",
              "         ('f', 'i', 'n'): 61,\n",
              "         ('i', 'a', 'h'): 30,\n",
              "         ('a', 'h', 'i'): 10,\n",
              "         ('h', 'i', 'n'): 103,\n",
              "         ('d', 'i', 'b'): 2,\n",
              "         ('i', 'b', 'h'): 2,\n",
              "         ('b', 'h', 'r'): 3,\n",
              "         ('h', 'r', 'a'): 12,\n",
              "         ('r', 'a', 't'): 112,\n",
              "         ('a', 't', 'g'): 4,\n",
              "         ('t', 'g', 'a'): 2,\n",
              "         ('g', 'a', 'a'): 2,\n",
              "         ('a', 'a', 'r'): 4,\n",
              "         ('a', 'r', 'j'): 1,\n",
              "         ('r', 'j', 'y'): 1,\n",
              "         ('j', 'y', 'a'): 3,\n",
              "         ('y', 'a', 'i'): 1,\n",
              "         ('a', 'i', 's'): 39,\n",
              "         ('i', 's', 'a'): 46,\n",
              "         ('s', 'a', 'c'): 19,\n",
              "         ('a', 'c', 'o'): 28,\n",
              "         ('c', 'o', 'u'): 45,\n",
              "         ('o', 'u', 'n'): 59,\n",
              "         ('u', 'n', 't'): 37,\n",
              "         ('n', 't', 'r'): 86,\n",
              "         ('t', 'r', 'y'): 33,\n",
              "         ('r', 'y', 'i'): 18,\n",
              "         ('y', 'i', 'n'): 64,\n",
              "         ('i', 'n', 's'): 55,\n",
              "         ('n', 's', 'o'): 40,\n",
              "         ('s', 'o', 'u'): 57,\n",
              "         ('o', 'u', 't'): 73,\n",
              "         ('u', 't', 'h'): 54,\n",
              "         ('t', 'h', 'a'): 105,\n",
              "         ('h', 'a', 's'): 98,\n",
              "         ('a', 's', 'i'): 90,\n",
              "         ('s', 'i', 'a'): 49,\n",
              "         ('i', 'a', 'i'): 51,\n",
              "         ('a', 'i', 't'): 11,\n",
              "         ('i', 't', 'i'): 115,\n",
              "         ('t', 'i', 's'): 45,\n",
              "         ('i', 's', 't'): 142,\n",
              "         ('s', 't', 'h'): 169,\n",
              "         ('h', 'e', 's'): 122,\n",
              "         ('e', 's', 'e'): 62,\n",
              "         ('s', 'e', 'v'): 17,\n",
              "         ('e', 'v', 'e'): 67,\n",
              "         ('v', 'e', 'n'): 37,\n",
              "         ('e', 'n', 't'): 292,\n",
              "         ('n', 't', 'h'): 188,\n",
              "         ('t', 'h', 'l'): 13,\n",
              "         ('h', 'l', 'a'): 10,\n",
              "         ('l', 'a', 'r'): 77,\n",
              "         ('a', 'r', 'g'): 42,\n",
              "         ('r', 'g', 'e'): 56,\n",
              "         ('g', 'e', 's'): 67,\n",
              "         ('e', 's', 't'): 208,\n",
              "         ('s', 't', 'c'): 14,\n",
              "         ('t', 'c', 'o'): 22,\n",
              "         ('r', 'y', 'b'): 5,\n",
              "         ('y', 'b', 'y'): 6,\n",
              "         ('b', 'y', 'a'): 10,\n",
              "         ('y', 'a', 'r'): 10,\n",
              "         ('a', 'r', 'e'): 97,\n",
              "         ('r', 'e', 'a'): 139,\n",
              "         ('e', 'a', 't'): 79,\n",
              "         ('a', 't', 'h'): 57,\n",
              "         ('s', 'e', 'c'): 44,\n",
              "         ('e', 'c', 'o'): 146,\n",
              "         ('c', 'o', 'n'): 172,\n",
              "         ('o', 'n', 'd'): 27,\n",
              "         ('n', 'd', 'm'): 40,\n",
              "         ('d', 'm', 'o'): 13,\n",
              "         ('m', 'o', 's'): 29,\n",
              "         ('o', 's', 't'): 42,\n",
              "         ('s', 't', 'p'): 16,\n",
              "         ('t', 'p', 'o'): 14,\n",
              "         ('p', 'o', 'p'): 31,\n",
              "         ('o', 'p', 'u'): 32,\n",
              "         ('p', 'u', 'l'): 34,\n",
              "         ('u', 'l', 'o'): 4,\n",
              "         ('l', 'o', 'u'): 9,\n",
              "         ('o', 'u', 's'): 61,\n",
              "         ('u', 's', 'c'): 6,\n",
              "         ('s', 'c', 'o'): 34,\n",
              "         ('r', 'y', 'a'): 27,\n",
              "         ('y', 'a', 'n'): 53,\n",
              "         ('a', 'n', 'd'): 521,\n",
              "         ('n', 'd', 't'): 99,\n",
              "         ('d', 't', 'h'): 131,\n",
              "         ('h', 'e', 'm'): 68,\n",
              "         ('e', 'm', 'o'): 35,\n",
              "         ('u', 's', 'd'): 7,\n",
              "         ('s', 'd', 'e'): 18,\n",
              "         ('d', 'e', 'm'): 22,\n",
              "         ('m', 'o', 'c'): 10,\n",
              "         ('o', 'c', 'r'): 10,\n",
              "         ('c', 'r', 'a'): 14,\n",
              "         ('r', 'a', 'c'): 23,\n",
              "         ('a', 'c', 'y'): 11,\n",
              "         ('c', 'y', 'i'): 4,\n",
              "         ('i', 'n', 't'): 206,\n",
              "         ('h', 'e', 'w'): 68,\n",
              "         ('e', 'w', 'o'): 40,\n",
              "         ('w', 'o', 'r'): 66,\n",
              "         ('o', 'r', 'l'): 55,\n",
              "         ('r', 'l', 'd'): 49,\n",
              "         ('l', 'd', 'b'): 8,\n",
              "         ('d', 'b', 'o'): 5,\n",
              "         ('b', 'o', 'u'): 18,\n",
              "         ('u', 'n', 'd'): 50,\n",
              "         ('n', 'd', 'e'): 90,\n",
              "         ('d', 'e', 'd'): 34,\n",
              "         ('e', 'd', 'b'): 82,\n",
              "         ('d', 'b', 'y'): 76,\n",
              "         ('b', 'y', 't'): 53,\n",
              "         ('h', 'e', 'i'): 89,\n",
              "         ('e', 'i', 'n'): 162,\n",
              "         ('i', 'a', 'n'): 173,\n",
              "         ('a', 'n', 'o'): 30,\n",
              "         ('n', 'o', 'c'): 7,\n",
              "         ('o', 'c', 'e'): 14,\n",
              "         ('c', 'e', 'a'): 29,\n",
              "         ('e', 'a', 'n'): 84,\n",
              "         ('n', 'o', 'n'): 18,\n",
              "         ('o', 'n', 't'): 109,\n",
              "         ('e', 's', 'o'): 63,\n",
              "         ('t', 'h', 't'): 33,\n",
              "         ('h', 't', 'h'): 37,\n",
              "         ('h', 'e', 'a'): 67,\n",
              "         ('e', 'a', 'r'): 107,\n",
              "         ('a', 'r', 'a'): 56,\n",
              "         ('r', 'a', 'b'): 14,\n",
              "         ('a', 'b', 'i'): 14,\n",
              "         ('b', 'i', 'a'): 6,\n",
              "         ('a', 'n', 's'): 63,\n",
              "         ('n', 's', 'e'): 27,\n",
              "         ('s', 'e', 'a'): 27,\n",
              "         ('e', 'a', 'o'): 2,\n",
              "         ('a', 'o', 'n'): 2,\n",
              "         ('t', 'h', 'w'): 15,\n",
              "         ('h', 'w', 'e'): 12,\n",
              "         ('w', 'e', 's'): 33,\n",
              "         ('s', 't', 'a'): 131,\n",
              "         ('t', 'a', 'n'): 85,\n",
              "         ('h', 'e', 'b'): 44,\n",
              "         ('e', 'b', 'a'): 10,\n",
              "         ('b', 'a', 'y'): 3,\n",
              "         ('a', 'y', 'o'): 4,\n",
              "         ('y', 'o', 'f'): 28,\n",
              "         ('o', 'f', 'b'): 12,\n",
              "         ('f', 'b', 'e'): 7,\n",
              "         ('b', 'e', 'n'): 14,\n",
              "         ('e', 'n', 'g'): 29,\n",
              "         ('n', 'g', 'a'): 66,\n",
              "         ('g', 'a', 'l'): 26,\n",
              "         ('a', 'l', 'o'): 21,\n",
              "         ('l', 'o', 'n'): 27,\n",
              "         ('e', 'a', 's'): 106,\n",
              "         ('a', 's', 't'): 153,\n",
              "         ('s', 't', 'i'): 99,\n",
              "         ('t', 'i', 't'): 36,\n",
              "         ('i', 't', 's'): 68,\n",
              "         ('t', 's', 'h'): 7,\n",
              "         ('s', 'h', 'a'): 62,\n",
              "         ('h', 'a', 'r'): 43,\n",
              "         ('r', 'e', 's'): 123,\n",
              "         ('e', 's', 'l'): 4,\n",
              "         ('s', 'l', 'a'): 35,\n",
              "         ('l', 'a', 'n'): 83,\n",
              "         ('n', 'd', 'b'): 16,\n",
              "         ('b', 'o', 'r'): 8,\n",
              "         ('o', 'r', 'd'): 36,\n",
              "         ('r', 'd', 'e'): 17,\n",
              "         ('d', 'e', 'r'): 83,\n",
              "         ('e', 'r', 's'): 100,\n",
              "         ('r', 's', 'w'): 8,\n",
              "         ('s', 'w', 'i'): 32,\n",
              "         ('w', 'i', 't'): 91,\n",
              "         ('i', 't', 'h'): 114,\n",
              "         ('t', 'h', 'p'): 7,\n",
              "         ('h', 'p', 'a'): 5,\n",
              "         ('p', 'a', 'k'): 13,\n",
              "         ('a', 'k', 'i'): 17,\n",
              "         ('k', 'i', 's'): 13,\n",
              "         ('a', 'n', 't'): 70,\n",
              "         ('n', 't', 'o'): 80,\n",
              "         ('t', 'o', 't'): 55,\n",
              "         ('o', 't', 'h'): 94,\n",
              "         ('e', 'w', 'e'): 28,\n",
              "         ('t', 'c', 'h'): 5,\n",
              "         ('c', 'h', 'i'): 66,\n",
              "         ('i', 'n', 'a'): 70,\n",
              "         ('n', 'a', 'n'): 89,\n",
              "         ('a', 'n', 'e'): 37,\n",
              "         ('n', 'e', 'p'): 2,\n",
              "         ('e', 'p', 'a'): 30,\n",
              "         ('p', 'a', 'l'): 5,\n",
              "         ('a', 'l', 'a'): 69,\n",
              "         ('d', 'b', 'h'): 1,\n",
              "         ('b', 'h', 'u'): 1,\n",
              "         ('h', 'u', 't'): 1,\n",
              "         ('u', 't', 'a'): 13,\n",
              "         ('h', 'e', 'n'): 68,\n",
              "         ('e', 'n', 'o'): 21,\n",
              "         ('n', 'o', 'r'): 49,\n",
              "         ('o', 'r', 't'): 112,\n",
              "         ('r', 't', 'h'): 106,\n",
              "         ('h', 'a', 'n'): 70,\n",
              "         ('d', 'b', 'a'): 8,\n",
              "         ('b', 'a', 'n'): 33,\n",
              "         ('a', 'n', 'g'): 84,\n",
              "         ('n', 'g', 'l'): 31,\n",
              "         ('g', 'l', 'a'): 7,\n",
              "         ('l', 'a', 'd'): 8,\n",
              "         ('a', 'd', 'e'): 46,\n",
              "         ('d', 'e', 's'): 43,\n",
              "         ('e', 's', 'h'): 24,\n",
              "         ('d', 'm', 'y'): 3,\n",
              "         ('m', 'y', 'a'): 5,\n",
              "         ('a', 'n', 'm'): 17,\n",
              "         ('n', 'm', 'a'): 10,\n",
              "         ('m', 'a', 'r'): 46,\n",
              "         ('a', 'r', 't'): 84,\n",
              "         ('r', 't', 'o'): 20,\n",
              "         ('h', 'e', 'e'): 55,\n",
              "         ('e', 'e', 'a'): 20,\n",
              "         ('t', 'i', 'n'): 145,\n",
              "         ('a', 'n', 'i'): 70,\n",
              "         ('n', 'i', 'n'): 175,\n",
              "         ('i', 's', 'i'): 30,\n",
              "         ('s', 'i', 'n'): 191,\n",
              "         ('h', 'e', 'v'): 8,\n",
              "         ('e', 'v', 'i'): 14,\n",
              "         ('v', 'i', 'c'): 9,\n",
              "         ('c', 'i', 'n'): 19,\n",
              "         ('i', 'n', 'i'): 114,\n",
              "         ('n', 'i', 't'): 42,\n",
              "         ('i', 't', 'y'): 57,\n",
              "         ('t', 'y', 'o'): 12,\n",
              "         ('o', 'f', 's'): 26,\n",
              "         ('f', 's', 'r'): 1,\n",
              "         ('s', 'r', 'i'): 6,\n",
              "         ('r', 'i', 'l'): 7,\n",
              "         ('i', 'l', 'a'): 16,\n",
              "         ('a', 'n', 'k'): 22,\n",
              "         ('n', 'k', 'a'): 4,\n",
              "         ('k', 'a', 'a'): 2,\n",
              "         ('a', 'a', 'n'): 41,\n",
              "         ('e', 'm', 'a'): 55,\n",
              "         ('m', 'a', 'l'): 40,\n",
              "         ('a', 'l', 'd'): 16,\n",
              "         ('l', 'd', 'i'): 15,\n",
              "         ('d', 'i', 'v'): 25,\n",
              "         ('i', 'v', 'e'): 110,\n",
              "         ('v', 'e', 's'): 16,\n",
              "         ('e', 's', 'i'): 71,\n",
              "         ('s', 'i', 't'): 46,\n",
              "         ('t', 's', 'a'): 31,\n",
              "         ('s', 'a', 'n'): 130,\n",
              "         ('n', 'd', 'a'): 66,\n",
              "         ('d', 'a', 'm'): 16,\n",
              "         ('a', 'm', 'a'): 28,\n",
              "         ('m', 'a', 'n'): 74,\n",
              "         ('a', 'n', 'a'): 76,\n",
              "         ('n', 'd', 'n'): 8,\n",
              "         ('d', 'n', 'i'): 2,\n",
              "         ('n', 'i', 'c'): 17,\n",
              "         ('c', 'o', 'b'): 3,\n",
              "         ('o', 'b', 'a'): 13,\n",
              "         ('b', 'a', 'r'): 5,\n",
              "         ('a', 'r', 'i'): 51,\n",
              "         ('r', 'i', 's'): 41,\n",
              "         ('i', 's', 'l'): 23,\n",
              "         ('n', 'd', 's'): 54,\n",
              "         ('d', 's', 's'): 8,\n",
              "         ('s', 's', 'h'): 6,\n",
              "         ('e', 'a', 'm'): 12,\n",
              "         ('r', 'i', 't'): 68,\n",
              "         ('t', 'i', 'm'): 29,\n",
              "         ('i', 'm', 'e'): 29,\n",
              "         ('m', 'e', 'b'): 3,\n",
              "         ('e', 'b', 'o'): 4,\n",
              "         ('e', 'r', 'w'): 10,\n",
              "         ('r', 'w', 'i'): 5,\n",
              "         ('h', 'a', 'i'): 11,\n",
              "         ('a', 'i', 'l'): 8,\n",
              "         ('r', 'a', 'n'): 62,\n",
              "         ('d', 'i', 'n'): 135,\n",
              "         ('n', 'd', 'o'): 40,\n",
              "         ('d', 'o', 'n'): 24,\n",
              "         ('o', 'n', 'e'): 39,\n",
              "         ('n', 'e', 's'): 31,\n",
              "         ('i', 'a', 't'): 42,\n",
              "         ('e', 'n', 'a'): 40,\n",
              "         ('n', 'a', 't'): 76,\n",
              "         ('a', 't', 'i'): 233,\n",
              "         ('t', 'i', 'o'): 291,\n",
              "         ('i', 'o', 'n'): 416,\n",
              "         ('o', 'n', 's'): 155,\n",
              "         ('n', 's', 'c'): 10,\n",
              "         ('s', 'c', 'a'): 9,\n",
              "         ('c', 'a', 'p'): 12,\n",
              "         ('a', 'p', 'i'): 16,\n",
              "         ('p', 'i', 't'): 16,\n",
              "         ('i', 't', 'a'): 41,\n",
              "         ('t', 'a', 'l'): 25,\n",
              "         ('a', 'l', 'c'): 33,\n",
              "         ('l', 'c', 'i'): 3,\n",
              "         ('c', 'i', 't'): 13,\n",
              "         ('t', 'y', 'i'): 13,\n",
              "         ('y', 'i', 's'): 12,\n",
              "         ('i', 's', 'n'): 7,\n",
              "         ('s', 'n', 'e'): 5,\n",
              "         ('n', 'e', 'w'): 21,\n",
              "         ('e', 'w', 'd'): 5,\n",
              "         ('w', 'd', 'e'): 4,\n",
              "         ('d', 'e', 'l'): 22,\n",
              "         ('e', 'l', 'h'): 11,\n",
              "         ('l', 'h', 'i'): 14,\n",
              "         ('h', 'i', 'm'): 13,\n",
              "         ('i', 'm', 'o'): 3,\n",
              "         ('m', 'o', 'd'): 20,\n",
              "         ('o', 'd', 'e'): 23,\n",
              "         ('e', 'r', 'n'): 109,\n",
              "         ('r', 'n', 'h'): 4,\n",
              "         ('n', 'h', 'u'): 5,\n",
              "         ('h', 'u', 'm'): 14,\n",
              "         ('u', 'm', 'a'): 14,\n",
              "         ('n', 's', 'a'): 20,\n",
              "         ('s', 'a', 'r'): 44,\n",
              "         ('a', 'r', 'r'): 19,\n",
              "         ('r', 'r', 'i'): 26,\n",
              "         ('r', 'i', 'v'): 21,\n",
              "         ('v', 'e', 'd'): 48,\n",
              "         ('e', 'd', 'o'): 39,\n",
              "         ('n', 's', 'u'): 40,\n",
              "         ('s', 'u', 'b'): 31,\n",
              "         ('u', 'b', 'c'): 12,\n",
              "         ('b', 'c', 'o'): 12,\n",
              "         ('n', 't', 'i'): 79,\n",
              "         ('i', 'n', 'e'): 78,\n",
              "         ('n', 'e', 'n'): 26,\n",
              "         ('n', 't', 'f'): 10,\n",
              "         ('t', 'f', 'r'): 9,\n",
              "         ('f', 'r', 'o'): 72,\n",
              "         ('r', 'o', 'm'): 72,\n",
              "         ('o', 'm', 'a'): 20,\n",
              "         ('m', 'a', 'f'): 2,\n",
              "         ('a', 'f', 'r'): 14,\n",
              "         ('f', 'r', 'i'): 9,\n",
              "         ('r', 'i', 'c'): 46,\n",
              "         ('i', 'c', 'a'): 100,\n",
              "         ('c', 'a', 'n'): 34,\n",
              "         ('n', 'o', 'l'): 15,\n",
              "         ('o', 'l', 'a'): 9,\n",
              "         ('l', 'a', 't'): 88,\n",
              "         ('a', 't', 'e'): 192,\n",
              "         ('t', 'e', 'r'): 173,\n",
              "         ('e', 'r', 't'): 59,\n",
              "         ('a', 'n', 'y'): 37,\n",
              "         ('n', 'y', 'e'): 8,\n",
              "         ('y', 'e', 'a'): 34,\n",
              "         ('a', 'r', 's'): 38,\n",
              "         ('r', 's', 'a'): 24,\n",
              "         ('s', 'a', 'g'): 9,\n",
              "         ('a', 'g', 'o'): 12,\n",
              "         ('g', 'o', 't'): 3,\n",
              "         ('e', 'i', 'r'): 20,\n",
              "         ('i', 'r', 'l'): 4,\n",
              "         ('r', 'l', 'o'): 2,\n",
              "         ('o', 'n', 'g'): 81,\n",
              "         ('n', 'g', 'o'): 27,\n",
              "         ('g', 'o', 'c'): 1,\n",
              "         ('o', 'c', 'c'): 9,\n",
              "         ('c', 'c', 'u'): 9,\n",
              "         ('c', 'u', 'p'): 10,\n",
              "         ('u', 'p', 'a'): 9,\n",
              "         ('p', 'a', 't'): 14,\n",
              "         ('o', 'n', 'i'): 55,\n",
              "         ('t', 'i', 'a'): 20,\n",
              "         ('l', 'y', 'i'): 27,\n",
              "         ('i', 'n', 'v'): 12,\n",
              "         ('n', 'v', 'a'): 5,\n",
              "         ('v', 'a', 'r'): 14,\n",
              "         ('a', 'r', 'y'): 47,\n",
              "         ('i', 'n', 'g'): 333,\n",
              "         ('n', 'g', 'f'): 12,\n",
              "         ('g', 'f', 'o'): 5,\n",
              "         ('f', 'o', 'r'): 136,\n",
              "         ('o', 'r', 'm'): 58,\n",
              "         ('r', 'm', 's'): 23,\n",
              "         ('m', 's', 'o'): 11,\n",
              "         ('s', 'o', 'f'): 99,\n",
              "         ('f', 'i', 's'): 5,\n",
              "         ('i', 's', 'o'): 11,\n",
              "         ('s', 'o', 'l'): 17,\n",
              "         ('o', 'n', 'a'): 119,\n",
              "         ('n', 'a', 's'): 16,\n",
              "         ('a', 's', 'h'): 22,\n",
              "         ('s', 'h', 'u'): 2,\n",
              "         ('h', 'u', 'n'): 3,\n",
              "         ('n', 't', 'e'): 57,\n",
              "         ('e', 'r', 'g'): 25,\n",
              "         ('r', 'g', 'a'): 14,\n",
              "         ('g', 'a', 't'): 6,\n",
              "         ('r', 'e', 'r'): 13,\n",
              "         ('r', 's', 'h'): 12,\n",
              "         ('a', 's', 'm'): 14,\n",
              "         ('s', 'm', 'a'): 41,\n",
              "         ('m', 'a', 'd'): 10,\n",
              "         ('d', 'e', 't'): 20,\n",
              "         ('e', 't', 'h'): 131,\n",
              "         ('r', 'e', 'g'): 35,\n",
              "         ('e', 'g', 'i'): 39,\n",
              "         ('g', 'i', 'o'): 48,\n",
              "         ('o', 'n', 'h'): 5,\n",
              "         ('n', 'h', 'i'): 10,\n",
              "         ('h', 'i', 'g'): 12,\n",
              "         ('i', 'g', 'h'): 33,\n",
              "         ('g', 'h', 'l'): 5,\n",
              "         ('h', 'l', 'y'): 3,\n",
              "         ('l', 'y', 'd'): 10,\n",
              "         ('y', 'd', 'i'): 6,\n",
              "         ('v', 'e', 'r'): 143,\n",
              "         ('r', 's', 'e'): 16,\n",
              "         ('s', 'e', 's'): 29,\n",
              "         ('o', 'n', 'l'): 12,\n",
              "         ('n', 'l', 'y'): 7,\n",
              "         ('y', 't', 'o'): 13,\n",
              "         ('t', 'o', 'a'): 23,\n",
              "         ('o', 'a', 'f'): 3,\n",
              "         ('c', 'a', 'i'): 2,\n",
              "         ('a', 'i', 'n'): 110,\n",
              "         ('i', 'n', 'h'): 4,\n",
              "         ('n', 'g', 'e'): 73,\n",
              "         ('g', 'e', 'n'): 43,\n",
              "         ('e', 'n', 'e'): 50,\n",
              "         ('n', 'e', 't'): 16,\n",
              "         ('e', 't', 'i'): 26,\n",
              "         ('t', 'i', 'c'): 77,\n",
              "         ('i', 'c', 'd'): 7,\n",
              "         ('c', 'd', 'i'): 2,\n",
              "         ('r', 's', 'i'): 34,\n",
              "         ('t', 'y', 's'): 5,\n",
              "         ('y', 's', 'e'): 9,\n",
              "         ('s', 'e', 't'): 21,\n",
              "         ('e', 't', 't'): 11,\n",
              "         ('t', 't', 'l'): 5,\n",
              "         ('t', 'l', 'e'): 10,\n",
              "         ('l', 'e', 'd'): 34,\n",
              "         ('e', 'd', 'l'): 13,\n",
              "         ('d', 'l', 'i'): 7,\n",
              "         ('l', 'i', 'f'): 22,\n",
              "         ('i', 'f', 'e'): 23,\n",
              "         ('f', 'e', 'e'): 2,\n",
              "         ('e', 'e', 'm'): 18,\n",
              "         ('e', 'm', 'e'): 52,\n",
              "         ('m', 'e', 'r'): 36,\n",
              "         ('g', 'e', 'd'): 16,\n",
              "         ('e', 's', 'u'): 37,\n",
              "         ('s', 't', 'e'): 111,\n",
              "         ('r', 'n', 'm'): 27,\n",
              "         ('r', 'g', 'i'): 3,\n",
              "         ('g', 'i', 'n'): 45,\n",
              "         ('o', 'f', 't'): 127,\n",
              "         ('f', 't', 'h'): 117,\n",
              "         ('n', 'd', 'u'): 62,\n",
              "         ('d', 'u', 's'): 27,\n",
              "         ('u', 's', 'r'): 5,\n",
              "         ('e', 'r', 'b'): 12,\n",
              "         ('r', 'b', 'a'): 24,\n",
              "         ('b', 'a', 's'): 12,\n",
              "         ('i', 'n', 'y'): 2,\n",
              "         ('g', 'o', 'e'): 1,\n",
              "         ('o', 'e', 'v'): 1,\n",
              "         ('e', 'v', 'o'): 7,\n",
              "         ('v', 'o', 'l'): 11,\n",
              "         ('o', 'l', 'v'): 10,\n",
              "         ('l', 'v', 'i'): 4,\n",
              "         ('v', 'i', 'n'): 21,\n",
              "         ('n', 'g', 'g'): 6,\n",
              "         ('g', 'g', 'r'): 2,\n",
              "         ('g', 'r', 'a'): 32,\n",
              "         ('r', 'a', 'd'): 49,\n",
              "         ('a', 'd', 'u'): 10,\n",
              "         ('d', 'u', 'a'): 11,\n",
              "         ('u', 'a', 'l'): 29,\n",
              "         ('u', 's', 'v'): 4,\n",
              "         ('s', 'v', 'a'): 7,\n",
              "         ('v', 'a', 'l'): 19,\n",
              "         ('l', 'l', 'e'): 32,\n",
              "         ('l', 'e', 'y'): 4,\n",
              "         ('e', 'y', 'c'): 5,\n",
              "         ('y', 'c', 'i'): 3,\n",
              "         ('c', 'i', 'v'): 7,\n",
              "         ('i', 'v', 'i'): 21,\n",
              "         ('v', 'i', 'l'): 9,\n",
              "         ('i', 'l', 'i'): 40,\n",
              "         ('l', 'i', 's'): 43,\n",
              "         ('s', 'a', 't'): 33,\n",
              "         ('o', 'n', 'o'): 100,\n",
              "         ('n', 'o', 'f'): 46,\n",
              "         ('h', 'e', 't'): 46,\n",
              "         ('t', 'h', 'i'): 87,\n",
              "         ('h', 'i', 'r'): 12,\n",
              "         ('i', 'r', 'd'): 9,\n",
              "         ('r', 'd', 'm'): 3,\n",
              "         ('d', 'm', 'i'): 25,\n",
              "         ('m', 'i', 'l'): 66,\n",
              "         ('i', 'l', 'l'): 64,\n",
              "         ('l', 'e', 'n'): 21,\n",
              "         ('e', 'n', 'n'): 11,\n",
              "         ('n', 'n', 'i'): 10,\n",
              "         ('n', 'i', 'u'): 5,\n",
              "         ('i', 'u', 'm'): 8,\n",
              "         ('u', 'm', 'b'): 22,\n",
              "         ('m', 'b', 'c'): 2,\n",
              "         ('b', 'c', 'e'): 19,\n",
              "         ('c', 'e', 'b'): 5,\n",
              "         ('e', 'b', 'y'): 5,\n",
              "         ('b', 'y', 'b'): 5,\n",
              "         ('y', 'b', 'c'): 4,\n",
              "         ('n', 'a', 'r'): 28,\n",
              "         ('a', 'r', 'c'): 30,\n",
              "         ('r', 'c', 'h'): 35,\n",
              "         ('c', 'h', 'a'): 72,\n",
              "         ('a', 'i', 'c'): 2,\n",
              "         ('i', 'c', 'f'): 2,\n",
              "         ('c', 'f', 'o'): 1,\n",
              "         ('r', 'm', 'o'): 16,\n",
              "         ('m', 'o', 'f'): 19,\n",
              "         ('f', 's', 'a'): 5,\n",
              "         ('n', 's', 'k'): 5,\n",
              "         ('s', 'k', 'r'): 5,\n",
              "         ('k', 'r', 'i'): 7,\n",
              "         ('d', 'o', 'e'): 1,\n",
              "         ('o', 'e', 'u'): 1,\n",
              "         ('e', 'u', 'r'): 13,\n",
              "         ('u', 'r', 'o'): 11,\n",
              "         ('r', 'o', 'p'): 19,\n",
              "         ('o', 'p', 'e'): 30,\n",
              "         ('p', 'e', 'a'): 22,\n",
              "         ('a', 'n', 'l'): 10,\n",
              "         ('n', 'l', 'a'): 15,\n",
              "         ('n', 'g', 'u'): 31,\n",
              "         ('g', 'u', 'a'): 25,\n",
              "         ('u', 'a', 'g'): 20,\n",
              "         ('a', 'g', 'e'): 59,\n",
              "         ('g', 'e', 'h'): 3,\n",
              "         ('e', 'h', 'a'): 11,\n",
              "         ('h', 'a', 'd'): 27,\n",
              "         ('a', 'd', 'd'): 7,\n",
              "         ('d', 'd', 'i'): 11,\n",
              "         ('d', 'i', 'f'): 5,\n",
              "         ('i', 'f', 'f'): 8,\n",
              "         ('f', 'f', 'u'): 2,\n",
              "         ('f', 'u', 's'): 4,\n",
              "         ('u', 's', 'e'): 37,\n",
              "         ('s', 'e', 'd'): 74,\n",
              "         ('e', 'd', 'i'): 117,\n",
              "         ('t', 'o', 'i'): 25,\n",
              "         ('o', 'i', 'n'): 30,\n",
              "         ('i', 'a', 'f'): 11,\n",
              "         ('o', 'm', 't'): 27,\n",
              "         ('m', 't', 'h'): 29,\n",
              "         ('t', 's', 'e'): 18,\n",
              "         ('v', 'i', 'd'): 13,\n",
              "         ('i', 'd', 'e'): 57,\n",
              "         ('d', 'e', 'n'): 35,\n",
              "         ('e', 'n', 'c'): 62,\n",
              "         ('n', 'c', 'e'): 107,\n",
              "         ('c', 'e', 't'): 24,\n",
              "         ('e', 't', 'o'): 37,\n",
              "         ('t', 'o', 'd'): 7,\n",
              "         ('o', 'd', 'a'): 17,\n",
              "         ('d', 'a', 'y'): 10,\n",
              "         ('a', 'y', 'i'): 2,\n",
              "         ('i', 's', 'f'): 3,\n",
              "         ('s', 'f', 'o'): 34,\n",
              "         ('f', 'o', 'u'): 25,\n",
              "         ('h', 'e', 'h'): 18,\n",
              "         ('e', 'h', 'y'): 2,\n",
              "         ('h', 'y', 'm'): 3,\n",
              "         ('y', 'm', 'n'): 2,\n",
              "         ('m', 'n', 's'): 2,\n",
              "         ('e', 'r', 'i'): 94,\n",
              "         ('r', 'i', 'g'): 19,\n",
              "         ('i', 'g', 'v'): 3,\n",
              "         ('g', 'v', 'e'): 3,\n",
              "         ('e', 'd', 'a'): 63,\n",
              "         ('d', 'a', 'p'): 1,\n",
              "         ('a', 'p', 'r'): 6,\n",
              "         ('p', 'r', 'e'): 56,\n",
              "         ('s', 'e', 'r'): 32,\n",
              "         ('e', 'r', 'v'): 30,\n",
              "         ('r', 'v', 'e'): 21,\n",
              "         ('o', 'l', 'u'): 6,\n",
              "         ('l', 'u', 't'): 8,\n",
              "         ('u', 't', 'e'): 24,\n",
              "         ('t', 'e', 'l'): 25,\n",
              "         ('e', 'l', 'y'): 34,\n",
              "         ('l', 'y', 'v'): 2,\n",
              "         ('y', 'v', 'i'): 4,\n",
              "         ('v', 'i', 'g'): 1,\n",
              "         ('i', 'g', 'i'): 32,\n",
              "         ('g', 'i', 'l'): 2,\n",
              "         ('t', 'o', 'r'): 56,\n",
              "         ('o', 'r', 'a'): 24,\n",
              "         ('r', 'a', 'l'): 81,\n",
              "         ('a', 'l', 't'): 30,\n",
              "         ('l', 't', 'r'): 7,\n",
              "         ('t', 'r', 'a'): 94,\n",
              "         ('a', 'd', 'i'): 52,\n",
              "         ('d', 'i', 't'): 54,\n",
              "         ('d', 'a', 'r'): 26,\n",
              "         ('r', 'e', 'c'): 50,\n",
              "         ('c', 'o', 'r'): 32,\n",
              "         ('r', 'd', 's'): 10,\n",
              "         ('d', 's', 't'): 24,\n",
              "         ('h', 'e', 'd'): 43,\n",
              "         ('d', 'a', 'w'): 1,\n",
              "         ('a', 'w', 'n'): 1,\n",
              "         ('w', 'n', 'i'): 3,\n",
              "         ('g', 'o', 'f'): 12,\n",
              "         ('o', 'f', 'h'): 9,\n",
              "         ('f', 'h', 'i'): 9,\n",
              "         ('d', 'u', 'i'): 10,\n",
              "         ('u', 'i', 's'): 15,\n",
              "         ('i', 's', 'm'): 37,\n",
              "         ('s', 'm', 'i'): 18,\n",
              "         ('m', 'i', 'n'): 80,\n",
              "         ('e', 'd', 'r'): 11,\n",
              "         ('d', 'r', 'a'): 20,\n",
              "         ('r', 'a', 'v'): 8,\n",
              "         ('a', 'v', 'i'): 11,\n",
              "         ('i', 'd', 'i'): 7,\n",
              "         ('i', 'a', 'w'): 13,\n",
              "         ('a', 'w', 'e'): 9,\n",
              "         ('w', 'e', 'r'): 66,\n",
              "         ('s', 'u', 'p'): 26,\n",
              "         ('u', 'p', 'p'): 22,\n",
              "         ('p', 'p', 'l'): 9,\n",
              "         ('p', 'l', 'a'): 45,\n",
              "         ('t', 'e', 'd'): 121,\n",
              "         ('r', 'n', 'a'): 29,\n",
              "         ('n', 'd', 'w'): 23,\n",
              "         ('d', 'w', 'e'): 11,\n",
              "         ('r', 'n', 'r'): 3,\n",
              "         ('n', 'r', 'e'): 27,\n",
              "         ('n', 's', 'b'): 3,\n",
              "         ('s', 'b', 'y'): 13,\n",
              "         ('c', 'e', 's'): 46,\n",
              "         ('s', 't', 'r'): 75,\n",
              "         ('t', 'i', 'f'): 3,\n",
              "         ('i', 'f', 'i'): 9,\n",
              "         ('c', 'a', 't'): 28,\n",
              "         ('d', 'e', 'x'): 11,\n",
              "         ('e', 'x', 'c'): 12,\n",
              "         ('x', 'c', 'l'): 3,\n",
              "         ('c', 'l', 'u'): 35,\n",
              "         ('l', 'u', 's'): 5,\n",
              "         ('u', 's', 'i'): 19,\n",
              "         ('s', 'i', 'o'): 21,\n",
              "         ('o', 'n', 'b'): 11,\n",
              "         ('n', 'b', 'y'): 17,\n",
              "         ('b', 'y', 'c'): 9,\n",
              "         ('y', 'c', 'a'): 6,\n",
              "         ('c', 'a', 's'): 16,\n",
              "         ('t', 'e', 'h'): 2,\n",
              "         ('e', 'd', 'w'): 16,\n",
              "         ('d', 'w', 'i'): 25,\n",
              "         ('d', 'b', 'u'): 4,\n",
              "         ('b', 'u', 'd'): 17,\n",
              "         ('u', 'd', 'd'): 16,\n",
              "         ('d', 'd', 'h'): 16,\n",
              "         ('d', 'h', 'i'): 24,\n",
              "         ('h', 'i', 's'): 80,\n",
              "         ('n', 'd', 'j'): 4,\n",
              "         ('d', 'j', 'a'): 5,\n",
              "         ('j', 'a', 'i'): 8,\n",
              "         ('n', 'i', 's'): 53,\n",
              "         ('s', 'm', 'h'): 2,\n",
              "         ('m', 'h', 'a'): 3,\n",
              "         ('a', 'd', 'a'): 15,\n",
              "         ('i', 's', 'e'): 44,\n",
              "         ('s', 'e', 'n'): 21,\n",
              "         ('e', 'n', 'p'): 5,\n",
              "         ('n', 'p', 'r'): 11,\n",
              "         ('p', 'r', 'o'): 59,\n",
              "         ('r', 'o', 'c'): 15,\n",
              "         ('o', 'c', 'l'): 2,\n",
              "         ('c', 'l', 'a'): 23,\n",
              "         ('l', 'a', 'i'): 16,\n",
              "         ('a', 'i', 'm'): 3,\n",
              "         ('i', 'm', 'i'): 10,\n",
              "         ('n', 'g', 's'): 35,\n",
              "         ('g', 's', 'o'): 6,\n",
              "         ('s', 'o', 'c'): 32,\n",
              "         ('o', 'c', 'i'): 28,\n",
              "         ('l', 'o', 'r'): 8,\n",
              "         ('r', 's', 'u'): 8,\n",
              "         ('s', 'u', 'n'): 11,\n",
              "         ('u', 'n', 'l'): 3,\n",
              "         ('n', 'l', 'i'): 8,\n",
              "         ('l', 'i', 'n'): 50,\n",
              "         ('i', 'n', 'k'): 3,\n",
              "         ('n', 'k', 'e'): 7,\n",
              "         ('k', 'e', 'd'): 21,\n",
              "         ('e', 'd', 't'): 72,\n",
              "         ('d', 't', 'o'): 36,\n",
              "         ('t', 'o', 'h'): 11,\n",
              "         ('o', 'h', 'e'): 5,\n",
              "         ('r', 'e', 'd'): 68,\n",
              "         ('t', 'y', 'e'): 10,\n",
              "         ('a', 'r', 'l'): 39,\n",
              "         ('r', 'l', 'y'): 13,\n",
              "         ('l', 'y', 'p'): 4,\n",
              "         ('y', 'p', 'o'): 6,\n",
              "         ('p', 'o', 'l'): 26,\n",
              "         ('o', 'l', 'i'): 37,\n",
              "         ('l', 'i', 't'): 84,\n",
              "         ('c', 'a', 'l'): 80,\n",
              "         ('l', 'c', 'o'): 21,\n",
              "         ('l', 'i', 'd'): 8,\n",
              "         ('i', 'd', 'a'): 12,\n",
              "         ('d', 'a', 't'): 25,\n",
              "         ('n', 's', 'g'): 3,\n",
              "         ('s', 'g', 'a'): 4,\n",
              "         ('g', 'a', 'v'): 4,\n",
              "         ('a', 'v', 'e'): 52,\n",
              "         ('h', 'e', 'l'): 55,\n",
              "         ('e', 'l', 'o'): 31,\n",
              "         ('l', 'o', 'o'): 5,\n",
              "         ('o', 'o', 's'): 1,\n",
              "         ('o', 's', 'e'): 30,\n",
              "         ('s', 'e', 'k'): 1,\n",
              "         ('e', 'k', 'n'): 3,\n",
              "         ('k', 'n', 'i'): 1,\n",
              "         ('i', 't', 'm'): 2,\n",
              "         ('t', 'm', 'a'): 7,\n",
              "         ('m', 'a', 'u'): 4,\n",
              "         ('a', 'u', 'r'): 5,\n",
              "         ('u', 'r', 'y'): 25,\n",
              "         ('y', 'a', 'a'): 1,\n",
              "         ('n', 'd', 'g'): 13,\n",
              "         ('d', 'g', 'u'): 2,\n",
              "         ('g', 'u', 'p'): 6,\n",
              "         ('u', 'p', 't'): 15,\n",
              "         ('p', 't', 'a'): 5,\n",
              "         ('t', 'a', 'e'): 2,\n",
              "         ('a', 'e', 'm'): 7,\n",
              "         ('e', 'm', 'p'): 42,\n",
              "         ('m', 'p', 'i'): 26,\n",
              "         ('p', 'i', 'r'): 23,\n",
              "         ('i', 'r', 'e'): 38,\n",
              "         ('e', 's', 'b'): 16,\n",
              "         ('s', 'b', 'a'): 3,\n",
              "         ('a', 's', 'e'): 45,\n",
              "         ('h', 'e', 'g'): 27,\n",
              "         ('e', 'g', 'a'): 33,\n",
              "         ('g', 'a', 'n'): 58,\n",
              "         ('i', 'r', 'c'): 6,\n",
              "         ('r', 'c', 'o'): 18,\n",
              "         ('c', 'o', 'l'): 17,\n",
              "         ('o', 'l', 'l'): 27,\n",
              "         ('l', 'e', 'c'): 38,\n",
              "         ('e', 'c', 't'): 85,\n",
              "         ('c', 't', 'i'): 49,\n",
              "         ('t', 'i', 'v'): 40,\n",
              "         ('v', 'e', 'e'): 3,\n",
              "         ('e', 'e', 'r'): 5,\n",
              "         ('e', 'r', 'a'): 133,\n",
              "         ('r', 'a', 'w'): 6,\n",
              "         ('a', 'w', 'a'): 15,\n",
              "         ('w', 'a', 's'): 70,\n",
              "         ('a', 's', 's'): 61,\n",
              "         ('s', 's', 'u'): 25,\n",
              "         ('s', 'u', 'f'): 1,\n",
              "         ('u', 'f', 'f'): 3,\n",
              "         ('h', 'w', 'i'): 2,\n",
              "         ('w', 'i', 'd'): 17,\n",
              "         ('n', 'g', 'i'): 36,\n",
              "         ('n', 'g', 'c'): 15,\n",
              "         ('g', 'c', 'r'): 1,\n",
              "         ('c', 'r', 'e'): 58,\n",
              "         ('v', 'i', 't'): 5,\n",
              "         ('t', 'y', 'b'): 8,\n",
              "         ('y', 'b', 'u'): 6,\n",
              "         ('b', 'u', 't'): 34,\n",
              "         ('a', 'l', 's'): 69,\n",
              "         ('l', 's', 'o'): 29,\n",
              "         ('s', 'o', 'm'): 10,\n",
              "         ('a', 'r', 'k'): 18,\n",
              "         ('r', 'k', 'e'): 15,\n",
              "         ('e', 'd', 'e'): 48,\n",
              "         ('d', 'e', 'c'): 34,\n",
              "         ('e', 'c', 'l'): 12,\n",
              "         ('c', 'l', 'i'): 14,\n",
              "         ('g', 's', 't'): 7,\n",
              "         ('t', 'a', 't'): 61,\n",
              "         ('a', 't', 'u'): 36,\n",
              "         ('t', 'u', 's'): 8,\n",
              "         ('u', 's', 'o'): 6,\n",
              "         ('o', 'f', 'w'): 16,\n",
              "         ('f', 'w', 'o'): 4,\n",
              "         ('w', 'o', 'm'): 9,\n",
              "         ('o', 'm', 'e'): 40,\n",
              "         ('m', 'e', 'n'): 117,\n",
              "         ('i', 'n', 'c'): 99,\n",
              "         ('n', 'c', 'o'): 29,\n",
              "         ('o', 'r', 'p'): 4,\n",
              "         ('r', 'p', 'o'): 4,\n",
              "         ('p', 'o', 'r'): 58,\n",
              "         ('o', 'f', 'u'): 6,\n",
              "         ('f', 'u', 'n'): 3,\n",
              "         ('t', 'o', 'u'): 15,\n",
              "         ('o', 'u', 'c'): 2,\n",
              "         ('u', 'c', 'h'): 30,\n",
              "         ('h', 'a', 'b'): 5,\n",
              "         ('b', 'i', 'l'): 18,\n",
              "         ('o', 'a', 'n'): 7,\n",
              "         ('o', 'r', 'g'): 10,\n",
              "         ('e', 'd', 's'): 25,\n",
              "         ('d', 's', 'y'): 1,\n",
              "         ('s', 'y', 's'): 22,\n",
              "         ('y', 's', 't'): 28,\n",
              "         ('t', 'e', 'm'): 42,\n",
              "         ('b', 'e', 'l'): 12,\n",
              "         ('e', 'l', 'i'): 44,\n",
              "         ('l', 'i', 'e'): 23,\n",
              "         ('i', 'e', 'f'): 10,\n",
              "         ('e', 'f', 'i'): 28,\n",
              "         ('e', 'm', 'i'): 50,\n",
              "         ('m', 'i', 'd'): 14,\n",
              "         ('i', 'd', 'd'): 11,\n",
              "         ('d', 'd', 'l'): 10,\n",
              "         ('d', 'l', 'e'): 15,\n",
              "         ('l', 'e', 'k'): 1,\n",
              "         ('e', 'k', 'i'): 6,\n",
              "         ('k', 'i', 'n'): 26,\n",
              "         ('n', 'g', 'd'): 15,\n",
              "         ('g', 'd', 'o'): 8,\n",
              "         ('d', 'o', 'm'): 30,\n",
              "         ('o', 'm', 's'): 13,\n",
              "         ('m', 's', 'e'): 3,\n",
              "         ('s', 'e', 'x'): 20,\n",
              "         ('e', 'x', 'p'): 33,\n",
              "         ('x', 'p', 'o'): 10,\n",
              "         ('r', 't', 'e'): 27,\n",
              "         ('e', 'd', 'd'): 19,\n",
              "         ('d', 'd', 'r'): 7,\n",
              "         ('e', 's', 's'): 64,\n",
              "         ('s', 's', 'c'): 7,\n",
              "         ('s', 'c', 'r'): 15,\n",
              "         ('c', 'r', 'i'): 20,\n",
              "         ('r', 'i', 'p'): 6,\n",
              "         ('i', 'p', 't'): 4,\n",
              "         ('p', 't', 's'): 3,\n",
              "         ('n', 'd', 'r'): 21,\n",
              "         ('d', 'r', 'e'): 23,\n",
              "         ('r', 'e', 'l'): 46,\n",
              "         ('l', 'i', 'g'): 31,\n",
              "         ('i', 'o', 'u'): 19,\n",
              "         ('s', 'c', 'u'): 13,\n",
              "         ('c', 'u', 'l'): 48,\n",
              "         ('u', 'l', 't'): 60,\n",
              "         ('l', 't', 'u'): 35,\n",
              "         ('t', 'u', 'r'): 131,\n",
              "         ('u', 'r', 'e'): 92,\n",
              "         ('s', 't', 'o'): 74,\n",
              "         ('h', 'e', 'k'): 7,\n",
              "         ('f', 's', 'o'): 5,\n",
              "         ('t', 'a', 's'): 12,\n",
              "         ('l', 'y', 'm'): 10,\n",
              "         ('y', 'm', 'e'): 7,\n",
              "         ('m', 'e', 'd'): 33,\n",
              "         ('d', 'i', 'e'): 15,\n",
              "         ('i', 'e', 'v'): 9,\n",
              "         ('e', 'v', 'a'): 11,\n",
              "         ('a', 'l', 'e'): 46,\n",
              "         ('l', 'e', 'r'): 8,\n",
              "         ('a', 'c', 'h'): 22,\n",
              "         ('c', 'h', 'r'): 7,\n",
              "         ('h', 'r', 'i'): 6,\n",
              "         ('l', 'a', 'm'): 11,\n",
              "         ('a', 'm', 'j'): 1,\n",
              "         ('m', 'j', 'u'): 1,\n",
              "         ('j', 'u', 'd'): 3,\n",
              "         ('u', 'd', 'a'): 2,\n",
              "         ('d', 'a', 'i'): 2,\n",
              "         ('n', 'd', 'z'): 1,\n",
              "         ('d', 'z', 'o'): 1,\n",
              "         ('z', 'o', 'r'): 1,\n",
              "         ('o', 'r', 'o'): 9,\n",
              "         ('r', 'o', 'a'): 9,\n",
              "         ('o', 'a', 's'): 15,\n",
              "         ('t', 'r', 'i'): 47,\n",
              "         ('r', 'i', 'a'): 31,\n",
              "         ('s', 'm', 'b'): 6,\n",
              "         ('m', 'b', 'e'): 26,\n",
              "         ('b', 'e', 'c'): 30,\n",
              "         ('e', 'c', 'a'): 52,\n",
              "         ('c', 'a', 'm'): 22,\n",
              "         ('a', 'm', 'e'): 63,\n",
              "         ('m', 'e', 'e'): 5,\n",
              "         ('e', 'e', 's'): 8,\n",
              "         ('t', 'a', 'b'): 17,\n",
              "         ('a', 'b', 'l'): 30,\n",
              "         ('i', 's', 'h'): 45,\n",
              "         ('s', 'h', 'e'): 29,\n",
              "         ('i', 'a', 's'): 67,\n",
              "         ('s', 's', 'o'): 14,\n",
              "         ('r', 'n', 'c'): 3,\n",
              "         ('c', 'o', 'a'): 19,\n",
              "         ('s', 't', 's'): 25,\n",
              "         ('t', 's', 'm'): 9,\n",
              "         ('s', 'm', 'u'): 9,\n",
              "         ('m', 'u', 's'): 22,\n",
              "         ('u', 's', 'l'): 14,\n",
              "         ('s', 'l', 'i'): 17,\n",
              "         ('l', 'i', 'm'): 18,\n",
              "         ('i', 'm', 'a'): 32,\n",
              "         ('a', 'r', 'm'): 29,\n",
              "         ('r', 'm', 'i'): 13,\n",
              "         ('m', 'i', 'e'): 7,\n",
              "         ('i', 'e', 's'): 96,\n",
              "         ('e', 's', 'f'): 16,\n",
              "         ('s', 'f', 'r'): 13,\n",
              "         ('o', 'm', 'c'): 4,\n",
              "         ('m', 'c', 'e'): 4,\n",
              "         ('c', 'e', 'n'): 77,\n",
              "         ('l', 'a', 's'): 44,\n",
              "         ('e', 'r', 'm'): 26,\n",
              "         ('m', 'i', 't'): 14,\n",
              "         ('i', 't', 't'): 10,\n",
              "         ('t', 't', 'e'): 18,\n",
              "         ('t', 'e', 'n'): 40,\n",
              "         ('n', 't', 'l'): 12,\n",
              "         ('t', 'l', 'y'): 20,\n",
              "         ('l', 'y', 'o'): 5,\n",
              "         ('y', 'o', 'v'): 3,\n",
              "         ('o', 'v', 'e'): 89,\n",
              "         ('e', 'r', 'r'): 23,\n",
              "         ('r', 'r', 'a'): 8,\n",
              "         ('a', 's', 'n'): 12,\n",
              "         ('s', 'n', 'o'): 18,\n",
              "         ('r', 'n', 'p'): 6,\n",
              "         ('n', 'p', 'l'): 16,\n",
              "         ('n', 't', 'u'): 34,\n",
              "         ('t', 'u', 'a'): 11,\n",
              "         ('l', 'y', 'f'): 16,\n",
              "         ('y', 'f', 'o'): 12,\n",
              "         ('n', 'g', 't'): 83,\n",
              "         ('g', 't', 'h'): 57,\n",
              "         ('i', 's', 'u'): 7,\n",
              "         ('s', 'u', 'l'): 21,\n",
              "         ('l', 't', 'a'): 11,\n",
              "         ('t', 'e', 'a'): 30,\n",
              "         ('n', 'd', 'd'): 14,\n",
              "         ('a', 'w', 'i'): 3,\n",
              "         ('w', 'i', 'n'): 29,\n",
              "         ('n', 'g', 'n'): 1,\n",
              "         ('g', 'n', 'o'): 1,\n",
              "         ('r', 'n', 'i'): 24,\n",
              "         ('h', 'e', 'c'): 78,\n",
              "         ('c', 'o', 's'): 5,\n",
              "         ('o', 's', 'm'): 2,\n",
              "         ('s', 'm', 'o'): 17,\n",
              "         ('m', 'o', 'p'): 1,\n",
              "         ('o', 'p', 'o'): 10,\n",
              "         ('a', 'n', 'n'): 27,\n",
              "         ('n', 'n', 'e'): 10,\n",
              "         ...})"
            ]
          },
          "metadata": {},
          "execution_count": 91
        }
      ]
    },
    {
      "cell_type": "markdown",
      "source": [],
      "metadata": {
        "id": "4ax4PdCdJMVB"
      }
    },
    {
      "cell_type": "markdown",
      "source": [
        "## Features of Images. \n",
        "### Images in digital format are stored as numeric values, and hence we can use these values as features. for ex : a black and white (binary) image is stored as an array of 0  and 255 or 0 and 1."
      ],
      "metadata": {
        "id": "CpA1eKZiDjTm"
      }
    },
    {
      "cell_type": "markdown",
      "metadata": {
        "id": "2ZJfjIHk-oHV"
      },
      "source": [
        "# Part 2: Written numbers\n",
        "\n",
        "We will use a subset of the MNIST dataset. Each input character is represented in a 28*28 array. Let us see if we can extract some simple features from these images which can help us distinguish between the digits.\n",
        "\n",
        "Load the dataset:"
      ]
    },
    {
      "cell_type": "code",
      "metadata": {
        "id": "yNsLJSr6wGY0"
      },
      "source": [
        "from keras.datasets import mnist\n",
        " \n",
        "#loading the dataset\n",
        "(train_X, train_y), (test_X, test_y) = mnist.load_data()\n",
        "\n"
      ],
      "execution_count": 43,
      "outputs": []
    },
    {
      "cell_type": "markdown",
      "metadata": {
        "id": "jVNr144WAUZO"
      },
      "source": [
        "Extract a subset of the data for our experiment:"
      ]
    },
    {
      "cell_type": "code",
      "metadata": {
        "id": "P3MN8ddxAASZ"
      },
      "source": [
        "no1 = train_X[train_y==1,:,:] ## dataset corresponding to number = 1.\n",
        "no0 = train_X[train_y==0,:,:] ## dataset corresponding to number = 0."
      ],
      "execution_count": 44,
      "outputs": []
    },
    {
      "cell_type": "markdown",
      "metadata": {
        "id": "ePXCs0qyCLpc"
      },
      "source": [
        "Let us visualize a few images here:"
      ]
    },
    {
      "cell_type": "code",
      "metadata": {
        "id": "BQeyZSh-Arpc",
        "colab": {
          "base_uri": "https://localhost:8080/",
          "height": 201
        },
        "outputId": "50d47f47-80c4-4b3c-eeff-ee73c442e459"
      },
      "source": [
        "for ii in range(5):\n",
        "  plt.subplot(1, 5, ii+1)\n",
        "  plt.imshow(no1[ii,:,:])\n",
        "plt.show()\n",
        "for ii in range(5):\n",
        "  plt.subplot(1, 5, ii+1)\n",
        "  plt.imshow(no0[ii,:,:])\n",
        "plt.show()"
      ],
      "execution_count": 45,
      "outputs": [
        {
          "output_type": "display_data",
          "data": {
            "text/plain": [
              "<Figure size 432x288 with 5 Axes>"
            ],
            "image/png": "[encoded data removed]"
          },
          "metadata": {
            "needs_background": "light"
          }
        },
        {
          "output_type": "display_data",
          "data": {
            "text/plain": [
              "<Figure size 432x288 with 5 Axes>"
            ],
            "image/png": "[encoded data removed]"
          },
          "metadata": {
            "needs_background": "light"
          }
        }
      ]
    },
    {
      "cell_type": "code",
      "source": [
        "a = no1>0\n",
        "a.shape, no1.shape"
      ],
      "metadata": {
        "colab": {
          "base_uri": "https://localhost:8080/"
        },
        "id": "n2UFfFWhCYzT",
        "outputId": "7a358fb7-e647-49e7-91c7-d8d4fad4f3d4"
      },
      "execution_count": 46,
      "outputs": [
        {
          "output_type": "execute_result",
          "data": {
            "text/plain": [
              "((6742, 28, 28), (6742, 28, 28))"
            ]
          },
          "metadata": {},
          "execution_count": 46
        }
      ]
    },
    {
      "cell_type": "code",
      "source": [
        "## to help you understand how the np.sum is working to find count of pixels that are not zero.\n",
        "\n",
        "mtx = np.arange(8).reshape(2,2,2)\n",
        "a = mtx>1\n",
        "a[0][0][0]\n",
        "type(a[0][0][0])\n"
      ],
      "metadata": {
        "colab": {
          "base_uri": "https://localhost:8080/"
        },
        "id": "LHjttKNkDK29",
        "outputId": "d9ac7f3f-665a-4109-e422-436942b0861a"
      },
      "execution_count": 47,
      "outputs": [
        {
          "output_type": "execute_result",
          "data": {
            "text/plain": [
              "numpy.bool_"
            ]
          },
          "metadata": {},
          "execution_count": 47
        }
      ]
    },
    {
      "cell_type": "markdown",
      "source": [
        "## We can even use value of each pixel as a feature. But let us see how to derive other features."
      ],
      "metadata": {
        "id": "2_1n_KXkE3zg"
      }
    },
    {
      "cell_type": "markdown",
      "metadata": {
        "id": "1g-Tg7EKDz96"
      },
      "source": [
        "Now, let us start with a simple feature: the sum of all pixels and see how good this feature is."
      ]
    },
    {
      "cell_type": "code",
      "metadata": {
        "id": "I8SztDk7CyZc"
      },
      "source": [
        "## sum of pixel values.\n",
        "\n",
        "sum1 = np.sum(no1>0, (1,2)) # threshold before adding up\n",
        "sum0 = np.sum(no0>0, (1,2))"
      ],
      "execution_count": 48,
      "outputs": []
    },
    {
      "cell_type": "markdown",
      "metadata": {
        "id": "8oW3XCOCE7Zv"
      },
      "source": [
        "Let us visualize how good this feature is: (X-axis is mean, y-axis is the digit)"
      ]
    },
    {
      "cell_type": "code",
      "source": [
        "sum1.shape"
      ],
      "metadata": {
        "colab": {
          "base_uri": "https://localhost:8080/"
        },
        "id": "LDz2vOp_GAZr",
        "outputId": "643a0673-a81b-4129-8561-62def2fcfa50"
      },
      "execution_count": 49,
      "outputs": [
        {
          "output_type": "execute_result",
          "data": {
            "text/plain": [
              "(6742,)"
            ]
          },
          "metadata": {},
          "execution_count": 49
        }
      ]
    },
    {
      "cell_type": "code",
      "metadata": {
        "id": "i8PIe8o_DPpU",
        "colab": {
          "base_uri": "https://localhost:8080/",
          "height": 265
        },
        "outputId": "a9de569e-9d61-4545-efd1-48b0f84eec40"
      },
      "source": [
        "plt.hist(sum1, alpha=0.7);\n",
        "plt.hist(sum0, alpha=0.7);\n",
        "\n"
      ],
      "execution_count": 50,
      "outputs": [
        {
          "output_type": "display_data",
          "data": {
            "text/plain": [
              "<Figure size 432x288 with 1 Axes>"
            ],
            "image/png": "[encoded data removed]"
          },
          "metadata": {
            "needs_background": "light"
          }
        }
      ]
    },
    {
      "cell_type": "markdown",
      "metadata": {
        "id": "7_hToEepFtl2"
      },
      "source": [
        "We can already see that this feature separates the two classes quite well.\n",
        "\n",
        "Let us look at another, more complicated feature. We will count the number black pixels that are surrounded on four sides by non-black pixels, or \"hole pixels\"."
      ]
    },
    {
      "cell_type": "code",
      "metadata": {
        "id": "HwEnlm6RFFej"
      },
      "source": [
        "def cumArray(img):\n",
        "  img2 = img.copy()\n",
        "  for ii in range(1, img2.shape[1]):\n",
        "    img2[ii,:] = img2[ii,:] + img2[ii-1,:]  # for every row, add up all the rows above it.\n",
        "  #print(img2)\n",
        "  img2 = img2>0\n",
        "  #print(img2)\n",
        "  return img2\n",
        "\n",
        "def getHolePixels(img):\n",
        "  im1 = cumArray(img)\n",
        "  im2 = np.rot90(cumArray(np.rot90(img)), 3) # rotate and cumulate it again for differnt direction\n",
        "  im3 = np.rot90(cumArray(np.rot90(img, 2)), 2)\n",
        "  im4 = np.rot90(cumArray(np.rot90(img, 3)), 1)\n",
        "  hull =  im1 & im2 & im3 & im4 # this will create a binary image with all the holes filled in.\n",
        "  hole = hull & ~ (img>0) # remove the original digit to leave behind the holes\n",
        "  return hole\n",
        "\n",
        "\n"
      ],
      "execution_count": 51,
      "outputs": []
    },
    {
      "cell_type": "markdown",
      "metadata": {
        "id": "iw3HjgnupUEI"
      },
      "source": [
        "Visualize a few:"
      ]
    },
    {
      "cell_type": "code",
      "metadata": {
        "id": "H0sjr23NYEFe",
        "colab": {
          "base_uri": "https://localhost:8080/",
          "height": 385
        },
        "outputId": "4b5ba8f2-9514-4eec-990b-ce5224a2547d"
      },
      "source": [
        "imgs = [no1[456,:,:],  no0[456,:,:]]\n",
        "for img in imgs:\n",
        "  plt.subplot(1,2,1)\n",
        "  plt.imshow(getHolePixels(img))\n",
        "  plt.subplot(1,2,2)\n",
        "  plt.imshow(img)\n",
        "  plt.show()"
      ],
      "execution_count": 52,
      "outputs": [
        {
          "output_type": "display_data",
          "data": {
            "text/plain": [
              "<Figure size 432x288 with 2 Axes>"
            ],
            "image/png": "[encoded data removed]"
          },
          "metadata": {
            "needs_background": "light"
          }
        },
        {
          "output_type": "display_data",
          "data": {
            "text/plain": [
              "<Figure size 432x288 with 2 Axes>"
            ],
            "image/png": "[encoded data removed]"
          },
          "metadata": {
            "needs_background": "light"
          }
        }
      ]
    },
    {
      "cell_type": "markdown",
      "metadata": {
        "id": "vS-4erNXtxMi"
      },
      "source": [
        "Now let us plot the number of hole pixels and see how this feature behaves"
      ]
    },
    {
      "cell_type": "code",
      "metadata": {
        "id": "Dpm1dRgsety8",
        "colab": {
          "base_uri": "https://localhost:8080/",
          "height": 265
        },
        "outputId": "13e77948-9332-43e4-9a6b-cd8f50076567"
      },
      "source": [
        "hole1 = np.array([getHolePixels(i).sum() for i in no1])\n",
        "hole0 = np.array([getHolePixels(i).sum() for i in no0])\n",
        "  \n",
        "plt.hist(hole1, alpha=0.7);\n",
        "plt.hist(hole0, alpha=0.7);"
      ],
      "execution_count": 53,
      "outputs": [
        {
          "output_type": "display_data",
          "data": {
            "text/plain": [
              "<Figure size 432x288 with 1 Axes>"
            ],
            "image/png": "[encoded data removed]"
          },
          "metadata": {
            "needs_background": "light"
          }
        }
      ]
    },
    {
      "cell_type": "markdown",
      "metadata": {
        "id": "8UjCBHpJ31yq"
      },
      "source": [
        "This feature works even better to distinguish between one and zero. \n",
        "\n",
        "\n",
        "Now let us try the number of pixels in the 'hull' or the number with the holes filled in:"
      ]
    },
    {
      "cell_type": "markdown",
      "metadata": {
        "id": "OSzH26ElXNri"
      },
      "source": [
        "Let us try one more feature, where we look at the number of boundary pixels in each image."
      ]
    },
    {
      "cell_type": "code",
      "metadata": {
        "id": "h-2czBypXMwT"
      },
      "source": [
        "def minus(a, b):\n",
        "  return a & ~ b\n",
        "\n",
        "def getBoundaryPixels(img):\n",
        "  img = img.copy()>0  # binarize the image\n",
        "  rshift = np.roll(img, 1, 1)\n",
        "  lshift = np.roll(img, -1 ,1)\n",
        "  ushift = np.roll(img, -1, 0)\n",
        "  dshift = np.roll(img, 1, 0)\n",
        "  boundary = minus(img, rshift) | minus(img, lshift) | minus(img, ushift) | minus(img, dshift)\n",
        "  return boundary"
      ],
      "execution_count": 54,
      "outputs": []
    },
    {
      "cell_type": "code",
      "metadata": {
        "id": "u-V688jFerXh",
        "colab": {
          "base_uri": "https://localhost:8080/",
          "height": 385
        },
        "outputId": "9524d682-1f20-4907-9538-1977f83df6a4"
      },
      "source": [
        "imgs = [no1[456,:,:],  no0[456,:,:]]\n",
        "for img in imgs:\n",
        "  plt.subplot(1,2,1)\n",
        "  plt.imshow(getBoundaryPixels(img))\n",
        "  plt.subplot(1,2,2)\n",
        "  plt.imshow(img)\n",
        "  plt.show()"
      ],
      "execution_count": 55,
      "outputs": [
        {
          "output_type": "display_data",
          "data": {
            "text/plain": [
              "<Figure size 432x288 with 2 Axes>"
            ],
            "image/png": "[encoded data removed]"
          },
          "metadata": {
            "needs_background": "light"
          }
        },
        {
          "output_type": "display_data",
          "data": {
            "text/plain": [
              "<Figure size 432x288 with 2 Axes>"
            ],
            "image/png": "[encoded data removed]"
          },
          "metadata": {
            "needs_background": "light"
          }
        }
      ]
    },
    {
      "cell_type": "code",
      "metadata": {
        "id": "kSsxsbCNXcNh",
        "colab": {
          "base_uri": "https://localhost:8080/",
          "height": 265
        },
        "outputId": "524ecd98-47d5-45fb-c65b-e55fee225770"
      },
      "source": [
        "bound1 = np.array([getBoundaryPixels(i).sum() for i in no1])\n",
        "bound0= np.array([getBoundaryPixels(i).sum() for i in no0])\n",
        "\n",
        "plt.hist(bound1, alpha=0.7);\n",
        "plt.hist(bound0, alpha=0.7);"
      ],
      "execution_count": 56,
      "outputs": [
        {
          "output_type": "display_data",
          "data": {
            "text/plain": [
              "<Figure size 432x288 with 1 Axes>"
            ],
            "image/png": "[encoded data removed]"
          },
          "metadata": {
            "needs_background": "light"
          }
        }
      ]
    },
    {
      "cell_type": "markdown",
      "metadata": {
        "id": "WuP04Ao_R0Yz"
      },
      "source": [
        "What will happen if we plot two features together? "
      ]
    },
    {
      "cell_type": "markdown",
      "metadata": {
        "id": "paDGHlFSd5Fu"
      },
      "source": [
        "Feel free to explore the above graph with your mouse. \n",
        "\n",
        "\n",
        "We have seen that we extracted four features from a 28*28 dimensional image.\n",
        "\n",
        "\n",
        "Some questions to explore:\n",
        "1. Which is the best combination of features?\n",
        "2. How would you test or visualize four or more features?\n",
        "3. Can you come up with your own features?\n",
        "4. Will these features work for different classes other than 0 and 1?\n",
        "5. What will happen if we take more that two classes at a time?"
      ]
    },
    {
      "cell_type": "markdown",
      "source": [
        "# 1st Answer"
      ],
      "metadata": {
        "id": "PQKaanvBLA-o"
      }
    },
    {
      "cell_type": "markdown",
      "source": [
        "principal component analysis is the best feature comibnation PCA-is a dimentionality redutenction method is often used to reduce the dimentionality of large data sets by transforming set of variables into a smaller one the still contain most of the infomation in large\n",
        "\n"
      ],
      "metadata": {
        "id": "U2t9ucmoLLPk"
      }
    },
    {
      "cell_type": "markdown",
      "source": [
        "# 2nd Answer"
      ],
      "metadata": {
        "id": "DE8CkYKXLVt2"
      }
    },
    {
      "cell_type": "markdown",
      "source": [
        "based on below testing features we can test the four or more features\n",
        "\n",
        "**feature tresholds**\n",
        "\n",
        "**features relevence/importence**\n",
        "\n",
        "**features sutability/cost**\n",
        "\n",
        "**features compilance**\n",
        "\n",
        "**features relationship with outcome variable**\n",
        "\n",
        "**unit test for code generating features**\n",
        "\n",
        "**static code review of code generating features**"
      ],
      "metadata": {
        "id": "9pccklwCLbok"
      }
    },
    {
      "cell_type": "markdown",
      "source": [
        "# 3rd Answer"
      ],
      "metadata": {
        "id": "fubjIHwMMlAr"
      }
    },
    {
      "cell_type": "markdown",
      "source": [
        "\n",
        "I came with my own feature if i predict the yearly expenses of a person age is good predictor beacuse as people become young and mature their rensposibilitys increases .one student start out poor but as a age varies he become rich depends and her age and mature mind in this age is the feature"
      ],
      "metadata": {
        "id": "smB2O-igMoZC"
      }
    },
    {
      "cell_type": "markdown",
      "source": [
        "## Features from CSV file"
      ],
      "metadata": {
        "id": "gIJdT3tYIMyN"
      }
    },
    {
      "cell_type": "code",
      "source": [
        "import pandas as pd\n",
        "\n",
        "df = pd.read_csv('/content/sample_data/california_housing_train.csv')"
      ],
      "metadata": {
        "id": "SfR0jKjRI9fx"
      },
      "execution_count": 57,
      "outputs": []
    },
    {
      "cell_type": "code",
      "source": [
        "df.head()\n"
      ],
      "metadata": {
        "colab": {
          "base_uri": "https://localhost:8080/",
          "height": 206
        },
        "id": "9VU02WsOJLs_",
        "outputId": "253b3424-9681-4b39-d8d4-f6d74017b849"
      },
      "execution_count": 58,
      "outputs": [
        {
          "output_type": "execute_result",
          "data": {
            "text/plain": [
              "   longitude  latitude  housing_median_age  total_rooms  total_bedrooms  \\\n",
              "0    -114.31     34.19                15.0       5612.0          1283.0   \n",
              "1    -114.47     34.40                19.0       7650.0          1901.0   \n",
              "2    -114.56     33.69                17.0        720.0           174.0   \n",
              "3    -114.57     33.64                14.0       1501.0           337.0   \n",
              "4    -114.57     33.57                20.0       1454.0           326.0   \n",
              "\n",
              "   population  households  median_income  median_house_value  \n",
              "0      1015.0       472.0         1.4936             66900.0  \n",
              "1      1129.0       463.0         1.8200             80100.0  \n",
              "2       333.0       117.0         1.6509             85700.0  \n",
              "3       515.0       226.0         3.1917             73400.0  \n",
              "4       624.0       262.0         1.9250             65500.0  "
            ],
            "text/html": [
              "\n",
              "  <div id=\"df-eb01abe9-908d-47f2-9088-b255699f4f4c\">\n",
              "    <div class=\"colab-df-container\">\n",
              "      <div>\n",
              "<style scoped>\n",
              "    .dataframe tbody tr th:only-of-type {\n",
              "        vertical-align: middle;\n",
              "    }\n",
              "\n",
              "    .dataframe tbody tr th {\n",
              "        vertical-align: top;\n",
              "    }\n",
              "\n",
              "    .dataframe thead th {\n",
              "        text-align: right;\n",
              "    }\n",
              "</style>\n",
              "<table border=\"1\" class=\"dataframe\">\n",
              "  <thead>\n",
              "    <tr style=\"text-align: right;\">\n",
              "      <th></th>\n",
              "      <th>longitude</th>\n",
              "      <th>latitude</th>\n",
              "      <th>housing_median_age</th>\n",
              "      <th>total_rooms</th>\n",
              "      <th>total_bedrooms</th>\n",
              "      <th>population</th>\n",
              "      <th>households</th>\n",
              "      <th>median_income</th>\n",
              "      <th>median_house_value</th>\n",
              "    </tr>\n",
              "  </thead>\n",
              "  <tbody>\n",
              "    <tr>\n",
              "      <th>0</th>\n",
              "      <td>-114.31</td>\n",
              "      <td>34.19</td>\n",
              "      <td>15.0</td>\n",
              "      <td>5612.0</td>\n",
              "      <td>1283.0</td>\n",
              "      <td>1015.0</td>\n",
              "      <td>472.0</td>\n",
              "      <td>1.4936</td>\n",
              "      <td>66900.0</td>\n",
              "    </tr>\n",
              "    <tr>\n",
              "      <th>1</th>\n",
              "      <td>-114.47</td>\n",
              "      <td>34.40</td>\n",
              "      <td>19.0</td>\n",
              "      <td>7650.0</td>\n",
              "      <td>1901.0</td>\n",
              "      <td>1129.0</td>\n",
              "      <td>463.0</td>\n",
              "      <td>1.8200</td>\n",
              "      <td>80100.0</td>\n",
              "    </tr>\n",
              "    <tr>\n",
              "      <th>2</th>\n",
              "      <td>-114.56</td>\n",
              "      <td>33.69</td>\n",
              "      <td>17.0</td>\n",
              "      <td>720.0</td>\n",
              "      <td>174.0</td>\n",
              "      <td>333.0</td>\n",
              "      <td>117.0</td>\n",
              "      <td>1.6509</td>\n",
              "      <td>85700.0</td>\n",
              "    </tr>\n",
              "    <tr>\n",
              "      <th>3</th>\n",
              "      <td>-114.57</td>\n",
              "      <td>33.64</td>\n",
              "      <td>14.0</td>\n",
              "      <td>1501.0</td>\n",
              "      <td>337.0</td>\n",
              "      <td>515.0</td>\n",
              "      <td>226.0</td>\n",
              "      <td>3.1917</td>\n",
              "      <td>73400.0</td>\n",
              "    </tr>\n",
              "    <tr>\n",
              "      <th>4</th>\n",
              "      <td>-114.57</td>\n",
              "      <td>33.57</td>\n",
              "      <td>20.0</td>\n",
              "      <td>1454.0</td>\n",
              "      <td>326.0</td>\n",
              "      <td>624.0</td>\n",
              "      <td>262.0</td>\n",
              "      <td>1.9250</td>\n",
              "      <td>65500.0</td>\n",
              "    </tr>\n",
              "  </tbody>\n",
              "</table>\n",
              "</div>\n",
              "      <button class=\"colab-df-convert\" onclick=\"convertToInteractive('df-eb01abe9-908d-47f2-9088-b255699f4f4c')\"\n",
              "              title=\"Convert this dataframe to an interactive table.\"\n",
              "              style=\"display:none;\">\n",
              "        \n",
              "  <svg xmlns=\"http://www.w3.org/2000/svg\" height=\"24px\"viewBox=\"0 0 24 24\"\n",
              "       width=\"24px\">\n",
              "    <path d=\"M0 0h24v24H0V0z\" fill=\"none\"/>\n",
              "    <path d=\"M18.56 5.44l.94 2.06.94-2.06 2.06-.94-2.06-.94-.94-2.06-.94 2.06-2.06.94zm-11 1L8.5 8.5l.94-2.06 2.06-.94-2.06-.94L8.5 2.5l-.94 2.06-2.06.94zm10 10l.94 2.06.94-2.06 2.06-.94-2.06-.94-.94-2.06-.94 2.06-2.06.94z\"/><path d=\"M17.41 7.96l-1.37-1.37c-.4-.4-.92-.59-1.43-.59-.52 0-1.04.2-1.43.59L10.3 9.45l-7.72 7.72c-.78.78-.78 2.05 0 2.83L4 21.41c.39.39.9.59 1.41.59.51 0 1.02-.2 1.41-.59l7.78-7.78 2.81-2.81c.8-.78.8-2.07 0-2.86zM5.41 20L4 18.59l7.72-7.72 1.47 1.35L5.41 20z\"/>\n",
              "  </svg>\n",
              "      </button>\n",
              "      \n",
              "  <style>\n",
              "    .colab-df-container {\n",
              "      display:flex;\n",
              "      flex-wrap:wrap;\n",
              "      gap: 12px;\n",
              "    }\n",
              "\n",
              "    .colab-df-convert {\n",
              "      background-color: #E8F0FE;\n",
              "      border: none;\n",
              "      border-radius: 50%;\n",
              "      cursor: pointer;\n",
              "      display: none;\n",
              "      fill: #1967D2;\n",
              "      height: 32px;\n",
              "      padding: 0 0 0 0;\n",
              "      width: 32px;\n",
              "    }\n",
              "\n",
              "    .colab-df-convert:hover {\n",
              "      background-color: #E2EBFA;\n",
              "      box-shadow: 0px 1px 2px rgba(60, 64, 67, 0.3), 0px 1px 3px 1px rgba(60, 64, 67, 0.15);\n",
              "      fill: #174EA6;\n",
              "    }\n",
              "\n",
              "    [theme=dark] .colab-df-convert {\n",
              "      background-color: #3B4455;\n",
              "      fill: #D2E3FC;\n",
              "    }\n",
              "\n",
              "    [theme=dark] .colab-df-convert:hover {\n",
              "      background-color: #434B5C;\n",
              "      box-shadow: 0px 1px 3px 1px rgba(0, 0, 0, 0.15);\n",
              "      filter: drop-shadow(0px 1px 2px rgba(0, 0, 0, 0.3));\n",
              "      fill: #FFFFFF;\n",
              "    }\n",
              "  </style>\n",
              "\n",
              "      <script>\n",
              "        const buttonEl =\n",
              "          document.querySelector('#df-eb01abe9-908d-47f2-9088-b255699f4f4c button.colab-df-convert');\n",
              "        buttonEl.style.display =\n",
              "          google.colab.kernel.accessAllowed ? 'block' : 'none';\n",
              "\n",
              "        async function convertToInteractive(key) {\n",
              "          const element = document.querySelector('#df-eb01abe9-908d-47f2-9088-b255699f4f4c');\n",
              "          const dataTable =\n",
              "            await google.colab.kernel.invokeFunction('convertToInteractive',\n",
              "                                                     [key], {});\n",
              "          if (!dataTable) return;\n",
              "\n",
              "          const docLinkHtml = 'Like what you see? Visit the ' +\n",
              "            '<a target=\"_blank\" href=https://colab.research.google.com/notebooks/data_table.ipynb>data table notebook</a>'\n",
              "            + ' to learn more about interactive tables.';\n",
              "          element.innerHTML = '';\n",
              "          dataTable['output_type'] = 'display_data';\n",
              "          await google.colab.output.renderOutput(dataTable, element);\n",
              "          const docLink = document.createElement('div');\n",
              "          docLink.innerHTML = docLinkHtml;\n",
              "          element.appendChild(docLink);\n",
              "        }\n",
              "      </script>\n",
              "    </div>\n",
              "  </div>\n",
              "  "
            ]
          },
          "metadata": {},
          "execution_count": 58
        }
      ]
    },
    {
      "cell_type": "code",
      "source": [
        "df.columns\n"
      ],
      "metadata": {
        "colab": {
          "base_uri": "https://localhost:8080/"
        },
        "id": "XCeIl4kMJc59",
        "outputId": "57168229-3b6d-4cc1-e86e-7a4be777192d"
      },
      "execution_count": 59,
      "outputs": [
        {
          "output_type": "execute_result",
          "data": {
            "text/plain": [
              "Index(['longitude', 'latitude', 'housing_median_age', 'total_rooms',\n",
              "       'total_bedrooms', 'population', 'households', 'median_income',\n",
              "       'median_house_value'],\n",
              "      dtype='object')"
            ]
          },
          "metadata": {},
          "execution_count": 59
        }
      ]
    },
    {
      "cell_type": "code",
      "source": [
        "df = df.rename(columns={'oldName1': 'newName1', 'oldName2': 'newName2'})\n"
      ],
      "metadata": {
        "id": "foQSY_tvJOua"
      },
      "execution_count": 60,
      "outputs": []
    },
    {
      "cell_type": "code",
      "source": [
        "import matplotlib.pyplot as plt\n",
        "import pandas as pd\n",
        "import seaborn as sns\n",
        "from mpl_toolkits.mplot3d import Axes3D\n",
        "\n",
        "\n",
        "sns.set(style = \"darkgrid\")\n",
        "\n",
        "fig = plt.figure()\n",
        "ax = fig.add_subplot(111, projection = '3d')\n",
        "\n",
        "x = df['total_bedrooms'][:50]\n",
        "y = df['housing_median_age'][:50]\n",
        "z = df['median_house_value'][:50]\n",
        "\n",
        "ax.set_xlabel(\"total_bedrooms\")\n",
        "ax.set_ylabel(\"housing_median_age\")\n",
        "ax.set_zlabel(\"median_house_value\")\n",
        "\n",
        "ax.scatter(x, y, z)\n",
        "\n",
        "plt.show()"
      ],
      "metadata": {
        "colab": {
          "base_uri": "https://localhost:8080/",
          "height": 248
        },
        "id": "LaSdj2-HItaG",
        "outputId": "9fd3c08a-f749-4ca8-8aa5-4ee49d96c9de"
      },
      "execution_count": 61,
      "outputs": [
        {
          "output_type": "display_data",
          "data": {
            "text/plain": [
              "<Figure size 432x288 with 1 Axes>"
            ],
            "image/png": "[encoded data removed]"
          },
          "metadata": {}
        }
      ]
    },
    {
      "cell_type": "code",
      "source": [
        "## Task :\n",
        "## Download a CSV file from the internet, upload it to your google drive.\n",
        "## Read the CSV file and plot graphs using different combination of features and write your analysis\n",
        "## Ex : IRIS flower datasaet"
      ],
      "metadata": {
        "id": "vGGbRUz3J8Ju"
      },
      "execution_count": 62,
      "outputs": []
    },
    {
      "cell_type": "markdown",
      "source": [
        "## Augmentation\n",
        "It is a technique to increase the diversity of our training set by applying random (but realistic) transformations, such as image rotation, change of color etc. When we have limited training data, we can augment our data with help of these techniques."
      ],
      "metadata": {
        "id": "UEjCCSQh1d7A"
      }
    },
    {
      "cell_type": "code",
      "source": [
        "import numpy as np\n",
        "import matplotlib.pyplot as plt\n",
        "from keras.datasets import mnist\n",
        "# set randomseed\n",
        "rng = np.random.default_rng(seed=42)\n",
        "from sklearn.utils.extmath import cartesian\n",
        "from skimage.transform import rotate, AffineTransform, warp\n",
        "import math"
      ],
      "metadata": {
        "id": "XePcTeKI1dGJ"
      },
      "execution_count": 63,
      "outputs": []
    },
    {
      "cell_type": "markdown",
      "source": [
        "For this lab we will use a subset of MNIST that is very small, to better understand the effect of augmentation."
      ],
      "metadata": {
        "id": "ZP0Z3oOT2Vqo"
      }
    },
    {
      "cell_type": "code",
      "source": [
        "#loading the dataset\n",
        "(train_X, train_y), (test_X, test_y) = mnist.load_data()\n",
        "train_X = train_X/255\n",
        "test_X = test_X/255\n",
        "\n",
        "print(\"original data size:\",train_X.shape)\n"
      ],
      "metadata": {
        "colab": {
          "base_uri": "https://localhost:8080/"
        },
        "id": "7miTQ_032Rxv",
        "outputId": "f91a585a-7e53-424c-c634-3ead24ea76db"
      },
      "execution_count": 64,
      "outputs": [
        {
          "output_type": "stream",
          "name": "stdout",
          "text": [
            "original data size: (60000, 28, 28)\n"
          ]
        }
      ]
    },
    {
      "cell_type": "code",
      "source": [
        "print(train_X[0].shape,train_y[0])"
      ],
      "metadata": {
        "colab": {
          "base_uri": "https://localhost:8080/"
        },
        "id": "79iYoK4a2Y8w",
        "outputId": "15dfdb28-c226-467a-cbb2-fff1b423ee6a"
      },
      "execution_count": 65,
      "outputs": [
        {
          "output_type": "stream",
          "name": "stdout",
          "text": [
            "(28, 28) 5\n"
          ]
        }
      ]
    },
    {
      "cell_type": "code",
      "source": [
        "plt.imshow(train_X[0])"
      ],
      "metadata": {
        "colab": {
          "base_uri": "https://localhost:8080/",
          "height": 285
        },
        "id": "F-ne2Jrl6R3-",
        "outputId": "6ca04368-2c62-4f80-94f2-1329542d34a1"
      },
      "execution_count": 66,
      "outputs": [
        {
          "output_type": "execute_result",
          "data": {
            "text/plain": [
              "<matplotlib.image.AxesImage at 0x7f88ab99d5d0>"
            ]
          },
          "metadata": {},
          "execution_count": 66
        },
        {
          "output_type": "display_data",
          "data": {
            "text/plain": [
              "<Figure size 432x288 with 1 Axes>"
            ],
            "image/png": "[encoded data removed]"
          },
          "metadata": {}
        }
      ]
    },
    {
      "cell_type": "code",
      "source": [
        "train_X = train_X[::1200,:,:].copy() # subsample. Otherwise it will take too long!\n",
        "train_y = train_y[::1200].copy() # do the same to the labels\n",
        "\n",
        "print(\"Now it is:\", train_X.shape)"
      ],
      "metadata": {
        "colab": {
          "base_uri": "https://localhost:8080/"
        },
        "id": "g3YMYR2L6VqQ",
        "outputId": "7f0f41eb-6a8f-4272-f188-17a2a3459b91"
      },
      "execution_count": 67,
      "outputs": [
        {
          "output_type": "stream",
          "name": "stdout",
          "text": [
            "Now it is: (50, 28, 28)\n"
          ]
        }
      ]
    },
    {
      "cell_type": "markdown",
      "source": [
        "Augmentation 1: rotation\n",
        "Let us try rotating the image a little. We will use skimage library for this."
      ],
      "metadata": {
        "id": "JgN85vRl6847"
      }
    },
    {
      "cell_type": "code",
      "source": [
        "plt.imshow(train_X[2], cmap='gray')\n",
        "plt.show()\n",
        "print(train_X[2].shape)\n",
        "plt.imshow(rotate(train_X[2],45), cmap='gray')"
      ],
      "metadata": {
        "colab": {
          "base_uri": "https://localhost:8080/",
          "height": 554
        },
        "id": "jStJv7xG6cNI",
        "outputId": "6963a611-e50e-4714-d09f-05c8363bfec1"
      },
      "execution_count": 68,
      "outputs": [
        {
          "output_type": "display_data",
          "data": {
            "text/plain": [
              "<Figure size 432x288 with 1 Axes>"
            ],
            "image/png": "[encoded data removed]"
          },
          "metadata": {}
        },
        {
          "output_type": "stream",
          "name": "stdout",
          "text": [
            "(28, 28)\n"
          ]
        },
        {
          "output_type": "execute_result",
          "data": {
            "text/plain": [
              "<matplotlib.image.AxesImage at 0x7f88aab7e4d0>"
            ]
          },
          "metadata": {},
          "execution_count": 68
        },
        {
          "output_type": "display_data",
          "data": {
            "text/plain": [
              "<Figure size 432x288 with 1 Axes>"
            ],
            "image/png": "[encoded data removed]"
          },
          "metadata": {}
        }
      ]
    },
    {
      "cell_type": "markdown",
      "source": [
        "After rotating, the the class of the image is still the same. Let us make a function to rotate multiple images by random angles. We want a slightly different image every time we run this function. So, we generate a random number between 0 and 1 and change it so that it lies between -constraint/2 and +constraint/2"
      ],
      "metadata": {
        "id": "phr4sXEb94Q8"
      }
    },
    {
      "cell_type": "code",
      "source": [
        "def augRotate(sample, angleconstraint):\n",
        "  if angleconstraint==0:\n",
        "    return sample\n",
        "\n",
        "  print(\"shape of sample before is:\", sample.shape)\n",
        "  print(\"len(sample.shape)\", len(sample.shape))\n",
        "  if len(sample.shape)==2:\n",
        "    sample = np.expand_dims(sample, 0)  # make sure the sample is 3 dimensional\n",
        "    print(\"shape of sample is:\", sample.shape)\n",
        "  angle = rng.random(len(sample)) # generate random numbers for angles\n",
        "  print(\"angle is:\", angle)\n",
        "  angle = (angle-0.5)*angleconstraint # make the random angle constrained\n",
        "  print(\"angle with constraint is:\", angle)\n",
        "  nsample = sample.copy() # preallocate the augmented array to make it faster\n",
        "  for ii in range(len(sample)):\n",
        "    nsample[ii] = rotate(sample[ii], angle[ii])\n",
        "  return np.squeeze(nsample) # take care if the input had only one sample."
      ],
      "metadata": {
        "id": "B3ai_7aN7Csn"
      },
      "execution_count": 69,
      "outputs": []
    },
    {
      "cell_type": "markdown",
      "source": [
        "This function returns a slightly different image each time we call it. So we can increase the number of images in the sample by any multiple. "
      ],
      "metadata": {
        "id": "udOWwYj2-Bsy"
      }
    },
    {
      "cell_type": "code",
      "source": [
        "sample = train_X[20]\n",
        "angleconstraint = 70\n",
        "# show the original image\n",
        "plt.imshow(sample, cmap='gray')\n",
        "plt.show()\n",
        "plt.subplot(1,3,1)\n",
        "plt.imshow(augRotate(sample, angleconstraint), cmap='gray') # show an augmented image\n",
        "plt.subplot(1,3,2)\n",
        "plt.imshow(augRotate(sample, angleconstraint), cmap='gray') # show another augmented image from the same sample\n",
        "plt.subplot(1,3,3)\n",
        "plt.imshow(augRotate(sample, angleconstraint), cmap='gray') # one more image from the same sample"
      ],
      "metadata": {
        "colab": {
          "base_uri": "https://localhost:8080/",
          "height": 680
        },
        "id": "vyO8Ap9-98LZ",
        "outputId": "106a4cc1-7ccb-4859-9ee3-2c8f1e405b98"
      },
      "execution_count": 70,
      "outputs": [
        {
          "output_type": "display_data",
          "data": {
            "text/plain": [
              "<Figure size 432x288 with 1 Axes>"
            ],
            "image/png": "[encoded data removed]"
          },
          "metadata": {}
        },
        {
          "output_type": "stream",
          "name": "stdout",
          "text": [
            "shape of sample before is: (28, 28)\n",
            "len(sample.shape) 2\n",
            "shape of sample is: (1, 28, 28)\n",
            "angle is: [0.77395605]\n",
            "angle with constraint is: [19.1769234]\n",
            "shape of sample before is: (28, 28)\n",
            "len(sample.shape) 2\n",
            "shape of sample is: (1, 28, 28)\n",
            "angle is: [0.43887844]\n",
            "angle with constraint is: [-4.27850922]\n",
            "shape of sample before is: (28, 28)\n",
            "len(sample.shape) 2\n",
            "shape of sample is: (1, 28, 28)\n",
            "angle is: [0.85859792]\n",
            "angle with constraint is: [25.10185439]\n"
          ]
        },
        {
          "output_type": "execute_result",
          "data": {
            "text/plain": [
              "<matplotlib.image.AxesImage at 0x7f88aaa5f450>"
            ]
          },
          "metadata": {},
          "execution_count": 70
        },
        {
          "output_type": "display_data",
          "data": {
            "text/plain": [
              "<Figure size 432x288 with 3 Axes>"
            ],
            "image/png": "[encoded data removed]"
          },
          "metadata": {}
        }
      ]
    },
    {
      "cell_type": "markdown",
      "source": [
        "Let us try one more augmentation, Shear: A transformation in which all points along a given line remain fixed while other points are shifted parallel to by a \n",
        " distance proportional to their perpendicular distance from. Shearing a plane figure does not change its area. "
      ],
      "metadata": {
        "id": "siEhyuX0AyZP"
      }
    },
    {
      "cell_type": "code",
      "source": [
        "def shear(sample, amount):\n",
        "  tform = AffineTransform(shear = amount) # create the shear transform\n",
        "  img = warp(sample, tform) # apply the shear\n",
        "  # this makes the digit off-center. Since all the images in the test set are centralized, we will do the same here\n",
        "  col = img.sum(0).nonzero()[0]\n",
        "  row = img.sum(1).nonzero()[0]\n",
        "  if len(col)>0 and len(row)>0:\n",
        "    xshift = int(sample.shape[0]/2 - (row[0]+row[-1])/2)\n",
        "    yshift = int(sample.shape[1]/2 - (col[0]+col[-1])/2)\n",
        "    img = np.roll(img, (xshift, yshift),(0,1))\n",
        "  return img"
      ],
      "metadata": {
        "id": "46nKQ_Qj-Elg"
      },
      "execution_count": 71,
      "outputs": []
    },
    {
      "cell_type": "code",
      "source": [
        "sample = train_X[2]\n",
        "plt.imshow(sample, cmap='gray')\n",
        "plt.show()\n",
        "\n",
        "# apply shear\n",
        "plt.imshow(shear(sample, 0.4), cmap='gray')"
      ],
      "metadata": {
        "colab": {
          "base_uri": "https://localhost:8080/",
          "height": 536
        },
        "id": "Zae7PZcUBDt8",
        "outputId": "b88d03fe-bcf9-45c2-9cf1-6112a89b4497"
      },
      "execution_count": 72,
      "outputs": [
        {
          "output_type": "display_data",
          "data": {
            "text/plain": [
              "<Figure size 432x288 with 1 Axes>"
            ],
            "image/png": "[encoded data removed]"
          },
          "metadata": {}
        },
        {
          "output_type": "execute_result",
          "data": {
            "text/plain": [
              "<matplotlib.image.AxesImage at 0x7f88aad2e710>"
            ]
          },
          "metadata": {},
          "execution_count": 72
        },
        {
          "output_type": "display_data",
          "data": {
            "text/plain": [
              "<Figure size 432x288 with 1 Axes>"
            ],
            "image/png": "[encoded data removed]"
          },
          "metadata": {}
        }
      ]
    },
    {
      "cell_type": "markdown",
      "source": [
        "## Let us also see skeletonization of image"
      ],
      "metadata": {
        "id": "4NglWyeSDtxr"
      }
    },
    {
      "cell_type": "code",
      "source": [
        "from skimage.morphology import skeletonize\n"
      ],
      "metadata": {
        "id": "XQMsvuD5BITy"
      },
      "execution_count": 73,
      "outputs": []
    },
    {
      "cell_type": "code",
      "source": [
        "skeleton = skeletonize(train_X[2],method='lee')\n",
        "plt.imshow(skeleton, cmap='gray')"
      ],
      "metadata": {
        "colab": {
          "base_uri": "https://localhost:8080/",
          "height": 285
        },
        "id": "ze1kf_0BD0YP",
        "outputId": "54a660b0-a54e-4a1a-bd55-14a490dc2f18"
      },
      "execution_count": 74,
      "outputs": [
        {
          "output_type": "execute_result",
          "data": {
            "text/plain": [
              "<matplotlib.image.AxesImage at 0x7f88abb25c50>"
            ]
          },
          "metadata": {},
          "execution_count": 74
        },
        {
          "output_type": "display_data",
          "data": {
            "text/plain": [
              "<Figure size 432x288 with 1 Axes>"
            ],
            "image/png": "[encoded data removed]"
          },
          "metadata": {}
        }
      ]
    },
    {
      "cell_type": "code",
      "source": [
        "#Structuring elements that are repeatedly used for thinning\n",
        "\n",
        "S1 = np.array([[0,0,0],[-1,1,-1],[1,1,1]]) # -1 for dont care\n",
        "S2 = np.array([[-1,0,0],[1,1,0],[-1,1,-1]])\n",
        "\n",
        "\n",
        "def CheckMatch(window,kernel):\n",
        "  for i in range(window.shape[0]):\n",
        "        for j in range(window.shape[1]):\n",
        "            if kernel[i,j]!=-1 and window[i,j]!=kernel[i,j]:\n",
        "                return False\n",
        "  return True\n",
        "\n",
        "def ApplyKernel(image,kernel): #used\n",
        "  height, width =  image.shape\n",
        "  res = np.copy(image)\n",
        "  for i in range(1,height-1):\n",
        "    for j in range (1,width-1):\n",
        "      window = image[i-1:i+2,j-1:j+2]\n",
        "      #print('window shape',window.shape)\n",
        "      Match_result = CheckMatch(window,kernel)\n",
        "      if (Match_result):\n",
        "        res[i,j]=0\n",
        "  return res\n",
        "\n",
        "\n",
        "\n",
        "def Skeletonization(image):\n",
        "  '''pass binary image'''\n",
        "  #new = np.copy(image)\n",
        "  #old = np.zeros(image.shape,dtype=np.uint8)\n",
        "  count = 1\n",
        "  change = 1000\n",
        "  while (change >0.01):\n",
        "    print('count',count)\n",
        "    new = image\n",
        "    new = ApplyKernel(new,S1)\n",
        "    new = ApplyKernel(new,S2)\n",
        "    new = ApplyKernel(new,np.rot90(S1,1)) #90 degree rotate\n",
        "    new = ApplyKernel(new,np.rot90(S2,1))\n",
        "    new = ApplyKernel(new,np.rot90(S1,2)) # 180 degree rotate\n",
        "    new = ApplyKernel(new,np.rot90(S2,2))\n",
        "    new = ApplyKernel(new,np.rot90(S1,3)) # 270 degree rotate\n",
        "    new = ApplyKernel(new,np.rot90(S2,3))\n",
        "    count+= 1\n",
        "    change = np.mean(np.abs(new-image))\n",
        "    image = new\n",
        "    plt.imshow(new,cmap='gray')\n",
        "    plt.show()\n",
        "  return new"
      ],
      "metadata": {
        "id": "ewpZG5b-D9F3"
      },
      "execution_count": 75,
      "outputs": []
    },
    {
      "cell_type": "code",
      "source": [
        "binarized  =( train_X[0] > 0 ).astype(np.uint8)"
      ],
      "metadata": {
        "id": "LwgK5XObNcjD"
      },
      "execution_count": 76,
      "outputs": []
    },
    {
      "cell_type": "code",
      "source": [
        "skeleton_five = Skeletonization(binarized)"
      ],
      "metadata": {
        "colab": {
          "base_uri": "https://localhost:8080/",
          "height": 1000
        },
        "id": "oyQrnHghLADQ",
        "outputId": "5c5414f6-4cd7-4cc1-9b81-c741156c425d"
      },
      "execution_count": 77,
      "outputs": [
        {
          "output_type": "stream",
          "name": "stdout",
          "text": [
            "count 1\n"
          ]
        },
        {
          "output_type": "display_data",
          "data": {
            "text/plain": [
              "<Figure size 432x288 with 1 Axes>"
            ],
            "image/png": "[encoded data removed]"
          },
          "metadata": {}
        },
        {
          "output_type": "stream",
          "name": "stdout",
          "text": [
            "count 2\n"
          ]
        },
        {
          "output_type": "display_data",
          "data": {
            "text/plain": [
              "<Figure size 432x288 with 1 Axes>"
            ],
            "image/png": "[encoded data removed]"
          },
          "metadata": {}
        },
        {
          "output_type": "stream",
          "name": "stdout",
          "text": [
            "count 3\n"
          ]
        },
        {
          "output_type": "display_data",
          "data": {
            "text/plain": [
              "<Figure size 432x288 with 1 Axes>"
            ],
            "image/png": "[encoded data removed]"
          },
          "metadata": {}
        },
        {
          "output_type": "stream",
          "name": "stdout",
          "text": [
            "count 4\n"
          ]
        },
        {
          "output_type": "display_data",
          "data": {
            "text/plain": [
              "<Figure size 432x288 with 1 Axes>"
            ],
            "image/png": "[encoded data removed]"
          },
          "metadata": {}
        },
        {
          "output_type": "stream",
          "name": "stdout",
          "text": [
            "count 5\n"
          ]
        },
        {
          "output_type": "display_data",
          "data": {
            "text/plain": [
              "<Figure size 432x288 with 1 Axes>"
            ],
            "image/png": "[encoded data removed]"
          },
          "metadata": {}
        }
      ]
    }
  ]
}